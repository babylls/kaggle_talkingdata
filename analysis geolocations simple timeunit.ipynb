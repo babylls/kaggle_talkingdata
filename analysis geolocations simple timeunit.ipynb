{
 "cells": [
  {
   "cell_type": "markdown",
   "metadata": {},
   "source": [
    "# Analyze geolocation per timeunit"
   ]
  },
  {
   "cell_type": "code",
   "execution_count": 152,
   "metadata": {
    "collapsed": false
   },
   "outputs": [
    {
     "name": "stdout",
     "output_type": "stream",
     "text": [
      "ERROR! Session/line number was not unique in database. History logging moved to new session 258\n"
     ]
    }
   ],
   "source": [
    "import os\n",
    "import math\n",
    "\n",
    "import pandas as pd\n",
    "import numpy as np\n",
    "\n",
    "import seaborn as sns \n",
    "import matplotlib.pyplot as plt\n",
    "from mpl_toolkits.basemap import Basemap\n",
    "\n",
    "%matplotlib inline\n",
    "\n",
    "dir_in = './data_ori/'"
   ]
  },
  {
   "cell_type": "code",
   "execution_count": 153,
   "metadata": {
    "collapsed": false
   },
   "outputs": [],
   "source": [
    "\n",
    "def age_group(sex, age):\n",
    "    # Convert age column to age group\n",
    "    #ageGroupsF = ['23-','24-26','27-28','29-32','33-42,''43+']\n",
    "    #ageGroupsM = ['22-','23-26','27-28','29-31','32-38,''39+']\n",
    "\n",
    "    if sex not in ['M','F']:\n",
    "        ValueError('%s is not a valid gender' % sex)\n",
    "        \n",
    "    if age not in range(100):\n",
    "        ValueError('%s is not a valid age' % age)\n",
    "    \n",
    "    if sex==\"M\":\n",
    "        if age<=22:\n",
    "            g = 0\n",
    "        elif age<=26:\n",
    "            g = 1\n",
    "        elif age<=28:\n",
    "            g = 2\n",
    "        elif age<=31:\n",
    "            g = 3\n",
    "        elif age<=38:\n",
    "            g = 4\n",
    "        else:\n",
    "            g = 5\n",
    "    elif sex==\"F\":\n",
    "        if age<=23:\n",
    "            g = 0\n",
    "        elif age<=26:\n",
    "            g = 1\n",
    "        elif age<=28:\n",
    "            g = 2\n",
    "        elif age<=32:\n",
    "            g = 3\n",
    "        elif age<=42:\n",
    "            g = 4\n",
    "        else:\n",
    "            g = 5\n",
    "    \n",
    "    return g\n",
    "train = pd.read_csv('./data_ori/' + 'gender_age_train.csv', index_col='device_id')\n",
    "train['age_group'] = train[['gender','age']].apply(lambda x: age_group(x[0],x[1]), axis=1)\n",
    "train.drop(['age','group'], axis=1, inplace=True)\n",
    "\n",
    "events = pd.read_csv(dir_in + 'events.csv')\n",
    "events['timestamp'] = pd.to_datetime(events['timestamp'])\n",
    "events['timestamp_h'] = events['timestamp'].dt.hour\n",
    "events['timestamp_d'] = events['timestamp'].dt.day"
   ]
  },
  {
   "cell_type": "code",
   "execution_count": 154,
   "metadata": {
    "collapsed": false
   },
   "outputs": [
    {
     "data": {
      "text/html": [
       "<div>\n",
       "<table border=\"1\" class=\"dataframe\">\n",
       "  <thead>\n",
       "    <tr style=\"text-align: right;\">\n",
       "      <th></th>\n",
       "      <th>event_id</th>\n",
       "      <th>timestamp</th>\n",
       "      <th>longitude</th>\n",
       "      <th>latitude</th>\n",
       "      <th>timestamp_h</th>\n",
       "      <th>timestamp_d</th>\n",
       "    </tr>\n",
       "    <tr>\n",
       "      <th>device_id</th>\n",
       "      <th></th>\n",
       "      <th></th>\n",
       "      <th></th>\n",
       "      <th></th>\n",
       "      <th></th>\n",
       "      <th></th>\n",
       "    </tr>\n",
       "  </thead>\n",
       "  <tbody>\n",
       "    <tr>\n",
       "      <th>-9222956879900151005</th>\n",
       "      <td>12679</td>\n",
       "      <td>2016-05-07 12:18:35</td>\n",
       "      <td>113.24</td>\n",
       "      <td>23.19</td>\n",
       "      <td>12</td>\n",
       "      <td>7</td>\n",
       "    </tr>\n",
       "    <tr>\n",
       "      <th>-9221825537663503111</th>\n",
       "      <td>74539</td>\n",
       "      <td>2016-05-07 07:52:34</td>\n",
       "      <td>113.36</td>\n",
       "      <td>33.63</td>\n",
       "      <td>7</td>\n",
       "      <td>7</td>\n",
       "    </tr>\n",
       "    <tr>\n",
       "      <th>-9221026417907250887</th>\n",
       "      <td>6402</td>\n",
       "      <td>2016-05-02 07:56:49</td>\n",
       "      <td>114.36</td>\n",
       "      <td>30.87</td>\n",
       "      <td>7</td>\n",
       "      <td>2</td>\n",
       "    </tr>\n",
       "    <tr>\n",
       "      <th>-9220452176650064280</th>\n",
       "      <td>105475</td>\n",
       "      <td>2016-05-06 08:19:24</td>\n",
       "      <td>1.00</td>\n",
       "      <td>1.00</td>\n",
       "      <td>8</td>\n",
       "      <td>6</td>\n",
       "    </tr>\n",
       "    <tr>\n",
       "      <th>-9220061629197656378</th>\n",
       "      <td>279922</td>\n",
       "      <td>2016-05-05 13:08:11</td>\n",
       "      <td>124.90</td>\n",
       "      <td>46.60</td>\n",
       "      <td>13</td>\n",
       "      <td>5</td>\n",
       "    </tr>\n",
       "  </tbody>\n",
       "</table>\n",
       "</div>"
      ],
      "text/plain": [
       "                      event_id           timestamp  longitude  latitude  \\\n",
       "device_id                                                                 \n",
       "-9222956879900151005     12679 2016-05-07 12:18:35     113.24     23.19   \n",
       "-9221825537663503111     74539 2016-05-07 07:52:34     113.36     33.63   \n",
       "-9221026417907250887      6402 2016-05-02 07:56:49     114.36     30.87   \n",
       "-9220452176650064280    105475 2016-05-06 08:19:24       1.00      1.00   \n",
       "-9220061629197656378    279922 2016-05-05 13:08:11     124.90     46.60   \n",
       "\n",
       "                      timestamp_h  timestamp_d  \n",
       "device_id                                       \n",
       "-9222956879900151005           12            7  \n",
       "-9221825537663503111            7            7  \n",
       "-9221026417907250887            7            2  \n",
       "-9220452176650064280            8            6  \n",
       "-9220061629197656378           13            5  "
      ]
     },
     "execution_count": 154,
     "metadata": {},
     "output_type": "execute_result"
    }
   ],
   "source": [
    "train_0 = events[(events.longitude>0) & (events.latitude>0)].groupby('device_id').first()\n",
    "train_0.head()"
   ]
  },
  {
   "cell_type": "markdown",
   "metadata": {},
   "source": [
    "## Check differences weekend/weekday"
   ]
  },
  {
   "cell_type": "code",
   "execution_count": 155,
   "metadata": {
    "collapsed": false
   },
   "outputs": [],
   "source": [
    "weekdays = [2,3,4,5,6]\n",
    "weekends = [30,1,7,8]\n",
    "events['weekend'] = events.timestamp_d.isin(weekends).astype(int)"
   ]
  },
  {
   "cell_type": "code",
   "execution_count": 156,
   "metadata": {
    "collapsed": false
   },
   "outputs": [
    {
     "data": {
      "text/html": [
       "<div>\n",
       "<table border=\"1\" class=\"dataframe\">\n",
       "  <thead>\n",
       "    <tr style=\"text-align: right;\">\n",
       "      <th></th>\n",
       "      <th>event_id</th>\n",
       "      <th>device_id</th>\n",
       "      <th>timestamp</th>\n",
       "      <th>longitude</th>\n",
       "      <th>latitude</th>\n",
       "      <th>timestamp_h</th>\n",
       "      <th>timestamp_d</th>\n",
       "      <th>weekend</th>\n",
       "    </tr>\n",
       "  </thead>\n",
       "  <tbody>\n",
       "    <tr>\n",
       "      <th>0</th>\n",
       "      <td>1</td>\n",
       "      <td>29182687948017175</td>\n",
       "      <td>2016-05-01 00:55:25</td>\n",
       "      <td>121.38</td>\n",
       "      <td>31.24</td>\n",
       "      <td>0</td>\n",
       "      <td>1</td>\n",
       "      <td>1</td>\n",
       "    </tr>\n",
       "    <tr>\n",
       "      <th>1</th>\n",
       "      <td>2</td>\n",
       "      <td>-6401643145415154744</td>\n",
       "      <td>2016-05-01 00:54:12</td>\n",
       "      <td>103.65</td>\n",
       "      <td>30.97</td>\n",
       "      <td>0</td>\n",
       "      <td>1</td>\n",
       "      <td>1</td>\n",
       "    </tr>\n",
       "    <tr>\n",
       "      <th>2</th>\n",
       "      <td>3</td>\n",
       "      <td>-4833982096941402721</td>\n",
       "      <td>2016-05-01 00:08:05</td>\n",
       "      <td>106.60</td>\n",
       "      <td>29.70</td>\n",
       "      <td>0</td>\n",
       "      <td>1</td>\n",
       "      <td>1</td>\n",
       "    </tr>\n",
       "    <tr>\n",
       "      <th>3</th>\n",
       "      <td>4</td>\n",
       "      <td>-6815121365017318426</td>\n",
       "      <td>2016-05-01 00:06:40</td>\n",
       "      <td>104.27</td>\n",
       "      <td>23.28</td>\n",
       "      <td>0</td>\n",
       "      <td>1</td>\n",
       "      <td>1</td>\n",
       "    </tr>\n",
       "    <tr>\n",
       "      <th>4</th>\n",
       "      <td>5</td>\n",
       "      <td>-5373797595892518570</td>\n",
       "      <td>2016-05-01 00:07:18</td>\n",
       "      <td>115.88</td>\n",
       "      <td>28.66</td>\n",
       "      <td>0</td>\n",
       "      <td>1</td>\n",
       "      <td>1</td>\n",
       "    </tr>\n",
       "  </tbody>\n",
       "</table>\n",
       "</div>"
      ],
      "text/plain": [
       "   event_id            device_id           timestamp  longitude  latitude  \\\n",
       "0         1    29182687948017175 2016-05-01 00:55:25     121.38     31.24   \n",
       "1         2 -6401643145415154744 2016-05-01 00:54:12     103.65     30.97   \n",
       "2         3 -4833982096941402721 2016-05-01 00:08:05     106.60     29.70   \n",
       "3         4 -6815121365017318426 2016-05-01 00:06:40     104.27     23.28   \n",
       "4         5 -5373797595892518570 2016-05-01 00:07:18     115.88     28.66   \n",
       "\n",
       "   timestamp_h  timestamp_d  weekend  \n",
       "0            0            1        1  \n",
       "1            0            1        1  \n",
       "2            0            1        1  \n",
       "3            0            1        1  \n",
       "4            0            1        1  "
      ]
     },
     "execution_count": 156,
     "metadata": {},
     "output_type": "execute_result"
    }
   ],
   "source": [
    "events.head()"
   ]
  },
  {
   "cell_type": "code",
   "execution_count": 157,
   "metadata": {
    "collapsed": false
   },
   "outputs": [],
   "source": [
    "df = events.groupby(['device_id','weekend'])['longitude','latitude'].mean().unstack('weekend').fillna(0)"
   ]
  },
  {
   "cell_type": "code",
   "execution_count": 158,
   "metadata": {
    "collapsed": false
   },
   "outputs": [
    {
     "data": {
      "text/html": [
       "<div>\n",
       "<table border=\"1\" class=\"dataframe\">\n",
       "  <thead>\n",
       "    <tr>\n",
       "      <th></th>\n",
       "      <th colspan=\"2\" halign=\"left\">longitude</th>\n",
       "      <th colspan=\"2\" halign=\"left\">latitude</th>\n",
       "    </tr>\n",
       "    <tr>\n",
       "      <th>weekend</th>\n",
       "      <th>0</th>\n",
       "      <th>1</th>\n",
       "      <th>0</th>\n",
       "      <th>1</th>\n",
       "    </tr>\n",
       "    <tr>\n",
       "      <th>device_id</th>\n",
       "      <th></th>\n",
       "      <th></th>\n",
       "      <th></th>\n",
       "      <th></th>\n",
       "    </tr>\n",
       "  </thead>\n",
       "  <tbody>\n",
       "    <tr>\n",
       "      <th>-9222956879900151005</th>\n",
       "      <td>98.141333</td>\n",
       "      <td>84.121143</td>\n",
       "      <td>20.098000</td>\n",
       "      <td>17.226857</td>\n",
       "    </tr>\n",
       "    <tr>\n",
       "      <th>-9222661944218806987</th>\n",
       "      <td>0.000000</td>\n",
       "      <td>0.000000</td>\n",
       "      <td>0.000000</td>\n",
       "      <td>0.000000</td>\n",
       "    </tr>\n",
       "    <tr>\n",
       "      <th>-9222399302879214035</th>\n",
       "      <td>0.000000</td>\n",
       "      <td>0.000000</td>\n",
       "      <td>0.000000</td>\n",
       "      <td>0.000000</td>\n",
       "    </tr>\n",
       "    <tr>\n",
       "      <th>-9221825537663503111</th>\n",
       "      <td>111.670923</td>\n",
       "      <td>113.505000</td>\n",
       "      <td>33.424923</td>\n",
       "      <td>34.689118</td>\n",
       "    </tr>\n",
       "    <tr>\n",
       "      <th>-9221767098072603291</th>\n",
       "      <td>0.000000</td>\n",
       "      <td>0.000000</td>\n",
       "      <td>0.000000</td>\n",
       "      <td>0.000000</td>\n",
       "    </tr>\n",
       "  </tbody>\n",
       "</table>\n",
       "</div>"
      ],
      "text/plain": [
       "                       longitude               latitude           \n",
       "weekend                        0           1          0          1\n",
       "device_id                                                         \n",
       "-9222956879900151005   98.141333   84.121143  20.098000  17.226857\n",
       "-9222661944218806987    0.000000    0.000000   0.000000   0.000000\n",
       "-9222399302879214035    0.000000    0.000000   0.000000   0.000000\n",
       "-9221825537663503111  111.670923  113.505000  33.424923  34.689118\n",
       "-9221767098072603291    0.000000    0.000000   0.000000   0.000000"
      ]
     },
     "execution_count": 158,
     "metadata": {},
     "output_type": "execute_result"
    }
   ],
   "source": [
    "df.head()"
   ]
  },
  {
   "cell_type": "code",
   "execution_count": 159,
   "metadata": {
    "collapsed": false
   },
   "outputs": [],
   "source": [
    "diff_lon = abs(df['longitude'][0] - df['longitude'][1])\n",
    "diff_lan = abs(df['latitude'][0] - df['latitude'][1])"
   ]
  },
  {
   "cell_type": "code",
   "execution_count": 160,
   "metadata": {
    "collapsed": false
   },
   "outputs": [
    {
     "data": {
      "text/plain": [
       "(60865,)"
      ]
     },
     "execution_count": 160,
     "metadata": {},
     "output_type": "execute_result"
    }
   ],
   "source": [
    "diff_lon.shape"
   ]
  },
  {
   "cell_type": "code",
   "execution_count": 161,
   "metadata": {
    "collapsed": false
   },
   "outputs": [
    {
     "data": {
      "text/plain": [
       "<matplotlib.axes._subplots.AxesSubplot at 0x124d31a50>"
      ]
     },
     "execution_count": 161,
     "metadata": {},
     "output_type": "execute_result"
    },
    {
     "data": {
      "image/png": "[encoded data removed]",
      "text/plain": [
       "<matplotlib.figure.Figure at 0x124d40190>"
      ]
     },
     "metadata": {},
     "output_type": "display_data"
    }
   ],
   "source": [
    "diff_lon.hist(bins=50)"
   ]
  },
  {
   "cell_type": "markdown",
   "metadata": {},
   "source": [
    "## Validation"
   ]
  },
  {
   "cell_type": "code",
   "execution_count": 256,
   "metadata": {
    "collapsed": false
   },
   "outputs": [],
   "source": [
    "df = pd.merge(events, train, how='inner', left_on='device_id', right_index=True)\n",
    "df = df[(df.longitude>0) & (df.latitude>0)]"
   ]
  },
  {
   "cell_type": "code",
   "execution_count": 257,
   "metadata": {
    "collapsed": false
   },
   "outputs": [
    {
     "data": {
      "text/plain": [
       "(858777, 10)"
      ]
     },
     "execution_count": 257,
     "metadata": {},
     "output_type": "execute_result"
    }
   ],
   "source": [
    "df.shape"
   ]
  },
  {
   "cell_type": "code",
   "execution_count": 260,
   "metadata": {
    "collapsed": false
   },
   "outputs": [
    {
     "data": {
      "text/plain": [
       "(3252950, 8)"
      ]
     },
     "execution_count": 260,
     "metadata": {},
     "output_type": "execute_result"
    }
   ],
   "source": [
    "events.shape"
   ]
  },
  {
   "cell_type": "code",
   "execution_count": 261,
   "metadata": {
    "collapsed": false
   },
   "outputs": [
    {
     "data": {
      "text/plain": [
       "(74645, 2)"
      ]
     },
     "execution_count": 261,
     "metadata": {},
     "output_type": "execute_result"
    }
   ],
   "source": [
    "train.shape"
   ]
  },
  {
   "cell_type": "code",
   "execution_count": 262,
   "metadata": {
    "collapsed": false
   },
   "outputs": [
    {
     "data": {
      "text/html": [
       "<div>\n",
       "<table border=\"1\" class=\"dataframe\">\n",
       "  <thead>\n",
       "    <tr style=\"text-align: right;\">\n",
       "      <th></th>\n",
       "      <th>event_id</th>\n",
       "      <th>device_id</th>\n",
       "      <th>timestamp</th>\n",
       "      <th>longitude</th>\n",
       "      <th>latitude</th>\n",
       "      <th>timestamp_h</th>\n",
       "      <th>timestamp_d</th>\n",
       "      <th>weekend</th>\n",
       "      <th>gender</th>\n",
       "      <th>age_group</th>\n",
       "    </tr>\n",
       "  </thead>\n",
       "  <tbody>\n",
       "    <tr>\n",
       "      <th>0</th>\n",
       "      <td>1</td>\n",
       "      <td>29182687948017175</td>\n",
       "      <td>2016-05-01 00:55:25</td>\n",
       "      <td>121.38</td>\n",
       "      <td>31.24</td>\n",
       "      <td>0</td>\n",
       "      <td>1</td>\n",
       "      <td>1</td>\n",
       "      <td>M</td>\n",
       "      <td>5</td>\n",
       "    </tr>\n",
       "    <tr>\n",
       "      <th>7103</th>\n",
       "      <td>7104</td>\n",
       "      <td>29182687948017175</td>\n",
       "      <td>2016-05-02 09:37:02</td>\n",
       "      <td>121.38</td>\n",
       "      <td>31.24</td>\n",
       "      <td>9</td>\n",
       "      <td>2</td>\n",
       "      <td>0</td>\n",
       "      <td>M</td>\n",
       "      <td>5</td>\n",
       "    </tr>\n",
       "    <tr>\n",
       "      <th>29660</th>\n",
       "      <td>29661</td>\n",
       "      <td>29182687948017175</td>\n",
       "      <td>2016-05-04 00:56:04</td>\n",
       "      <td>121.39</td>\n",
       "      <td>31.23</td>\n",
       "      <td>0</td>\n",
       "      <td>4</td>\n",
       "      <td>0</td>\n",
       "      <td>M</td>\n",
       "      <td>5</td>\n",
       "    </tr>\n",
       "    <tr>\n",
       "      <th>33132</th>\n",
       "      <td>33133</td>\n",
       "      <td>29182687948017175</td>\n",
       "      <td>2016-05-06 05:01:15</td>\n",
       "      <td>121.38</td>\n",
       "      <td>31.24</td>\n",
       "      <td>5</td>\n",
       "      <td>6</td>\n",
       "      <td>0</td>\n",
       "      <td>M</td>\n",
       "      <td>5</td>\n",
       "    </tr>\n",
       "    <tr>\n",
       "      <th>38979</th>\n",
       "      <td>38980</td>\n",
       "      <td>29182687948017175</td>\n",
       "      <td>2016-05-06 09:55:04</td>\n",
       "      <td>121.16</td>\n",
       "      <td>31.00</td>\n",
       "      <td>9</td>\n",
       "      <td>6</td>\n",
       "      <td>0</td>\n",
       "      <td>M</td>\n",
       "      <td>5</td>\n",
       "    </tr>\n",
       "  </tbody>\n",
       "</table>\n",
       "</div>"
      ],
      "text/plain": [
       "       event_id          device_id           timestamp  longitude  latitude  \\\n",
       "0             1  29182687948017175 2016-05-01 00:55:25     121.38     31.24   \n",
       "7103       7104  29182687948017175 2016-05-02 09:37:02     121.38     31.24   \n",
       "29660     29661  29182687948017175 2016-05-04 00:56:04     121.39     31.23   \n",
       "33132     33133  29182687948017175 2016-05-06 05:01:15     121.38     31.24   \n",
       "38979     38980  29182687948017175 2016-05-06 09:55:04     121.16     31.00   \n",
       "\n",
       "       timestamp_h  timestamp_d  weekend gender  age_group  \n",
       "0                0            1        1      M          5  \n",
       "7103             9            2        0      M          5  \n",
       "29660            0            4        0      M          5  \n",
       "33132            5            6        0      M          5  \n",
       "38979            9            6        0      M          5  "
      ]
     },
     "execution_count": 262,
     "metadata": {},
     "output_type": "execute_result"
    }
   ],
   "source": [
    "df['weekend'] = df.timestamp_d.isin(weekends).astype(int)\n",
    "df.head()"
   ]
  },
  {
   "cell_type": "code",
   "execution_count": 284,
   "metadata": {
    "collapsed": false
   },
   "outputs": [
    {
     "data": {
      "text/html": [
       "<div>\n",
       "<table border=\"1\" class=\"dataframe\">\n",
       "  <thead>\n",
       "    <tr>\n",
       "      <th></th>\n",
       "      <th></th>\n",
       "      <th colspan=\"2\" halign=\"left\">longitude</th>\n",
       "      <th colspan=\"2\" halign=\"left\">latitude</th>\n",
       "    </tr>\n",
       "    <tr>\n",
       "      <th></th>\n",
       "      <th>weekend</th>\n",
       "      <th>0</th>\n",
       "      <th>1</th>\n",
       "      <th>0</th>\n",
       "      <th>1</th>\n",
       "    </tr>\n",
       "    <tr>\n",
       "      <th>device_id</th>\n",
       "      <th>gender</th>\n",
       "      <th></th>\n",
       "      <th></th>\n",
       "      <th></th>\n",
       "      <th></th>\n",
       "    </tr>\n",
       "  </thead>\n",
       "  <tbody>\n",
       "    <tr>\n",
       "      <th>-9222956879900151005</th>\n",
       "      <th>M</th>\n",
       "      <td>113.240000</td>\n",
       "      <td>113.240000</td>\n",
       "      <td>23.190000</td>\n",
       "      <td>23.190000</td>\n",
       "    </tr>\n",
       "    <tr>\n",
       "      <th>-9221026417907250887</th>\n",
       "      <th>F</th>\n",
       "      <td>114.361398</td>\n",
       "      <td>114.364615</td>\n",
       "      <td>30.871720</td>\n",
       "      <td>30.871026</td>\n",
       "    </tr>\n",
       "    <tr>\n",
       "      <th>-9220061629197656378</th>\n",
       "      <th>M</th>\n",
       "      <td>124.885294</td>\n",
       "      <td>124.910000</td>\n",
       "      <td>46.621765</td>\n",
       "      <td>46.600000</td>\n",
       "    </tr>\n",
       "    <tr>\n",
       "      <th>-9218769147970107256</th>\n",
       "      <th>M</th>\n",
       "      <td>112.333529</td>\n",
       "      <td>0.000000</td>\n",
       "      <td>28.582353</td>\n",
       "      <td>0.000000</td>\n",
       "    </tr>\n",
       "    <tr>\n",
       "      <th>-9215352913819638805</th>\n",
       "      <th>M</th>\n",
       "      <td>114.020000</td>\n",
       "      <td>0.000000</td>\n",
       "      <td>22.660000</td>\n",
       "      <td>0.000000</td>\n",
       "    </tr>\n",
       "  </tbody>\n",
       "</table>\n",
       "</div>"
      ],
      "text/plain": [
       "                              longitude               latitude           \n",
       "weekend                               0           1          0          1\n",
       "device_id            gender                                              \n",
       "-9222956879900151005 M       113.240000  113.240000  23.190000  23.190000\n",
       "-9221026417907250887 F       114.361398  114.364615  30.871720  30.871026\n",
       "-9220061629197656378 M       124.885294  124.910000  46.621765  46.600000\n",
       "-9218769147970107256 M       112.333529    0.000000  28.582353   0.000000\n",
       "-9215352913819638805 M       114.020000    0.000000  22.660000   0.000000"
      ]
     },
     "execution_count": 284,
     "metadata": {},
     "output_type": "execute_result"
    }
   ],
   "source": [
    "df2 = df.groupby(['device_id','weekend','gender'])['longitude','latitude'].mean().unstack('weekend').fillna(0)\n",
    "df2.head()"
   ]
  },
  {
   "cell_type": "code",
   "execution_count": 285,
   "metadata": {
    "collapsed": false
   },
   "outputs": [],
   "source": [
    "diff_lon = abs(df2['longitude'][0] - df2['longitude'][1]).reset_index()\n",
    "diff_lat = abs(df2['latitude'][0] - df2['latitude'][1]).reset_index()"
   ]
  },
  {
   "cell_type": "code",
   "execution_count": 286,
   "metadata": {
    "collapsed": false
   },
   "outputs": [
    {
     "data": {
      "text/html": [
       "<div>\n",
       "<table border=\"1\" class=\"dataframe\">\n",
       "  <thead>\n",
       "    <tr style=\"text-align: right;\">\n",
       "      <th></th>\n",
       "      <th>device_id</th>\n",
       "      <th>gender</th>\n",
       "      <th>0</th>\n",
       "    </tr>\n",
       "  </thead>\n",
       "  <tbody>\n",
       "    <tr>\n",
       "      <th>0</th>\n",
       "      <td>-9222956879900151005</td>\n",
       "      <td>M</td>\n",
       "      <td>0.000000</td>\n",
       "    </tr>\n",
       "    <tr>\n",
       "      <th>1</th>\n",
       "      <td>-9221026417907250887</td>\n",
       "      <td>F</td>\n",
       "      <td>0.000695</td>\n",
       "    </tr>\n",
       "    <tr>\n",
       "      <th>2</th>\n",
       "      <td>-9220061629197656378</td>\n",
       "      <td>M</td>\n",
       "      <td>0.021765</td>\n",
       "    </tr>\n",
       "    <tr>\n",
       "      <th>3</th>\n",
       "      <td>-9218769147970107256</td>\n",
       "      <td>M</td>\n",
       "      <td>28.582353</td>\n",
       "    </tr>\n",
       "    <tr>\n",
       "      <th>4</th>\n",
       "      <td>-9215352913819638805</td>\n",
       "      <td>M</td>\n",
       "      <td>22.660000</td>\n",
       "    </tr>\n",
       "  </tbody>\n",
       "</table>\n",
       "</div>"
      ],
      "text/plain": [
       "             device_id gender          0\n",
       "0 -9222956879900151005      M   0.000000\n",
       "1 -9221026417907250887      F   0.000695\n",
       "2 -9220061629197656378      M   0.021765\n",
       "3 -9218769147970107256      M  28.582353\n",
       "4 -9215352913819638805      M  22.660000"
      ]
     },
     "execution_count": 286,
     "metadata": {},
     "output_type": "execute_result"
    }
   ],
   "source": [
    "diff_lat.head()"
   ]
  },
  {
   "cell_type": "code",
   "execution_count": 290,
   "metadata": {
    "collapsed": false
   },
   "outputs": [
    {
     "data": {
      "text/plain": [
       "array([<matplotlib.axes._subplots.AxesSubplot object at 0x1bdf5cd50>,\n",
       "       <matplotlib.axes._subplots.AxesSubplot object at 0x2021f5cd0>], dtype=object)"
      ]
     },
     "execution_count": 290,
     "metadata": {},
     "output_type": "execute_result"
    },
    {
     "data": {
      "image/png": "[encoded data removed]",
      "text/plain": [
       "<matplotlib.figure.Figure at 0x20c1ae990>"
      ]
     },
     "metadata": {},
     "output_type": "display_data"
    }
   ],
   "source": [
    "diff_lat[['gender',0]].hist(by='gender', bins=100)"
   ]
  },
  {
   "cell_type": "code",
   "execution_count": 291,
   "metadata": {
    "collapsed": false
   },
   "outputs": [
    {
     "data": {
      "text/html": [
       "<div>\n",
       "<table border=\"1\" class=\"dataframe\">\n",
       "  <thead>\n",
       "    <tr style=\"text-align: right;\">\n",
       "      <th></th>\n",
       "      <th>device_id</th>\n",
       "      <th>gender</th>\n",
       "      <th>0</th>\n",
       "    </tr>\n",
       "  </thead>\n",
       "  <tbody>\n",
       "    <tr>\n",
       "      <th>3</th>\n",
       "      <td>-9218769147970107256</td>\n",
       "      <td>M</td>\n",
       "      <td>28.582353</td>\n",
       "    </tr>\n",
       "    <tr>\n",
       "      <th>4</th>\n",
       "      <td>-9215352913819638805</td>\n",
       "      <td>M</td>\n",
       "      <td>22.660000</td>\n",
       "    </tr>\n",
       "    <tr>\n",
       "      <th>5</th>\n",
       "      <td>-9212424538588397592</td>\n",
       "      <td>F</td>\n",
       "      <td>22.950000</td>\n",
       "    </tr>\n",
       "    <tr>\n",
       "      <th>9</th>\n",
       "      <td>-9201141107731295908</td>\n",
       "      <td>F</td>\n",
       "      <td>39.854583</td>\n",
       "    </tr>\n",
       "    <tr>\n",
       "      <th>10</th>\n",
       "      <td>-9200975789875358770</td>\n",
       "      <td>M</td>\n",
       "      <td>21.869000</td>\n",
       "    </tr>\n",
       "  </tbody>\n",
       "</table>\n",
       "</div>"
      ],
      "text/plain": [
       "              device_id gender          0\n",
       "3  -9218769147970107256      M  28.582353\n",
       "4  -9215352913819638805      M  22.660000\n",
       "5  -9212424538588397592      F  22.950000\n",
       "9  -9201141107731295908      F  39.854583\n",
       "10 -9200975789875358770      M  21.869000"
      ]
     },
     "execution_count": 291,
     "metadata": {},
     "output_type": "execute_result"
    }
   ],
   "source": [
    "diff_lat[diff_lat[0]>5].head()"
   ]
  },
  {
   "cell_type": "code",
   "execution_count": 293,
   "metadata": {
    "collapsed": false
   },
   "outputs": [
    {
     "name": "stdout",
     "output_type": "stream",
     "text": [
      "                 device_id          0\n",
      "gender                               \n",
      "F       -55218068048895808  30.499451\n",
      "M      -105204980551530416  28.996280\n",
      "                device_id           0\n",
      "gender                               \n",
      "F      -75903015407677552  105.508693\n",
      "M      -86770696427822832  101.585105\n"
     ]
    }
   ],
   "source": [
    "print diff_lat[diff_lat[0]>1].groupby('gender').mean()\n",
    "print diff_lon[diff_lon[0]>1].groupby('gender').mean()"
   ]
  },
  {
   "cell_type": "code",
   "execution_count": 294,
   "metadata": {
    "collapsed": false
   },
   "outputs": [
    {
     "data": {
      "text/html": [
       "<div>\n",
       "<table border=\"1\" class=\"dataframe\">\n",
       "  <thead>\n",
       "    <tr>\n",
       "      <th></th>\n",
       "      <th></th>\n",
       "      <th colspan=\"2\" halign=\"left\">longitude</th>\n",
       "      <th colspan=\"2\" halign=\"left\">latitude</th>\n",
       "    </tr>\n",
       "    <tr>\n",
       "      <th></th>\n",
       "      <th>weekend</th>\n",
       "      <th>0</th>\n",
       "      <th>1</th>\n",
       "      <th>0</th>\n",
       "      <th>1</th>\n",
       "    </tr>\n",
       "    <tr>\n",
       "      <th>device_id</th>\n",
       "      <th>age_group</th>\n",
       "      <th></th>\n",
       "      <th></th>\n",
       "      <th></th>\n",
       "      <th></th>\n",
       "    </tr>\n",
       "  </thead>\n",
       "  <tbody>\n",
       "    <tr>\n",
       "      <th>-9222956879900151005</th>\n",
       "      <th>4</th>\n",
       "      <td>113.240000</td>\n",
       "      <td>113.240000</td>\n",
       "      <td>23.190000</td>\n",
       "      <td>23.190000</td>\n",
       "    </tr>\n",
       "    <tr>\n",
       "      <th>-9221026417907250887</th>\n",
       "      <th>3</th>\n",
       "      <td>114.361398</td>\n",
       "      <td>114.364615</td>\n",
       "      <td>30.871720</td>\n",
       "      <td>30.871026</td>\n",
       "    </tr>\n",
       "    <tr>\n",
       "      <th>-9220061629197656378</th>\n",
       "      <th>5</th>\n",
       "      <td>124.885294</td>\n",
       "      <td>124.910000</td>\n",
       "      <td>46.621765</td>\n",
       "      <td>46.600000</td>\n",
       "    </tr>\n",
       "    <tr>\n",
       "      <th>-9218769147970107256</th>\n",
       "      <th>1</th>\n",
       "      <td>112.333529</td>\n",
       "      <td>0.000000</td>\n",
       "      <td>28.582353</td>\n",
       "      <td>0.000000</td>\n",
       "    </tr>\n",
       "    <tr>\n",
       "      <th>-9215352913819638805</th>\n",
       "      <th>0</th>\n",
       "      <td>114.020000</td>\n",
       "      <td>0.000000</td>\n",
       "      <td>22.660000</td>\n",
       "      <td>0.000000</td>\n",
       "    </tr>\n",
       "  </tbody>\n",
       "</table>\n",
       "</div>"
      ],
      "text/plain": [
       "                                 longitude               latitude           \n",
       "weekend                                  0           1          0          1\n",
       "device_id            age_group                                              \n",
       "-9222956879900151005 4          113.240000  113.240000  23.190000  23.190000\n",
       "-9221026417907250887 3          114.361398  114.364615  30.871720  30.871026\n",
       "-9220061629197656378 5          124.885294  124.910000  46.621765  46.600000\n",
       "-9218769147970107256 1          112.333529    0.000000  28.582353   0.000000\n",
       "-9215352913819638805 0          114.020000    0.000000  22.660000   0.000000"
      ]
     },
     "execution_count": 294,
     "metadata": {},
     "output_type": "execute_result"
    }
   ],
   "source": [
    "df2 = df.groupby(['device_id','weekend','age_group'])['longitude','latitude'].mean().unstack('weekend').fillna(0)\n",
    "df2.head()"
   ]
  },
  {
   "cell_type": "code",
   "execution_count": 295,
   "metadata": {
    "collapsed": true
   },
   "outputs": [],
   "source": [
    "diff_lon = abs(df2['longitude'][0] - df2['longitude'][1]).reset_index()\n",
    "diff_lat = abs(df2['latitude'][0] - df2['latitude'][1]).reset_index()"
   ]
  },
  {
   "cell_type": "code",
   "execution_count": 307,
   "metadata": {
    "collapsed": false
   },
   "outputs": [
    {
     "name": "stdout",
     "output_type": "stream",
     "text": [
      "                    device_id          0\n",
      "age_group                               \n",
      "0         -104192233374878576  14.593221\n",
      "1         -125563070228127136  13.195062\n",
      "2          -31476681447670376  12.792778\n",
      "3          -44303525340449704  12.483271\n",
      "4           80351369141966416  11.645844\n",
      "5          -70739520684102592  10.593637\n",
      "                    device_id          0\n",
      "age_group                               \n",
      "0         -104192233374878576  52.420052\n",
      "1         -125563070228127136  47.906006\n",
      "2          -31476681447670376  46.020262\n",
      "3          -44303525340449704  44.703429\n",
      "4           80351369141966416  41.429000\n",
      "5          -70739520684102592  37.168278\n"
     ]
    }
   ],
   "source": [
    "print diff_lat[diff_lat[0]>=0].groupby('age_group').mean()\n",
    "print diff_lon[diff_lon[0]>=0].groupby('age_group').mean()"
   ]
  },
  {
   "cell_type": "code",
   "execution_count": 299,
   "metadata": {
    "collapsed": false
   },
   "outputs": [
    {
     "data": {
      "text/plain": [
       "<matplotlib.axes._subplots.AxesSubplot at 0x1e886e6d0>"
      ]
     },
     "execution_count": 299,
     "metadata": {},
     "output_type": "execute_result"
    },
    {
     "data": {
      "image/png": "[encoded data removed]",
      "text/plain": [
       "<matplotlib.figure.Figure at 0x137477a50>"
      ]
     },
     "metadata": {},
     "output_type": "display_data"
    }
   ],
   "source": [
    "diff_lat[0].hist()"
   ]
  },
  {
   "cell_type": "code",
   "execution_count": 300,
   "metadata": {
    "collapsed": false
   },
   "outputs": [
    {
     "data": {
      "text/plain": [
       "<matplotlib.text.Text at 0x1e76459d0>"
      ]
     },
     "execution_count": 300,
     "metadata": {},
     "output_type": "execute_result"
    },
    {
     "data": {
      "image/png": "[encoded data removed]",
      "text/plain": [
       "<matplotlib.figure.Figure at 0x1e737ff50>"
      ]
     },
     "metadata": {},
     "output_type": "display_data"
    }
   ],
   "source": [
    "diff_lat.groupby('age_group').mean()[0].plot(kind='barh')\n",
    "plt.xlabel('Average lon distance between weekend / week')"
   ]
  },
  {
   "cell_type": "code",
   "execution_count": 301,
   "metadata": {
    "collapsed": false
   },
   "outputs": [
    {
     "data": {
      "text/plain": [
       "<matplotlib.text.Text at 0x1e7645190>"
      ]
     },
     "execution_count": 301,
     "metadata": {},
     "output_type": "execute_result"
    },
    {
     "data": {
      "image/png": "[encoded data removed]",
      "text/plain": [
       "<matplotlib.figure.Figure at 0x1e73d7890>"
      ]
     },
     "metadata": {},
     "output_type": "display_data"
    }
   ],
   "source": [
    "diff_lon.groupby('age_group').mean()[0].plot(kind='barh')\n",
    "plt.xlabel('Average lon distance between weekend / week')"
   ]
  },
  {
   "cell_type": "markdown",
   "metadata": {},
   "source": [
    "## Comparison working hours & other"
   ]
  },
  {
   "cell_type": "code",
   "execution_count": 245,
   "metadata": {
    "collapsed": true
   },
   "outputs": [],
   "source": [
    "home = [0,1,2,3,4,5,6] + [19,20,21,22,23] \n",
    "work = [7,8,9,10,11] + [12,13,14,15,16,17,18]\n",
    "df['home'] = df.timestamp_h.isin(home).astype(int)"
   ]
  },
  {
   "cell_type": "code",
   "execution_count": 246,
   "metadata": {
    "collapsed": false
   },
   "outputs": [
    {
     "name": "stdout",
     "output_type": "stream",
     "text": [
      "(858777, 11)\n",
      "0.415970618682\n"
     ]
    },
    {
     "data": {
      "text/html": [
       "<div>\n",
       "<table border=\"1\" class=\"dataframe\">\n",
       "  <thead>\n",
       "    <tr style=\"text-align: right;\">\n",
       "      <th></th>\n",
       "      <th>event_id</th>\n",
       "      <th>device_id</th>\n",
       "      <th>timestamp</th>\n",
       "      <th>longitude</th>\n",
       "      <th>latitude</th>\n",
       "      <th>timestamp_h</th>\n",
       "      <th>timestamp_d</th>\n",
       "      <th>weekend</th>\n",
       "      <th>gender</th>\n",
       "      <th>age_group</th>\n",
       "      <th>home</th>\n",
       "    </tr>\n",
       "  </thead>\n",
       "  <tbody>\n",
       "    <tr>\n",
       "      <th>0</th>\n",
       "      <td>1</td>\n",
       "      <td>29182687948017175</td>\n",
       "      <td>2016-05-01 00:55:25</td>\n",
       "      <td>121.38</td>\n",
       "      <td>31.24</td>\n",
       "      <td>0</td>\n",
       "      <td>1</td>\n",
       "      <td>1</td>\n",
       "      <td>M</td>\n",
       "      <td>5</td>\n",
       "      <td>1</td>\n",
       "    </tr>\n",
       "    <tr>\n",
       "      <th>7103</th>\n",
       "      <td>7104</td>\n",
       "      <td>29182687948017175</td>\n",
       "      <td>2016-05-02 09:37:02</td>\n",
       "      <td>121.38</td>\n",
       "      <td>31.24</td>\n",
       "      <td>9</td>\n",
       "      <td>2</td>\n",
       "      <td>0</td>\n",
       "      <td>M</td>\n",
       "      <td>5</td>\n",
       "      <td>0</td>\n",
       "    </tr>\n",
       "    <tr>\n",
       "      <th>29660</th>\n",
       "      <td>29661</td>\n",
       "      <td>29182687948017175</td>\n",
       "      <td>2016-05-04 00:56:04</td>\n",
       "      <td>121.39</td>\n",
       "      <td>31.23</td>\n",
       "      <td>0</td>\n",
       "      <td>4</td>\n",
       "      <td>0</td>\n",
       "      <td>M</td>\n",
       "      <td>5</td>\n",
       "      <td>1</td>\n",
       "    </tr>\n",
       "    <tr>\n",
       "      <th>33132</th>\n",
       "      <td>33133</td>\n",
       "      <td>29182687948017175</td>\n",
       "      <td>2016-05-06 05:01:15</td>\n",
       "      <td>121.38</td>\n",
       "      <td>31.24</td>\n",
       "      <td>5</td>\n",
       "      <td>6</td>\n",
       "      <td>0</td>\n",
       "      <td>M</td>\n",
       "      <td>5</td>\n",
       "      <td>1</td>\n",
       "    </tr>\n",
       "    <tr>\n",
       "      <th>38979</th>\n",
       "      <td>38980</td>\n",
       "      <td>29182687948017175</td>\n",
       "      <td>2016-05-06 09:55:04</td>\n",
       "      <td>121.16</td>\n",
       "      <td>31.00</td>\n",
       "      <td>9</td>\n",
       "      <td>6</td>\n",
       "      <td>0</td>\n",
       "      <td>M</td>\n",
       "      <td>5</td>\n",
       "      <td>0</td>\n",
       "    </tr>\n",
       "  </tbody>\n",
       "</table>\n",
       "</div>"
      ],
      "text/plain": [
       "       event_id          device_id           timestamp  longitude  latitude  \\\n",
       "0             1  29182687948017175 2016-05-01 00:55:25     121.38     31.24   \n",
       "7103       7104  29182687948017175 2016-05-02 09:37:02     121.38     31.24   \n",
       "29660     29661  29182687948017175 2016-05-04 00:56:04     121.39     31.23   \n",
       "33132     33133  29182687948017175 2016-05-06 05:01:15     121.38     31.24   \n",
       "38979     38980  29182687948017175 2016-05-06 09:55:04     121.16     31.00   \n",
       "\n",
       "       timestamp_h  timestamp_d  weekend gender  age_group  home  \n",
       "0                0            1        1      M          5     1  \n",
       "7103             9            2        0      M          5     0  \n",
       "29660            0            4        0      M          5     1  \n",
       "33132            5            6        0      M          5     1  \n",
       "38979            9            6        0      M          5     0  "
      ]
     },
     "execution_count": 246,
     "metadata": {},
     "output_type": "execute_result"
    }
   ],
   "source": [
    "print df.shape\n",
    "print float(sum(df.home==1)) / df.shape[0]\n",
    "df.head()"
   ]
  },
  {
   "cell_type": "code",
   "execution_count": 247,
   "metadata": {
    "collapsed": false
   },
   "outputs": [
    {
     "data": {
      "text/html": [
       "<div>\n",
       "<table border=\"1\" class=\"dataframe\">\n",
       "  <thead>\n",
       "    <tr>\n",
       "      <th></th>\n",
       "      <th></th>\n",
       "      <th colspan=\"2\" halign=\"left\">longitude</th>\n",
       "      <th colspan=\"2\" halign=\"left\">latitude</th>\n",
       "    </tr>\n",
       "    <tr>\n",
       "      <th></th>\n",
       "      <th>home</th>\n",
       "      <th>0</th>\n",
       "      <th>1</th>\n",
       "      <th>0</th>\n",
       "      <th>1</th>\n",
       "    </tr>\n",
       "    <tr>\n",
       "      <th>device_id</th>\n",
       "      <th>gender</th>\n",
       "      <th></th>\n",
       "      <th></th>\n",
       "      <th></th>\n",
       "      <th></th>\n",
       "    </tr>\n",
       "  </thead>\n",
       "  <tbody>\n",
       "    <tr>\n",
       "      <th>-9222956879900151005</th>\n",
       "      <th>M</th>\n",
       "      <td>113.240000</td>\n",
       "      <td>113.24000</td>\n",
       "      <td>23.190000</td>\n",
       "      <td>23.19000</td>\n",
       "    </tr>\n",
       "    <tr>\n",
       "      <th>-9221026417907250887</th>\n",
       "      <th>F</th>\n",
       "      <td>114.363133</td>\n",
       "      <td>114.36102</td>\n",
       "      <td>30.871807</td>\n",
       "      <td>30.87102</td>\n",
       "    </tr>\n",
       "    <tr>\n",
       "      <th>-9220061629197656378</th>\n",
       "      <th>M</th>\n",
       "      <td>124.887297</td>\n",
       "      <td>124.91000</td>\n",
       "      <td>46.620000</td>\n",
       "      <td>46.60000</td>\n",
       "    </tr>\n",
       "    <tr>\n",
       "      <th>-9218769147970107256</th>\n",
       "      <th>M</th>\n",
       "      <td>112.340000</td>\n",
       "      <td>112.33000</td>\n",
       "      <td>28.550000</td>\n",
       "      <td>28.60000</td>\n",
       "    </tr>\n",
       "    <tr>\n",
       "      <th>-9215352913819638805</th>\n",
       "      <th>M</th>\n",
       "      <td>114.020000</td>\n",
       "      <td>0.00000</td>\n",
       "      <td>22.660000</td>\n",
       "      <td>0.00000</td>\n",
       "    </tr>\n",
       "  </tbody>\n",
       "</table>\n",
       "</div>"
      ],
      "text/plain": [
       "                              longitude              latitude          \n",
       "home                                  0          1          0         1\n",
       "device_id            gender                                            \n",
       "-9222956879900151005 M       113.240000  113.24000  23.190000  23.19000\n",
       "-9221026417907250887 F       114.363133  114.36102  30.871807  30.87102\n",
       "-9220061629197656378 M       124.887297  124.91000  46.620000  46.60000\n",
       "-9218769147970107256 M       112.340000  112.33000  28.550000  28.60000\n",
       "-9215352913819638805 M       114.020000    0.00000  22.660000   0.00000"
      ]
     },
     "execution_count": 247,
     "metadata": {},
     "output_type": "execute_result"
    }
   ],
   "source": [
    "df2 = df.groupby(['device_id','home','gender'])['longitude','latitude'].mean().unstack('home').fillna(0)\n",
    "df2.head()"
   ]
  },
  {
   "cell_type": "code",
   "execution_count": 248,
   "metadata": {
    "collapsed": false
   },
   "outputs": [
    {
     "data": {
      "text/html": [
       "<div>\n",
       "<table border=\"1\" class=\"dataframe\">\n",
       "  <thead>\n",
       "    <tr style=\"text-align: right;\">\n",
       "      <th></th>\n",
       "      <th>device_id</th>\n",
       "      <th>gender</th>\n",
       "      <th>0</th>\n",
       "    </tr>\n",
       "  </thead>\n",
       "  <tbody>\n",
       "    <tr>\n",
       "      <th>0</th>\n",
       "      <td>-9222956879900151005</td>\n",
       "      <td>M</td>\n",
       "      <td>8.526513e-14</td>\n",
       "    </tr>\n",
       "    <tr>\n",
       "      <th>1</th>\n",
       "      <td>-9221026417907250887</td>\n",
       "      <td>F</td>\n",
       "      <td>2.112122e-03</td>\n",
       "    </tr>\n",
       "    <tr>\n",
       "      <th>2</th>\n",
       "      <td>-9220061629197656378</td>\n",
       "      <td>M</td>\n",
       "      <td>2.270270e-02</td>\n",
       "    </tr>\n",
       "    <tr>\n",
       "      <th>3</th>\n",
       "      <td>-9218769147970107256</td>\n",
       "      <td>M</td>\n",
       "      <td>1.000000e-02</td>\n",
       "    </tr>\n",
       "    <tr>\n",
       "      <th>4</th>\n",
       "      <td>-9215352913819638805</td>\n",
       "      <td>M</td>\n",
       "      <td>1.140200e+02</td>\n",
       "    </tr>\n",
       "  </tbody>\n",
       "</table>\n",
       "</div>"
      ],
      "text/plain": [
       "             device_id gender             0\n",
       "0 -9222956879900151005      M  8.526513e-14\n",
       "1 -9221026417907250887      F  2.112122e-03\n",
       "2 -9220061629197656378      M  2.270270e-02\n",
       "3 -9218769147970107256      M  1.000000e-02\n",
       "4 -9215352913819638805      M  1.140200e+02"
      ]
     },
     "execution_count": 248,
     "metadata": {},
     "output_type": "execute_result"
    }
   ],
   "source": [
    "diff_lon = abs(df2['longitude'][0] - df2['longitude'][1]).reset_index()\n",
    "diff_lat = abs(df2['latitude'][0] - df2['latitude'][1]).reset_index()\n",
    "diff_lon.head()"
   ]
  },
  {
   "cell_type": "code",
   "execution_count": 249,
   "metadata": {
    "collapsed": false
   },
   "outputs": [
    {
     "name": "stdout",
     "output_type": "stream",
     "text": [
      "                device_id          0\n",
      "gender                              \n",
      "F      -18476500057124584  12.918971\n",
      "M      -51105419262692144  10.956222\n",
      "                device_id          0\n",
      "gender                              \n",
      "F      -18476500057124584  45.305002\n",
      "M      -51105419262692144  39.717603\n"
     ]
    }
   ],
   "source": [
    "print diff_lat.groupby('gender').mean()\n",
    "print diff_lon.groupby('gender').mean()"
   ]
  },
  {
   "cell_type": "markdown",
   "metadata": {},
   "source": [
    "### Conclusion: hardly any difference per gender"
   ]
  },
  {
   "cell_type": "code",
   "execution_count": 251,
   "metadata": {
    "collapsed": false
   },
   "outputs": [
    {
     "data": {
      "text/html": [
       "<div>\n",
       "<table border=\"1\" class=\"dataframe\">\n",
       "  <thead>\n",
       "    <tr>\n",
       "      <th></th>\n",
       "      <th></th>\n",
       "      <th colspan=\"2\" halign=\"left\">longitude</th>\n",
       "      <th colspan=\"2\" halign=\"left\">latitude</th>\n",
       "    </tr>\n",
       "    <tr>\n",
       "      <th></th>\n",
       "      <th>home</th>\n",
       "      <th>0</th>\n",
       "      <th>1</th>\n",
       "      <th>0</th>\n",
       "      <th>1</th>\n",
       "    </tr>\n",
       "    <tr>\n",
       "      <th>device_id</th>\n",
       "      <th>age_group</th>\n",
       "      <th></th>\n",
       "      <th></th>\n",
       "      <th></th>\n",
       "      <th></th>\n",
       "    </tr>\n",
       "  </thead>\n",
       "  <tbody>\n",
       "    <tr>\n",
       "      <th>-9222956879900151005</th>\n",
       "      <th>4</th>\n",
       "      <td>113.240000</td>\n",
       "      <td>113.24000</td>\n",
       "      <td>23.190000</td>\n",
       "      <td>23.19000</td>\n",
       "    </tr>\n",
       "    <tr>\n",
       "      <th>-9221026417907250887</th>\n",
       "      <th>3</th>\n",
       "      <td>114.363133</td>\n",
       "      <td>114.36102</td>\n",
       "      <td>30.871807</td>\n",
       "      <td>30.87102</td>\n",
       "    </tr>\n",
       "    <tr>\n",
       "      <th>-9220061629197656378</th>\n",
       "      <th>5</th>\n",
       "      <td>124.887297</td>\n",
       "      <td>124.91000</td>\n",
       "      <td>46.620000</td>\n",
       "      <td>46.60000</td>\n",
       "    </tr>\n",
       "    <tr>\n",
       "      <th>-9218769147970107256</th>\n",
       "      <th>1</th>\n",
       "      <td>112.340000</td>\n",
       "      <td>112.33000</td>\n",
       "      <td>28.550000</td>\n",
       "      <td>28.60000</td>\n",
       "    </tr>\n",
       "    <tr>\n",
       "      <th>-9215352913819638805</th>\n",
       "      <th>0</th>\n",
       "      <td>114.020000</td>\n",
       "      <td>0.00000</td>\n",
       "      <td>22.660000</td>\n",
       "      <td>0.00000</td>\n",
       "    </tr>\n",
       "  </tbody>\n",
       "</table>\n",
       "</div>"
      ],
      "text/plain": [
       "                                 longitude              latitude          \n",
       "home                                     0          1          0         1\n",
       "device_id            age_group                                            \n",
       "-9222956879900151005 4          113.240000  113.24000  23.190000  23.19000\n",
       "-9221026417907250887 3          114.363133  114.36102  30.871807  30.87102\n",
       "-9220061629197656378 5          124.887297  124.91000  46.620000  46.60000\n",
       "-9218769147970107256 1          112.340000  112.33000  28.550000  28.60000\n",
       "-9215352913819638805 0          114.020000    0.00000  22.660000   0.00000"
      ]
     },
     "execution_count": 251,
     "metadata": {},
     "output_type": "execute_result"
    }
   ],
   "source": [
    "df2 = df.groupby(['device_id','home','age_group'])['longitude','latitude'].mean().unstack('home').fillna(0)\n",
    "df2.head()"
   ]
  },
  {
   "cell_type": "code",
   "execution_count": 252,
   "metadata": {
    "collapsed": false
   },
   "outputs": [
    {
     "data": {
      "text/html": [
       "<div>\n",
       "<table border=\"1\" class=\"dataframe\">\n",
       "  <thead>\n",
       "    <tr style=\"text-align: right;\">\n",
       "      <th></th>\n",
       "      <th>device_id</th>\n",
       "      <th>age_group</th>\n",
       "      <th>0</th>\n",
       "    </tr>\n",
       "  </thead>\n",
       "  <tbody>\n",
       "    <tr>\n",
       "      <th>0</th>\n",
       "      <td>-9222956879900151005</td>\n",
       "      <td>4</td>\n",
       "      <td>8.526513e-14</td>\n",
       "    </tr>\n",
       "    <tr>\n",
       "      <th>1</th>\n",
       "      <td>-9221026417907250887</td>\n",
       "      <td>3</td>\n",
       "      <td>2.112122e-03</td>\n",
       "    </tr>\n",
       "    <tr>\n",
       "      <th>2</th>\n",
       "      <td>-9220061629197656378</td>\n",
       "      <td>5</td>\n",
       "      <td>2.270270e-02</td>\n",
       "    </tr>\n",
       "    <tr>\n",
       "      <th>3</th>\n",
       "      <td>-9218769147970107256</td>\n",
       "      <td>1</td>\n",
       "      <td>1.000000e-02</td>\n",
       "    </tr>\n",
       "    <tr>\n",
       "      <th>4</th>\n",
       "      <td>-9215352913819638805</td>\n",
       "      <td>0</td>\n",
       "      <td>1.140200e+02</td>\n",
       "    </tr>\n",
       "  </tbody>\n",
       "</table>\n",
       "</div>"
      ],
      "text/plain": [
       "             device_id  age_group             0\n",
       "0 -9222956879900151005          4  8.526513e-14\n",
       "1 -9221026417907250887          3  2.112122e-03\n",
       "2 -9220061629197656378          5  2.270270e-02\n",
       "3 -9218769147970107256          1  1.000000e-02\n",
       "4 -9215352913819638805          0  1.140200e+02"
      ]
     },
     "execution_count": 252,
     "metadata": {},
     "output_type": "execute_result"
    }
   ],
   "source": [
    "diff_lon = abs(df2['longitude'][0] - df2['longitude'][1]).reset_index()\n",
    "diff_lat = abs(df2['latitude'][0] - df2['latitude'][1]).reset_index()\n",
    "diff_lon.head()"
   ]
  },
  {
   "cell_type": "code",
   "execution_count": 253,
   "metadata": {
    "collapsed": false
   },
   "outputs": [
    {
     "name": "stdout",
     "output_type": "stream",
     "text": [
      "                    device_id          0\n",
      "age_group                               \n",
      "0         -104192233374878576  14.296152\n",
      "1         -125563070228127136  12.236211\n",
      "2          -31476681447670376  11.854597\n",
      "3          -44303525340449704  11.475766\n",
      "4           80351369141966416  10.761430\n",
      "5          -70739520684102592   9.773309\n",
      "                    device_id          0\n",
      "age_group                               \n",
      "0         -104192233374878576  51.482848\n",
      "1         -125563070228127136  44.629450\n",
      "2          -31476681447670376  43.042787\n",
      "3          -44303525340449704  40.920736\n",
      "4           80351369141966416  38.588538\n",
      "5          -70739520684102592  34.111341\n"
     ]
    }
   ],
   "source": [
    "print diff_lat.groupby('age_group').mean()\n",
    "print diff_lon.groupby('age_group').mean()"
   ]
  },
  {
   "cell_type": "code",
   "execution_count": 254,
   "metadata": {
    "collapsed": false
   },
   "outputs": [
    {
     "data": {
      "text/plain": [
       "<matplotlib.text.Text at 0x1e8e7b150>"
      ]
     },
     "execution_count": 254,
     "metadata": {},
     "output_type": "execute_result"
    },
    {
     "data": {
      "image/png": "[encoded data removed]",
      "text/plain": [
       "<matplotlib.figure.Figure at 0x20902b210>"
      ]
     },
     "metadata": {},
     "output_type": "display_data"
    }
   ],
   "source": [
    "diff_lon.groupby('age_group').mean()[0].plot(kind='barh')\n",
    "plt.xlabel('Average lon distance between work / home')"
   ]
  },
  {
   "cell_type": "code",
   "execution_count": 255,
   "metadata": {
    "collapsed": false
   },
   "outputs": [
    {
     "data": {
      "text/plain": [
       "<matplotlib.text.Text at 0x1e909d310>"
      ]
     },
     "execution_count": 255,
     "metadata": {},
     "output_type": "execute_result"
    },
    {
     "data": {
      "image/png": "[encoded data removed]",
      "text/plain": [
       "<matplotlib.figure.Figure at 0x1e9062d50>"
      ]
     },
     "metadata": {},
     "output_type": "display_data"
    }
   ],
   "source": [
    "diff_lat.groupby('age_group').mean()[0].plot(kind='barh')\n",
    "plt.xlabel('Average lat distance between work / home')"
   ]
  },
  {
   "cell_type": "code",
   "execution_count": null,
   "metadata": {
    "collapsed": true
   },
   "outputs": [],
   "source": []
  },
  {
   "cell_type": "code",
   "execution_count": null,
   "metadata": {
    "collapsed": true
   },
   "outputs": [],
   "source": []
  }
 ],
 "metadata": {
  "kernelspec": {
   "display_name": "Python 2",
   "language": "python",
   "name": "python2"
  },
  "language_info": {
   "codemirror_mode": {
    "name": "ipython",
    "version": 2
   },
   "file_extension": ".py",
   "mimetype": "text/x-python",
   "name": "python",
   "nbconvert_exporter": "python",
   "pygments_lexer": "ipython2",
   "version": "2.7.11"
  }
 },
 "nbformat": 4,
 "nbformat_minor": 0
}
