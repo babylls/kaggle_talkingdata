{
 "cells": [
  {
   "cell_type": "markdown",
   "metadata": {},
   "source": [
    "# Test sample and feature weight\n",
    "\n",
    "This notebook explores whether weighting each sample with the number of events improve the accuracy of the prediction? \n",
    "  * What is an appropiate weight for devices without events?\n",
    "  * Should the weight be capped? \n",
    "  * How should it increase with number of events?\n",
    "  \n",
    "Unfortunately, various possible weighting scheme (normalized, linear, exponential) all decreased the score. I do not understand this, requires further work and better understanding the the lbfgs solver."
   ]
  },
  {
   "cell_type": "code",
   "execution_count": 1,
   "metadata": {
    "collapsed": false
   },
   "outputs": [
    {
     "name": "stderr",
     "output_type": "stream",
     "text": [
      "Using Theano backend.\n"
     ]
    }
   ],
   "source": [
    "import pandas as pd\n",
    "import numpy as np\n",
    "%matplotlib inline\n",
    "import seaborn as sns\n",
    "import matplotlib.pyplot as plt\n",
    "import os\n",
    "import random\n",
    "import time\n",
    "import sys\n",
    "\n",
    "#import sys\n",
    "#import pymongo\n",
    "#import bson.objectid\n",
    "#pymongo.objectid = bson.objectid\n",
    "#sys.modules[\"pymongo.objectid\"] = bson.objectid\n",
    "\n",
    "#os.environ['KERAS_BACKEND']='tensorflow'\n",
    "os.environ['THEANO_FLAGS'] = 'device=cpu'\n",
    "from keras.models import Sequential\n",
    "from keras.layers import Dense, Dropout, Activation\n",
    "from keras.wrappers.scikit_learn import KerasClassifier\n",
    "from keras.utils import np_utils\n",
    "from keras.optimizers import SGD\n",
    "from keras.callbacks import Callback\n",
    "import keras\n",
    "\n",
    "from hyperopt import fmin, tpe, hp, STATUS_OK, Trials\n",
    "\n",
    "from sklearn.preprocessing import LabelEncoder\n",
    "from scipy.sparse import csr_matrix, hstack\n",
    "from sklearn.linear_model import LogisticRegression, SGDClassifier\n",
    "from sklearn.cross_validation import StratifiedKFold, train_test_split\n",
    "from sklearn.feature_selection import VarianceThreshold\n",
    "from sklearn.metrics import log_loss\n",
    "import pickle"
   ]
  },
  {
   "cell_type": "code",
   "execution_count": 6,
   "metadata": {
    "collapsed": false
   },
   "outputs": [],
   "source": [
    "dir_in = 'data_ori'\n",
    "dir_feat = 'data'\n",
    "rs = 123\n",
    "fixed_seed_num = 1234\n",
    "np.random.seed(fixed_seed_num)\n",
    "random.seed(fixed_seed_num) # not sure if needed or not\n",
    "\n",
    "feature_files_old = ['features_bag_brand',\n",
    "                 'features_bag_model',\n",
    "                'features_bag_label_installed',\n",
    "                'features_bag_app_installed']\n",
    "feature_files = ['features_brand_bag',\n",
    "                 'features_brand_model_bag',\n",
    "                 'features_brand_model.csv']\n",
    "feature_files=feature_files[0:2]\n",
    "\n",
    "# Function to read feature file\n",
    "def open_feature_file(fname, samples='train'):\n",
    "    if fname[-3:] == 'csv':\n",
    "        if samples=='train':\n",
    "            X = gatrain[['device_id']].merge( pd.read_csv(os.path.join(dir_feat, fname)), on='device_id', how='left')\n",
    "        else:\n",
    "            X = gatest[['device_id']].merge( pd.read_csv(os.path.join(dir_feat, fname)), on='device_id', how='left')\n",
    "            \n",
    "        X.drop('device_id', axis=1, inplace=True)\n",
    "        X.fillna(0, inplace=True)\n",
    "        return csr_matrix(X.values)\n",
    "    else:\n",
    "        # Assume it is a pickle file\n",
    "        with open(os.path.join(dir_feat, '{}_{}.pickle'.format(fname,samples)), 'rb') as f:\n",
    "            return pickle.load(f)"
   ]
  },
  {
   "cell_type": "code",
   "execution_count": 7,
   "metadata": {
    "collapsed": true
   },
   "outputs": [],
   "source": [
    "# Calculate CV score on Xtrain, y\n",
    "def score(X, clf = None, random_state = 123, w = None):\n",
    "    if not clf: clf = LogisticRegression(C=0.02, multi_class='multinomial',solver='lbfgs', n_jobs=2)\n",
    "        \n",
    "    kf = StratifiedKFold(y, n_folds=5, shuffle=True, random_state=random_state)\n",
    "    pred = np.zeros((y.shape[0],nclasses))\n",
    "    for itrain, itest in kf:\n",
    "        Xtr, Xte = X[itrain, :], X[itest, :]\n",
    "        ytr, yte = y[itrain], y[itest]\n",
    "        if np.any(w):\n",
    "            ws = w[itrain]\n",
    "        else:\n",
    "            ws = None\n",
    "            \n",
    "        clf.fit(Xtr, ytr, sample_weight = ws)\n",
    "        pred[itest,:] = clf.predict_proba(Xte)\n",
    "        # Downsize to one fold only for kernels\n",
    "        #print(\"{:.5f}\".format(log_loss(yte, pred[itest,:])))\n",
    "    #print('')\n",
    "    return log_loss(y, pred)"
   ]
  },
  {
   "cell_type": "markdown",
   "metadata": {},
   "source": [
    "## Get basescore on installed bag of apps"
   ]
  },
  {
   "cell_type": "code",
   "execution_count": 8,
   "metadata": {
    "collapsed": false
   },
   "outputs": [],
   "source": [
    "gatrain = pd.read_csv(os.path.join(dir_in,'gender_age_train.csv'))\n",
    "gatest = pd.read_csv(os.path.join(dir_in,'gender_age_test.csv'))\n",
    "targetencoder = LabelEncoder().fit(gatrain.group)\n",
    "y = targetencoder.transform(gatrain.group)\n",
    "nclasses = len(targetencoder.classes_)"
   ]
  },
  {
   "cell_type": "code",
   "execution_count": 9,
   "metadata": {
    "collapsed": false
   },
   "outputs": [],
   "source": [
    "fw = [1, 1, 1, 1]\n",
    "Xtrain = hstack([open_feature_file(f) for f in feature_files],format='csr')\n",
    "# Weird linear scaling of features decreases performance.\n",
    "# *1.0: Basescore: 2.27402\n",
    "# *1.1: Basescore: 2.27443\n",
    "# *1.2: Basescore: 2.27534\n",
    "# *0.5: Basescore: 2.28733\n",
    "Xtest = hstack([open_feature_file(f,'test') for f in feature_files],format='csr')"
   ]
  },
  {
   "cell_type": "code",
   "execution_count": 10,
   "metadata": {
    "collapsed": false
   },
   "outputs": [
    {
     "name": "stdout",
     "output_type": "stream",
     "text": [
      "Training on 1798 features\n",
      "Basescore: 2.39530\n"
     ]
    }
   ],
   "source": [
    "print('Training on {} features'.format(Xtrain.shape[1]))\n",
    "basescore = score(Xtrain, random_state=rs)\n",
    "print('Basescore: {:.5f}'.format(basescore))"
   ]
  },
  {
   "cell_type": "markdown",
   "metadata": {},
   "source": [
    "## Test Keras model"
   ]
  },
  {
   "cell_type": "code",
   "execution_count": 11,
   "metadata": {
    "collapsed": false
   },
   "outputs": [],
   "source": [
    "dummy_y = np_utils.to_categorical(y)"
   ]
  },
  {
   "cell_type": "code",
   "execution_count": 12,
   "metadata": {
    "collapsed": true
   },
   "outputs": [],
   "source": [
    "X_train, X_val, y_train, y_val = train_test_split(Xtrain, dummy_y, \n",
    "                                                  test_size=0.1, random_state=42)"
   ]
  },
  {
   "cell_type": "code",
   "execution_count": 13,
   "metadata": {
    "collapsed": false
   },
   "outputs": [],
   "source": [
    "def batch_generator(X, y, batch_size, shuffle):\n",
    "    #chenglong code for fiting from generator (https://www.kaggle.com/c/talkingdata-mobile-user-demographics/forums/t/22567/neural-network-for-sparse-matrices)\n",
    "    number_of_batches = np.ceil(X.shape[0]/batch_size)\n",
    "    counter = 0\n",
    "    sample_index = np.arange(X.shape[0])\n",
    "    if shuffle:\n",
    "        np.random.shuffle(sample_index)\n",
    "    while True:\n",
    "        batch_index = sample_index[batch_size*counter:batch_size*(counter+1)]\n",
    "        X_batch = X[batch_index,:].toarray()\n",
    "        y_batch = y[batch_index]\n",
    "        counter += 1\n",
    "        yield X_batch, y_batch, np.ones(X_batch.shape[0])\n",
    "        if (counter == number_of_batches):\n",
    "            if shuffle:\n",
    "                np.random.shuffle(sample_index)\n",
    "            counter = 0\n",
    "\n",
    "def batch_generatorp(X, batch_size, shuffle):\n",
    "    number_of_batches = X.shape[0] / np.ceil(X.shape[0]/batch_size)\n",
    "    counter = 0\n",
    "    sample_index = np.arange(X.shape[0])\n",
    "    while True:\n",
    "        batch_index = sample_index[batch_size * counter:batch_size * (counter + 1)]\n",
    "        X_batch = X[batch_index, :].toarray()\n",
    "        counter += 1\n",
    "        yield X_batch#, np.ones(X_batch.shape[0])\n",
    "        if (counter == number_of_batches):\n",
    "            counter = 0\n",
    "\n",
    "# define baseline model\n",
    "params = {'optimizer': 'adamax',\n",
    "          'batch_size': hp.uniform('batch_size', 16, 512),\n",
    "          'n_epoch': 3,\n",
    "         'layer_1': {'on1': True,\n",
    "                     'units1': 100,\n",
    "                     'activation1': 'relu',\n",
    "                     'dropout1': 0.2},\n",
    "         'layer_2': {'on2': True,\n",
    "                    'units2': 150,\n",
    "                    'activation2': 'tanh',\n",
    "                    'dropout2': 0.2},\n",
    "          'layer_3': {'on3': False,\n",
    "                     'units3': 12,\n",
    "                     'activation3': 'sigmoid',\n",
    "                     'dropout3': 0.2}\n",
    "          }\n",
    "\n",
    "# define baseline model\n",
    "params = {'optimizer': 'adamax',\n",
    "          'batch_size': 64, #hp.uniform('batch_size', 16, 512),\n",
    "          'n_epoch': hp.uniform('n_epoch', 8, 64),\n",
    "         'layer_1': {'on1': True,\n",
    "                     'units1': hp.uniform('units1', 64, 1024),\n",
    "                     'activation1': hp.choice('activation1',['relu','tanh']),\n",
    "                     'dropout1': hp.uniform('dropout1', .25, .75)},\n",
    "         'layer_2': {'on2': hp.choice('on2',[True, False]),\n",
    "                    'units2': hp.uniform('units2', 64, 1024),\n",
    "                    'activation2': hp.choice('activation2',['relu','tanh']),\n",
    "                    'dropout2': hp.uniform('dropout2', .25, .75)},\n",
    "          'layer_3': {'on3': False,\n",
    "                     'units3': hp.uniform('units3', 64, 1024),\n",
    "                     'activation3': hp.choice('activation3',['relu','tanh']),\n",
    "                     'dropout3': hp.uniform('dropout3', .25, .75)}\n",
    "          }\n",
    "\n",
    "\n",
    "def f_nn(params):\n",
    "    # create model\n",
    "    print ('Params testing: ', params)\n",
    "    \n",
    "    model = Sequential()\n",
    "    model.add(Dense(params['layer_1']['units1'], \n",
    "                    input_dim=Xtrain.shape[1], \n",
    "                    init='normal', \n",
    "                    activation=params['layer_1']['activation1']))\n",
    "    \n",
    "    model.add(Dropout(params['layer_1']['dropout1']))\n",
    "    \n",
    "    if params['layer_2']['on2']:\n",
    "        model.add(Dense(params['layer_2']['units2'], \n",
    "                        input_dim=Xtrain.shape[1], \n",
    "                        init='normal', \n",
    "                        activation=params['layer_2']['activation2']))\n",
    "        #https://www.kaggle.com/poiss0nriot/talkingdata-mobile-user-demographics/bag-of-apps-keras-11-08-16-no-val/run/328610\n",
    "        #model.add(PReLU())\n",
    "        model.add(Dropout(params['layer_2']['dropout2']))\n",
    "    \n",
    "    if params['layer_3']['on3']:\n",
    "        model.add(Dense(params['layer_3']['units3'], \n",
    "                        init='normal', \n",
    "                        activation=params['layer_3']['activation3']))\n",
    "        \n",
    "        model.add(Dropout(params['layer_3']['dropout3']))\n",
    "    \n",
    "    model.add(Dense(12, init='normal', activation='softmax'))    \n",
    "    # Compile model\n",
    "    model.compile(loss='categorical_crossentropy', optimizer=params['optimizer'], metrics=['accuracy'])  #logloss\n",
    "    \n",
    "    hist_all = prediction_hist('test')\n",
    "    \n",
    "    fit=model.fit(X_train.todense(), y_train, nb_epoch = int(params['n_epoch']), batch_size=int(params['batch_size']),\n",
    "                             validation_data=(X_val.todense(), y_val), verbose=2,\n",
    "                 callbacks=[hist_all]) \n",
    "    \n",
    "    scores_val = model.predict_proba(X_val.todense(), batch_size = 128, verbose = 0)\n",
    "\n",
    "    logloss = log_loss(y_val, scores_val)\n",
    "    print('Log_loss:', logloss)\n",
    "    sys.stdout.flush() \n",
    "    return {'loss': logloss, 'status': STATUS_OK}\n",
    "\n",
    "def plot_loss_progress(pred_hist_obj, ax1=None, ax2=None, c='g'):\n",
    "    \n",
    "    df = pred_hist_obj.predhist\n",
    "    \n",
    "    if not ax1:\n",
    "        fig, (ax1, ax2) = plt.subplot(1, 2, figsize=(16,4))\n",
    "        \n",
    "    df.plot(y='acc', ax=ax1, label=pred_hist_obj.tag, color=c)\n",
    "    df.plot(y='val_acc', ax=ax1, label=pred_hist_obj.tag, linestyle='--', color=c)\n",
    "    ax1.set_title('Accuracy score')\n",
    "    ax1.set_xlabel('Epoch #')\n",
    "    ax1.set_ylabel('Accuracy')\n",
    "    \n",
    "    df.plot(y='logloss', ax=ax2, label=pred_hist_obj.tag, color=c)\n",
    "    df.plot(y='val_logloss', ax=ax2, label=pred_hist_obj.tag, linestyle='--', color=c)\n",
    "    ax2.set_title('Logloss score')\n",
    "    ax2.set_xlabel('Epoch #')\n",
    "    ax2.set_ylabel('Logloss')\n",
    "\n",
    "class prediction_hist(Callback):\n",
    "    def __init__(self, tag=''):\n",
    "        self.predhist = pd.DataFrame(columns=['acc','logloss','val_acc','val_logloss'])\n",
    "        self.tag = str(tag)\n",
    "        \n",
    "    def on_epoch_end(self, epoch, logs={}):\n",
    "        #print logs.values()\n",
    "        self.predhist.loc[epoch] = logs.values()\n",
    "        "
   ]
  },
  {
   "cell_type": "code",
   "execution_count": null,
   "metadata": {
    "collapsed": false
   },
   "outputs": [
    {
     "name": "stdout",
     "output_type": "stream",
     "text": [
      "('Params testing: ', {'n_epoch': 48.27241736866729, 'optimizer': 'adamax', 'layer_1': {'units1': 281.777395421635, 'activation1': 'tanh', 'on1': True, 'dropout1': 0.45546218635450947}, 'layer_3': {'activation3': 'tanh', 'on3': False, 'units3': 732.6104181739472, 'dropout3': 0.49555946671629864}, 'layer_2': {'on2': True, 'activation2': 'relu', 'units2': 338.69376155236426, 'dropout2': 0.6400138809560396}, 'batch_size': 64})\n",
      "Train on 67180 samples, validate on 7465 samples\n",
      "Epoch 1/48\n",
      "10s - loss: 2.4127 - acc: 0.1411 - val_loss: 2.4043 - val_acc: 0.1440\n",
      "Epoch 2/48\n",
      "15s - loss: 2.3988 - acc: 0.1505 - val_loss: 2.3995 - val_acc: 0.1449\n",
      "Epoch 3/48\n",
      "16s - loss: 2.3918 - acc: 0.1554 - val_loss: 2.3977 - val_acc: 0.1480\n",
      "Epoch 4/48\n",
      "17s - loss: 2.3864 - acc: 0.1571 - val_loss: 2.3975 - val_acc: 0.1480\n",
      "Epoch 5/48\n",
      "17s - loss: 2.3812 - acc: 0.1613 - val_loss: 2.3987 - val_acc: 0.1449\n",
      "Epoch 6/48\n",
      "17s - loss: 2.3778 - acc: 0.1625 - val_loss: 2.3986 - val_acc: 0.1457\n",
      "Epoch 7/48\n",
      "17s - loss: 2.3746 - acc: 0.1643 - val_loss: 2.3999 - val_acc: 0.1459\n",
      "Epoch 8/48\n"
     ]
    }
   ],
   "source": [
    "trials = Trials()\n",
    "best = fmin(f_nn, params, algo=tpe.suggest, max_evals=1000, trials=trials)\n",
    "print 'best: '\n",
    "print best\n"
   ]
  },
  {
   "cell_type": "code",
   "execution_count": null,
   "metadata": {
    "collapsed": false
   },
   "outputs": [],
   "source": [
    "parameters = ['batch_size']\n",
    "f, axes = plt.subplots(nrows=2, ncols=3, figsize=(15,10))\n",
    "cmap = plt.cm.jet\n",
    "for i, val in enumerate(parameters):\n",
    "    print i, val\n",
    "    xs = np.array([t['misc']['vals'][val] for t in trials.trials]).ravel()\n",
    "    ys = [-t['result']['loss'] for t in trials.trials]\n",
    "    #xs, ys = zip(sorted(xs), sorted(ys))\n",
    "    #ys = np.array(ys)\n",
    "    axes[i/3,i%3].scatter(xs, ys, s=20, linewidth=0.01, alpha=0.5, c=cmap(float(i)/len(parameters)))\n",
    "    axes[i/3,i%3].set_title(val)"
   ]
  },
  {
   "cell_type": "code",
   "execution_count": null,
   "metadata": {
    "collapsed": false
   },
   "outputs": [],
   "source": [
    "\n",
    "\n",
    "\n",
    "fig, (ax1, ax2) = plt.subplots(1,2,figsize=(16,4))\n",
    "drs = [0.1, 0.2, 0.3, 0.4, 0.5]\n",
    "optim = ['adamax', 'adam', 'nadam', 'adadelta']\n",
    "cs = 'grbycm'\n",
    "for i,dr in enumerate(optim):\n",
    "    hist_all = prediction_hist(tag=optim)\n",
    "    \n",
    "    model=baseline_model(params)\n",
    "    \n",
    "    fit=model.fit(X_train.todense(), y_train, nb_epoch = 7, batch_size=32,\n",
    "                             validation_data=(X_val.todense(), y_val), verbose=2,\n",
    "                 callbacks=[hist_all]) \n",
    "    \n",
    "    plot_loss_progress(hist_all, ax1=ax1, ax2=ax2, c=cs[i])"
   ]
  },
  {
   "cell_type": "code",
   "execution_count": null,
   "metadata": {
    "collapsed": false
   },
   "outputs": [],
   "source": [
    "model.summary()"
   ]
  },
  {
   "cell_type": "code",
   "execution_count": null,
   "metadata": {
    "collapsed": false
   },
   "outputs": [],
   "source": [
    "fig, (ax1, ax2) = plt.subplots(1,2,figsize=(16,4))\n",
    "\n",
    "cs = 'grbycm'\n",
    "plot_loss_progress(hist_all, ax1=ax1, ax2=ax2, c=cs[i])"
   ]
  },
  {
   "cell_type": "code",
   "execution_count": null,
   "metadata": {
    "collapsed": false
   },
   "outputs": [],
   "source": [
    "print hist_generator.predhist.head()\n",
    "fig, (ax1, ax2) = plt.subplots(1,2,figsize=(16,4))\n",
    "plot_loss_progress(hist_all, ax1=ax1, ax2=ax2)"
   ]
  },
  {
   "cell_type": "code",
   "execution_count": null,
   "metadata": {
    "collapsed": false
   },
   "outputs": [],
   "source": [
    "# evaluate the model\n",
    "scores_val = model.predict_generator(generator=batch_generatorp(X_val, 32, False), val_samples=X_val.shape[0])\n",
    "scores = model.predict_generator(generator=batch_generatorp(Xtest, 32, False), val_samples=Xtest.shape[0])\n",
    "\n",
    "print('logloss val {}'.format(log_loss(y_val, scores_val)))"
   ]
  },
  {
   "cell_type": "code",
   "execution_count": null,
   "metadata": {
    "collapsed": false
   },
   "outputs": [],
   "source": [
    "basescore = 2.27506319419 (2.2751433925) with weight in batch_generator: 2.2751433925, 2.2751433925"
   ]
  },
  {
   "cell_type": "code",
   "execution_count": null,
   "metadata": {
    "collapsed": false
   },
   "outputs": [],
   "source": [
    "pred = pd.DataFrame(scores, index = gatest['device_id'], columns=targetencoder.classes_)\n",
    "pred.to_csv('A_keras_model_on_apps_and_labels.csv',index=True)"
   ]
  },
  {
   "cell_type": "markdown",
   "metadata": {
    "collapsed": true
   },
   "source": [
    "## Fit on complete model"
   ]
  },
  {
   "cell_type": "code",
   "execution_count": null,
   "metadata": {
    "collapsed": false
   },
   "outputs": [],
   "source": [
    "model=baseline_model()\n",
    "fit=model.fit(X_train.todense(), y_train, nb_epoch = 20, batch_size=32,\n",
    "                         validation_data=(X_val.todense(), y_val), verbose=2)"
   ]
  },
  {
   "cell_type": "code",
   "execution_count": null,
   "metadata": {
    "collapsed": false
   },
   "outputs": [],
   "source": [
    "# evaluate the model\n",
    "scores_val = model.predict_generator(generator=batch_generatorp(X_val, 32, False), val_samples=X_val.shape[0])\n",
    "print('logloss val {}'.format(log_loss(y_val, scores_val)))"
   ]
  },
  {
   "cell_type": "code",
   "execution_count": null,
   "metadata": {
    "collapsed": false
   },
   "outputs": [],
   "source": [
    "model.summary()"
   ]
  },
  {
   "cell_type": "code",
   "execution_count": null,
   "metadata": {
    "collapsed": true
   },
   "outputs": [],
   "source": []
  }
 ],
 "metadata": {
  "kernelspec": {
   "display_name": "Python 2",
   "language": "python",
   "name": "python2"
  },
  "language_info": {
   "codemirror_mode": {
    "name": "ipython",
    "version": 2
   },
   "file_extension": ".py",
   "mimetype": "text/x-python",
   "name": "python",
   "nbconvert_exporter": "python",
   "pygments_lexer": "ipython2",
   "version": "2.7.11"
  }
 },
 "nbformat": 4,
 "nbformat_minor": 0
}
