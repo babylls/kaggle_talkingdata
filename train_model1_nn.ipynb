{
 "cells": [
  {
   "cell_type": "markdown",
   "metadata": {},
   "source": [
    "# Neural Net model 1\n",
    "\n",
    "- V0: HyperOpt NN with one layer\n",
    "\n",
    "Scores:\n",
    "- V0: "
   ]
  },
  {
   "cell_type": "code",
   "execution_count": 31,
   "metadata": {
    "collapsed": false
   },
   "outputs": [],
   "source": [
    "\n",
    "import os\n",
    "import random\n",
    "import time\n",
    "import sys\n",
    "import pickle\n",
    "\n",
    "import seaborn as sns\n",
    "import matplotlib.pyplot as plt\n",
    "import pandas as pd\n",
    "import numpy as np\n",
    "\n",
    "#import sys\n",
    "#import pymongo\n",
    "#import bson.objectid\n",
    "#pymongo.objectid = bson.objectid\n",
    "#sys.modules[\"pymongo.objectid\"] = bson.objectid\n",
    "\n",
    "#os.environ['KERAS_BACKEND']='tensorflow'\n",
    "#os.environ['THEANO_FLAGS'] = 'device=cpu'\n",
    "from keras.models import Sequential\n",
    "from keras.layers import Dense, Dropout, Activation\n",
    "from keras.wrappers.scikit_learn import KerasClassifier\n",
    "from keras.utils import np_utils\n",
    "from keras.optimizers import SGD\n",
    "from keras.callbacks import Callback\n",
    "import keras\n",
    "\n",
    "from hyperopt import fmin, tpe, hp, STATUS_OK, Trials\n",
    "\n",
    "from sklearn.preprocessing import LabelEncoder, StandardScaler\n",
    "from scipy.sparse import csr_matrix, hstack\n",
    "from sklearn.linear_model import LogisticRegression, SGDClassifier\n",
    "from sklearn.cross_validation import StratifiedKFold, train_test_split\n",
    "from sklearn.feature_selection import VarianceThreshold\n",
    "from sklearn.metrics import log_loss\n",
    "\n",
    "from ml_toolbox.kaggle import KaggleResult\n",
    "\n",
    "%matplotlib inline\n"
   ]
  },
  {
   "cell_type": "code",
   "execution_count": 32,
   "metadata": {
    "collapsed": true
   },
   "outputs": [],
   "source": [
    "dir_in = 'data_ori'\n",
    "dir_feat = 'data'\n",
    "sub_dir = 'model_1_nn'"
   ]
  },
  {
   "cell_type": "code",
   "execution_count": 33,
   "metadata": {
    "collapsed": false
   },
   "outputs": [],
   "source": [
    "\n",
    "rs = 123\n",
    "fixed_seed_num = 1234\n",
    "np.random.seed(fixed_seed_num)\n",
    "random.seed(fixed_seed_num) # not sure if needed or not\n",
    "\n",
    "feature_files = ['features_brand_model_bag',\n",
    "                 'features_brand_bag',\n",
    "                 'features_appid_installed',\n",
    "                 'features_label_app_installed']\n",
    "\n",
    "# Function to read feature file\n",
    "def open_feature_file(fname, samples='train'):\n",
    "    if fname[-3:] == 'csv':\n",
    "        if samples=='train':\n",
    "            X = gatrain[['device_id']].merge( pd.read_csv(os.path.join(dir_feat, fname)), on='device_id', how='left')\n",
    "        else:\n",
    "            X = gatest[['device_id']].merge( pd.read_csv(os.path.join(dir_feat, fname)), on='device_id', how='left')\n",
    "            \n",
    "        X.drop('device_id', axis=1, inplace=True)\n",
    "        X.fillna(0, inplace=True)\n",
    "        \n",
    "        for c in X.columns:\n",
    "            if X[c].max()>1:\n",
    "                X[c] = StandardScaler().fit_transform(X)\n",
    "                \n",
    "        return csr_matrix(X.values)\n",
    "    else:\n",
    "        # Assume it is a pickle file\n",
    "        with open(os.path.join(dir_feat, '{}_{}.pickle'.format(fname,samples)), 'rb') as f:\n",
    "            return pickle.load(f)"
   ]
  },
  {
   "cell_type": "markdown",
   "metadata": {},
   "source": [
    "## Load train/test data"
   ]
  },
  {
   "cell_type": "code",
   "execution_count": 34,
   "metadata": {
    "collapsed": false
   },
   "outputs": [],
   "source": [
    "gatrain = pd.read_csv(os.path.join(dir_in,'gender_age_train.csv'))\n",
    "gatest = pd.read_csv(os.path.join(dir_in,'gender_age_test.csv'))\n",
    "targetencoder = LabelEncoder().fit(gatrain.group)\n",
    "y = targetencoder.transform(gatrain.group)\n",
    "nclasses = len(targetencoder.classes_)"
   ]
  },
  {
   "cell_type": "code",
   "execution_count": 35,
   "metadata": {
    "collapsed": false
   },
   "outputs": [
    {
     "name": "stdout",
     "output_type": "stream",
     "text": [
      "Train on 21527 features\n",
      "Test on 21527 features\n"
     ]
    }
   ],
   "source": [
    "fw = [1, 1, 1, 1]\n",
    "Xtrain = hstack([open_feature_file(f) for f in feature_files],format='csr')\n",
    "Xtest = hstack([open_feature_file(f,'test') for f in feature_files],format='csr')\n",
    "\n",
    "print('Train on {} features'.format(Xtrain.shape[1]))\n",
    "print('Test on {} features'.format(Xtrain.shape[1]))\n"
   ]
  },
  {
   "cell_type": "code",
   "execution_count": 36,
   "metadata": {
    "collapsed": true
   },
   "outputs": [],
   "source": [
    "# With selection (15xxx features): 2.27427\n",
    "# Without selection (21527 features): 2.27427\n",
    "selector = VarianceThreshold().fit(Xtrain)\n",
    "Xtrain = selector.transform(Xtrain)\n",
    "Xtest = selector.transform(Xtest)"
   ]
  },
  {
   "cell_type": "markdown",
   "metadata": {},
   "source": [
    "## Test Keras model"
   ]
  },
  {
   "cell_type": "code",
   "execution_count": 37,
   "metadata": {
    "collapsed": false
   },
   "outputs": [],
   "source": [
    "dummy_y = np_utils.to_categorical(y)"
   ]
  },
  {
   "cell_type": "code",
   "execution_count": 38,
   "metadata": {
    "collapsed": false
   },
   "outputs": [],
   "source": [
    "X_train, X_val, y_train, y_val = train_test_split(Xtrain, dummy_y, stratify=y,\n",
    "                                                  test_size=0.1, random_state=42)"
   ]
  },
  {
   "cell_type": "code",
   "execution_count": 39,
   "metadata": {
    "collapsed": false
   },
   "outputs": [],
   "source": [
    "def batch_generator(X, y, batch_size, shuffle):\n",
    "    #chenglong code for fiting from generator (https://www.kaggle.com/c/talkingdata-mobile-user-demographics/forums/t/22567/neural-network-for-sparse-matrices)\n",
    "    number_of_batches = np.ceil(X.shape[0]/batch_size)\n",
    "    counter = 0\n",
    "    sample_index = np.arange(X.shape[0])\n",
    "    if shuffle:\n",
    "        np.random.shuffle(sample_index)\n",
    "    while True:\n",
    "        batch_index = sample_index[batch_size*counter:batch_size*(counter+1)]\n",
    "        X_batch = X[batch_index,:].toarray()\n",
    "        y_batch = y[batch_index]\n",
    "        counter += 1\n",
    "        yield X_batch, y_batch, np.ones(X_batch.shape[0])\n",
    "        if (counter == number_of_batches):\n",
    "            if shuffle:\n",
    "                np.random.shuffle(sample_index)\n",
    "            counter = 0\n",
    "\n",
    "def batch_generatorp(X, batch_size, shuffle):\n",
    "    number_of_batches = X.shape[0] / np.ceil(X.shape[0]/batch_size)\n",
    "    counter = 0\n",
    "    sample_index = np.arange(X.shape[0])\n",
    "    while True:\n",
    "        batch_index = sample_index[batch_size * counter:batch_size * (counter + 1)]\n",
    "        X_batch = X[batch_index, :].toarray()\n",
    "        counter += 1\n",
    "        yield X_batch#, np.ones(X_batch.shape[0])\n",
    "        if (counter == number_of_batches):\n",
    "            counter = 0\n"
   ]
  },
  {
   "cell_type": "code",
   "execution_count": 40,
   "metadata": {
    "collapsed": true
   },
   "outputs": [],
   "source": [
    "params = {'optimizer': 'adam',\n",
    "          'batch_size': 32,\n",
    "          'n_epoch': 4,\n",
    "         'layer_1': {'on1': True,\n",
    "                     'units1': 150,\n",
    "                     'activation1': 'relu',\n",
    "                     'dropout1': 0.6},\n",
    "         'layer_2': {'on2': False,\n",
    "                    'units2': 150,\n",
    "                    'activation2': 'tanh',\n",
    "                    'dropout2': 0.2},\n",
    "          'layer_3': {'on3': False,\n",
    "                     'units3': 12,\n",
    "                     'activation3': 'sigmoid',\n",
    "                     'dropout3': 0.2}\n",
    "          }\n",
    "# According: \n",
    "#https://www.kaggle.com/agavranis/talkingdata-mobile-user-demographics/bag-of-apps-keras-11-08-16-no-val/code\n",
    "params = {'optimizer': 'adadelta',\n",
    "          'batch_size': 400,\n",
    "          'n_epoch': 16,\n",
    "         'layer_1': {'on1': True,\n",
    "                     'units1': 150,\n",
    "                     'activation1': 'relu',\n",
    "                     'dropout1': 0.4},\n",
    "         'layer_2': {'on2': True,\n",
    "                    'units2': 50,\n",
    "                    'activation2': 'relu',\n",
    "                    'dropout2': 0.2},\n",
    "          'layer_3': {'on3': False,\n",
    "                     'units3': 12,\n",
    "                     'activation3': 'sigmoid',\n",
    "                     'dropout3': 0.2}\n",
    "          }"
   ]
  },
  {
   "cell_type": "code",
   "execution_count": 41,
   "metadata": {
    "collapsed": false
   },
   "outputs": [
    {
     "name": "stdout",
     "output_type": "stream",
     "text": [
      "Model with following parameters: {'optimizer': 'adadelta', 'layer_1': {'units1': 150, 'activation1': 'relu', 'on1': True, 'dropout1': 0.4}, 'layer_3': {'activation3': 'sigmoid', 'on3': False, 'units3': 12, 'dropout3': 0.2}, 'layer_2': {'on2': True, 'activation2': 'relu', 'units2': 50, 'dropout2': 0.2}, 'batch_size': 400, 'n_epoch': 16}\n",
      "Train on 67179 samples, validate on 7466 samples\n",
      "Epoch 1/16\n",
      "24s - loss: 2.4320 - acc: 0.1353 - val_loss: 2.3829 - val_acc: 0.1501\n",
      "Epoch 2/16\n",
      "21s - loss: 2.3611 - acc: 0.1614 - val_loss: 2.3163 - val_acc: 0.1789\n",
      "Epoch 3/16\n",
      "18s - loss: 2.3197 - acc: 0.1752 - val_loss: 2.2920 - val_acc: 0.1855\n",
      "Epoch 4/16\n",
      "18s - loss: 2.2997 - acc: 0.1815 - val_loss: 2.2792 - val_acc: 0.1887\n",
      "Epoch 5/16\n",
      "19s - loss: 2.2877 - acc: 0.1866 - val_loss: 2.2713 - val_acc: 0.1937\n",
      "Epoch 6/16\n",
      "19s - loss: 2.2773 - acc: 0.1921 - val_loss: 2.2656 - val_acc: 0.2001\n",
      "Epoch 7/16\n",
      "20s - loss: 2.2677 - acc: 0.1956 - val_loss: 2.2612 - val_acc: 0.2033\n",
      "Epoch 8/16\n",
      "20s - loss: 2.2596 - acc: 0.1984 - val_loss: 2.2576 - val_acc: 0.2059\n",
      "Epoch 9/16\n",
      "22s - loss: 2.2523 - acc: 0.2011 - val_loss: 2.2550 - val_acc: 0.2041\n",
      "Epoch 10/16\n",
      "20s - loss: 2.2450 - acc: 0.2039 - val_loss: 2.2518 - val_acc: 0.2052\n",
      "Epoch 11/16\n",
      "19s - loss: 2.2371 - acc: 0.2072 - val_loss: 2.2502 - val_acc: 0.2077\n",
      "Epoch 12/16\n",
      "20s - loss: 2.2300 - acc: 0.2085 - val_loss: 2.2481 - val_acc: 0.2077\n",
      "Epoch 13/16\n",
      "20s - loss: 2.2240 - acc: 0.2116 - val_loss: 2.2475 - val_acc: 0.2069\n",
      "Epoch 14/16\n",
      "20s - loss: 2.2163 - acc: 0.2146 - val_loss: 2.2470 - val_acc: 0.2079\n",
      "Epoch 15/16\n",
      "20s - loss: 2.2100 - acc: 0.2170 - val_loss: 2.2464 - val_acc: 0.2075\n",
      "Epoch 16/16\n",
      "20s - loss: 2.2017 - acc: 0.2199 - val_loss: 2.2485 - val_acc: 0.2107\n"
     ]
    }
   ],
   "source": [
    "# create model\n",
    "print ('Model with following parameters: %s' % (params))\n",
    "\n",
    "model = Sequential()\n",
    "model.add(Dense(params['layer_1']['units1'], \n",
    "                input_dim=X_train.shape[1], \n",
    "                init='normal', \n",
    "                activation=params['layer_1']['activation1']))\n",
    "\n",
    "model.add(Dropout(params['layer_1']['dropout1']))\n",
    "\n",
    "if params['layer_2']['on2']:\n",
    "    model.add(Dense(params['layer_2']['units2'], \n",
    "                    input_dim=X_train.shape[1], \n",
    "                    init='normal', \n",
    "                    activation=params['layer_2']['activation2']))\n",
    "    #https://www.kaggle.com/poiss0nriot/talkingdata-mobile-user-demographics/bag-of-apps-keras-11-08-16-no-val/run/328610\n",
    "    #model.add(PReLU())\n",
    "    model.add(Dropout(params['layer_2']['dropout2']))\n",
    "\n",
    "if params['layer_3']['on3']:\n",
    "    model.add(Dense(params['layer_3']['units3'], \n",
    "                    init='normal', \n",
    "                    activation=params['layer_3']['activation3']))\n",
    "\n",
    "    model.add(Dropout(params['layer_3']['dropout3']))\n",
    "\n",
    "model.add(Dense(12, init='normal', activation='softmax'))    \n",
    "\n",
    "# Compile model\n",
    "model.compile(loss='categorical_crossentropy', optimizer=params['optimizer'], metrics=['accuracy'])  #logloss\n",
    "\n",
    "\n",
    "fit=model.fit(X_train.todense(), y_train, nb_epoch = int(params['n_epoch']), batch_size=int(params['batch_size']),\n",
    "                         validation_data=(X_val.todense(), y_val), verbose=2) \n",
    "\n",
    "scores_val = model.predict_proba(X_val.todense(), batch_size = 128, verbose = 0)\n"
   ]
  },
  {
   "cell_type": "code",
   "execution_count": 42,
   "metadata": {
    "collapsed": false
   },
   "outputs": [
    {
     "name": "stdout",
     "output_type": "stream",
     "text": [
      "logloss val 2.24847219608\n"
     ]
    }
   ],
   "source": [
    "# evaluate the model\n",
    "scores_val = model.predict_generator(generator=batch_generatorp(X_val, 32, False), val_samples=X_val.shape[0])\n",
    "\n",
    "cv_score = log_loss(y_val, scores_val)\n",
    "\n",
    "print('logloss val {}'.format(log_loss(y_val, scores_val)))"
   ]
  },
  {
   "cell_type": "markdown",
   "metadata": {
    "collapsed": true
   },
   "source": [
    "## Create test score"
   ]
  },
  {
   "cell_type": "code",
   "execution_count": 43,
   "metadata": {
    "collapsed": false
   },
   "outputs": [],
   "source": [
    "# evaluate the model\n",
    "pred_test = model.predict_generator(generator=batch_generatorp(Xtest, 32, False), val_samples=Xtest.shape[0])\n",
    "pred = pd.DataFrame(pred_test, index = gatest['device_id'], columns=targetencoder.classes_)"
   ]
  },
  {
   "cell_type": "code",
   "execution_count": 44,
   "metadata": {
    "collapsed": false
   },
   "outputs": [],
   "source": [
    "kag = KaggleResult(pred.values, pred.index.values, cv_score=cv_score, description='NN Model 1', subdir=sub_dir)"
   ]
  },
  {
   "cell_type": "code",
   "execution_count": 45,
   "metadata": {
    "collapsed": false
   },
   "outputs": [
    {
     "name": "stdout",
     "output_type": "stream",
     "text": [
      "2.2496\n"
     ]
    }
   ],
   "source": [
    "if kag.validate():\n",
    "    kag.upload()\n",
    "print kag.lb_score"
   ]
  },
  {
   "cell_type": "code",
   "execution_count": null,
   "metadata": {
    "collapsed": true
   },
   "outputs": [],
   "source": []
  }
 ],
 "metadata": {
  "kernelspec": {
   "display_name": "Python 2",
   "language": "python",
   "name": "python2"
  },
  "language_info": {
   "codemirror_mode": {
    "name": "ipython",
    "version": 2
   },
   "file_extension": ".py",
   "mimetype": "text/x-python",
   "name": "python",
   "nbconvert_exporter": "python",
   "pygments_lexer": "ipython2",
   "version": "2.7.11"
  }
 },
 "nbformat": 4,
 "nbformat_minor": 0
}
