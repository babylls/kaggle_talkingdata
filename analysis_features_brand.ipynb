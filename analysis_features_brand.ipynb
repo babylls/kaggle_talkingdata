{
 "cells": [
  {
   "cell_type": "code",
   "execution_count": 45,
   "metadata": {
    "collapsed": true
   },
   "outputs": [],
   "source": [
    "import pandas as pd\n",
    "import numpy as np\n",
    "%matplotlib inline\n",
    "import seaborn as sns\n",
    "import matplotlib.pyplot as plt\n",
    "import os\n",
    "from sklearn.preprocessing import LabelEncoder\n",
    "from scipy.sparse import csr_matrix, hstack\n",
    "import pickle"
   ]
  },
  {
   "cell_type": "code",
   "execution_count": 46,
   "metadata": {
    "collapsed": true
   },
   "outputs": [],
   "source": [
    "dir_out = 'data'\n",
    "datadir = 'data_ori'"
   ]
  },
  {
   "cell_type": "code",
   "execution_count": 47,
   "metadata": {
    "collapsed": false
   },
   "outputs": [],
   "source": [
    "gatrain = pd.read_csv(os.path.join(datadir,'gender_age_train.csv'),\n",
    "                      index_col='device_id')\n",
    "gatest = pd.read_csv(os.path.join(datadir,'gender_age_test.csv'),\n",
    "                      index_col = 'device_id')\n",
    "phone = pd.read_csv(os.path.join(datadir,'phone_brand_device_model.csv'))\n",
    "# Get rid of duplicate device ids in phone\n",
    "phone = phone.drop_duplicates('device_id',keep='first').set_index('device_id')\n"
   ]
  },
  {
   "cell_type": "code",
   "execution_count": 48,
   "metadata": {
    "collapsed": true
   },
   "outputs": [],
   "source": [
    "gatrain['trainrow'] = np.arange(gatrain.shape[0])\n",
    "gatest['testrow'] = np.arange(gatest.shape[0])"
   ]
  },
  {
   "cell_type": "markdown",
   "metadata": {},
   "source": [
    "### Create other features"
   ]
  },
  {
   "cell_type": "code",
   "execution_count": 49,
   "metadata": {
    "collapsed": false
   },
   "outputs": [],
   "source": [
    "phone['brand_chin'] = phone['phone_brand'].str.contains('[aeiouAEIOU]').astype(int)\n",
    "phone['model_chin'] = phone['device_model'].str.contains('[aeiouAEIOU]').astype(int)\n",
    "phone['brand_len'] = phone['phone_brand'].str.len()\n",
    "phone['model_len'] = phone['device_model'].str.len()\n",
    "phone['n_models'] = phone.groupby('phone_brand').device_model.transform(lambda x: len(x.unique()))\n",
    "phone['device_model'] = phone['phone_brand'].str.cat(phone['device_model'])"
   ]
  },
  {
   "cell_type": "code",
   "execution_count": 50,
   "metadata": {
    "collapsed": false
   },
   "outputs": [
    {
     "data": {
      "text/html": [
       "<div>\n",
       "<table border=\"1\" class=\"dataframe\">\n",
       "  <thead>\n",
       "    <tr style=\"text-align: right;\">\n",
       "      <th></th>\n",
       "      <th>phone_brand</th>\n",
       "      <th>device_model</th>\n",
       "      <th>brand_chin</th>\n",
       "      <th>model_chin</th>\n",
       "      <th>brand_len</th>\n",
       "      <th>model_len</th>\n",
       "      <th>n_models</th>\n",
       "    </tr>\n",
       "    <tr>\n",
       "      <th>device_id</th>\n",
       "      <th></th>\n",
       "      <th></th>\n",
       "      <th></th>\n",
       "      <th></th>\n",
       "      <th></th>\n",
       "      <th></th>\n",
       "      <th></th>\n",
       "    </tr>\n",
       "  </thead>\n",
       "  <tbody>\n",
       "    <tr>\n",
       "      <th>-370477508657702127</th>\n",
       "      <td>小米</td>\n",
       "      <td>小米红米note</td>\n",
       "      <td>0</td>\n",
       "      <td>1</td>\n",
       "      <td>6</td>\n",
       "      <td>10</td>\n",
       "      <td>26</td>\n",
       "    </tr>\n",
       "    <tr>\n",
       "      <th>6096322417496446933</th>\n",
       "      <td>魅族</td>\n",
       "      <td>魅族魅蓝</td>\n",
       "      <td>0</td>\n",
       "      <td>0</td>\n",
       "      <td>6</td>\n",
       "      <td>6</td>\n",
       "      <td>16</td>\n",
       "    </tr>\n",
       "    <tr>\n",
       "      <th>-1436822817945074815</th>\n",
       "      <td>三星</td>\n",
       "      <td>三星Galaxy Note 3</td>\n",
       "      <td>0</td>\n",
       "      <td>1</td>\n",
       "      <td>6</td>\n",
       "      <td>13</td>\n",
       "      <td>163</td>\n",
       "    </tr>\n",
       "    <tr>\n",
       "      <th>1615991472913744774</th>\n",
       "      <td>小米</td>\n",
       "      <td>小米note顶配版</td>\n",
       "      <td>0</td>\n",
       "      <td>1</td>\n",
       "      <td>6</td>\n",
       "      <td>13</td>\n",
       "      <td>26</td>\n",
       "    </tr>\n",
       "    <tr>\n",
       "      <th>-6716828533125982881</th>\n",
       "      <td>小米</td>\n",
       "      <td>小米红米2</td>\n",
       "      <td>0</td>\n",
       "      <td>0</td>\n",
       "      <td>6</td>\n",
       "      <td>7</td>\n",
       "      <td>26</td>\n",
       "    </tr>\n",
       "    <tr>\n",
       "      <th>6119945468610441272</th>\n",
       "      <td>三星</td>\n",
       "      <td>三星Galaxy Note 4</td>\n",
       "      <td>0</td>\n",
       "      <td>1</td>\n",
       "      <td>6</td>\n",
       "      <td>13</td>\n",
       "      <td>163</td>\n",
       "    </tr>\n",
       "    <tr>\n",
       "      <th>802852493392259819</th>\n",
       "      <td>小米</td>\n",
       "      <td>小米红米Note3</td>\n",
       "      <td>0</td>\n",
       "      <td>1</td>\n",
       "      <td>6</td>\n",
       "      <td>11</td>\n",
       "      <td>26</td>\n",
       "    </tr>\n",
       "    <tr>\n",
       "      <th>-2750604217898316048</th>\n",
       "      <td>小米</td>\n",
       "      <td>小米红米note</td>\n",
       "      <td>0</td>\n",
       "      <td>1</td>\n",
       "      <td>6</td>\n",
       "      <td>10</td>\n",
       "      <td>26</td>\n",
       "    </tr>\n",
       "    <tr>\n",
       "      <th>-8241430867221535017</th>\n",
       "      <td>三星</td>\n",
       "      <td>三星Galaxy Grand 2</td>\n",
       "      <td>0</td>\n",
       "      <td>1</td>\n",
       "      <td>6</td>\n",
       "      <td>14</td>\n",
       "      <td>163</td>\n",
       "    </tr>\n",
       "    <tr>\n",
       "      <th>-2525148510460889665</th>\n",
       "      <td>小米</td>\n",
       "      <td>小米小米4C</td>\n",
       "      <td>0</td>\n",
       "      <td>0</td>\n",
       "      <td>6</td>\n",
       "      <td>8</td>\n",
       "      <td>26</td>\n",
       "    </tr>\n",
       "  </tbody>\n",
       "</table>\n",
       "</div>"
      ],
      "text/plain": [
       "                     phone_brand      device_model  brand_chin  model_chin  \\\n",
       "device_id                                                                    \n",
       "-370477508657702127           小米          小米红米note           0           1   \n",
       " 6096322417496446933          魅族              魅族魅蓝           0           0   \n",
       "-1436822817945074815          三星   三星Galaxy Note 3           0           1   \n",
       " 1615991472913744774          小米         小米note顶配版           0           1   \n",
       "-6716828533125982881          小米             小米红米2           0           0   \n",
       " 6119945468610441272          三星   三星Galaxy Note 4           0           1   \n",
       " 802852493392259819           小米         小米红米Note3           0           1   \n",
       "-2750604217898316048          小米          小米红米note           0           1   \n",
       "-8241430867221535017          三星  三星Galaxy Grand 2           0           1   \n",
       "-2525148510460889665          小米            小米小米4C           0           0   \n",
       "\n",
       "                      brand_len  model_len n_models  \n",
       "device_id                                            \n",
       "-370477508657702127           6         10       26  \n",
       " 6096322417496446933          6          6       16  \n",
       "-1436822817945074815          6         13      163  \n",
       " 1615991472913744774          6         13       26  \n",
       "-6716828533125982881          6          7       26  \n",
       " 6119945468610441272          6         13      163  \n",
       " 802852493392259819           6         11       26  \n",
       "-2750604217898316048          6         10       26  \n",
       "-8241430867221535017          6         14      163  \n",
       "-2525148510460889665          6          8       26  "
      ]
     },
     "execution_count": 50,
     "metadata": {},
     "output_type": "execute_result"
    }
   ],
   "source": [
    "phone.sample(10)"
   ]
  },
  {
   "cell_type": "markdown",
   "metadata": {},
   "source": [
    "### Brand features"
   ]
  },
  {
   "cell_type": "code",
   "execution_count": 51,
   "metadata": {
    "collapsed": false
   },
   "outputs": [
    {
     "name": "stdout",
     "output_type": "stream",
     "text": [
      "Brand features: train shape (74645, 131), test shape (112071, 131)\n"
     ]
    }
   ],
   "source": [
    "brandencoder = LabelEncoder().fit(phone.phone_brand)\n",
    "phone['brand'] = brandencoder.transform(phone['phone_brand'])\n",
    "gatrain['brand'] = phone['brand']\n",
    "gatest['brand'] = phone['brand']\n",
    "Xtr_brand = csr_matrix((np.ones(gatrain.shape[0]), \n",
    "                       (gatrain.trainrow, gatrain.brand)))\n",
    "Xte_brand = csr_matrix((np.ones(gatest.shape[0]), \n",
    "                       (gatest.testrow, gatest.brand)))\n",
    "print('Brand features: train shape {}, test shape {}'.format(Xtr_brand.shape, Xte_brand.shape))\n",
    "\n"
   ]
  },
  {
   "cell_type": "code",
   "execution_count": 52,
   "metadata": {
    "collapsed": true
   },
   "outputs": [],
   "source": [
    "feature_file = 'features_brand_bag'\n",
    "# Save features\n",
    "with open(os.path.join(dir_out, feature_file + '_train.pickle'), 'wb') as f:\n",
    "    pickle.dump(Xtr_brand, f, pickle.HIGHEST_PROTOCOL)\n",
    "with open(os.path.join(dir_out, feature_file + '_test.pickle'), 'wb') as f:\n",
    "    pickle.dump(Xte_brand, f, pickle.HIGHEST_PROTOCOL)"
   ]
  },
  {
   "cell_type": "markdown",
   "metadata": {},
   "source": [
    "### Model features"
   ]
  },
  {
   "cell_type": "code",
   "execution_count": 53,
   "metadata": {
    "collapsed": false
   },
   "outputs": [
    {
     "name": "stdout",
     "output_type": "stream",
     "text": [
      "Model features: train shape (74645, 1667), test shape (112071, 1667)\n"
     ]
    }
   ],
   "source": [
    "m = phone.phone_brand.str.cat(phone.device_model)\n",
    "modelencoder = LabelEncoder().fit(m)\n",
    "phone['model'] = modelencoder.transform(m)\n",
    "gatrain['model'] = phone['model']\n",
    "gatest['model'] = phone['model']\n",
    "Xtr_model = csr_matrix((np.ones(gatrain.shape[0]), \n",
    "                       (gatrain.trainrow, gatrain.model)))\n",
    "Xte_model = csr_matrix((np.ones(gatest.shape[0]), \n",
    "                       (gatest.testrow, gatest.model)))\n",
    "print('Model features: train shape {}, test shape {}'.format(Xtr_model.shape, Xte_model.shape))"
   ]
  },
  {
   "cell_type": "code",
   "execution_count": 54,
   "metadata": {
    "collapsed": true
   },
   "outputs": [],
   "source": [
    "# Save features\n",
    "feature_file = 'features_brand_model_bag'\n",
    "with open(os.path.join(dir_out, feature_file + '_train.pickle'), 'wb') as f:\n",
    "    pickle.dump(Xtr_model, f, pickle.HIGHEST_PROTOCOL)\n",
    "with open(os.path.join(dir_out, feature_file + '_test.pickle'), 'wb') as f:\n",
    "    pickle.dump(Xte_model, f, pickle.HIGHEST_PROTOCOL)"
   ]
  },
  {
   "cell_type": "markdown",
   "metadata": {
    "collapsed": true
   },
   "source": [
    "### Other features"
   ]
  },
  {
   "cell_type": "code",
   "execution_count": 55,
   "metadata": {
    "collapsed": true
   },
   "outputs": [],
   "source": [
    "feature_file = 'features_brand_model.csv'\n"
   ]
  },
  {
   "cell_type": "code",
   "execution_count": 56,
   "metadata": {
    "collapsed": false
   },
   "outputs": [],
   "source": [
    "cols_to_save=['brand_chin', 'model_chin', 'brand_len','model_len', 'n_models']"
   ]
  },
  {
   "cell_type": "code",
   "execution_count": 57,
   "metadata": {
    "collapsed": false
   },
   "outputs": [],
   "source": [
    "phone[cols_to_save].to_csv(os.path.join(dir_out, feature_file))"
   ]
  },
  {
   "cell_type": "code",
   "execution_count": 58,
   "metadata": {
    "collapsed": false
   },
   "outputs": [
    {
     "name": "stdout",
     "output_type": "stream",
     "text": [
      "(186716, 9)\n"
     ]
    },
    {
     "data": {
      "text/html": [
       "<div>\n",
       "<table border=\"1\" class=\"dataframe\">\n",
       "  <thead>\n",
       "    <tr style=\"text-align: right;\">\n",
       "      <th></th>\n",
       "      <th>phone_brand</th>\n",
       "      <th>device_model</th>\n",
       "      <th>brand_chin</th>\n",
       "      <th>model_chin</th>\n",
       "      <th>brand_len</th>\n",
       "      <th>model_len</th>\n",
       "      <th>n_models</th>\n",
       "      <th>brand</th>\n",
       "      <th>model</th>\n",
       "    </tr>\n",
       "    <tr>\n",
       "      <th>device_id</th>\n",
       "      <th></th>\n",
       "      <th></th>\n",
       "      <th></th>\n",
       "      <th></th>\n",
       "      <th></th>\n",
       "      <th></th>\n",
       "      <th></th>\n",
       "      <th></th>\n",
       "      <th></th>\n",
       "    </tr>\n",
       "  </thead>\n",
       "  <tbody>\n",
       "    <tr>\n",
       "      <th>2476086426996130628</th>\n",
       "      <td>金立</td>\n",
       "      <td>金立ELIFE S5.5</td>\n",
       "      <td>0</td>\n",
       "      <td>1</td>\n",
       "      <td>6</td>\n",
       "      <td>10</td>\n",
       "      <td>67</td>\n",
       "      <td>120</td>\n",
       "      <td>1569</td>\n",
       "    </tr>\n",
       "    <tr>\n",
       "      <th>-3548132448947435317</th>\n",
       "      <td>vivo</td>\n",
       "      <td>vivoY11</td>\n",
       "      <td>1</td>\n",
       "      <td>0</td>\n",
       "      <td>4</td>\n",
       "      <td>3</td>\n",
       "      <td>80</td>\n",
       "      <td>13</td>\n",
       "      <td>246</td>\n",
       "    </tr>\n",
       "    <tr>\n",
       "      <th>871841151337988246</th>\n",
       "      <td>酷派</td>\n",
       "      <td>酷派大神F2</td>\n",
       "      <td>0</td>\n",
       "      <td>0</td>\n",
       "      <td>6</td>\n",
       "      <td>8</td>\n",
       "      <td>140</td>\n",
       "      <td>117</td>\n",
       "      <td>1539</td>\n",
       "    </tr>\n",
       "    <tr>\n",
       "      <th>7413417160031599109</th>\n",
       "      <td>三星</td>\n",
       "      <td>三星Galaxy Grand Neo Plus</td>\n",
       "      <td>0</td>\n",
       "      <td>1</td>\n",
       "      <td>6</td>\n",
       "      <td>21</td>\n",
       "      <td>163</td>\n",
       "      <td>15</td>\n",
       "      <td>328</td>\n",
       "    </tr>\n",
       "    <tr>\n",
       "      <th>-900599243167204267</th>\n",
       "      <td>OPPO</td>\n",
       "      <td>OPPOFind 5</td>\n",
       "      <td>1</td>\n",
       "      <td>1</td>\n",
       "      <td>4</td>\n",
       "      <td>6</td>\n",
       "      <td>65</td>\n",
       "      <td>7</td>\n",
       "      <td>114</td>\n",
       "    </tr>\n",
       "    <tr>\n",
       "      <th>387670369109834769</th>\n",
       "      <td>酷派</td>\n",
       "      <td>酷派8720</td>\n",
       "      <td>0</td>\n",
       "      <td>0</td>\n",
       "      <td>6</td>\n",
       "      <td>4</td>\n",
       "      <td>140</td>\n",
       "      <td>117</td>\n",
       "      <td>1508</td>\n",
       "    </tr>\n",
       "    <tr>\n",
       "      <th>777480779757651131</th>\n",
       "      <td>华为</td>\n",
       "      <td>华为荣耀畅玩4X</td>\n",
       "      <td>0</td>\n",
       "      <td>0</td>\n",
       "      <td>6</td>\n",
       "      <td>14</td>\n",
       "      <td>145</td>\n",
       "      <td>31</td>\n",
       "      <td>747</td>\n",
       "    </tr>\n",
       "    <tr>\n",
       "      <th>5978065598806915282</th>\n",
       "      <td>HTC</td>\n",
       "      <td>HTCSensation Z710E</td>\n",
       "      <td>0</td>\n",
       "      <td>1</td>\n",
       "      <td>3</td>\n",
       "      <td>15</td>\n",
       "      <td>66</td>\n",
       "      <td>2</td>\n",
       "      <td>54</td>\n",
       "    </tr>\n",
       "    <tr>\n",
       "      <th>-2525045180639317667</th>\n",
       "      <td>三星</td>\n",
       "      <td>三星Galaxy S5</td>\n",
       "      <td>0</td>\n",
       "      <td>1</td>\n",
       "      <td>6</td>\n",
       "      <td>9</td>\n",
       "      <td>163</td>\n",
       "      <td>15</td>\n",
       "      <td>375</td>\n",
       "    </tr>\n",
       "    <tr>\n",
       "      <th>-8984091664228344644</th>\n",
       "      <td>爱派尔</td>\n",
       "      <td>爱派尔iPh-800</td>\n",
       "      <td>0</td>\n",
       "      <td>1</td>\n",
       "      <td>9</td>\n",
       "      <td>7</td>\n",
       "      <td>2</td>\n",
       "      <td>84</td>\n",
       "      <td>1058</td>\n",
       "    </tr>\n",
       "  </tbody>\n",
       "</table>\n",
       "</div>"
      ],
      "text/plain": [
       "                     phone_brand             device_model  brand_chin  \\\n",
       "device_id                                                               \n",
       " 2476086426996130628          金立             金立ELIFE S5.5           0   \n",
       "-3548132448947435317        vivo                  vivoY11           1   \n",
       " 871841151337988246           酷派                   酷派大神F2           0   \n",
       " 7413417160031599109          三星  三星Galaxy Grand Neo Plus           0   \n",
       "-900599243167204267         OPPO               OPPOFind 5           1   \n",
       " 387670369109834769           酷派                   酷派8720           0   \n",
       " 777480779757651131           华为                 华为荣耀畅玩4X           0   \n",
       " 5978065598806915282         HTC       HTCSensation Z710E           0   \n",
       "-2525045180639317667          三星              三星Galaxy S5           0   \n",
       "-8984091664228344644         爱派尔               爱派尔iPh-800           0   \n",
       "\n",
       "                      model_chin  brand_len  model_len n_models  brand  model  \n",
       "device_id                                                                      \n",
       " 2476086426996130628           1          6         10       67    120   1569  \n",
       "-3548132448947435317           0          4          3       80     13    246  \n",
       " 871841151337988246            0          6          8      140    117   1539  \n",
       " 7413417160031599109           1          6         21      163     15    328  \n",
       "-900599243167204267            1          4          6       65      7    114  \n",
       " 387670369109834769            0          6          4      140    117   1508  \n",
       " 777480779757651131            0          6         14      145     31    747  \n",
       " 5978065598806915282           1          3         15       66      2     54  \n",
       "-2525045180639317667           1          6          9      163     15    375  \n",
       "-8984091664228344644           1          9          7        2     84   1058  "
      ]
     },
     "execution_count": 58,
     "metadata": {},
     "output_type": "execute_result"
    }
   ],
   "source": [
    "print phone.shape\n",
    "phone.sample(10)"
   ]
  },
  {
   "cell_type": "code",
   "execution_count": null,
   "metadata": {
    "collapsed": true
   },
   "outputs": [],
   "source": []
  }
 ],
 "metadata": {
  "kernelspec": {
   "display_name": "Python 2",
   "language": "python",
   "name": "python2"
  },
  "language_info": {
   "codemirror_mode": {
    "name": "ipython",
    "version": 2
   },
   "file_extension": ".py",
   "mimetype": "text/x-python",
   "name": "python",
   "nbconvert_exporter": "python",
   "pygments_lexer": "ipython2",
   "version": "2.7.11"
  }
 },
 "nbformat": 4,
 "nbformat_minor": 0
}
