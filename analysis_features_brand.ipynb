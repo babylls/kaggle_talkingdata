{
 "cells": [
  {
   "cell_type": "markdown",
   "metadata": {},
   "source": [
    "# Create features based on brand and device model info\n",
    "\n",
    "Three feature sets are created:\n",
    "- 'features_brand_bag': sparse one-hot encoded brand name\n",
    "- 'features_brand_model_bag': sparse one-hot encoded device model (concatenated with brand model)\n",
    "- 'features_brand_model.csv': couple of features derived from brand name and device model"
   ]
  },
  {
   "cell_type": "code",
   "execution_count": 4,
   "metadata": {
    "collapsed": true
   },
   "outputs": [],
   "source": [
    "import pandas as pd\n",
    "import numpy as np\n",
    "%matplotlib inline\n",
    "import seaborn as sns\n",
    "import matplotlib.pyplot as plt\n",
    "import os\n",
    "from sklearn.preprocessing import LabelEncoder\n",
    "from scipy.sparse import csr_matrix, hstack\n",
    "import pickle"
   ]
  },
  {
   "cell_type": "code",
   "execution_count": 5,
   "metadata": {
    "collapsed": true
   },
   "outputs": [],
   "source": [
    "dir_out = 'data'\n",
    "datadir = 'data_ori'"
   ]
  },
  {
   "cell_type": "markdown",
   "metadata": {},
   "source": [
    "### Load data"
   ]
  },
  {
   "cell_type": "code",
   "execution_count": 6,
   "metadata": {
    "collapsed": false
   },
   "outputs": [],
   "source": [
    "gatrain = pd.read_csv(os.path.join(datadir,'gender_age_train.csv'),\n",
    "                      index_col='device_id')\n",
    "gatest = pd.read_csv(os.path.join(datadir,'gender_age_test.csv'),\n",
    "                      index_col = 'device_id')\n",
    "phone = pd.read_csv(os.path.join(datadir,'phone_brand_device_model.csv'))\n",
    "\n",
    "# Get rid of duplicate device ids in phone\n",
    "phone = phone.drop_duplicates('device_id',keep='first').set_index('device_id')\n"
   ]
  },
  {
   "cell_type": "code",
   "execution_count": 7,
   "metadata": {
    "collapsed": true
   },
   "outputs": [],
   "source": [
    "gatrain['trainrow'] = np.arange(gatrain.shape[0])\n",
    "gatest['testrow'] = np.arange(gatest.shape[0])"
   ]
  },
  {
   "cell_type": "markdown",
   "metadata": {},
   "source": [
    "### Create other features\n",
    "They are strongly correlated to brand and device model and might provide helpful interaction with brand and device model"
   ]
  },
  {
   "cell_type": "code",
   "execution_count": 8,
   "metadata": {
    "collapsed": false
   },
   "outputs": [],
   "source": [
    "phone['brand_chin'] = phone['phone_brand'].str.contains('[aeiouAEIOU]').astype(int)\n",
    "phone['model_chin'] = phone['device_model'].str.contains('[aeiouAEIOU]').astype(int)\n",
    "phone['brand_len'] = phone['phone_brand'].str.len()\n",
    "phone['model_len'] = phone['device_model'].str.len()\n",
    "phone['n_models'] = phone.groupby('phone_brand').device_model.transform(lambda x: len(x.unique()))\n",
    "phone['device_model'] = phone['phone_brand'].str.cat(phone['device_model'])"
   ]
  },
  {
   "cell_type": "code",
   "execution_count": 9,
   "metadata": {
    "collapsed": false
   },
   "outputs": [
    {
     "data": {
      "text/html": [
       "<div>\n",
       "<table border=\"1\" class=\"dataframe\">\n",
       "  <thead>\n",
       "    <tr style=\"text-align: right;\">\n",
       "      <th></th>\n",
       "      <th>phone_brand</th>\n",
       "      <th>device_model</th>\n",
       "      <th>brand_chin</th>\n",
       "      <th>model_chin</th>\n",
       "      <th>brand_len</th>\n",
       "      <th>model_len</th>\n",
       "      <th>n_models</th>\n",
       "    </tr>\n",
       "    <tr>\n",
       "      <th>device_id</th>\n",
       "      <th></th>\n",
       "      <th></th>\n",
       "      <th></th>\n",
       "      <th></th>\n",
       "      <th></th>\n",
       "      <th></th>\n",
       "      <th></th>\n",
       "    </tr>\n",
       "  </thead>\n",
       "  <tbody>\n",
       "    <tr>\n",
       "      <th>123706494565281080</th>\n",
       "      <td>金立</td>\n",
       "      <td>金立ELIFE S5.5</td>\n",
       "      <td>0</td>\n",
       "      <td>1</td>\n",
       "      <td>6</td>\n",
       "      <td>10</td>\n",
       "      <td>67</td>\n",
       "    </tr>\n",
       "    <tr>\n",
       "      <th>-8745178761610459618</th>\n",
       "      <td>华为</td>\n",
       "      <td>华为G610T</td>\n",
       "      <td>0</td>\n",
       "      <td>0</td>\n",
       "      <td>6</td>\n",
       "      <td>5</td>\n",
       "      <td>145</td>\n",
       "    </tr>\n",
       "    <tr>\n",
       "      <th>7093706758594001619</th>\n",
       "      <td>小米</td>\n",
       "      <td>小米红米</td>\n",
       "      <td>0</td>\n",
       "      <td>0</td>\n",
       "      <td>6</td>\n",
       "      <td>6</td>\n",
       "      <td>26</td>\n",
       "    </tr>\n",
       "    <tr>\n",
       "      <th>2574225068233010304</th>\n",
       "      <td>酷派</td>\n",
       "      <td>酷派8720L</td>\n",
       "      <td>0</td>\n",
       "      <td>0</td>\n",
       "      <td>6</td>\n",
       "      <td>5</td>\n",
       "      <td>140</td>\n",
       "    </tr>\n",
       "    <tr>\n",
       "      <th>-2351899753430517708</th>\n",
       "      <td>金立</td>\n",
       "      <td>金立F103</td>\n",
       "      <td>0</td>\n",
       "      <td>0</td>\n",
       "      <td>6</td>\n",
       "      <td>4</td>\n",
       "      <td>67</td>\n",
       "    </tr>\n",
       "    <tr>\n",
       "      <th>-7867917699664686614</th>\n",
       "      <td>小米</td>\n",
       "      <td>小米MI 4</td>\n",
       "      <td>0</td>\n",
       "      <td>1</td>\n",
       "      <td>6</td>\n",
       "      <td>4</td>\n",
       "      <td>26</td>\n",
       "    </tr>\n",
       "    <tr>\n",
       "      <th>-6012878024505159932</th>\n",
       "      <td>魅族</td>\n",
       "      <td>魅族魅蓝2</td>\n",
       "      <td>0</td>\n",
       "      <td>0</td>\n",
       "      <td>6</td>\n",
       "      <td>7</td>\n",
       "      <td>16</td>\n",
       "    </tr>\n",
       "    <tr>\n",
       "      <th>-5723359257508971431</th>\n",
       "      <td>华为</td>\n",
       "      <td>华为Mate 8</td>\n",
       "      <td>0</td>\n",
       "      <td>1</td>\n",
       "      <td>6</td>\n",
       "      <td>6</td>\n",
       "      <td>145</td>\n",
       "    </tr>\n",
       "    <tr>\n",
       "      <th>6766525840603262578</th>\n",
       "      <td>小米</td>\n",
       "      <td>小米MI 4</td>\n",
       "      <td>0</td>\n",
       "      <td>1</td>\n",
       "      <td>6</td>\n",
       "      <td>4</td>\n",
       "      <td>26</td>\n",
       "    </tr>\n",
       "    <tr>\n",
       "      <th>9183749737193386211</th>\n",
       "      <td>魅族</td>\n",
       "      <td>魅族MX4</td>\n",
       "      <td>0</td>\n",
       "      <td>0</td>\n",
       "      <td>6</td>\n",
       "      <td>3</td>\n",
       "      <td>16</td>\n",
       "    </tr>\n",
       "  </tbody>\n",
       "</table>\n",
       "</div>"
      ],
      "text/plain": [
       "                     phone_brand  device_model  brand_chin  model_chin  \\\n",
       "device_id                                                                \n",
       " 123706494565281080           金立  金立ELIFE S5.5           0           1   \n",
       "-8745178761610459618          华为       华为G610T           0           0   \n",
       " 7093706758594001619          小米          小米红米           0           0   \n",
       " 2574225068233010304          酷派       酷派8720L           0           0   \n",
       "-2351899753430517708          金立        金立F103           0           0   \n",
       "-7867917699664686614          小米        小米MI 4           0           1   \n",
       "-6012878024505159932          魅族         魅族魅蓝2           0           0   \n",
       "-5723359257508971431          华为      华为Mate 8           0           1   \n",
       " 6766525840603262578          小米        小米MI 4           0           1   \n",
       " 9183749737193386211          魅族         魅族MX4           0           0   \n",
       "\n",
       "                      brand_len  model_len n_models  \n",
       "device_id                                            \n",
       " 123706494565281080           6         10       67  \n",
       "-8745178761610459618          6          5      145  \n",
       " 7093706758594001619          6          6       26  \n",
       " 2574225068233010304          6          5      140  \n",
       "-2351899753430517708          6          4       67  \n",
       "-7867917699664686614          6          4       26  \n",
       "-6012878024505159932          6          7       16  \n",
       "-5723359257508971431          6          6      145  \n",
       " 6766525840603262578          6          4       26  \n",
       " 9183749737193386211          6          3       16  "
      ]
     },
     "execution_count": 9,
     "metadata": {},
     "output_type": "execute_result"
    }
   ],
   "source": [
    "phone.sample(10)"
   ]
  },
  {
   "cell_type": "markdown",
   "metadata": {},
   "source": [
    "### Brand features"
   ]
  },
  {
   "cell_type": "code",
   "execution_count": 10,
   "metadata": {
    "collapsed": false
   },
   "outputs": [
    {
     "name": "stdout",
     "output_type": "stream",
     "text": [
      "Brand features: train shape (74645, 131), test shape (112071, 131)\n"
     ]
    }
   ],
   "source": [
    "brandencoder = LabelEncoder().fit(phone.phone_brand)\n",
    "phone['brand'] = brandencoder.transform(phone['phone_brand'])\n",
    "gatrain['brand'] = phone['brand']\n",
    "gatest['brand'] = phone['brand']\n",
    "Xtr_brand = csr_matrix((np.ones(gatrain.shape[0]), \n",
    "                       (gatrain.trainrow, gatrain.brand)))\n",
    "Xte_brand = csr_matrix((np.ones(gatest.shape[0]), \n",
    "                       (gatest.testrow, gatest.brand)))\n",
    "print('Brand features: train shape {}, test shape {}'.format(Xtr_brand.shape, Xte_brand.shape))\n",
    "\n"
   ]
  },
  {
   "cell_type": "code",
   "execution_count": 11,
   "metadata": {
    "collapsed": true
   },
   "outputs": [],
   "source": [
    "feature_file = 'features_brand_bag'\n",
    "# Save features\n",
    "with open(os.path.join(dir_out, feature_file + '_train.pickle'), 'wb') as f:\n",
    "    pickle.dump(Xtr_brand, f, pickle.HIGHEST_PROTOCOL)\n",
    "with open(os.path.join(dir_out, feature_file + '_test.pickle'), 'wb') as f:\n",
    "    pickle.dump(Xte_brand, f, pickle.HIGHEST_PROTOCOL)"
   ]
  },
  {
   "cell_type": "markdown",
   "metadata": {},
   "source": [
    "### Model features"
   ]
  },
  {
   "cell_type": "code",
   "execution_count": 12,
   "metadata": {
    "collapsed": false
   },
   "outputs": [
    {
     "name": "stdout",
     "output_type": "stream",
     "text": [
      "Model features: train shape (74645, 1667), test shape (112071, 1667)\n"
     ]
    }
   ],
   "source": [
    "m = phone.phone_brand.str.cat(phone.device_model)\n",
    "modelencoder = LabelEncoder().fit(m)\n",
    "phone['model'] = modelencoder.transform(m)\n",
    "gatrain['model'] = phone['model']\n",
    "gatest['model'] = phone['model']\n",
    "Xtr_model = csr_matrix((np.ones(gatrain.shape[0]), \n",
    "                       (gatrain.trainrow, gatrain.model)))\n",
    "Xte_model = csr_matrix((np.ones(gatest.shape[0]), \n",
    "                       (gatest.testrow, gatest.model)))\n",
    "print('Model features: train shape {}, test shape {}'.format(Xtr_model.shape, Xte_model.shape))"
   ]
  },
  {
   "cell_type": "code",
   "execution_count": 13,
   "metadata": {
    "collapsed": true
   },
   "outputs": [],
   "source": [
    "# Save features\n",
    "feature_file = 'features_brand_model_bag'\n",
    "with open(os.path.join(dir_out, feature_file + '_train.pickle'), 'wb') as f:\n",
    "    pickle.dump(Xtr_model, f, pickle.HIGHEST_PROTOCOL)\n",
    "with open(os.path.join(dir_out, feature_file + '_test.pickle'), 'wb') as f:\n",
    "    pickle.dump(Xte_model, f, pickle.HIGHEST_PROTOCOL)"
   ]
  },
  {
   "cell_type": "markdown",
   "metadata": {
    "collapsed": true
   },
   "source": [
    "### Store other features"
   ]
  },
  {
   "cell_type": "code",
   "execution_count": 14,
   "metadata": {
    "collapsed": true
   },
   "outputs": [],
   "source": [
    "feature_file = 'features_brand_model.csv'\n",
    "\n",
    "cols_to_save=['brand_chin', 'model_chin', 'brand_len','model_len', 'n_models']"
   ]
  },
  {
   "cell_type": "code",
   "execution_count": 15,
   "metadata": {
    "collapsed": false
   },
   "outputs": [],
   "source": [
    "phone[cols_to_save].to_csv(os.path.join(dir_out, feature_file))"
   ]
  },
  {
   "cell_type": "code",
   "execution_count": 16,
   "metadata": {
    "collapsed": false
   },
   "outputs": [
    {
     "name": "stdout",
     "output_type": "stream",
     "text": [
      "(186716, 9)\n"
     ]
    },
    {
     "data": {
      "text/html": [
       "<div>\n",
       "<table border=\"1\" class=\"dataframe\">\n",
       "  <thead>\n",
       "    <tr style=\"text-align: right;\">\n",
       "      <th></th>\n",
       "      <th>phone_brand</th>\n",
       "      <th>device_model</th>\n",
       "      <th>brand_chin</th>\n",
       "      <th>model_chin</th>\n",
       "      <th>brand_len</th>\n",
       "      <th>model_len</th>\n",
       "      <th>n_models</th>\n",
       "      <th>brand</th>\n",
       "      <th>model</th>\n",
       "    </tr>\n",
       "    <tr>\n",
       "      <th>device_id</th>\n",
       "      <th></th>\n",
       "      <th></th>\n",
       "      <th></th>\n",
       "      <th></th>\n",
       "      <th></th>\n",
       "      <th></th>\n",
       "      <th></th>\n",
       "      <th></th>\n",
       "      <th></th>\n",
       "    </tr>\n",
       "  </thead>\n",
       "  <tbody>\n",
       "    <tr>\n",
       "      <th>-9162689783589954482</th>\n",
       "      <td>小米</td>\n",
       "      <td>小米红米1S</td>\n",
       "      <td>0</td>\n",
       "      <td>0</td>\n",
       "      <td>6</td>\n",
       "      <td>8</td>\n",
       "      <td>26</td>\n",
       "      <td>51</td>\n",
       "      <td>859</td>\n",
       "    </tr>\n",
       "    <tr>\n",
       "      <th>6241952244791867823</th>\n",
       "      <td>三星</td>\n",
       "      <td>三星Galaxy Note 3</td>\n",
       "      <td>0</td>\n",
       "      <td>1</td>\n",
       "      <td>6</td>\n",
       "      <td>13</td>\n",
       "      <td>163</td>\n",
       "      <td>15</td>\n",
       "      <td>348</td>\n",
       "    </tr>\n",
       "    <tr>\n",
       "      <th>4541896421140852398</th>\n",
       "      <td>三星</td>\n",
       "      <td>三星Galaxy S3</td>\n",
       "      <td>0</td>\n",
       "      <td>1</td>\n",
       "      <td>6</td>\n",
       "      <td>9</td>\n",
       "      <td>163</td>\n",
       "      <td>15</td>\n",
       "      <td>368</td>\n",
       "    </tr>\n",
       "    <tr>\n",
       "      <th>2480272536253170047</th>\n",
       "      <td>三星</td>\n",
       "      <td>三星Galaxy Win</td>\n",
       "      <td>0</td>\n",
       "      <td>1</td>\n",
       "      <td>6</td>\n",
       "      <td>10</td>\n",
       "      <td>163</td>\n",
       "      <td>15</td>\n",
       "      <td>413</td>\n",
       "    </tr>\n",
       "    <tr>\n",
       "      <th>-6136453491684066396</th>\n",
       "      <td>华为</td>\n",
       "      <td>华为Mate 7</td>\n",
       "      <td>0</td>\n",
       "      <td>1</td>\n",
       "      <td>6</td>\n",
       "      <td>6</td>\n",
       "      <td>145</td>\n",
       "      <td>31</td>\n",
       "      <td>673</td>\n",
       "    </tr>\n",
       "    <tr>\n",
       "      <th>5378161127565812372</th>\n",
       "      <td>华为</td>\n",
       "      <td>华为荣耀4A</td>\n",
       "      <td>0</td>\n",
       "      <td>1</td>\n",
       "      <td>6</td>\n",
       "      <td>8</td>\n",
       "      <td>145</td>\n",
       "      <td>31</td>\n",
       "      <td>734</td>\n",
       "    </tr>\n",
       "    <tr>\n",
       "      <th>-8168114287797005561</th>\n",
       "      <td>三星</td>\n",
       "      <td>三星Galaxy S3</td>\n",
       "      <td>0</td>\n",
       "      <td>1</td>\n",
       "      <td>6</td>\n",
       "      <td>9</td>\n",
       "      <td>163</td>\n",
       "      <td>15</td>\n",
       "      <td>368</td>\n",
       "    </tr>\n",
       "    <tr>\n",
       "      <th>-7182550678499820874</th>\n",
       "      <td>酷派</td>\n",
       "      <td>酷派8720L</td>\n",
       "      <td>0</td>\n",
       "      <td>0</td>\n",
       "      <td>6</td>\n",
       "      <td>5</td>\n",
       "      <td>140</td>\n",
       "      <td>117</td>\n",
       "      <td>1509</td>\n",
       "    </tr>\n",
       "    <tr>\n",
       "      <th>8526518178083328519</th>\n",
       "      <td>魅族</td>\n",
       "      <td>魅族魅蓝NOTE</td>\n",
       "      <td>0</td>\n",
       "      <td>1</td>\n",
       "      <td>6</td>\n",
       "      <td>10</td>\n",
       "      <td>16</td>\n",
       "      <td>128</td>\n",
       "      <td>1659</td>\n",
       "    </tr>\n",
       "    <tr>\n",
       "      <th>-1202163322098889967</th>\n",
       "      <td>小米</td>\n",
       "      <td>小米MI 4</td>\n",
       "      <td>0</td>\n",
       "      <td>1</td>\n",
       "      <td>6</td>\n",
       "      <td>4</td>\n",
       "      <td>26</td>\n",
       "      <td>51</td>\n",
       "      <td>848</td>\n",
       "    </tr>\n",
       "  </tbody>\n",
       "</table>\n",
       "</div>"
      ],
      "text/plain": [
       "                     phone_brand     device_model  brand_chin  model_chin  \\\n",
       "device_id                                                                   \n",
       "-9162689783589954482          小米           小米红米1S           0           0   \n",
       " 6241952244791867823          三星  三星Galaxy Note 3           0           1   \n",
       " 4541896421140852398          三星      三星Galaxy S3           0           1   \n",
       " 2480272536253170047          三星     三星Galaxy Win           0           1   \n",
       "-6136453491684066396          华为         华为Mate 7           0           1   \n",
       " 5378161127565812372          华为           华为荣耀4A           0           1   \n",
       "-8168114287797005561          三星      三星Galaxy S3           0           1   \n",
       "-7182550678499820874          酷派          酷派8720L           0           0   \n",
       " 8526518178083328519          魅族         魅族魅蓝NOTE           0           1   \n",
       "-1202163322098889967          小米           小米MI 4           0           1   \n",
       "\n",
       "                      brand_len  model_len n_models  brand  model  \n",
       "device_id                                                          \n",
       "-9162689783589954482          6          8       26     51    859  \n",
       " 6241952244791867823          6         13      163     15    348  \n",
       " 4541896421140852398          6          9      163     15    368  \n",
       " 2480272536253170047          6         10      163     15    413  \n",
       "-6136453491684066396          6          6      145     31    673  \n",
       " 5378161127565812372          6          8      145     31    734  \n",
       "-8168114287797005561          6          9      163     15    368  \n",
       "-7182550678499820874          6          5      140    117   1509  \n",
       " 8526518178083328519          6         10       16    128   1659  \n",
       "-1202163322098889967          6          4       26     51    848  "
      ]
     },
     "execution_count": 16,
     "metadata": {},
     "output_type": "execute_result"
    }
   ],
   "source": [
    "print phone.shape\n",
    "phone.sample(10)"
   ]
  }
 ],
 "metadata": {
  "kernelspec": {
   "display_name": "Python 2",
   "language": "python",
   "name": "python2"
  },
  "language_info": {
   "codemirror_mode": {
    "name": "ipython",
    "version": 2
   },
   "file_extension": ".py",
   "mimetype": "text/x-python",
   "name": "python",
   "nbconvert_exporter": "python",
   "pygments_lexer": "ipython2",
   "version": "2.7.11"
  }
 },
 "nbformat": 4,
 "nbformat_minor": 0
}
