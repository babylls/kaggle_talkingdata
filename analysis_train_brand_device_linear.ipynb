{
 "cells": [
  {
   "cell_type": "code",
   "execution_count": 27,
   "metadata": {
    "collapsed": false
   },
   "outputs": [],
   "source": [
    "import random\n",
    "import os\n",
    "import pickle\n",
    "\n",
    "import pandas as pd\n",
    "import numpy as np\n",
    "import matplotlib.pyplot as plt\n",
    "import seaborn as sns\n",
    "\n",
    "from scipy.sparse import csr_matrix, hstack\n",
    "\n",
    "from sklearn.preprocessing import LabelEncoder\n",
    "from sklearn.metrics import log_loss\n",
    "from sklearn.cross_validation import StratifiedKFold\n",
    "from sklearn.linear_model import LogisticRegression\n",
    "from sklearn.linear_model import SGDClassifier\n",
    "from sklearn.grid_search import GridSearchCV\n",
    "from sklearn.preprocessing import StandardScaler\n",
    "\n",
    "%matplotlib inline\n"
   ]
  },
  {
   "cell_type": "markdown",
   "metadata": {},
   "source": [
    "### Goal of work sheet\n",
    "- Optimize linear models for training on brand / device\n",
    "- V1: Select best data for model (onehotencoded both, separate, or just one)\n",
    "    - Brands onehot, device label: 2.40215702862 (five seeds: 2.4017680305744418)\n",
    "    - Seperate onehot encoded:  2.39089229204 (five seeds: 2.3901993860642716)\n",
    "    - Combined onehot encoded: 2.39583615824 (five seeds: 2.3952347531028977)\n",
    "- V2: Used couple of creative features based on brand and device model, also included brand when encoded device\n",
    "    - Without scaler: 2.39122949113 (five seeds:)\n",
    "    - With scaler:"
   ]
  },
  {
   "cell_type": "code",
   "execution_count": 28,
   "metadata": {
    "collapsed": true
   },
   "outputs": [],
   "source": [
    "data_dir = './data_ori/'\n",
    "feat_dir = './data/'"
   ]
  },
  {
   "cell_type": "code",
   "execution_count": 43,
   "metadata": {
    "collapsed": false
   },
   "outputs": [],
   "source": [
    "def open_feature_file(fname, samples='train'):\n",
    "    if fname[-3:] == 'csv':\n",
    "        if samples=='train':\n",
    "            X = gatrain[['device_id']].merge( pd.read_csv(os.path.join(feat_dir, fname)), on='device_id', how='left')\n",
    "        else:\n",
    "            X = gatest[['device_id']].merge( pd.read_csv(os.path.join(feat_dir, fname)), on='device_id', how='left')\n",
    "            \n",
    "        X.drop('device_id', axis=1, inplace=True)\n",
    "        X.fillna(0, inplace=True)\n",
    "        \n",
    "        for c in X.columns:\n",
    "            if X[c].max()>1:\n",
    "                X[c] = StandardScaler().fit_transform(X)\n",
    "            \n",
    "        #print X.shape\n",
    "        return csr_matrix(X.values)\n",
    "    else:\n",
    "        # Assume it is a pickle file\n",
    "        with open(os.path.join(feat_dir, '{}_{}.pickle'.format(fname,samples)), 'rb') as f:\n",
    "            return pickle.load(f)\n",
    "            \n",
    "feature_files = ['features_brand_bag',\n",
    "                 'features_brand_model_bag',\n",
    "                 'features_brand_model.csv']"
   ]
  },
  {
   "cell_type": "markdown",
   "metadata": {},
   "source": [
    "### Loading and preparing data"
   ]
  },
  {
   "cell_type": "code",
   "execution_count": 44,
   "metadata": {
    "collapsed": false
   },
   "outputs": [],
   "source": [
    "gatrain = pd.read_csv('./data_ori/gender_age_train.csv')\n",
    "gatest = pd.read_csv('./data_ori/gender_age_test.csv')\n",
    "#train = pd.merge(gatrain, brand, on='device_id', how='inner')"
   ]
  },
  {
   "cell_type": "code",
   "execution_count": 45,
   "metadata": {
    "collapsed": false
   },
   "outputs": [],
   "source": [
    "#print train.shape\n",
    "#train.head()"
   ]
  },
  {
   "cell_type": "code",
   "execution_count": 46,
   "metadata": {
    "collapsed": false
   },
   "outputs": [],
   "source": [
    "Xtrain = hstack([open_feature_file(f) for f in feature_files], format='csr')\n",
    "Xtest = hstack([open_feature_file(f,'test') for f in feature_files], format='csr')\n",
    "y = gatrain['group']"
   ]
  },
  {
   "cell_type": "code",
   "execution_count": 48,
   "metadata": {
    "collapsed": false
   },
   "outputs": [
    {
     "name": "stdout",
     "output_type": "stream",
     "text": [
      " X (74645, 1803)\n",
      "y (74645,)\n"
     ]
    }
   ],
   "source": [
    "print 'X', Xtrain.shape\n",
    "print 'y', y.shape\n",
    "#X.head()"
   ]
  },
  {
   "cell_type": "code",
   "execution_count": 49,
   "metadata": {
    "collapsed": true
   },
   "outputs": [],
   "source": [
    "letarget = LabelEncoder().fit(y)\n",
    "y = letarget.transform(y)\n",
    "n_classes = len(letarget.classes_)"
   ]
  },
  {
   "cell_type": "markdown",
   "metadata": {
    "collapsed": true
   },
   "source": [
    "## Linear regresion"
   ]
  },
  {
   "cell_type": "code",
   "execution_count": 52,
   "metadata": {
    "collapsed": false
   },
   "outputs": [
    {
     "name": "stdout",
     "output_type": "stream",
     "text": [
      "Fitting 10 folds for each of 4 candidates, totalling 40 fits\n",
      "[CV] penalty=l2, C=0.05 ..............................................\n",
      "[CV] penalty=l2, C=0.05 ..............................................\n",
      "[CV] penalty=l2, C=0.05 ..............................................\n",
      "[CV] .................... penalty=l2, C=0.05, score=-2.392085 -  18.4s\n",
      "[CV] penalty=l2, C=0.05 ..............................................\n",
      "[CV] .................... penalty=l2, C=0.05, score=-2.394972 -  18.6s\n",
      "[CV] .................... penalty=l2, C=0.05, score=-2.393203 -  19.0s\n"
     ]
    },
    {
     "name": "stderr",
     "output_type": "stream",
     "text": [
      "[Parallel(n_jobs=3)]: Done   2 tasks      | elapsed:   19.0s\n"
     ]
    },
    {
     "name": "stdout",
     "output_type": "stream",
     "text": [
      "[CV] penalty=l2, C=0.05 ..............................................\n",
      "[CV] penalty=l2, C=0.05 ..............................................\n",
      "[CV] .................... penalty=l2, C=0.05, score=-2.389851 -  18.7s\n",
      "[CV] penalty=l2, C=0.05 ..............................................\n",
      "[CV] .................... penalty=l2, C=0.05, score=-2.389458 -  18.6s\n",
      "[CV] penalty=l2, C=0.05 ..............................................\n",
      "[CV] .................... penalty=l2, C=0.05, score=-2.394062 -  19.1s\n",
      "[CV] penalty=l2, C=0.05 ..............................................\n",
      "[CV] .................... penalty=l2, C=0.05, score=-2.393676 -  18.3s\n",
      "[CV] penalty=l2, C=0.05 ..............................................\n"
     ]
    },
    {
     "name": "stderr",
     "output_type": "stream",
     "text": [
      "[Parallel(n_jobs=3)]: Done   7 tasks      | elapsed:   56.0s\n"
     ]
    },
    {
     "name": "stdout",
     "output_type": "stream",
     "text": [
      "[CV] .................... penalty=l2, C=0.05, score=-2.392188 -  19.0s\n",
      "[CV] penalty=l2, C=0.1 ...............................................\n",
      "[CV] .................... penalty=l2, C=0.05, score=-2.396310 -  18.9s\n",
      "[CV] penalty=l2, C=0.1 ...............................................\n",
      "[CV] .................... penalty=l2, C=0.05, score=-2.390236 -  19.5s\n",
      "[CV] penalty=l2, C=0.1 ...............................................\n",
      "[CV] ..................... penalty=l2, C=0.1, score=-2.390634 -  21.8s\n",
      "[CV] penalty=l2, C=0.1 ...............................................\n",
      "[CV] ..................... penalty=l2, C=0.1, score=-2.391585 -  23.0s\n"
     ]
    },
    {
     "name": "stderr",
     "output_type": "stream",
     "text": [
      "[Parallel(n_jobs=3)]: Done  12 tasks      | elapsed:  1.3min\n"
     ]
    },
    {
     "name": "stdout",
     "output_type": "stream",
     "text": [
      "[CV] penalty=l2, C=0.1 ...............................................\n",
      "[CV] ..................... penalty=l2, C=0.1, score=-2.393050 -  22.2s\n",
      "[CV] penalty=l2, C=0.1 ...............................................\n",
      "[CV] ..................... penalty=l2, C=0.1, score=-2.388310 -  22.0s\n",
      "[CV] penalty=l2, C=0.1 ...............................................\n",
      "[CV] ..................... penalty=l2, C=0.1, score=-2.388095 -  22.4s\n",
      "[CV] penalty=l2, C=0.1 ...............................................\n",
      "[CV] ..................... penalty=l2, C=0.1, score=-2.392278 -  23.9s\n",
      "[CV] penalty=l2, C=0.1 ...............................................\n",
      "[CV] ..................... penalty=l2, C=0.1, score=-2.392762 -  24.4s\n",
      "[CV] penalty=l2, C=0.1 ...............................................\n",
      "[CV] ..................... penalty=l2, C=0.1, score=-2.390790 -  23.8s\n",
      "[CV] penalty=l2, C=0.2 ...............................................\n",
      "[CV] ..................... penalty=l2, C=0.1, score=-2.395926 -  21.3s\n",
      "[CV] penalty=l2, C=0.2 ...............................................\n"
     ]
    },
    {
     "name": "stderr",
     "output_type": "stream",
     "text": [
      "[Parallel(n_jobs=3)]: Done  19 tasks      | elapsed:  2.4min\n"
     ]
    },
    {
     "name": "stdout",
     "output_type": "stream",
     "text": [
      "[CV] ..................... penalty=l2, C=0.1, score=-2.388868 -  21.8s\n",
      "[CV] penalty=l2, C=0.2 ...............................................\n",
      "[CV] ..................... penalty=l2, C=0.2, score=-2.391834 -  25.8s\n",
      "[CV] penalty=l2, C=0.2 ...............................................\n",
      "[CV] ..................... penalty=l2, C=0.2, score=-2.391251 -  27.5s\n",
      "[CV] penalty=l2, C=0.2 ...............................................\n",
      "[CV] ..................... penalty=l2, C=0.2, score=-2.392356 -  27.5s\n",
      "[CV] penalty=l2, C=0.2 ...............................................\n",
      "[CV] ..................... penalty=l2, C=0.2, score=-2.387976 -  27.1s\n",
      "[CV] penalty=l2, C=0.2 ...............................................\n",
      "[CV] ..................... penalty=l2, C=0.2, score=-2.387883 -  27.7s\n",
      "[CV] penalty=l2, C=0.2 ...............................................\n",
      "[CV] ..................... penalty=l2, C=0.2, score=-2.391677 -  27.8s\n",
      "[CV] penalty=l2, C=0.2 ...............................................\n"
     ]
    },
    {
     "name": "stderr",
     "output_type": "stream",
     "text": [
      "[Parallel(n_jobs=3)]: Done  26 tasks      | elapsed:  3.4min\n"
     ]
    },
    {
     "name": "stdout",
     "output_type": "stream",
     "text": [
      "[CV] ..................... penalty=l2, C=0.2, score=-2.393337 -  27.0s\n",
      "[CV] penalty=l2, C=0.2 ...............................................\n",
      "[CV] ..................... penalty=l2, C=0.2, score=-2.390518 -  27.4s\n",
      "[CV] penalty=l2, C=0.3 ...............................................\n",
      "[CV] ..................... penalty=l2, C=0.2, score=-2.397333 -  26.9s\n",
      "[CV] penalty=l2, C=0.3 ...............................................\n",
      "[CV] ..................... penalty=l2, C=0.2, score=-2.388844 -  28.2s\n",
      "[CV] penalty=l2, C=0.3 ...............................................\n",
      "[CV] ..................... penalty=l2, C=0.3, score=-2.392474 -  30.4s\n",
      "[CV] penalty=l2, C=0.3 ...............................................\n",
      "[CV] ..................... penalty=l2, C=0.3, score=-2.392726 -  30.6s\n",
      "[CV] penalty=l2, C=0.3 ...............................................\n",
      "[CV] ..................... penalty=l2, C=0.3, score=-2.393019 -  29.0s\n",
      "[CV] penalty=l2, C=0.3 ...............................................\n",
      "[CV] ..................... penalty=l2, C=0.3, score=-2.388593 -  29.5s\n",
      "[CV] penalty=l2, C=0.3 ...............................................\n",
      "[CV] ..................... penalty=l2, C=0.3, score=-2.388570 -  29.2s\n"
     ]
    },
    {
     "name": "stderr",
     "output_type": "stream",
     "text": [
      "[Parallel(n_jobs=3)]: Done  35 tasks      | elapsed:  4.8min\n"
     ]
    },
    {
     "name": "stdout",
     "output_type": "stream",
     "text": [
      "[CV] penalty=l2, C=0.3 ...............................................\n",
      "[CV] ..................... penalty=l2, C=0.3, score=-2.392073 -  28.4s\n",
      "[CV] penalty=l2, C=0.3 ...............................................\n"
     ]
    },
    {
     "name": "stderr",
     "output_type": "stream",
     "text": [
      "[Parallel(n_jobs=3)]: Done  41 out of  40 | elapsed:  4.9min remaining:   -7.1s\n"
     ]
    },
    {
     "name": "stdout",
     "output_type": "stream",
     "text": [
      "[CV] ..................... penalty=l2, C=0.3, score=-2.394745 -  29.7s\n",
      "[CV] penalty=l2, C=0.3 ...............................................\n"
     ]
    },
    {
     "name": "stderr",
     "output_type": "stream",
     "text": [
      "[Parallel(n_jobs=3)]: Done  41 out of  40 | elapsed:  5.3min remaining:   -7.7s\n"
     ]
    },
    {
     "name": "stdout",
     "output_type": "stream",
     "text": [
      "[CV] ..................... penalty=l2, C=0.3, score=-2.391605 -  30.4s\n"
     ]
    },
    {
     "name": "stderr",
     "output_type": "stream",
     "text": [
      "[Parallel(n_jobs=3)]: Done  41 out of  40 | elapsed:  5.3min remaining:   -7.8s\n"
     ]
    },
    {
     "name": "stdout",
     "output_type": "stream",
     "text": [
      "[CV] ..................... penalty=l2, C=0.3, score=-2.398917 -  29.8s\n"
     ]
    },
    {
     "name": "stderr",
     "output_type": "stream",
     "text": [
      "[Parallel(n_jobs=3)]: Done  41 out of  40 | elapsed:  5.4min remaining:   -7.9s\n"
     ]
    },
    {
     "name": "stdout",
     "output_type": "stream",
     "text": [
      "[CV] ..................... penalty=l2, C=0.3, score=-2.389977 -  19.4s\n"
     ]
    },
    {
     "name": "stderr",
     "output_type": "stream",
     "text": [
      "[Parallel(n_jobs=3)]: Done  41 out of  40 | elapsed:  5.6min remaining:   -8.2s\n",
      "[Parallel(n_jobs=3)]: Done  40 out of  40 | elapsed:  5.6min finished\n"
     ]
    },
    {
     "name": "stdout",
     "output_type": "stream",
     "text": [
      "Best score:-2.39122949113 with scorer make_scorer(log_loss, greater_is_better=False, needs_proba=True)\n",
      "With parameters:\n",
      "\tC: 0.1\n",
      "\tpenalty: 'l2'\n"
     ]
    }
   ],
   "source": [
    "# Gridsearch SGD Classifier\n",
    "rs = 123\n",
    "kf = StratifiedKFold(y, n_folds=10, shuffle=True, random_state=rs)\n",
    "\n",
    "log = LogisticRegression()\n",
    "param_grid = {'C': np.linspace(0.07,0., 'penalty': ['l2']}\n",
    "clf = GridSearchCV(log, param_grid, scoring='log_loss', n_jobs=5, cv=kf, verbose=10)\n",
    "clf.fit(Xtrain, y)\n",
    "print(\"Best score:{} with scorer {}\".format(clf.best_score_, clf.scorer_))\n",
    "print \"With parameters:\"\n",
    "    \n",
    "best_parameters = clf.best_estimator_.get_params()\n",
    "for param_name in sorted(param_grid.keys()):\n",
    "    print '\\t%s: %r' % (param_name, best_parameters[param_name]) "
   ]
  },
  {
   "cell_type": "code",
   "execution_count": null,
   "metadata": {
    "collapsed": false
   },
   "outputs": [
    {
     "name": "stdout",
     "output_type": "stream",
     "text": [
      "1 / 10\n",
      "2 / 10\n",
      "3 / 10\n",
      "4 / 10\n",
      "5 / 10\n",
      "6 / 10\n",
      "7 / 10\n",
      "8 / 10\n",
      "9 / 10\n",
      "10 / 10\n",
      "2.39077973471\n",
      "1 / 10\n",
      "2 / 10\n",
      "3 / 10\n",
      "4 / 10\n",
      "5 / 10\n",
      "6 / 10\n",
      "7 / 10\n",
      "8 / 10\n",
      "9 / 10\n",
      "10 / 10\n",
      "2.39090123898\n",
      "1 / 10\n",
      "2 / 10\n",
      "3 / 10\n",
      "4 / 10\n",
      "5 / 10\n",
      "6 / 10\n",
      "7 / 10\n",
      "8 / 10\n",
      "9 / 10\n",
      "10 / 10\n",
      "2.39122949113\n",
      "1 / 10\n",
      "2 / 10\n",
      "3 / 10\n",
      "4 / 10\n",
      "5 / 10\n",
      "6 / 10\n",
      "7 / 10\n",
      "8 / 10\n",
      "9 / 10\n",
      "10 / 10\n",
      "2.39101582789\n",
      "1 / 10\n",
      "2 / 10\n",
      "3 / 10\n"
     ]
    }
   ],
   "source": [
    "scores = {}\n",
    "for s in [0, 12, 123, 1234, 12345]:\n",
    "    kf = StratifiedKFold(y, n_folds=10, shuffle=True, random_state=s)\n",
    "    pred_l = np.zeros((Xtrain.shape[0],n_classes))\n",
    "    c=1\n",
    "    for itrain, itest in kf:\n",
    "        print('%d / %d' % (c, 10))\n",
    "        ytrain, ytest = y[itrain], y[itest]\n",
    "        xg_train = Xtrain[itrain, :]\n",
    "        xg_test = Xtrain[itest, :]\n",
    "        clf = LogisticRegression(C=0.1, penalty='l2')\n",
    "        clf.fit(xg_train, ytrain)\n",
    "        pred_l[itest,:] = clf.predict_proba(xg_test)\n",
    "        c+=1\n",
    "    print log_loss(y, pred_l)\n",
    "    scores[s] = pred_l"
   ]
  },
  {
   "cell_type": "code",
   "execution_count": 66,
   "metadata": {
    "collapsed": false
   },
   "outputs": [
    {
     "data": {
      "text/plain": [
       "2.3952347531028977"
      ]
     },
     "execution_count": 66,
     "metadata": {},
     "output_type": "execute_result"
    }
   ],
   "source": [
    "log_loss(y,sum(scores.values()))"
   ]
  },
  {
   "cell_type": "code",
   "execution_count": null,
   "metadata": {
    "collapsed": true
   },
   "outputs": [],
   "source": []
  }
 ],
 "metadata": {
  "kernelspec": {
   "display_name": "Python 2",
   "language": "python",
   "name": "python2"
  },
  "language_info": {
   "codemirror_mode": {
    "name": "ipython",
    "version": 2
   },
   "file_extension": ".py",
   "mimetype": "text/x-python",
   "name": "python",
   "nbconvert_exporter": "python",
   "pygments_lexer": "ipython2",
   "version": "2.7.11"
  }
 },
 "nbformat": 4,
 "nbformat_minor": 0
}
