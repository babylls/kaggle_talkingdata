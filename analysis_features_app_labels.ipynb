{
 "cells": [
  {
   "cell_type": "code",
   "execution_count": 18,
   "metadata": {
    "collapsed": true
   },
   "outputs": [],
   "source": [
    "import pandas as pd\n",
    "import numpy as np\n",
    "%matplotlib inline\n",
    "import seaborn as sns\n",
    "import matplotlib.pyplot as plt\n",
    "import os\n",
    "from sklearn.preprocessing import LabelEncoder\n",
    "from scipy.sparse import csr_matrix, hstack\n",
    "import pickle"
   ]
  },
  {
   "cell_type": "code",
   "execution_count": 19,
   "metadata": {
    "collapsed": true
   },
   "outputs": [],
   "source": [
    "dir_in = 'data_ori'\n",
    "dir_out = 'data/'"
   ]
  },
  {
   "cell_type": "code",
   "execution_count": 20,
   "metadata": {
    "collapsed": true
   },
   "outputs": [],
   "source": [
    "datadir = 'data_ori'\n",
    "gatrain = pd.read_csv(os.path.join(dir_in,'gender_age_train.csv'),\n",
    "                      index_col='device_id')\n",
    "gatest = pd.read_csv(os.path.join(dir_in,'gender_age_test.csv'),\n",
    "                      index_col = 'device_id')\n",
    "# Get rid of duplicate device ids in phone\n",
    "events = pd.read_csv(os.path.join(dir_in,'events.csv'), index_col='event_id')\n",
    "appevents = pd.read_csv(os.path.join(dir_in,'app_events.csv'), \n",
    "                        usecols=['event_id','app_id','is_active','is_installed'],\n",
    "                        dtype={'is_active':bool})\n",
    "applabels = pd.read_csv(os.path.join(dir_in,'app_labels.csv'))"
   ]
  },
  {
   "cell_type": "code",
   "execution_count": 21,
   "metadata": {
    "collapsed": false
   },
   "outputs": [],
   "source": [
    "\n",
    "events['timestamp'] = pd.to_datetime(events['timestamp'])\n",
    "events['timestamp_h'] = events['timestamp'].dt.hour\n",
    "events['timestamp_hq'] = ((events['timestamp_h'] - 1) // 6).clip_lower(0)\n",
    "events['timestamp_d'] = events['timestamp'].dt.day\n",
    "events.loc[events['timestamp_d']==30,'timestamp_d'] = 0\n",
    "events['timestamp_hd'] = (100*(events['timestamp_h']/24 + events['timestamp_d'])).astype(int)\n",
    "events['timestamp_hqd'] = (100*(events['timestamp_hq']/4 + events['timestamp_d'])).astype(int)\n",
    "events['timestamp_during_day'] = events['timestamp_hq'].isin([1,2])\n",
    "events['timestamp_during_weekend'] = events['timestamp_d'].isin([30,1,7,8])"
   ]
  },
  {
   "cell_type": "code",
   "execution_count": 22,
   "metadata": {
    "collapsed": true
   },
   "outputs": [],
   "source": [
    "gatrain['trainrow'] = np.arange(gatrain.shape[0])\n",
    "gatest['testrow'] = np.arange(gatest.shape[0])"
   ]
  },
  {
   "cell_type": "markdown",
   "metadata": {},
   "source": [
    "## Get number of events"
   ]
  },
  {
   "cell_type": "code",
   "execution_count": 23,
   "metadata": {
    "collapsed": false
   },
   "outputs": [
    {
     "name": "stdout",
     "output_type": "stream",
     "text": [
      "(60865,)\n"
     ]
    },
    {
     "data": {
      "text/plain": [
       "device_id\n",
       "-9222956879900151005    65\n",
       "-9222661944218806987     8\n",
       "-9222399302879214035    10\n",
       "-9221825537663503111    99\n",
       "-9221767098072603291     8\n",
       "dtype: int64"
      ]
     },
     "execution_count": 23,
     "metadata": {},
     "output_type": "execute_result"
    }
   ],
   "source": [
    "n_events = events.groupby('device_id').size()\n",
    "print n_events.shape\n",
    "n_events.head(5)"
   ]
  },
  {
   "cell_type": "code",
   "execution_count": 24,
   "metadata": {
    "collapsed": false
   },
   "outputs": [],
   "source": [
    "appencoder = LabelEncoder().fit(appevents.app_id)\n",
    "appevents['app'] = appencoder.transform(appevents.app_id)\n",
    "napps = len(appencoder.classes_)\n",
    "applabels = applabels.loc[applabels.app_id.isin(appevents.app_id.unique())]\n",
    "applabels['app'] = appencoder.transform(applabels.app_id)\n",
    "labelencoder = LabelEncoder().fit(applabels.label_id)\n",
    "applabels['label'] = labelencoder.transform(applabels.label_id)\n",
    "nlabels = len(labelencoder.classes_)\n"
   ]
  },
  {
   "cell_type": "code",
   "execution_count": 25,
   "metadata": {
    "collapsed": true
   },
   "outputs": [],
   "source": [
    "appevents = appevents.merge(events[['device_id','timestamp_during_weekend','timestamp_during_day']], how='left',left_on='event_id',right_index=True)"
   ]
  },
  {
   "cell_type": "code",
   "execution_count": 26,
   "metadata": {
    "collapsed": false
   },
   "outputs": [
    {
     "data": {
      "text/html": [
       "<div>\n",
       "<table border=\"1\" class=\"dataframe\">\n",
       "  <thead>\n",
       "    <tr style=\"text-align: right;\">\n",
       "      <th></th>\n",
       "      <th>event_id</th>\n",
       "      <th>app_id</th>\n",
       "      <th>is_installed</th>\n",
       "      <th>is_active</th>\n",
       "      <th>app</th>\n",
       "      <th>device_id</th>\n",
       "      <th>timestamp_during_weekend</th>\n",
       "      <th>timestamp_during_day</th>\n",
       "    </tr>\n",
       "  </thead>\n",
       "  <tbody>\n",
       "    <tr>\n",
       "      <th>31050734</th>\n",
       "      <td>3103563</td>\n",
       "      <td>3300927415001585151</td>\n",
       "      <td>1</td>\n",
       "      <td>True</td>\n",
       "      <td>12968</td>\n",
       "      <td>-1791909839271332628</td>\n",
       "      <td>False</td>\n",
       "      <td>True</td>\n",
       "    </tr>\n",
       "    <tr>\n",
       "      <th>31458442</th>\n",
       "      <td>3143623</td>\n",
       "      <td>6489166276122938763</td>\n",
       "      <td>1</td>\n",
       "      <td>True</td>\n",
       "      <td>16142</td>\n",
       "      <td>-8893144492511709840</td>\n",
       "      <td>False</td>\n",
       "      <td>True</td>\n",
       "    </tr>\n",
       "    <tr>\n",
       "      <th>9370805</th>\n",
       "      <td>941060</td>\n",
       "      <td>-2766653348096505346</td>\n",
       "      <td>1</td>\n",
       "      <td>False</td>\n",
       "      <td>6320</td>\n",
       "      <td>-5215508516534020464</td>\n",
       "      <td>False</td>\n",
       "      <td>False</td>\n",
       "    </tr>\n",
       "    <tr>\n",
       "      <th>23158791</th>\n",
       "      <td>2317287</td>\n",
       "      <td>-5924787280098922359</td>\n",
       "      <td>1</td>\n",
       "      <td>True</td>\n",
       "      <td>3163</td>\n",
       "      <td>-7196716156557321514</td>\n",
       "      <td>False</td>\n",
       "      <td>True</td>\n",
       "    </tr>\n",
       "    <tr>\n",
       "      <th>27606408</th>\n",
       "      <td>2766629</td>\n",
       "      <td>3433289601737013244</td>\n",
       "      <td>1</td>\n",
       "      <td>True</td>\n",
       "      <td>13094</td>\n",
       "      <td>4813805637689074071</td>\n",
       "      <td>False</td>\n",
       "      <td>False</td>\n",
       "    </tr>\n",
       "    <tr>\n",
       "      <th>22760406</th>\n",
       "      <td>2280173</td>\n",
       "      <td>7034929179771260790</td>\n",
       "      <td>1</td>\n",
       "      <td>False</td>\n",
       "      <td>16778</td>\n",
       "      <td>-4483235488687461351</td>\n",
       "      <td>False</td>\n",
       "      <td>False</td>\n",
       "    </tr>\n",
       "    <tr>\n",
       "      <th>7995007</th>\n",
       "      <td>803742</td>\n",
       "      <td>6666573790395438502</td>\n",
       "      <td>1</td>\n",
       "      <td>False</td>\n",
       "      <td>16360</td>\n",
       "      <td>-6059695611888480748</td>\n",
       "      <td>False</td>\n",
       "      <td>False</td>\n",
       "    </tr>\n",
       "    <tr>\n",
       "      <th>15231841</th>\n",
       "      <td>1522260</td>\n",
       "      <td>2761480706282992376</td>\n",
       "      <td>1</td>\n",
       "      <td>True</td>\n",
       "      <td>12487</td>\n",
       "      <td>-8741653364202949668</td>\n",
       "      <td>False</td>\n",
       "      <td>False</td>\n",
       "    </tr>\n",
       "    <tr>\n",
       "      <th>3993093</th>\n",
       "      <td>401238</td>\n",
       "      <td>-6008771162903226529</td>\n",
       "      <td>1</td>\n",
       "      <td>False</td>\n",
       "      <td>3079</td>\n",
       "      <td>3792988047488383506</td>\n",
       "      <td>False</td>\n",
       "      <td>False</td>\n",
       "    </tr>\n",
       "    <tr>\n",
       "      <th>4684344</th>\n",
       "      <td>469558</td>\n",
       "      <td>3683147815759994238</td>\n",
       "      <td>1</td>\n",
       "      <td>False</td>\n",
       "      <td>13325</td>\n",
       "      <td>-1430923301939426783</td>\n",
       "      <td>False</td>\n",
       "      <td>True</td>\n",
       "    </tr>\n",
       "  </tbody>\n",
       "</table>\n",
       "</div>"
      ],
      "text/plain": [
       "          event_id               app_id  is_installed is_active    app  \\\n",
       "31050734   3103563  3300927415001585151             1      True  12968   \n",
       "31458442   3143623  6489166276122938763             1      True  16142   \n",
       "9370805     941060 -2766653348096505346             1     False   6320   \n",
       "23158791   2317287 -5924787280098922359             1      True   3163   \n",
       "27606408   2766629  3433289601737013244             1      True  13094   \n",
       "22760406   2280173  7034929179771260790             1     False  16778   \n",
       "7995007     803742  6666573790395438502             1     False  16360   \n",
       "15231841   1522260  2761480706282992376             1      True  12487   \n",
       "3993093     401238 -6008771162903226529             1     False   3079   \n",
       "4684344     469558  3683147815759994238             1     False  13325   \n",
       "\n",
       "                    device_id timestamp_during_weekend timestamp_during_day  \n",
       "31050734 -1791909839271332628                    False                 True  \n",
       "31458442 -8893144492511709840                    False                 True  \n",
       "9370805  -5215508516534020464                    False                False  \n",
       "23158791 -7196716156557321514                    False                 True  \n",
       "27606408  4813805637689074071                    False                False  \n",
       "22760406 -4483235488687461351                    False                False  \n",
       "7995007  -6059695611888480748                    False                False  \n",
       "15231841 -8741653364202949668                    False                False  \n",
       "3993093   3792988047488383506                    False                False  \n",
       "4684344  -1430923301939426783                    False                 True  "
      ]
     },
     "execution_count": 26,
     "metadata": {},
     "output_type": "execute_result"
    }
   ],
   "source": [
    "appevents.sample(10)"
   ]
  },
  {
   "cell_type": "markdown",
   "metadata": {},
   "source": [
    "## App_label anytime dataframe"
   ]
  },
  {
   "cell_type": "code",
   "execution_count": 27,
   "metadata": {
    "collapsed": false
   },
   "outputs": [
    {
     "name": "stdout",
     "output_type": "stream",
     "text": [
      "(2369025, 6)\n"
     ]
    },
    {
     "data": {
      "text/html": [
       "<div>\n",
       "<table border=\"1\" class=\"dataframe\">\n",
       "  <thead>\n",
       "    <tr style=\"text-align: right;\">\n",
       "      <th></th>\n",
       "      <th>device_id</th>\n",
       "      <th>app</th>\n",
       "      <th>is_installed</th>\n",
       "      <th>is_active</th>\n",
       "      <th>trainrow</th>\n",
       "      <th>testrow</th>\n",
       "    </tr>\n",
       "  </thead>\n",
       "  <tbody>\n",
       "    <tr>\n",
       "      <th>0</th>\n",
       "      <td>-9222956879900151005</td>\n",
       "      <td>548</td>\n",
       "      <td>18</td>\n",
       "      <td>4.0</td>\n",
       "      <td>21594.0</td>\n",
       "      <td>NaN</td>\n",
       "    </tr>\n",
       "    <tr>\n",
       "      <th>1</th>\n",
       "      <td>-9222956879900151005</td>\n",
       "      <td>1096</td>\n",
       "      <td>18</td>\n",
       "      <td>0.0</td>\n",
       "      <td>21594.0</td>\n",
       "      <td>NaN</td>\n",
       "    </tr>\n",
       "    <tr>\n",
       "      <th>2</th>\n",
       "      <td>-9222956879900151005</td>\n",
       "      <td>1248</td>\n",
       "      <td>26</td>\n",
       "      <td>15.0</td>\n",
       "      <td>21594.0</td>\n",
       "      <td>NaN</td>\n",
       "    </tr>\n",
       "    <tr>\n",
       "      <th>3</th>\n",
       "      <td>-9222956879900151005</td>\n",
       "      <td>1545</td>\n",
       "      <td>12</td>\n",
       "      <td>2.0</td>\n",
       "      <td>21594.0</td>\n",
       "      <td>NaN</td>\n",
       "    </tr>\n",
       "    <tr>\n",
       "      <th>4</th>\n",
       "      <td>-9222956879900151005</td>\n",
       "      <td>1664</td>\n",
       "      <td>18</td>\n",
       "      <td>0.0</td>\n",
       "      <td>21594.0</td>\n",
       "      <td>NaN</td>\n",
       "    </tr>\n",
       "  </tbody>\n",
       "</table>\n",
       "</div>"
      ],
      "text/plain": [
       "             device_id   app  is_installed  is_active  trainrow  testrow\n",
       "0 -9222956879900151005   548            18        4.0   21594.0      NaN\n",
       "1 -9222956879900151005  1096            18        0.0   21594.0      NaN\n",
       "2 -9222956879900151005  1248            26       15.0   21594.0      NaN\n",
       "3 -9222956879900151005  1545            12        2.0   21594.0      NaN\n",
       "4 -9222956879900151005  1664            18        0.0   21594.0      NaN"
      ]
     },
     "execution_count": 27,
     "metadata": {},
     "output_type": "execute_result"
    }
   ],
   "source": [
    "deviceapps = (appevents.groupby(['device_id','app'])['is_installed','is_active'].sum()\n",
    "                       .merge(gatrain[['trainrow']], how='left', left_index=True, right_index=True)\n",
    "                       .merge(gatest[['testrow']], how='left', left_index=True, right_index=True)\n",
    "                       .reset_index())\n",
    "print(deviceapps.shape)\n",
    "deviceapps.head()"
   ]
  },
  {
   "cell_type": "code",
   "execution_count": 39,
   "metadata": {
    "collapsed": false
   },
   "outputs": [
    {
     "name": "stdout",
     "output_type": "stream",
     "text": [
      "(4244113, 6)\n"
     ]
    },
    {
     "data": {
      "text/html": [
       "<div>\n",
       "<table border=\"1\" class=\"dataframe\">\n",
       "  <thead>\n",
       "    <tr style=\"text-align: right;\">\n",
       "      <th></th>\n",
       "      <th>device_id</th>\n",
       "      <th>label</th>\n",
       "      <th>is_installed</th>\n",
       "      <th>is_active</th>\n",
       "      <th>trainrow</th>\n",
       "      <th>testrow</th>\n",
       "    </tr>\n",
       "  </thead>\n",
       "  <tbody>\n",
       "    <tr>\n",
       "      <th>0</th>\n",
       "      <td>-9222956879900151005</td>\n",
       "      <td>117</td>\n",
       "      <td>16</td>\n",
       "      <td>16.0</td>\n",
       "      <td>21594.0</td>\n",
       "      <td>NaN</td>\n",
       "    </tr>\n",
       "    <tr>\n",
       "      <th>1</th>\n",
       "      <td>-9222956879900151005</td>\n",
       "      <td>120</td>\n",
       "      <td>17</td>\n",
       "      <td>17.0</td>\n",
       "      <td>21594.0</td>\n",
       "      <td>NaN</td>\n",
       "    </tr>\n",
       "    <tr>\n",
       "      <th>2</th>\n",
       "      <td>-9222956879900151005</td>\n",
       "      <td>126</td>\n",
       "      <td>33</td>\n",
       "      <td>31.0</td>\n",
       "      <td>21594.0</td>\n",
       "      <td>NaN</td>\n",
       "    </tr>\n",
       "    <tr>\n",
       "      <th>3</th>\n",
       "      <td>-9222956879900151005</td>\n",
       "      <td>138</td>\n",
       "      <td>59</td>\n",
       "      <td>51.0</td>\n",
       "      <td>21594.0</td>\n",
       "      <td>NaN</td>\n",
       "    </tr>\n",
       "    <tr>\n",
       "      <th>4</th>\n",
       "      <td>-9222956879900151005</td>\n",
       "      <td>147</td>\n",
       "      <td>37</td>\n",
       "      <td>34.0</td>\n",
       "      <td>21594.0</td>\n",
       "      <td>NaN</td>\n",
       "    </tr>\n",
       "  </tbody>\n",
       "</table>\n",
       "</div>"
      ],
      "text/plain": [
       "             device_id  label  is_installed  is_active  trainrow  testrow\n",
       "0 -9222956879900151005    117            16       16.0   21594.0      NaN\n",
       "1 -9222956879900151005    120            17       17.0   21594.0      NaN\n",
       "2 -9222956879900151005    126            33       31.0   21594.0      NaN\n",
       "3 -9222956879900151005    138            59       51.0   21594.0      NaN\n",
       "4 -9222956879900151005    147            37       34.0   21594.0      NaN"
      ]
     },
     "execution_count": 39,
     "metadata": {},
     "output_type": "execute_result"
    }
   ],
   "source": [
    "devicelabels = (deviceapps[['device_id','app','is_installed','is_active']]\n",
    "                .merge(applabels[['app','label']])\n",
    "                .groupby(['device_id','label'])['is_installed','is_active'].sum()\n",
    "                .merge(gatrain[['trainrow']], how='left', left_index=True, right_index=True)\n",
    "                .merge(gatest[['testrow']], how='left', left_index=True, right_index=True)\n",
    "                .reset_index())\n",
    "print(devicelabels.shape)\n",
    "devicelabels.head()"
   ]
  },
  {
   "cell_type": "markdown",
   "metadata": {},
   "source": [
    "## App_label week dataframe"
   ]
  },
  {
   "cell_type": "code",
   "execution_count": 40,
   "metadata": {
    "collapsed": false
   },
   "outputs": [],
   "source": [
    "appevents_week = appevents.copy()\n",
    "appevents_week.loc[appevents_week.timestamp_during_weekend==True, ['is_installed', 'is_active']]=0\n"
   ]
  },
  {
   "cell_type": "code",
   "execution_count": 41,
   "metadata": {
    "collapsed": false
   },
   "outputs": [
    {
     "data": {
      "text/html": [
       "<div>\n",
       "<table border=\"1\" class=\"dataframe\">\n",
       "  <thead>\n",
       "    <tr style=\"text-align: right;\">\n",
       "      <th></th>\n",
       "      <th>event_id</th>\n",
       "      <th>app_id</th>\n",
       "      <th>is_installed</th>\n",
       "      <th>is_active</th>\n",
       "      <th>app</th>\n",
       "      <th>device_id</th>\n",
       "      <th>timestamp_during_weekend</th>\n",
       "      <th>timestamp_during_day</th>\n",
       "    </tr>\n",
       "  </thead>\n",
       "  <tbody>\n",
       "    <tr>\n",
       "      <th>30707619</th>\n",
       "      <td>3070919</td>\n",
       "      <td>6666573792468194779</td>\n",
       "      <td>0</td>\n",
       "      <td>False</td>\n",
       "      <td>16378</td>\n",
       "      <td>-1819279698299020233</td>\n",
       "      <td>True</td>\n",
       "      <td>True</td>\n",
       "    </tr>\n",
       "    <tr>\n",
       "      <th>4734920</th>\n",
       "      <td>475773</td>\n",
       "      <td>3879845647105392250</td>\n",
       "      <td>1</td>\n",
       "      <td>False</td>\n",
       "      <td>13502</td>\n",
       "      <td>7549700249834724229</td>\n",
       "      <td>False</td>\n",
       "      <td>False</td>\n",
       "    </tr>\n",
       "    <tr>\n",
       "      <th>16167119</th>\n",
       "      <td>1618957</td>\n",
       "      <td>-5617926790284095062</td>\n",
       "      <td>1</td>\n",
       "      <td>False</td>\n",
       "      <td>3478</td>\n",
       "      <td>-911096199051486977</td>\n",
       "      <td>False</td>\n",
       "      <td>False</td>\n",
       "    </tr>\n",
       "    <tr>\n",
       "      <th>26274020</th>\n",
       "      <td>2631760</td>\n",
       "      <td>-196592189248911642</td>\n",
       "      <td>1</td>\n",
       "      <td>False</td>\n",
       "      <td>9454</td>\n",
       "      <td>5872729599536773570</td>\n",
       "      <td>False</td>\n",
       "      <td>False</td>\n",
       "    </tr>\n",
       "    <tr>\n",
       "      <th>8696186</th>\n",
       "      <td>870027</td>\n",
       "      <td>6666573788609354393</td>\n",
       "      <td>1</td>\n",
       "      <td>False</td>\n",
       "      <td>16327</td>\n",
       "      <td>-4395718767198095317</td>\n",
       "      <td>False</td>\n",
       "      <td>True</td>\n",
       "    </tr>\n",
       "    <tr>\n",
       "      <th>31630756</th>\n",
       "      <td>3163352</td>\n",
       "      <td>-1633938282180439957</td>\n",
       "      <td>1</td>\n",
       "      <td>True</td>\n",
       "      <td>7519</td>\n",
       "      <td>-2488711984835721560</td>\n",
       "      <td>False</td>\n",
       "      <td>True</td>\n",
       "    </tr>\n",
       "    <tr>\n",
       "      <th>2152419</th>\n",
       "      <td>216155</td>\n",
       "      <td>-3938663771964020509</td>\n",
       "      <td>1</td>\n",
       "      <td>True</td>\n",
       "      <td>5259</td>\n",
       "      <td>-8224953330746523978</td>\n",
       "      <td>False</td>\n",
       "      <td>False</td>\n",
       "    </tr>\n",
       "    <tr>\n",
       "      <th>19444929</th>\n",
       "      <td>1947456</td>\n",
       "      <td>8948670408023620661</td>\n",
       "      <td>1</td>\n",
       "      <td>True</td>\n",
       "      <td>18924</td>\n",
       "      <td>-839850009592711757</td>\n",
       "      <td>False</td>\n",
       "      <td>False</td>\n",
       "    </tr>\n",
       "    <tr>\n",
       "      <th>22175718</th>\n",
       "      <td>2222981</td>\n",
       "      <td>1183530713303335378</td>\n",
       "      <td>1</td>\n",
       "      <td>False</td>\n",
       "      <td>10962</td>\n",
       "      <td>1936735806494236513</td>\n",
       "      <td>False</td>\n",
       "      <td>False</td>\n",
       "    </tr>\n",
       "    <tr>\n",
       "      <th>19785159</th>\n",
       "      <td>1980841</td>\n",
       "      <td>7317602140724054002</td>\n",
       "      <td>1</td>\n",
       "      <td>False</td>\n",
       "      <td>17229</td>\n",
       "      <td>-7500839935858713046</td>\n",
       "      <td>False</td>\n",
       "      <td>False</td>\n",
       "    </tr>\n",
       "  </tbody>\n",
       "</table>\n",
       "</div>"
      ],
      "text/plain": [
       "          event_id               app_id  is_installed is_active    app  \\\n",
       "30707619   3070919  6666573792468194779             0     False  16378   \n",
       "4734920     475773  3879845647105392250             1     False  13502   \n",
       "16167119   1618957 -5617926790284095062             1     False   3478   \n",
       "26274020   2631760  -196592189248911642             1     False   9454   \n",
       "8696186     870027  6666573788609354393             1     False  16327   \n",
       "31630756   3163352 -1633938282180439957             1      True   7519   \n",
       "2152419     216155 -3938663771964020509             1      True   5259   \n",
       "19444929   1947456  8948670408023620661             1      True  18924   \n",
       "22175718   2222981  1183530713303335378             1     False  10962   \n",
       "19785159   1980841  7317602140724054002             1     False  17229   \n",
       "\n",
       "                    device_id timestamp_during_weekend timestamp_during_day  \n",
       "30707619 -1819279698299020233                     True                 True  \n",
       "4734920   7549700249834724229                    False                False  \n",
       "16167119  -911096199051486977                    False                False  \n",
       "26274020  5872729599536773570                    False                False  \n",
       "8696186  -4395718767198095317                    False                 True  \n",
       "31630756 -2488711984835721560                    False                 True  \n",
       "2152419  -8224953330746523978                    False                False  \n",
       "19444929  -839850009592711757                    False                False  \n",
       "22175718  1936735806494236513                    False                False  \n",
       "19785159 -7500839935858713046                    False                False  "
      ]
     },
     "execution_count": 41,
     "metadata": {},
     "output_type": "execute_result"
    }
   ],
   "source": [
    "appevents_week.sample(10)"
   ]
  },
  {
   "cell_type": "code",
   "execution_count": 42,
   "metadata": {
    "collapsed": false
   },
   "outputs": [
    {
     "data": {
      "text/html": [
       "<div>\n",
       "<table border=\"1\" class=\"dataframe\">\n",
       "  <thead>\n",
       "    <tr style=\"text-align: right;\">\n",
       "      <th></th>\n",
       "      <th>device_id</th>\n",
       "      <th>app</th>\n",
       "      <th>is_installed</th>\n",
       "      <th>is_active</th>\n",
       "      <th>trainrow</th>\n",
       "      <th>testrow</th>\n",
       "    </tr>\n",
       "  </thead>\n",
       "  <tbody>\n",
       "    <tr>\n",
       "      <th>0</th>\n",
       "      <td>-9222956879900151005</td>\n",
       "      <td>548</td>\n",
       "      <td>8</td>\n",
       "      <td>0.0</td>\n",
       "      <td>21594.0</td>\n",
       "      <td>NaN</td>\n",
       "    </tr>\n",
       "    <tr>\n",
       "      <th>1</th>\n",
       "      <td>-9222956879900151005</td>\n",
       "      <td>1096</td>\n",
       "      <td>8</td>\n",
       "      <td>0.0</td>\n",
       "      <td>21594.0</td>\n",
       "      <td>NaN</td>\n",
       "    </tr>\n",
       "    <tr>\n",
       "      <th>2</th>\n",
       "      <td>-9222956879900151005</td>\n",
       "      <td>1248</td>\n",
       "      <td>12</td>\n",
       "      <td>8.0</td>\n",
       "      <td>21594.0</td>\n",
       "      <td>NaN</td>\n",
       "    </tr>\n",
       "    <tr>\n",
       "      <th>3</th>\n",
       "      <td>-9222956879900151005</td>\n",
       "      <td>1545</td>\n",
       "      <td>2</td>\n",
       "      <td>2.0</td>\n",
       "      <td>21594.0</td>\n",
       "      <td>NaN</td>\n",
       "    </tr>\n",
       "    <tr>\n",
       "      <th>4</th>\n",
       "      <td>-9222956879900151005</td>\n",
       "      <td>1664</td>\n",
       "      <td>8</td>\n",
       "      <td>0.0</td>\n",
       "      <td>21594.0</td>\n",
       "      <td>NaN</td>\n",
       "    </tr>\n",
       "    <tr>\n",
       "      <th>5</th>\n",
       "      <td>-9222956879900151005</td>\n",
       "      <td>1848</td>\n",
       "      <td>13</td>\n",
       "      <td>13.0</td>\n",
       "      <td>21594.0</td>\n",
       "      <td>NaN</td>\n",
       "    </tr>\n",
       "    <tr>\n",
       "      <th>6</th>\n",
       "      <td>-9222956879900151005</td>\n",
       "      <td>2236</td>\n",
       "      <td>13</td>\n",
       "      <td>9.0</td>\n",
       "      <td>21594.0</td>\n",
       "      <td>NaN</td>\n",
       "    </tr>\n",
       "    <tr>\n",
       "      <th>7</th>\n",
       "      <td>-9222956879900151005</td>\n",
       "      <td>2350</td>\n",
       "      <td>11</td>\n",
       "      <td>11.0</td>\n",
       "      <td>21594.0</td>\n",
       "      <td>NaN</td>\n",
       "    </tr>\n",
       "    <tr>\n",
       "      <th>8</th>\n",
       "      <td>-9222956879900151005</td>\n",
       "      <td>2626</td>\n",
       "      <td>10</td>\n",
       "      <td>10.0</td>\n",
       "      <td>21594.0</td>\n",
       "      <td>NaN</td>\n",
       "    </tr>\n",
       "    <tr>\n",
       "      <th>9</th>\n",
       "      <td>-9222956879900151005</td>\n",
       "      <td>3384</td>\n",
       "      <td>11</td>\n",
       "      <td>11.0</td>\n",
       "      <td>21594.0</td>\n",
       "      <td>NaN</td>\n",
       "    </tr>\n",
       "  </tbody>\n",
       "</table>\n",
       "</div>"
      ],
      "text/plain": [
       "             device_id   app  is_installed  is_active  trainrow  testrow\n",
       "0 -9222956879900151005   548             8        0.0   21594.0      NaN\n",
       "1 -9222956879900151005  1096             8        0.0   21594.0      NaN\n",
       "2 -9222956879900151005  1248            12        8.0   21594.0      NaN\n",
       "3 -9222956879900151005  1545             2        2.0   21594.0      NaN\n",
       "4 -9222956879900151005  1664             8        0.0   21594.0      NaN\n",
       "5 -9222956879900151005  1848            13       13.0   21594.0      NaN\n",
       "6 -9222956879900151005  2236            13        9.0   21594.0      NaN\n",
       "7 -9222956879900151005  2350            11       11.0   21594.0      NaN\n",
       "8 -9222956879900151005  2626            10       10.0   21594.0      NaN\n",
       "9 -9222956879900151005  3384            11       11.0   21594.0      NaN"
      ]
     },
     "execution_count": 42,
     "metadata": {},
     "output_type": "execute_result"
    }
   ],
   "source": [
    "deviceapps_week = (appevents_week.groupby(['device_id','app'])['is_installed','is_active'].sum()\n",
    "                       .merge(gatrain[['trainrow']], how='left', left_index=True, right_index=True)\n",
    "                       .merge(gatest[['testrow']], how='left', left_index=True, right_index=True)\n",
    "                       .reset_index())\n",
    "deviceapps_week.head(10)"
   ]
  },
  {
   "cell_type": "code",
   "execution_count": 43,
   "metadata": {
    "collapsed": false
   },
   "outputs": [
    {
     "name": "stdout",
     "output_type": "stream",
     "text": [
      "(4244113, 6)\n"
     ]
    },
    {
     "data": {
      "text/html": [
       "<div>\n",
       "<table border=\"1\" class=\"dataframe\">\n",
       "  <thead>\n",
       "    <tr style=\"text-align: right;\">\n",
       "      <th></th>\n",
       "      <th>device_id</th>\n",
       "      <th>label</th>\n",
       "      <th>is_installed</th>\n",
       "      <th>is_active</th>\n",
       "      <th>trainrow</th>\n",
       "      <th>testrow</th>\n",
       "    </tr>\n",
       "  </thead>\n",
       "  <tbody>\n",
       "    <tr>\n",
       "      <th>647312</th>\n",
       "      <td>-6434881097208547451</td>\n",
       "      <td>308</td>\n",
       "      <td>3</td>\n",
       "      <td>0.0</td>\n",
       "      <td>43961.0</td>\n",
       "      <td>NaN</td>\n",
       "    </tr>\n",
       "    <tr>\n",
       "      <th>1906667</th>\n",
       "      <td>-991529057862645066</td>\n",
       "      <td>276</td>\n",
       "      <td>51</td>\n",
       "      <td>33.0</td>\n",
       "      <td>NaN</td>\n",
       "      <td>28695.0</td>\n",
       "    </tr>\n",
       "    <tr>\n",
       "      <th>269324</th>\n",
       "      <td>-8041871886807791855</td>\n",
       "      <td>396</td>\n",
       "      <td>24</td>\n",
       "      <td>1.0</td>\n",
       "      <td>NaN</td>\n",
       "      <td>27316.0</td>\n",
       "    </tr>\n",
       "    <tr>\n",
       "      <th>3865835</th>\n",
       "      <td>7577528289938767097</td>\n",
       "      <td>417</td>\n",
       "      <td>1</td>\n",
       "      <td>0.0</td>\n",
       "      <td>NaN</td>\n",
       "      <td>26350.0</td>\n",
       "    </tr>\n",
       "    <tr>\n",
       "      <th>3165902</th>\n",
       "      <td>4529298113351424933</td>\n",
       "      <td>326</td>\n",
       "      <td>36</td>\n",
       "      <td>5.0</td>\n",
       "      <td>46659.0</td>\n",
       "      <td>NaN</td>\n",
       "    </tr>\n",
       "    <tr>\n",
       "      <th>1109834</th>\n",
       "      <td>-4466370067347561779</td>\n",
       "      <td>103</td>\n",
       "      <td>2</td>\n",
       "      <td>0.0</td>\n",
       "      <td>NaN</td>\n",
       "      <td>93710.0</td>\n",
       "    </tr>\n",
       "    <tr>\n",
       "      <th>3460096</th>\n",
       "      <td>5789938595176888221</td>\n",
       "      <td>370</td>\n",
       "      <td>2</td>\n",
       "      <td>0.0</td>\n",
       "      <td>NaN</td>\n",
       "      <td>62319.0</td>\n",
       "    </tr>\n",
       "    <tr>\n",
       "      <th>2307327</th>\n",
       "      <td>790610582133613479</td>\n",
       "      <td>370</td>\n",
       "      <td>1</td>\n",
       "      <td>0.0</td>\n",
       "      <td>41862.0</td>\n",
       "      <td>NaN</td>\n",
       "    </tr>\n",
       "    <tr>\n",
       "      <th>2544275</th>\n",
       "      <td>1817479374539106969</td>\n",
       "      <td>228</td>\n",
       "      <td>1</td>\n",
       "      <td>0.0</td>\n",
       "      <td>NaN</td>\n",
       "      <td>22714.0</td>\n",
       "    </tr>\n",
       "    <tr>\n",
       "      <th>3612241</th>\n",
       "      <td>6465984976445028528</td>\n",
       "      <td>296</td>\n",
       "      <td>0</td>\n",
       "      <td>0.0</td>\n",
       "      <td>14026.0</td>\n",
       "      <td>NaN</td>\n",
       "    </tr>\n",
       "  </tbody>\n",
       "</table>\n",
       "</div>"
      ],
      "text/plain": [
       "                   device_id  label  is_installed  is_active  trainrow  \\\n",
       "647312  -6434881097208547451    308             3        0.0   43961.0   \n",
       "1906667  -991529057862645066    276            51       33.0       NaN   \n",
       "269324  -8041871886807791855    396            24        1.0       NaN   \n",
       "3865835  7577528289938767097    417             1        0.0       NaN   \n",
       "3165902  4529298113351424933    326            36        5.0   46659.0   \n",
       "1109834 -4466370067347561779    103             2        0.0       NaN   \n",
       "3460096  5789938595176888221    370             2        0.0       NaN   \n",
       "2307327   790610582133613479    370             1        0.0   41862.0   \n",
       "2544275  1817479374539106969    228             1        0.0       NaN   \n",
       "3612241  6465984976445028528    296             0        0.0   14026.0   \n",
       "\n",
       "         testrow  \n",
       "647312       NaN  \n",
       "1906667  28695.0  \n",
       "269324   27316.0  \n",
       "3865835  26350.0  \n",
       "3165902      NaN  \n",
       "1109834  93710.0  \n",
       "3460096  62319.0  \n",
       "2307327      NaN  \n",
       "2544275  22714.0  \n",
       "3612241      NaN  "
      ]
     },
     "execution_count": 43,
     "metadata": {},
     "output_type": "execute_result"
    }
   ],
   "source": [
    "devicelabels_week = (deviceapps_week[['device_id','app','is_installed','is_active']]\n",
    "                .merge(applabels[['app','label']])\n",
    "                .groupby(['device_id','label'])['is_installed','is_active'].sum()\n",
    "                .merge(gatrain[['trainrow']], how='left', left_index=True, right_index=True)\n",
    "                .merge(gatest[['testrow']], how='left', left_index=True, right_index=True)\n",
    "                .reset_index())\n",
    "print(devicelabels_week.shape)\n",
    "devicelabels_week.sample(10)"
   ]
  },
  {
   "cell_type": "markdown",
   "metadata": {},
   "source": [
    "## App_label day dataframe"
   ]
  },
  {
   "cell_type": "code",
   "execution_count": 44,
   "metadata": {
    "collapsed": true
   },
   "outputs": [],
   "source": [
    "appevents_day = appevents.copy()\n",
    "appevents_day.loc[appevents_day.timestamp_during_day==False, ['is_installed', 'is_active']]=0"
   ]
  },
  {
   "cell_type": "code",
   "execution_count": 45,
   "metadata": {
    "collapsed": false
   },
   "outputs": [
    {
     "data": {
      "text/html": [
       "<div>\n",
       "<table border=\"1\" class=\"dataframe\">\n",
       "  <thead>\n",
       "    <tr style=\"text-align: right;\">\n",
       "      <th></th>\n",
       "      <th>event_id</th>\n",
       "      <th>app_id</th>\n",
       "      <th>is_installed</th>\n",
       "      <th>is_active</th>\n",
       "      <th>app</th>\n",
       "      <th>device_id</th>\n",
       "      <th>timestamp_during_weekend</th>\n",
       "      <th>timestamp_during_day</th>\n",
       "    </tr>\n",
       "  </thead>\n",
       "  <tbody>\n",
       "    <tr>\n",
       "      <th>1022481</th>\n",
       "      <td>98228</td>\n",
       "      <td>8948670408023620661</td>\n",
       "      <td>1</td>\n",
       "      <td>True</td>\n",
       "      <td>18924</td>\n",
       "      <td>-5436207345265059976</td>\n",
       "      <td>False</td>\n",
       "      <td>True</td>\n",
       "    </tr>\n",
       "    <tr>\n",
       "      <th>26991272</th>\n",
       "      <td>2702689</td>\n",
       "      <td>-645224643319180577</td>\n",
       "      <td>1</td>\n",
       "      <td>False</td>\n",
       "      <td>8945</td>\n",
       "      <td>5291390687847238213</td>\n",
       "      <td>False</td>\n",
       "      <td>True</td>\n",
       "    </tr>\n",
       "    <tr>\n",
       "      <th>1676455</th>\n",
       "      <td>167601</td>\n",
       "      <td>6607018907660377991</td>\n",
       "      <td>1</td>\n",
       "      <td>False</td>\n",
       "      <td>16240</td>\n",
       "      <td>-3134967474941078529</td>\n",
       "      <td>False</td>\n",
       "      <td>True</td>\n",
       "    </tr>\n",
       "    <tr>\n",
       "      <th>18264609</th>\n",
       "      <td>1827689</td>\n",
       "      <td>628020936226491308</td>\n",
       "      <td>1</td>\n",
       "      <td>True</td>\n",
       "      <td>10420</td>\n",
       "      <td>-7263132807612494195</td>\n",
       "      <td>False</td>\n",
       "      <td>True</td>\n",
       "    </tr>\n",
       "    <tr>\n",
       "      <th>21881040</th>\n",
       "      <td>2192752</td>\n",
       "      <td>-3081664261975634860</td>\n",
       "      <td>0</td>\n",
       "      <td>False</td>\n",
       "      <td>6050</td>\n",
       "      <td>6635987146780613271</td>\n",
       "      <td>False</td>\n",
       "      <td>False</td>\n",
       "    </tr>\n",
       "    <tr>\n",
       "      <th>26348513</th>\n",
       "      <td>2637588</td>\n",
       "      <td>4194978734950248697</td>\n",
       "      <td>0</td>\n",
       "      <td>False</td>\n",
       "      <td>13776</td>\n",
       "      <td>-6250374472097445840</td>\n",
       "      <td>False</td>\n",
       "      <td>False</td>\n",
       "    </tr>\n",
       "    <tr>\n",
       "      <th>28955066</th>\n",
       "      <td>2899447</td>\n",
       "      <td>8693964245073640147</td>\n",
       "      <td>0</td>\n",
       "      <td>False</td>\n",
       "      <td>18686</td>\n",
       "      <td>-7848011077749053046</td>\n",
       "      <td>True</td>\n",
       "      <td>False</td>\n",
       "    </tr>\n",
       "    <tr>\n",
       "      <th>23375612</th>\n",
       "      <td>2336894</td>\n",
       "      <td>-461381632058619300</td>\n",
       "      <td>1</td>\n",
       "      <td>True</td>\n",
       "      <td>9177</td>\n",
       "      <td>8586743452220399186</td>\n",
       "      <td>False</td>\n",
       "      <td>True</td>\n",
       "    </tr>\n",
       "    <tr>\n",
       "      <th>16650372</th>\n",
       "      <td>1665435</td>\n",
       "      <td>6284164581582112235</td>\n",
       "      <td>1</td>\n",
       "      <td>True</td>\n",
       "      <td>15784</td>\n",
       "      <td>-380094437049880651</td>\n",
       "      <td>False</td>\n",
       "      <td>True</td>\n",
       "    </tr>\n",
       "    <tr>\n",
       "      <th>17411488</th>\n",
       "      <td>1742898</td>\n",
       "      <td>-5305696816021977482</td>\n",
       "      <td>1</td>\n",
       "      <td>False</td>\n",
       "      <td>3774</td>\n",
       "      <td>1211103345711218580</td>\n",
       "      <td>False</td>\n",
       "      <td>True</td>\n",
       "    </tr>\n",
       "  </tbody>\n",
       "</table>\n",
       "</div>"
      ],
      "text/plain": [
       "          event_id               app_id  is_installed is_active    app  \\\n",
       "1022481      98228  8948670408023620661             1      True  18924   \n",
       "26991272   2702689  -645224643319180577             1     False   8945   \n",
       "1676455     167601  6607018907660377991             1     False  16240   \n",
       "18264609   1827689   628020936226491308             1      True  10420   \n",
       "21881040   2192752 -3081664261975634860             0     False   6050   \n",
       "26348513   2637588  4194978734950248697             0     False  13776   \n",
       "28955066   2899447  8693964245073640147             0     False  18686   \n",
       "23375612   2336894  -461381632058619300             1      True   9177   \n",
       "16650372   1665435  6284164581582112235             1      True  15784   \n",
       "17411488   1742898 -5305696816021977482             1     False   3774   \n",
       "\n",
       "                    device_id timestamp_during_weekend timestamp_during_day  \n",
       "1022481  -5436207345265059976                    False                 True  \n",
       "26991272  5291390687847238213                    False                 True  \n",
       "1676455  -3134967474941078529                    False                 True  \n",
       "18264609 -7263132807612494195                    False                 True  \n",
       "21881040  6635987146780613271                    False                False  \n",
       "26348513 -6250374472097445840                    False                False  \n",
       "28955066 -7848011077749053046                     True                False  \n",
       "23375612  8586743452220399186                    False                 True  \n",
       "16650372  -380094437049880651                    False                 True  \n",
       "17411488  1211103345711218580                    False                 True  "
      ]
     },
     "execution_count": 45,
     "metadata": {},
     "output_type": "execute_result"
    }
   ],
   "source": [
    "appevents_day.sample(10)"
   ]
  },
  {
   "cell_type": "code",
   "execution_count": 46,
   "metadata": {
    "collapsed": false
   },
   "outputs": [
    {
     "data": {
      "text/html": [
       "<div>\n",
       "<table border=\"1\" class=\"dataframe\">\n",
       "  <thead>\n",
       "    <tr style=\"text-align: right;\">\n",
       "      <th></th>\n",
       "      <th>device_id</th>\n",
       "      <th>app</th>\n",
       "      <th>is_installed</th>\n",
       "      <th>is_active</th>\n",
       "      <th>trainrow</th>\n",
       "      <th>testrow</th>\n",
       "    </tr>\n",
       "  </thead>\n",
       "  <tbody>\n",
       "    <tr>\n",
       "      <th>0</th>\n",
       "      <td>-9222956879900151005</td>\n",
       "      <td>548</td>\n",
       "      <td>16</td>\n",
       "      <td>4.0</td>\n",
       "      <td>21594.0</td>\n",
       "      <td>NaN</td>\n",
       "    </tr>\n",
       "    <tr>\n",
       "      <th>1</th>\n",
       "      <td>-9222956879900151005</td>\n",
       "      <td>1096</td>\n",
       "      <td>16</td>\n",
       "      <td>0.0</td>\n",
       "      <td>21594.0</td>\n",
       "      <td>NaN</td>\n",
       "    </tr>\n",
       "    <tr>\n",
       "      <th>2</th>\n",
       "      <td>-9222956879900151005</td>\n",
       "      <td>1248</td>\n",
       "      <td>20</td>\n",
       "      <td>11.0</td>\n",
       "      <td>21594.0</td>\n",
       "      <td>NaN</td>\n",
       "    </tr>\n",
       "    <tr>\n",
       "      <th>3</th>\n",
       "      <td>-9222956879900151005</td>\n",
       "      <td>1545</td>\n",
       "      <td>10</td>\n",
       "      <td>0.0</td>\n",
       "      <td>21594.0</td>\n",
       "      <td>NaN</td>\n",
       "    </tr>\n",
       "    <tr>\n",
       "      <th>4</th>\n",
       "      <td>-9222956879900151005</td>\n",
       "      <td>1664</td>\n",
       "      <td>16</td>\n",
       "      <td>0.0</td>\n",
       "      <td>21594.0</td>\n",
       "      <td>NaN</td>\n",
       "    </tr>\n",
       "  </tbody>\n",
       "</table>\n",
       "</div>"
      ],
      "text/plain": [
       "             device_id   app  is_installed  is_active  trainrow  testrow\n",
       "0 -9222956879900151005   548            16        4.0   21594.0      NaN\n",
       "1 -9222956879900151005  1096            16        0.0   21594.0      NaN\n",
       "2 -9222956879900151005  1248            20       11.0   21594.0      NaN\n",
       "3 -9222956879900151005  1545            10        0.0   21594.0      NaN\n",
       "4 -9222956879900151005  1664            16        0.0   21594.0      NaN"
      ]
     },
     "execution_count": 46,
     "metadata": {},
     "output_type": "execute_result"
    }
   ],
   "source": [
    "deviceapps_day = (appevents_day.groupby(['device_id','app'])['is_installed','is_active'].sum()\n",
    "                       .merge(gatrain[['trainrow']], how='left', left_index=True, right_index=True)\n",
    "                       .merge(gatest[['testrow']], how='left', left_index=True, right_index=True)\n",
    "                       .reset_index())\n",
    "deviceapps_day.head()"
   ]
  },
  {
   "cell_type": "code",
   "execution_count": 47,
   "metadata": {
    "collapsed": false
   },
   "outputs": [
    {
     "name": "stdout",
     "output_type": "stream",
     "text": [
      "(4244113, 6)\n"
     ]
    },
    {
     "data": {
      "text/html": [
       "<div>\n",
       "<table border=\"1\" class=\"dataframe\">\n",
       "  <thead>\n",
       "    <tr style=\"text-align: right;\">\n",
       "      <th></th>\n",
       "      <th>device_id</th>\n",
       "      <th>label</th>\n",
       "      <th>is_installed</th>\n",
       "      <th>is_active</th>\n",
       "      <th>trainrow</th>\n",
       "      <th>testrow</th>\n",
       "    </tr>\n",
       "  </thead>\n",
       "  <tbody>\n",
       "    <tr>\n",
       "      <th>0</th>\n",
       "      <td>-9222956879900151005</td>\n",
       "      <td>117</td>\n",
       "      <td>12</td>\n",
       "      <td>12.0</td>\n",
       "      <td>21594.0</td>\n",
       "      <td>NaN</td>\n",
       "    </tr>\n",
       "    <tr>\n",
       "      <th>1</th>\n",
       "      <td>-9222956879900151005</td>\n",
       "      <td>120</td>\n",
       "      <td>10</td>\n",
       "      <td>10.0</td>\n",
       "      <td>21594.0</td>\n",
       "      <td>NaN</td>\n",
       "    </tr>\n",
       "    <tr>\n",
       "      <th>2</th>\n",
       "      <td>-9222956879900151005</td>\n",
       "      <td>126</td>\n",
       "      <td>24</td>\n",
       "      <td>22.0</td>\n",
       "      <td>21594.0</td>\n",
       "      <td>NaN</td>\n",
       "    </tr>\n",
       "    <tr>\n",
       "      <th>3</th>\n",
       "      <td>-9222956879900151005</td>\n",
       "      <td>138</td>\n",
       "      <td>41</td>\n",
       "      <td>33.0</td>\n",
       "      <td>21594.0</td>\n",
       "      <td>NaN</td>\n",
       "    </tr>\n",
       "    <tr>\n",
       "      <th>4</th>\n",
       "      <td>-9222956879900151005</td>\n",
       "      <td>147</td>\n",
       "      <td>24</td>\n",
       "      <td>21.0</td>\n",
       "      <td>21594.0</td>\n",
       "      <td>NaN</td>\n",
       "    </tr>\n",
       "    <tr>\n",
       "      <th>5</th>\n",
       "      <td>-9222956879900151005</td>\n",
       "      <td>170</td>\n",
       "      <td>6</td>\n",
       "      <td>6.0</td>\n",
       "      <td>21594.0</td>\n",
       "      <td>NaN</td>\n",
       "    </tr>\n",
       "    <tr>\n",
       "      <th>6</th>\n",
       "      <td>-9222956879900151005</td>\n",
       "      <td>181</td>\n",
       "      <td>16</td>\n",
       "      <td>1.0</td>\n",
       "      <td>21594.0</td>\n",
       "      <td>NaN</td>\n",
       "    </tr>\n",
       "    <tr>\n",
       "      <th>7</th>\n",
       "      <td>-9222956879900151005</td>\n",
       "      <td>190</td>\n",
       "      <td>16</td>\n",
       "      <td>1.0</td>\n",
       "      <td>21594.0</td>\n",
       "      <td>NaN</td>\n",
       "    </tr>\n",
       "    <tr>\n",
       "      <th>8</th>\n",
       "      <td>-9222956879900151005</td>\n",
       "      <td>207</td>\n",
       "      <td>148</td>\n",
       "      <td>70.0</td>\n",
       "      <td>21594.0</td>\n",
       "      <td>NaN</td>\n",
       "    </tr>\n",
       "    <tr>\n",
       "      <th>9</th>\n",
       "      <td>-9222956879900151005</td>\n",
       "      <td>208</td>\n",
       "      <td>201</td>\n",
       "      <td>92.0</td>\n",
       "      <td>21594.0</td>\n",
       "      <td>NaN</td>\n",
       "    </tr>\n",
       "  </tbody>\n",
       "</table>\n",
       "</div>"
      ],
      "text/plain": [
       "             device_id  label  is_installed  is_active  trainrow  testrow\n",
       "0 -9222956879900151005    117            12       12.0   21594.0      NaN\n",
       "1 -9222956879900151005    120            10       10.0   21594.0      NaN\n",
       "2 -9222956879900151005    126            24       22.0   21594.0      NaN\n",
       "3 -9222956879900151005    138            41       33.0   21594.0      NaN\n",
       "4 -9222956879900151005    147            24       21.0   21594.0      NaN\n",
       "5 -9222956879900151005    170             6        6.0   21594.0      NaN\n",
       "6 -9222956879900151005    181            16        1.0   21594.0      NaN\n",
       "7 -9222956879900151005    190            16        1.0   21594.0      NaN\n",
       "8 -9222956879900151005    207           148       70.0   21594.0      NaN\n",
       "9 -9222956879900151005    208           201       92.0   21594.0      NaN"
      ]
     },
     "execution_count": 47,
     "metadata": {},
     "output_type": "execute_result"
    }
   ],
   "source": [
    "devicelabels_day = (deviceapps_day[['device_id','app','is_installed','is_active']]\n",
    "                .merge(applabels[['app','label']])\n",
    "                .groupby(['device_id','label'])['is_installed','is_active'].sum()\n",
    "                .merge(gatrain[['trainrow']], how='left', left_index=True, right_index=True)\n",
    "                .merge(gatest[['testrow']], how='left', left_index=True, right_index=True)\n",
    "                .reset_index())\n",
    "print(devicelabels_day.shape)\n",
    "devicelabels_day.head(10)"
   ]
  },
  {
   "cell_type": "code",
   "execution_count": 48,
   "metadata": {
    "collapsed": false
   },
   "outputs": [
    {
     "name": "stdout",
     "output_type": "stream",
     "text": [
      "(60822,)\n"
     ]
    },
    {
     "data": {
      "text/plain": [
       "device_id\n",
       "-9222956879900151005    56\n",
       "-9222661944218806987    33\n",
       "-9222399302879214035    93\n",
       "-9221825537663503111    58\n",
       "-9221767098072603291    55\n",
       "Name: label, dtype: int64"
      ]
     },
     "execution_count": 48,
     "metadata": {},
     "output_type": "execute_result"
    }
   ],
   "source": [
    "unique_labels_installed = devicelabels.groupby('device_id').label.nunique()\n",
    "print(unique_labels_installed.shape)\n",
    "unique_labels_installed.head(5)"
   ]
  },
  {
   "cell_type": "markdown",
   "metadata": {},
   "source": [
    "## Save features"
   ]
  },
  {
   "cell_type": "code",
   "execution_count": 59,
   "metadata": {
    "collapsed": false
   },
   "outputs": [],
   "source": [
    "feature_file = 'features_label_app_count.csv'\n",
    "df = pd.DataFrame(index=devicelabels.device_id.unique())\n",
    "df['n_u_labels_installed_apps'] = devicelabels.groupby('device_id').label.nunique()\n",
    "df['n_u_labels_active_apps'] = devicelabels[devicelabels.is_active>0].groupby('device_id').label.nunique()\n",
    "df['r_u_labels_active_apps'] = df['n_u_labels_active_apps'].div(df['n_u_labels_installed_apps'])\n",
    "\n",
    "df['n_u_labels_installed_apps_day'] = devicelabels_day[devicelabels_day.is_installed>0].groupby('device_id').label.nunique()\n",
    "df['n_u_labels_active_apps_day'] = devicelabels_day[devicelabels_day.is_active>0].groupby('device_id').label.nunique()\n",
    "df['r_u_labels_active_apps_day'] = df['n_u_labels_active_apps'].div(df['n_u_labels_installed_apps'])\n",
    "\n",
    "df['n_u_labels_installed_apps_week'] = devicelabels_week[devicelabels_week.is_installed>0].groupby('device_id').label.nunique()\n",
    "df['n_u_labels_active_apps_week'] = devicelabels_week[devicelabels_week.is_active>0].groupby('device_id').label.nunique()\n",
    "df['r_u_labels_active_apps_week'] = df['n_u_labels_active_apps'].div(df['n_u_labels_installed_apps'])\n",
    "\n",
    "df.fillna(0, inplace=True)"
   ]
  },
  {
   "cell_type": "code",
   "execution_count": 60,
   "metadata": {
    "collapsed": false
   },
   "outputs": [
    {
     "data": {
      "text/html": [
       "<div>\n",
       "<table border=\"1\" class=\"dataframe\">\n",
       "  <thead>\n",
       "    <tr style=\"text-align: right;\">\n",
       "      <th></th>\n",
       "      <th>n_u_labels_installed_apps</th>\n",
       "      <th>n_u_labels_active_apps</th>\n",
       "      <th>r_u_labels_active_apps</th>\n",
       "      <th>n_u_labels_installed_apps_day</th>\n",
       "      <th>n_u_labels_active_apps_day</th>\n",
       "      <th>r_u_labels_active_apps_day</th>\n",
       "      <th>n_u_labels_installed_apps_week</th>\n",
       "      <th>n_u_labels_active_apps_week</th>\n",
       "      <th>r_u_labels_active_apps_week</th>\n",
       "    </tr>\n",
       "  </thead>\n",
       "  <tbody>\n",
       "    <tr>\n",
       "      <th>-9222956879900151005</th>\n",
       "      <td>56</td>\n",
       "      <td>56.0</td>\n",
       "      <td>1.000000</td>\n",
       "      <td>56.0</td>\n",
       "      <td>56.0</td>\n",
       "      <td>1.000000</td>\n",
       "      <td>56.0</td>\n",
       "      <td>53.0</td>\n",
       "      <td>1.000000</td>\n",
       "    </tr>\n",
       "    <tr>\n",
       "      <th>-9222661944218806987</th>\n",
       "      <td>33</td>\n",
       "      <td>33.0</td>\n",
       "      <td>1.000000</td>\n",
       "      <td>33.0</td>\n",
       "      <td>33.0</td>\n",
       "      <td>1.000000</td>\n",
       "      <td>33.0</td>\n",
       "      <td>28.0</td>\n",
       "      <td>1.000000</td>\n",
       "    </tr>\n",
       "    <tr>\n",
       "      <th>-9222399302879214035</th>\n",
       "      <td>93</td>\n",
       "      <td>28.0</td>\n",
       "      <td>0.301075</td>\n",
       "      <td>93.0</td>\n",
       "      <td>22.0</td>\n",
       "      <td>0.301075</td>\n",
       "      <td>93.0</td>\n",
       "      <td>28.0</td>\n",
       "      <td>0.301075</td>\n",
       "    </tr>\n",
       "    <tr>\n",
       "      <th>-9221825537663503111</th>\n",
       "      <td>58</td>\n",
       "      <td>48.0</td>\n",
       "      <td>0.827586</td>\n",
       "      <td>57.0</td>\n",
       "      <td>47.0</td>\n",
       "      <td>0.827586</td>\n",
       "      <td>57.0</td>\n",
       "      <td>44.0</td>\n",
       "      <td>0.827586</td>\n",
       "    </tr>\n",
       "    <tr>\n",
       "      <th>-9221767098072603291</th>\n",
       "      <td>55</td>\n",
       "      <td>46.0</td>\n",
       "      <td>0.836364</td>\n",
       "      <td>55.0</td>\n",
       "      <td>45.0</td>\n",
       "      <td>0.836364</td>\n",
       "      <td>55.0</td>\n",
       "      <td>42.0</td>\n",
       "      <td>0.836364</td>\n",
       "    </tr>\n",
       "    <tr>\n",
       "      <th>-9221079146476055829</th>\n",
       "      <td>44</td>\n",
       "      <td>44.0</td>\n",
       "      <td>1.000000</td>\n",
       "      <td>44.0</td>\n",
       "      <td>42.0</td>\n",
       "      <td>1.000000</td>\n",
       "      <td>44.0</td>\n",
       "      <td>44.0</td>\n",
       "      <td>1.000000</td>\n",
       "    </tr>\n",
       "    <tr>\n",
       "      <th>-9221026417907250887</th>\n",
       "      <td>61</td>\n",
       "      <td>58.0</td>\n",
       "      <td>0.950820</td>\n",
       "      <td>61.0</td>\n",
       "      <td>58.0</td>\n",
       "      <td>0.950820</td>\n",
       "      <td>61.0</td>\n",
       "      <td>58.0</td>\n",
       "      <td>0.950820</td>\n",
       "    </tr>\n",
       "    <tr>\n",
       "      <th>-9220830859283101130</th>\n",
       "      <td>24</td>\n",
       "      <td>10.0</td>\n",
       "      <td>0.416667</td>\n",
       "      <td>0.0</td>\n",
       "      <td>0.0</td>\n",
       "      <td>0.416667</td>\n",
       "      <td>24.0</td>\n",
       "      <td>10.0</td>\n",
       "      <td>0.416667</td>\n",
       "    </tr>\n",
       "    <tr>\n",
       "      <th>-9220452176650064280</th>\n",
       "      <td>57</td>\n",
       "      <td>26.0</td>\n",
       "      <td>0.456140</td>\n",
       "      <td>55.0</td>\n",
       "      <td>22.0</td>\n",
       "      <td>0.456140</td>\n",
       "      <td>57.0</td>\n",
       "      <td>25.0</td>\n",
       "      <td>0.456140</td>\n",
       "    </tr>\n",
       "    <tr>\n",
       "      <th>-9220329415676028483</th>\n",
       "      <td>98</td>\n",
       "      <td>8.0</td>\n",
       "      <td>0.081633</td>\n",
       "      <td>98.0</td>\n",
       "      <td>8.0</td>\n",
       "      <td>0.081633</td>\n",
       "      <td>98.0</td>\n",
       "      <td>8.0</td>\n",
       "      <td>0.081633</td>\n",
       "    </tr>\n",
       "  </tbody>\n",
       "</table>\n",
       "</div>"
      ],
      "text/plain": [
       "                      n_u_labels_installed_apps  n_u_labels_active_apps  \\\n",
       "-9222956879900151005                         56                    56.0   \n",
       "-9222661944218806987                         33                    33.0   \n",
       "-9222399302879214035                         93                    28.0   \n",
       "-9221825537663503111                         58                    48.0   \n",
       "-9221767098072603291                         55                    46.0   \n",
       "-9221079146476055829                         44                    44.0   \n",
       "-9221026417907250887                         61                    58.0   \n",
       "-9220830859283101130                         24                    10.0   \n",
       "-9220452176650064280                         57                    26.0   \n",
       "-9220329415676028483                         98                     8.0   \n",
       "\n",
       "                      r_u_labels_active_apps  n_u_labels_installed_apps_day  \\\n",
       "-9222956879900151005                1.000000                           56.0   \n",
       "-9222661944218806987                1.000000                           33.0   \n",
       "-9222399302879214035                0.301075                           93.0   \n",
       "-9221825537663503111                0.827586                           57.0   \n",
       "-9221767098072603291                0.836364                           55.0   \n",
       "-9221079146476055829                1.000000                           44.0   \n",
       "-9221026417907250887                0.950820                           61.0   \n",
       "-9220830859283101130                0.416667                            0.0   \n",
       "-9220452176650064280                0.456140                           55.0   \n",
       "-9220329415676028483                0.081633                           98.0   \n",
       "\n",
       "                      n_u_labels_active_apps_day  r_u_labels_active_apps_day  \\\n",
       "-9222956879900151005                        56.0                    1.000000   \n",
       "-9222661944218806987                        33.0                    1.000000   \n",
       "-9222399302879214035                        22.0                    0.301075   \n",
       "-9221825537663503111                        47.0                    0.827586   \n",
       "-9221767098072603291                        45.0                    0.836364   \n",
       "-9221079146476055829                        42.0                    1.000000   \n",
       "-9221026417907250887                        58.0                    0.950820   \n",
       "-9220830859283101130                         0.0                    0.416667   \n",
       "-9220452176650064280                        22.0                    0.456140   \n",
       "-9220329415676028483                         8.0                    0.081633   \n",
       "\n",
       "                      n_u_labels_installed_apps_week  \\\n",
       "-9222956879900151005                            56.0   \n",
       "-9222661944218806987                            33.0   \n",
       "-9222399302879214035                            93.0   \n",
       "-9221825537663503111                            57.0   \n",
       "-9221767098072603291                            55.0   \n",
       "-9221079146476055829                            44.0   \n",
       "-9221026417907250887                            61.0   \n",
       "-9220830859283101130                            24.0   \n",
       "-9220452176650064280                            57.0   \n",
       "-9220329415676028483                            98.0   \n",
       "\n",
       "                      n_u_labels_active_apps_week  r_u_labels_active_apps_week  \n",
       "-9222956879900151005                         53.0                     1.000000  \n",
       "-9222661944218806987                         28.0                     1.000000  \n",
       "-9222399302879214035                         28.0                     0.301075  \n",
       "-9221825537663503111                         44.0                     0.827586  \n",
       "-9221767098072603291                         42.0                     0.836364  \n",
       "-9221079146476055829                         44.0                     1.000000  \n",
       "-9221026417907250887                         58.0                     0.950820  \n",
       "-9220830859283101130                         10.0                     0.416667  \n",
       "-9220452176650064280                         25.0                     0.456140  \n",
       "-9220329415676028483                          8.0                     0.081633  "
      ]
     },
     "execution_count": 60,
     "metadata": {},
     "output_type": "execute_result"
    }
   ],
   "source": [
    "df.head(10)"
   ]
  },
  {
   "cell_type": "code",
   "execution_count": 73,
   "metadata": {
    "collapsed": false
   },
   "outputs": [
    {
     "data": {
      "text/plain": [
       "testrow    83094\n",
       "Name: -9220329415676028483, dtype: int64"
      ]
     },
     "execution_count": 73,
     "metadata": {},
     "output_type": "execute_result"
    }
   ],
   "source": [
    "gatest.loc[-9220329415676028483,:]"
   ]
  },
  {
   "cell_type": "code",
   "execution_count": 74,
   "metadata": {
    "collapsed": true
   },
   "outputs": [],
   "source": [
    "df.to_csv(dir_out+feature_file, index_label='device_id')"
   ]
  },
  {
   "cell_type": "markdown",
   "metadata": {},
   "source": [
    "### Installed any time"
   ]
  },
  {
   "cell_type": "code",
   "execution_count": 75,
   "metadata": {
    "collapsed": true
   },
   "outputs": [],
   "source": [
    "feature_file = 'features_label_app_installed'"
   ]
  },
  {
   "cell_type": "code",
   "execution_count": 76,
   "metadata": {
    "collapsed": false
   },
   "outputs": [
    {
     "name": "stdout",
     "output_type": "stream",
     "text": [
      "Apps data: train shape (74645, 492), test shape (112071, 492)\n"
     ]
    }
   ],
   "source": [
    "d = devicelabels.dropna(subset=['trainrow'])\n",
    "Xtr_app = csr_matrix((np.ones(d.shape[0]), (d.trainrow, d.label)), \n",
    "                      shape=(gatrain.shape[0],nlabels))\n",
    "d = devicelabels.dropna(subset=['testrow'])\n",
    "Xte_app = csr_matrix((np.ones(d.shape[0]), (d.testrow, d.label)), \n",
    "                      shape=(gatest.shape[0],nlabels))\n",
    "print('Apps data: train shape {}, test shape {}'.format(Xtr_app.shape, Xte_app.shape))"
   ]
  },
  {
   "cell_type": "code",
   "execution_count": 77,
   "metadata": {
    "collapsed": false
   },
   "outputs": [
    {
     "data": {
      "text/plain": [
       "matrix([[ 0.,  0.,  0.,  0.,  0.,  0.,  0.,  0.,  0.,  0.,  1.,  0.,  0.,\n",
       "          0.,  0.,  0.,  0.,  0.,  0.,  0.,  0.,  0.,  0.,  0.,  0.,  0.,\n",
       "          0.,  0.,  0.,  0.,  0.,  0.,  0.,  0.,  0.,  0.,  0.,  0.,  0.,\n",
       "          0.,  0.,  0.,  0.,  0.,  0.,  0.,  0.,  0.,  0.,  0.,  0.,  0.,\n",
       "          0.,  0.,  0.,  0.,  0.,  0.,  0.,  0.,  0.,  0.,  0.,  1.,  0.,\n",
       "          0.,  0.,  0.,  0.,  0.,  0.,  0.,  0.,  0.,  0.,  0.,  0.,  0.,\n",
       "          0.,  0.,  0.,  0.,  0.,  0.,  0.,  0.,  0.,  0.,  0.,  0.,  0.,\n",
       "          0.,  0.,  0.,  0.,  0.,  0.,  0.,  0.,  0.,  1.,  1.,  1.,  0.,\n",
       "          0.,  1.,  1.,  0.,  0.,  0.,  1.,  0.,  0.,  0.,  0.,  1.,  0.,\n",
       "          0.,  1.,  1.,  1.,  0.,  0.,  0.,  0.,  0.,  1.,  0.,  0.,  0.,\n",
       "          0.,  1.,  0.,  1.,  1.,  1.,  0.,  0.,  0.,  0.,  0.,  0.,  1.,\n",
       "          1.,  1.,  0.,  0.,  1.,  0.,  0.,  1.,  0.,  1.,  1.,  1.,  1.,\n",
       "          1.,  1.,  1.,  1.,  0.,  0.,  0.,  0.,  0.,  0.,  0.,  0.,  0.,\n",
       "          0.,  1.,  0.,  0.,  1.,  0.,  0.,  0.,  0.,  0.,  0.,  0.,  0.,\n",
       "          0.,  0.,  1.,  0.,  0.,  0.,  0.,  0.,  0.,  0.,  1.,  0.,  0.,\n",
       "          0.,  0.,  0.,  0.,  0.,  0.,  0.,  0.,  0.,  0.,  0.,  0.,  1.,\n",
       "          1.,  1.,  1.,  0.,  0.,  0.,  0.,  0.,  0.,  0.,  0.,  1.,  0.,\n",
       "          0.,  0.,  0.,  0.,  0.,  0.,  1.,  0.,  0.,  0.,  0.,  1.,  0.,\n",
       "          0.,  0.,  0.,  0.,  0.,  1.,  1.,  1.,  0.,  0.,  1.,  1.,  1.,\n",
       "          0.,  0.,  1.,  1.,  1.,  1.,  0.,  1.,  0.,  1.,  1.,  0.,  1.,\n",
       "          0.,  0.,  0.,  0.,  0.,  0.,  1.,  0.,  0.,  1.,  1.,  0.,  1.,\n",
       "          1.,  0.,  0.,  1.,  1.,  0.,  1.,  1.,  1.,  0.,  1.,  1.,  0.,\n",
       "          1.,  1.,  0.,  1.,  0.,  1.,  0.,  0.,  0.,  0.,  1.,  1.,  1.,\n",
       "          0.,  0.,  0.,  1.,  1.,  0.,  1.,  1.,  1.,  0.,  0.,  0.,  0.,\n",
       "          0.,  0.,  0.,  0.,  0.,  0.,  1.,  0.,  0.,  0.,  1.,  0.,  1.,\n",
       "          0.,  1.,  0.,  1.,  0.,  0.,  0.,  0.,  0.,  0.,  0.,  1.,  1.,\n",
       "          0.,  0.,  0.,  0.,  0.,  0.,  0.,  0.,  0.,  1.,  0.,  0.,  0.,\n",
       "          0.,  0.,  0.,  0.,  0.,  0.,  0.,  0.,  0.,  0.,  0.,  0.,  0.,\n",
       "          0.,  0.,  1.,  1.,  0.,  0.,  0.,  0.,  1.,  0.,  1.,  1.,  1.,\n",
       "          0.,  0.,  0.,  0.,  0.,  0.,  0.,  0.,  0.,  0.,  0.,  0.,  0.,\n",
       "          0.,  0.,  0.,  0.,  0.,  0.,  0.,  0.,  0.,  0.,  0.,  1.,  0.,\n",
       "          0.,  0.,  0.,  0.,  0.,  0.,  0.,  0.,  0.,  0.,  0.,  0.,  0.,\n",
       "          1.,  1.,  0.,  0.,  0.,  1.,  0.,  1.,  1.,  0.,  0.,  0.,  0.,\n",
       "          0.,  0.,  0.,  1.,  0.,  0.,  1.,  0.,  1.,  0.,  0.,  0.,  0.,\n",
       "          0.,  0.,  0.,  0.,  0.,  0.,  0.,  0.,  0.,  0.,  0.,  0.,  0.,\n",
       "          0.,  0.,  0.,  0.,  0.,  0.,  0.,  0.,  0.,  0.,  0.,  0.,  0.,\n",
       "          0.,  0.,  0.,  0.,  0.,  0.,  0.,  0.,  0.,  1.,  0.,  0.,  0.,\n",
       "          0.,  1.,  0.,  0.,  1.,  0.,  0.,  0.,  0.,  0.,  0.]])"
      ]
     },
     "execution_count": 77,
     "metadata": {},
     "output_type": "execute_result"
    }
   ],
   "source": [
    "Xtr_app[2].todense()[:,:]"
   ]
  },
  {
   "cell_type": "code",
   "execution_count": 78,
   "metadata": {
    "collapsed": true
   },
   "outputs": [],
   "source": [
    "# Save features\n",
    "with open(os.path.join(dir_out, feature_file + '_train.pickle'), 'wb') as f:\n",
    "    pickle.dump(Xtr_app, f, pickle.HIGHEST_PROTOCOL)\n",
    "with open(os.path.join(dir_out, feature_file + '_test.pickle'), 'wb') as f:\n",
    "    pickle.dump(Xte_app, f, pickle.HIGHEST_PROTOCOL)"
   ]
  },
  {
   "cell_type": "markdown",
   "metadata": {},
   "source": [
    "### Label installed proportionate"
   ]
  },
  {
   "cell_type": "code",
   "execution_count": 79,
   "metadata": {
    "collapsed": true
   },
   "outputs": [],
   "source": [
    "feature_file = 'features_label_app_installed_prop'"
   ]
  },
  {
   "cell_type": "code",
   "execution_count": 80,
   "metadata": {
    "collapsed": false
   },
   "outputs": [
    {
     "data": {
      "text/html": [
       "<div>\n",
       "<table border=\"1\" class=\"dataframe\">\n",
       "  <thead>\n",
       "    <tr style=\"text-align: right;\">\n",
       "      <th></th>\n",
       "      <th>device_id</th>\n",
       "      <th>label</th>\n",
       "      <th>is_installed</th>\n",
       "      <th>is_active</th>\n",
       "      <th>trainrow</th>\n",
       "      <th>testrow</th>\n",
       "      <th>n_labels</th>\n",
       "    </tr>\n",
       "  </thead>\n",
       "  <tbody>\n",
       "    <tr>\n",
       "      <th>0</th>\n",
       "      <td>-9222956879900151005</td>\n",
       "      <td>117</td>\n",
       "      <td>16</td>\n",
       "      <td>16.0</td>\n",
       "      <td>21594.0</td>\n",
       "      <td>NaN</td>\n",
       "      <td>56</td>\n",
       "    </tr>\n",
       "    <tr>\n",
       "      <th>1</th>\n",
       "      <td>-9222956879900151005</td>\n",
       "      <td>120</td>\n",
       "      <td>17</td>\n",
       "      <td>17.0</td>\n",
       "      <td>21594.0</td>\n",
       "      <td>NaN</td>\n",
       "      <td>56</td>\n",
       "    </tr>\n",
       "    <tr>\n",
       "      <th>2</th>\n",
       "      <td>-9222956879900151005</td>\n",
       "      <td>126</td>\n",
       "      <td>33</td>\n",
       "      <td>31.0</td>\n",
       "      <td>21594.0</td>\n",
       "      <td>NaN</td>\n",
       "      <td>56</td>\n",
       "    </tr>\n",
       "    <tr>\n",
       "      <th>3</th>\n",
       "      <td>-9222956879900151005</td>\n",
       "      <td>138</td>\n",
       "      <td>59</td>\n",
       "      <td>51.0</td>\n",
       "      <td>21594.0</td>\n",
       "      <td>NaN</td>\n",
       "      <td>56</td>\n",
       "    </tr>\n",
       "    <tr>\n",
       "      <th>4</th>\n",
       "      <td>-9222956879900151005</td>\n",
       "      <td>147</td>\n",
       "      <td>37</td>\n",
       "      <td>34.0</td>\n",
       "      <td>21594.0</td>\n",
       "      <td>NaN</td>\n",
       "      <td>56</td>\n",
       "    </tr>\n",
       "  </tbody>\n",
       "</table>\n",
       "</div>"
      ],
      "text/plain": [
       "             device_id  label  is_installed  is_active  trainrow  testrow  \\\n",
       "0 -9222956879900151005    117            16       16.0   21594.0      NaN   \n",
       "1 -9222956879900151005    120            17       17.0   21594.0      NaN   \n",
       "2 -9222956879900151005    126            33       31.0   21594.0      NaN   \n",
       "3 -9222956879900151005    138            59       51.0   21594.0      NaN   \n",
       "4 -9222956879900151005    147            37       34.0   21594.0      NaN   \n",
       "\n",
       "   n_labels  \n",
       "0        56  \n",
       "1        56  \n",
       "2        56  \n",
       "3        56  \n",
       "4        56  "
      ]
     },
     "execution_count": 80,
     "metadata": {},
     "output_type": "execute_result"
    }
   ],
   "source": [
    "devicelabels.set_index('device_id', inplace=True)\n",
    "devicelabels['n_labels'] = devicelabels.groupby(devicelabels.index).label.nunique()\n",
    "devicelabels.reset_index(inplace=True)\n",
    "devicelabels.head()"
   ]
  },
  {
   "cell_type": "code",
   "execution_count": 81,
   "metadata": {
    "collapsed": false
   },
   "outputs": [
    {
     "name": "stdout",
     "output_type": "stream",
     "text": [
      "Apps data: train shape (74645, 492), test shape (112071, 492)\n"
     ]
    }
   ],
   "source": [
    "d = devicelabels.dropna(subset=['trainrow'])\n",
    "Xtr_app = csr_matrix((d['is_installed']/d['n_labels'], (d.trainrow, d.label)), \n",
    "                      shape=(gatrain.shape[0],nlabels))\n",
    "d = devicelabels.dropna(subset=['testrow'])\n",
    "Xte_app = csr_matrix((d['is_installed']/d['n_labels'], (d.testrow, d.label)), \n",
    "                      shape=(gatest.shape[0],nlabels))\n",
    "print('Apps data: train shape {}, test shape {}'.format(Xtr_app.shape, Xte_app.shape))"
   ]
  },
  {
   "cell_type": "code",
   "execution_count": 82,
   "metadata": {
    "collapsed": false
   },
   "outputs": [
    {
     "data": {
      "text/plain": [
       "matrix([[ 0.48979592,  0.24489796,  0.        ,  0.12244898,  0.        ,\n",
       "          0.        ,  0.        ,  0.        ,  0.12244898,  0.        ,\n",
       "          0.        ,  0.        ,  0.        ,  0.        ,  0.        ,\n",
       "          0.        ,  0.        ,  0.        ,  0.        ,  0.12244898,\n",
       "          0.        ,  0.        ,  0.        ,  0.        ,  0.        ,\n",
       "          0.        ,  0.48979592,  0.        ,  0.        ,  0.        ,\n",
       "          0.        ,  0.12244898,  0.        ,  0.        ,  0.        ,\n",
       "          0.        ,  0.        ,  0.        ,  0.36734694,  0.        ,\n",
       "          0.        ,  0.        ,  0.57142857,  0.        ,  0.24489796,\n",
       "          0.        ,  0.        ,  0.24489796,  0.        ,  0.        ,\n",
       "          0.6122449 ,  0.        ,  0.        ,  0.        ,  0.12244898,\n",
       "          0.        ,  0.        ,  0.36734694,  0.        ,  0.12244898,\n",
       "          0.        ,  0.        ,  0.        ,  0.        ,  0.        ,\n",
       "          0.        ,  0.12244898,  0.        ,  0.        ,  0.12244898,\n",
       "          0.13265306,  0.        ,  0.        ,  0.        ,  0.        ,\n",
       "          0.        ,  0.        ,  0.        ,  0.        ,  0.        ,\n",
       "          0.        ,  0.        ,  0.        ,  0.        ,  0.12244898,\n",
       "          0.        ,  0.        ,  0.        ,  0.        ,  0.        ,\n",
       "          0.        ,  0.        ,  0.        ,  0.        ,  0.        ,\n",
       "          0.        ,  0.24489796,  0.        ,  0.        ,  0.        ]])"
      ]
     },
     "execution_count": 82,
     "metadata": {},
     "output_type": "execute_result"
    }
   ],
   "source": [
    "Xte_app[83094].todense()[:,100:200]"
   ]
  },
  {
   "cell_type": "code",
   "execution_count": 83,
   "metadata": {
    "collapsed": true
   },
   "outputs": [],
   "source": [
    "# Save features\n",
    "with open(os.path.join(dir_out, feature_file + '_train.pickle'), 'wb') as f:\n",
    "    pickle.dump(Xtr_app, f, pickle.HIGHEST_PROTOCOL)\n",
    "with open(os.path.join(dir_out, feature_file + '_test.pickle'), 'wb') as f:\n",
    "    pickle.dump(Xte_app, f, pickle.HIGHEST_PROTOCOL)"
   ]
  },
  {
   "cell_type": "markdown",
   "metadata": {},
   "source": [
    "### Active any time"
   ]
  },
  {
   "cell_type": "code",
   "execution_count": 84,
   "metadata": {
    "collapsed": true
   },
   "outputs": [],
   "source": [
    "feature_file = 'features_label_app_active'\n"
   ]
  },
  {
   "cell_type": "code",
   "execution_count": 85,
   "metadata": {
    "collapsed": false
   },
   "outputs": [
    {
     "name": "stdout",
     "output_type": "stream",
     "text": [
      "Apps data: train shape (74645, 492), test shape (112071, 492)\n"
     ]
    }
   ],
   "source": [
    "d = devicelabels.dropna(subset=['trainrow'])\n",
    "Xtr_act_app = csr_matrix(((d['is_active']>0).astype(int), (d.trainrow, d.label)), \n",
    "                          shape=(gatrain.shape[0],nlabels))\n",
    "d = devicelabels.dropna(subset=['testrow'])\n",
    "Xte_act_app = csr_matrix(((d['is_active']>0).astype(int), (d.testrow, d.label)), \n",
    "                        shape=(gatest.shape[0],nlabels))\n",
    "print('Apps data: train shape {}, test shape {}'.format(Xtr_act_app.shape, Xte_act_app.shape))"
   ]
  },
  {
   "cell_type": "code",
   "execution_count": 86,
   "metadata": {
    "collapsed": false
   },
   "outputs": [
    {
     "data": {
      "text/plain": [
       "matrix([[0, 0, 0, 0, 0, 0, 0, 0, 0, 0, 0, 0, 0, 0, 0, 0, 0, 0, 0, 0, 0, 0,\n",
       "         0, 0, 0, 0, 0, 0, 0, 0, 0, 0, 0, 0, 0, 0, 0, 0, 0, 0, 0, 0, 1, 0,\n",
       "         0, 0, 0, 0, 0, 0, 0, 0, 0, 0, 0, 0, 0, 0, 0, 0, 0, 0, 0, 0, 0, 0,\n",
       "         0, 0, 0, 0, 1, 0, 0, 0, 0, 0, 0, 0, 0, 0, 0, 0, 0, 0, 0, 0, 0, 0,\n",
       "         0, 0, 0, 0, 0, 0, 0, 0, 0, 0, 0, 0]])"
      ]
     },
     "execution_count": 86,
     "metadata": {},
     "output_type": "execute_result"
    }
   ],
   "source": [
    "Xte_act_app[83094].todense()[:,100:200]"
   ]
  },
  {
   "cell_type": "code",
   "execution_count": 87,
   "metadata": {
    "collapsed": false
   },
   "outputs": [],
   "source": [
    "# Save features\n",
    "with open(os.path.join(dir_out, feature_file + '_train.pickle'), 'wb') as f:\n",
    "    pickle.dump(Xtr_act_app, f, pickle.HIGHEST_PROTOCOL)\n",
    "with open(os.path.join(dir_out, feature_file + '_test.pickle'), 'wb') as f:\n",
    "    pickle.dump(Xte_act_app, f, pickle.HIGHEST_PROTOCOL)"
   ]
  },
  {
   "cell_type": "markdown",
   "metadata": {
    "collapsed": true
   },
   "source": [
    "### Relative active anytime"
   ]
  },
  {
   "cell_type": "code",
   "execution_count": 88,
   "metadata": {
    "collapsed": true
   },
   "outputs": [],
   "source": [
    "feature_file = 'features_label_app_active_rel'\n"
   ]
  },
  {
   "cell_type": "code",
   "execution_count": 89,
   "metadata": {
    "collapsed": false
   },
   "outputs": [
    {
     "name": "stdout",
     "output_type": "stream",
     "text": [
      "Apps data: train shape (74645, 492), test shape (112071, 492)\n"
     ]
    }
   ],
   "source": [
    "d = devicelabels.dropna(subset=['trainrow'])\n",
    "Xtr_act_app = csr_matrix((d['is_active']/d['is_installed'], (d.trainrow, d.label)), \n",
    "                          shape=(gatrain.shape[0],nlabels))\n",
    "d = devicelabels.dropna(subset=['testrow'])\n",
    "Xte_act_app = csr_matrix((d['is_active']/d['is_installed'], (d.testrow, d.label)), \n",
    "                        shape=(gatest.shape[0],nlabels))\n",
    "print('Apps data: train shape {}, test shape {}'.format(Xtr_act_app.shape, Xte_act_app.shape))"
   ]
  },
  {
   "cell_type": "code",
   "execution_count": 90,
   "metadata": {
    "collapsed": false
   },
   "outputs": [
    {
     "data": {
      "text/plain": [
       "matrix([[ 0.        ,  0.        ,  0.        ,  0.        ,  0.        ,\n",
       "          0.        ,  0.        ,  0.        ,  0.        ,  0.        ,\n",
       "          0.        ,  0.        ,  0.        ,  0.        ,  0.        ,\n",
       "          0.        ,  0.        ,  0.        ,  0.        ,  0.        ,\n",
       "          0.        ,  0.        ,  0.        ,  0.        ,  0.        ,\n",
       "          0.        ,  0.        ,  0.        ,  0.        ,  0.        ,\n",
       "          0.        ,  0.        ,  0.        ,  0.        ,  0.        ,\n",
       "          0.        ,  0.        ,  0.        ,  0.        ,  0.        ,\n",
       "          0.        ,  0.        ,  0.71428571,  0.        ,  0.        ,\n",
       "          0.        ,  0.        ,  0.        ,  0.        ,  0.        ,\n",
       "          0.        ,  0.        ,  0.        ,  0.        ,  0.        ,\n",
       "          0.        ,  0.        ,  0.        ,  0.        ,  0.        ,\n",
       "          0.        ,  0.        ,  0.        ,  0.        ,  0.        ,\n",
       "          0.        ,  0.        ,  0.        ,  0.        ,  0.        ,\n",
       "          0.23076923,  0.        ,  0.        ,  0.        ,  0.        ,\n",
       "          0.        ,  0.        ,  0.        ,  0.        ,  0.        ,\n",
       "          0.        ,  0.        ,  0.        ,  0.        ,  0.        ,\n",
       "          0.        ,  0.        ,  0.        ,  0.        ,  0.        ,\n",
       "          0.        ,  0.        ,  0.        ,  0.        ,  0.        ,\n",
       "          0.        ,  0.        ,  0.        ,  0.        ,  0.        ]])"
      ]
     },
     "execution_count": 90,
     "metadata": {},
     "output_type": "execute_result"
    }
   ],
   "source": [
    "Xte_act_app[83094].todense()[:,100:200]"
   ]
  },
  {
   "cell_type": "code",
   "execution_count": 91,
   "metadata": {
    "collapsed": true
   },
   "outputs": [],
   "source": [
    "# Save features\n",
    "with open(os.path.join(dir_out, feature_file + '_train.pickle'), 'wb') as f:\n",
    "    pickle.dump(Xtr_act_app, f, pickle.HIGHEST_PROTOCOL)\n",
    "with open(os.path.join(dir_out, feature_file + '_test.pickle'), 'wb') as f:\n",
    "    pickle.dump(Xte_act_app, f, pickle.HIGHEST_PROTOCOL)"
   ]
  },
  {
   "cell_type": "markdown",
   "metadata": {},
   "source": [
    "### App labels that are more active during week"
   ]
  },
  {
   "cell_type": "code",
   "execution_count": 92,
   "metadata": {
    "collapsed": true
   },
   "outputs": [],
   "source": [
    "feature_file = 'features_label_app_more_active_week'\n"
   ]
  },
  {
   "cell_type": "code",
   "execution_count": 93,
   "metadata": {
    "collapsed": false
   },
   "outputs": [
    {
     "name": "stdout",
     "output_type": "stream",
     "text": [
      "Apps data: train shape (74645, 492), test shape (112071, 492)\n"
     ]
    }
   ],
   "source": [
    "d = devicelabels_week.dropna(subset=['trainrow'])\n",
    "d2 = devicelabels.dropna(subset=['trainrow'])\n",
    "Xtr_act_app = csr_matrix((( (d['is_active']/d['is_installed']) > (d2['is_active']/d2['is_installed']) ).astype(int), \n",
    "                          (d.trainrow, d.label)), \n",
    "                          shape=(gatrain.shape[0],nlabels))\n",
    "d = devicelabels_week.dropna(subset=['testrow'])\n",
    "d2 = devicelabels.dropna(subset=['testrow'])\n",
    "Xte_act_app = csr_matrix((( (d['is_active']/d['is_installed']) > (d2['is_active']/d2['is_installed']) ).astype(int), \n",
    "                          (d.testrow, d.label)), \n",
    "                        shape=(gatest.shape[0],nlabels))\n",
    "print('Apps data: train shape {}, test shape {}'.format(Xtr_act_app.shape, Xte_act_app.shape))"
   ]
  },
  {
   "cell_type": "code",
   "execution_count": 94,
   "metadata": {
    "collapsed": false
   },
   "outputs": [
    {
     "data": {
      "text/plain": [
       "matrix([[0, 0, 0, 0, 0, 0, 0, 0, 0, 0, 0, 0, 0, 0, 0, 0, 0, 0, 0, 0, 0, 0,\n",
       "         0, 0, 0, 0, 0, 0, 0, 0, 0, 0, 0, 0, 0, 0, 0, 0, 0, 0, 0, 0, 1, 0,\n",
       "         0, 0, 0, 0, 0, 0, 0, 0, 0, 0, 0, 0, 0, 0, 0, 0, 0, 0, 0, 0, 0, 0,\n",
       "         0, 0, 0, 0, 0, 0, 0, 0, 0, 0, 0, 0, 0, 0, 0, 0, 0, 0, 0, 0, 0, 0,\n",
       "         0, 0, 0, 0, 0, 0, 0, 0, 0, 0, 0, 0]])"
      ]
     },
     "execution_count": 94,
     "metadata": {},
     "output_type": "execute_result"
    }
   ],
   "source": [
    "Xte_act_app[83094].todense()[:,100:200]"
   ]
  },
  {
   "cell_type": "code",
   "execution_count": 95,
   "metadata": {
    "collapsed": true
   },
   "outputs": [],
   "source": [
    "# Save features\n",
    "with open(os.path.join(dir_out, feature_file + '_train.pickle'), 'wb') as f:\n",
    "    pickle.dump(Xtr_act_app, f, pickle.HIGHEST_PROTOCOL)\n",
    "with open(os.path.join(dir_out, feature_file + '_test.pickle'), 'wb') as f:\n",
    "    pickle.dump(Xte_act_app, f, pickle.HIGHEST_PROTOCOL)"
   ]
  },
  {
   "cell_type": "markdown",
   "metadata": {},
   "source": [
    "### App labels that are more active during day\n",
    "Bigger signal than apps more active during evening"
   ]
  },
  {
   "cell_type": "code",
   "execution_count": 96,
   "metadata": {
    "collapsed": true
   },
   "outputs": [],
   "source": [
    "feature_file = 'features_label_app_more_active_day'\n"
   ]
  },
  {
   "cell_type": "code",
   "execution_count": 97,
   "metadata": {
    "collapsed": false
   },
   "outputs": [
    {
     "name": "stdout",
     "output_type": "stream",
     "text": [
      "Apps data: train shape (74645, 492), test shape (112071, 492)\n"
     ]
    }
   ],
   "source": [
    "d = devicelabels_day.dropna(subset=['trainrow'])\n",
    "d2 = devicelabels.dropna(subset=['trainrow'])\n",
    "Xtr_act_app = csr_matrix((( (d['is_active']/d['is_installed']) > (d2['is_active']/d2['is_installed']) ).astype(int), \n",
    "                          (d.trainrow, d.label)), \n",
    "                          shape=(gatrain.shape[0],nlabels))\n",
    "d = devicelabels_day.dropna(subset=['testrow'])\n",
    "d2 = devicelabels.dropna(subset=['testrow'])\n",
    "Xte_act_app = csr_matrix((( (d['is_active']/d['is_installed']) > (d2['is_active']/d2['is_installed']) ).astype(int), \n",
    "                          (d.testrow, d.label)), \n",
    "                        shape=(gatest.shape[0],nlabels))\n",
    "print('Apps data: train shape {}, test shape {}'.format(Xtr_act_app.shape, Xte_act_app.shape))"
   ]
  },
  {
   "cell_type": "code",
   "execution_count": 98,
   "metadata": {
    "collapsed": false
   },
   "outputs": [
    {
     "data": {
      "text/plain": [
       "429780"
      ]
     },
     "execution_count": 98,
     "metadata": {},
     "output_type": "execute_result"
    }
   ],
   "source": [
    "sum(Xte_act_app[:].todense()).sum()"
   ]
  },
  {
   "cell_type": "code",
   "execution_count": 99,
   "metadata": {
    "collapsed": true
   },
   "outputs": [],
   "source": [
    "# Save features\n",
    "with open(os.path.join(dir_out, feature_file + '_train.pickle'), 'wb') as f:\n",
    "    pickle.dump(Xtr_act_app, f, pickle.HIGHEST_PROTOCOL)\n",
    "with open(os.path.join(dir_out, feature_file + '_test.pickle'), 'wb') as f:\n",
    "    pickle.dump(Xte_act_app, f, pickle.HIGHEST_PROTOCOL)"
   ]
  },
  {
   "cell_type": "code",
   "execution_count": null,
   "metadata": {
    "collapsed": true
   },
   "outputs": [],
   "source": []
  },
  {
   "cell_type": "code",
   "execution_count": null,
   "metadata": {
    "collapsed": true
   },
   "outputs": [],
   "source": []
  }
 ],
 "metadata": {
  "kernelspec": {
   "display_name": "Python 2",
   "language": "python",
   "name": "python2"
  },
  "language_info": {
   "codemirror_mode": {
    "name": "ipython",
    "version": 2
   },
   "file_extension": ".py",
   "mimetype": "text/x-python",
   "name": "python",
   "nbconvert_exporter": "python",
   "pygments_lexer": "ipython2",
   "version": "2.7.11"
  }
 },
 "nbformat": 4,
 "nbformat_minor": 0
}
