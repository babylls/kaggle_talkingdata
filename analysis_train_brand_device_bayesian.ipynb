{
 "cells": [
  {
   "cell_type": "code",
   "execution_count": 16,
   "metadata": {
    "collapsed": false
   },
   "outputs": [],
   "source": [
    "import random\n",
    "\n",
    "import pandas as pd\n",
    "import numpy as np\n",
    "import matplotlib.pyplot as plt\n",
    "import seaborn as sns\n",
    "\n",
    "from sklearn.preprocessing import LabelEncoder\n",
    "from sklearn.metrics import log_loss\n",
    "from sklearn.cross_validation import StratifiedKFold\n",
    "from sklearn.linear_model import LogisticRegression\n",
    "\n",
    "\n",
    "\n",
    "%matplotlib inline\n"
   ]
  },
  {
   "cell_type": "code",
   "execution_count": 64,
   "metadata": {
    "collapsed": false
   },
   "outputs": [
    {
     "data": {
      "text/html": [
       "<div>\n",
       "<table border=\"1\" class=\"dataframe\">\n",
       "  <thead>\n",
       "    <tr style=\"text-align: right;\">\n",
       "      <th></th>\n",
       "      <th>device_id</th>\n",
       "      <th>gender</th>\n",
       "      <th>age</th>\n",
       "      <th>group</th>\n",
       "    </tr>\n",
       "  </thead>\n",
       "  <tbody>\n",
       "    <tr>\n",
       "      <th>0</th>\n",
       "      <td>-8076087639492063270</td>\n",
       "      <td>M</td>\n",
       "      <td>35</td>\n",
       "      <td>M32-38</td>\n",
       "    </tr>\n",
       "    <tr>\n",
       "      <th>1</th>\n",
       "      <td>-2897161552818060146</td>\n",
       "      <td>M</td>\n",
       "      <td>35</td>\n",
       "      <td>M32-38</td>\n",
       "    </tr>\n",
       "    <tr>\n",
       "      <th>2</th>\n",
       "      <td>-8260683887967679142</td>\n",
       "      <td>M</td>\n",
       "      <td>35</td>\n",
       "      <td>M32-38</td>\n",
       "    </tr>\n",
       "  </tbody>\n",
       "</table>\n",
       "</div>"
      ],
      "text/plain": [
       "             device_id gender  age   group\n",
       "0 -8076087639492063270      M   35  M32-38\n",
       "1 -2897161552818060146      M   35  M32-38\n",
       "2 -8260683887967679142      M   35  M32-38"
      ]
     },
     "execution_count": 64,
     "metadata": {},
     "output_type": "execute_result"
    }
   ],
   "source": [
    "gatrain = pd.read_csv('./data_ori/gender_age_train.csv')\n",
    "gatrain.head(3)"
   ]
  },
  {
   "cell_type": "code",
   "execution_count": 65,
   "metadata": {
    "collapsed": false
   },
   "outputs": [],
   "source": [
    "letarget = LabelEncoder().fit(gatrain.group.values)\n",
    "y = letarget.transform(gatrain.group.values)\n",
    "n_classes = len(letarget.classes_)"
   ]
  },
  {
   "cell_type": "code",
   "execution_count": 66,
   "metadata": {
    "collapsed": false
   },
   "outputs": [],
   "source": [
    "pred = np.ones((gatrain.shape[0],n_classes))/n_classes"
   ]
  },
  {
   "cell_type": "code",
   "execution_count": 67,
   "metadata": {
    "collapsed": false
   },
   "outputs": [
    {
     "data": {
      "text/plain": [
       "array([[ 0.08333333,  0.08333333,  0.08333333,  0.08333333,  0.08333333,\n",
       "         0.08333333,  0.08333333,  0.08333333,  0.08333333,  0.08333333,\n",
       "         0.08333333,  0.08333333],\n",
       "       [ 0.08333333,  0.08333333,  0.08333333,  0.08333333,  0.08333333,\n",
       "         0.08333333,  0.08333333,  0.08333333,  0.08333333,  0.08333333,\n",
       "         0.08333333,  0.08333333],\n",
       "       [ 0.08333333,  0.08333333,  0.08333333,  0.08333333,  0.08333333,\n",
       "         0.08333333,  0.08333333,  0.08333333,  0.08333333,  0.08333333,\n",
       "         0.08333333,  0.08333333],\n",
       "       [ 0.08333333,  0.08333333,  0.08333333,  0.08333333,  0.08333333,\n",
       "         0.08333333,  0.08333333,  0.08333333,  0.08333333,  0.08333333,\n",
       "         0.08333333,  0.08333333],\n",
       "       [ 0.08333333,  0.08333333,  0.08333333,  0.08333333,  0.08333333,\n",
       "         0.08333333,  0.08333333,  0.08333333,  0.08333333,  0.08333333,\n",
       "         0.08333333,  0.08333333]])"
      ]
     },
     "execution_count": 67,
     "metadata": {},
     "output_type": "execute_result"
    }
   ],
   "source": [
    "pred[0:5]"
   ]
  },
  {
   "cell_type": "code",
   "execution_count": 68,
   "metadata": {
    "collapsed": false
   },
   "outputs": [
    {
     "data": {
      "text/plain": [
       "2.4849066497880012"
      ]
     },
     "execution_count": 68,
     "metadata": {},
     "output_type": "execute_result"
    }
   ],
   "source": [
    "log_loss(y, pred)\n"
   ]
  },
  {
   "cell_type": "code",
   "execution_count": 69,
   "metadata": {
    "collapsed": false
   },
   "outputs": [
    {
     "name": "stdout",
     "output_type": "stream",
     "text": [
      "2.42786225336\n"
     ]
    }
   ],
   "source": [
    "kf = StratifiedKFold(y, n_folds=10, shuffle=True, random_state=0)\n",
    "pred = np.zeros((gatrain.shape[0],n_classes))\n",
    "for itrain, itest in kf:\n",
    "    train = gatrain.iloc[itrain,:]\n",
    "    test = gatrain.iloc[itest,:]\n",
    "    ytrain, ytest = y[itrain], y[itest]\n",
    "    prob = train.groupby('group').size()/train.shape[0]\n",
    "    pred[itest,:] = prob.values\n",
    "print(log_loss(y, pred))"
   ]
  },
  {
   "cell_type": "code",
   "execution_count": 70,
   "metadata": {
    "collapsed": false
   },
   "outputs": [
    {
     "data": {
      "text/html": [
       "<div>\n",
       "<table border=\"1\" class=\"dataframe\">\n",
       "  <thead>\n",
       "    <tr style=\"text-align: right;\">\n",
       "      <th></th>\n",
       "      <th>device_id</th>\n",
       "      <th>phone_brand</th>\n",
       "      <th>device_model</th>\n",
       "    </tr>\n",
       "  </thead>\n",
       "  <tbody>\n",
       "    <tr>\n",
       "      <th>0</th>\n",
       "      <td>-8890648629457979026</td>\n",
       "      <td>小米</td>\n",
       "      <td>红米</td>\n",
       "    </tr>\n",
       "    <tr>\n",
       "      <th>1</th>\n",
       "      <td>1277779817574759137</td>\n",
       "      <td>小米</td>\n",
       "      <td>MI 2</td>\n",
       "    </tr>\n",
       "    <tr>\n",
       "      <th>2</th>\n",
       "      <td>5137427614288105724</td>\n",
       "      <td>三星</td>\n",
       "      <td>Galaxy S4</td>\n",
       "    </tr>\n",
       "  </tbody>\n",
       "</table>\n",
       "</div>"
      ],
      "text/plain": [
       "             device_id phone_brand device_model\n",
       "0 -8890648629457979026          小米           红米\n",
       "1  1277779817574759137          小米         MI 2\n",
       "2  5137427614288105724          三星    Galaxy S4"
      ]
     },
     "execution_count": 70,
     "metadata": {},
     "output_type": "execute_result"
    }
   ],
   "source": [
    "phone = pd.read_csv('./data_ori/phone_brand_device_model.csv',encoding='utf-8')\n",
    "phone = phone.drop_duplicates('device_id', keep='first')\n",
    "phone.head(3)"
   ]
  },
  {
   "cell_type": "code",
   "execution_count": 71,
   "metadata": {
    "collapsed": false
   },
   "outputs": [
    {
     "data": {
      "text/html": [
       "<div>\n",
       "<table border=\"1\" class=\"dataframe\">\n",
       "  <thead>\n",
       "    <tr style=\"text-align: right;\">\n",
       "      <th></th>\n",
       "      <th>device_id</th>\n",
       "      <th>gender</th>\n",
       "      <th>age</th>\n",
       "      <th>group</th>\n",
       "      <th>brand</th>\n",
       "      <th>model</th>\n",
       "    </tr>\n",
       "  </thead>\n",
       "  <tbody>\n",
       "    <tr>\n",
       "      <th>0</th>\n",
       "      <td>-8076087639492063270</td>\n",
       "      <td>M</td>\n",
       "      <td>35</td>\n",
       "      <td>M32-38</td>\n",
       "      <td>51</td>\n",
       "      <td>843</td>\n",
       "    </tr>\n",
       "    <tr>\n",
       "      <th>1</th>\n",
       "      <td>-2897161552818060146</td>\n",
       "      <td>M</td>\n",
       "      <td>35</td>\n",
       "      <td>M32-38</td>\n",
       "      <td>51</td>\n",
       "      <td>843</td>\n",
       "    </tr>\n",
       "    <tr>\n",
       "      <th>2</th>\n",
       "      <td>-8260683887967679142</td>\n",
       "      <td>M</td>\n",
       "      <td>35</td>\n",
       "      <td>M32-38</td>\n",
       "      <td>51</td>\n",
       "      <td>843</td>\n",
       "    </tr>\n",
       "  </tbody>\n",
       "</table>\n",
       "</div>"
      ],
      "text/plain": [
       "             device_id gender  age   group  brand  model\n",
       "0 -8076087639492063270      M   35  M32-38     51    843\n",
       "1 -2897161552818060146      M   35  M32-38     51    843\n",
       "2 -8260683887967679142      M   35  M32-38     51    843"
      ]
     },
     "execution_count": 71,
     "metadata": {},
     "output_type": "execute_result"
    }
   ],
   "source": [
    "lebrand = LabelEncoder().fit(phone.phone_brand)\n",
    "phone['brand'] = lebrand.transform(phone.phone_brand)\n",
    "m = phone.phone_brand.str.cat(phone.device_model)\n",
    "lemodel = LabelEncoder().fit(m)\n",
    "phone['model'] = lemodel.transform(m)\n",
    "\n",
    "ptrain = gatrain.merge(phone[['device_id','brand','model']], how='left',on='device_id')\n",
    "ptrain.head(3)"
   ]
  },
  {
   "cell_type": "markdown",
   "metadata": {},
   "source": [
    "## Using Bayesian model\n",
    "https://www.kaggle.com/dvasyukova/talkingdata-mobile-user-demographics/brand-and-model-based-benchmarks/comments"
   ]
  },
  {
   "cell_type": "code",
   "execution_count": 72,
   "metadata": {
    "collapsed": true
   },
   "outputs": [],
   "source": [
    "class GenderAgeGroupProb(object):\n",
    "    def __init__(self, prior_weight=10.):\n",
    "        self.prior_weight = prior_weight\n",
    "    \n",
    "    def fit(self, df, by):\n",
    "        self.by = by\n",
    "        #self.label = 'pF_' + by\n",
    "        self.prior = df['group'].value_counts().sort_index()/df.shape[0]\n",
    "        # fit gender probs by grouping column\n",
    "        c = df.groupby([by, 'group']).size().unstack().fillna(0)\n",
    "        total = c.sum(axis=1)\n",
    "        self.prob = (c.add(self.prior_weight*self.prior)).div(c.sum(axis=1)+self.prior_weight, axis=0)\n",
    "        return self\n",
    "    \n",
    "    def predict_proba(self, df):\n",
    "        pred = df[[self.by]].merge(self.prob, how='left', \n",
    "                                left_on=self.by, right_index=True).fillna(self.prior)[self.prob.columns]\n",
    "        pred.loc[pred.iloc[:,0].isnull(),:] = self.prior\n",
    "        return pred.values\n",
    "    \n",
    "def score(ptrain, by, prior_weight=10.):\n",
    "    kf = StratifiedKFold(y, n_folds=10, shuffle=True, random_state=0)\n",
    "    pred = np.zeros((ptrain.shape[0],n_classes))\n",
    "    for itrain, itest in kf:\n",
    "        train = ptrain.iloc[itrain,:]\n",
    "        test = ptrain.iloc[itest,:]\n",
    "        ytrain, ytest = y[itrain], y[itest]\n",
    "        clf = GenderAgeGroupProb(prior_weight=prior_weight).fit(train,by)\n",
    "        pred[itest,:] = clf.predict_proba(test)\n",
    "    return log_loss(y, pred)"
   ]
  },
  {
   "cell_type": "code",
   "execution_count": 73,
   "metadata": {
    "collapsed": false
   },
   "outputs": [
    {
     "data": {
      "text/plain": [
       "<matplotlib.text.Text at 0x11681c850>"
      ]
     },
     "execution_count": 73,
     "metadata": {},
     "output_type": "execute_result"
    },
    {
     "data": {
      "image/png": "[encoded data removed]",
      "text/plain": [
       "<matplotlib.figure.Figure at 0x1169f9910>"
      ]
     },
     "metadata": {},
     "output_type": "display_data"
    }
   ],
   "source": [
    "weights = [0.5, 1., 5., 10., 20.,30.,40.,50.,100.]\n",
    "res = [score(ptrain,'model',prior_weight=w) for w in weights]\n",
    "plt.plot(weights, res)\n",
    "plt.title('Best score {:.5f} at prior_weight = {}'.format(np.min(res),weights[np.argmin(res)]))\n",
    "plt.xlabel('prior_weight')"
   ]
  },
  {
   "cell_type": "code",
   "execution_count": 74,
   "metadata": {
    "collapsed": false
   },
   "outputs": [],
   "source": [
    "# Best weight for brand: 40\n",
    "# Best weight for device: 50"
   ]
  },
  {
   "cell_type": "code",
   "execution_count": 75,
   "metadata": {
    "collapsed": false
   },
   "outputs": [],
   "source": [
    "s = 100\n",
    "kf = StratifiedKFold(y, n_folds=10, shuffle=True, random_state=s)\n",
    "predb = np.zeros((ptrain.shape[0],n_classes))\n",
    "predm = np.zeros((ptrain.shape[0],n_classes))\n",
    "for itrain, itest in kf:\n",
    "    train = ptrain.iloc[itrain,:]\n",
    "    test = ptrain.iloc[itest,:]\n",
    "    ytrain, ytest = y[itrain], y[itest]\n",
    "    clf = GenderAgeGroupProb(prior_weight=20.).fit(train,'brand')\n",
    "    predb[itest,:] = clf.predict_proba(test)\n",
    "    clf = GenderAgeGroupProb(prior_weight=20.).fit(train,'model')\n",
    "    predm[itest,:] = clf.predict_proba(test)\n"
   ]
  },
  {
   "cell_type": "code",
   "execution_count": 76,
   "metadata": {
    "collapsed": false
   },
   "outputs": [
    {
     "data": {
      "text/plain": [
       "2.3895194485695672"
      ]
     },
     "execution_count": 76,
     "metadata": {},
     "output_type": "execute_result"
    }
   ],
   "source": [
    "w1, w2 = 1, 1.8\n",
    "log_loss(y, (w1*predb+w2*predm)/(w1+w2))"
   ]
  },
  {
   "cell_type": "markdown",
   "metadata": {},
   "source": [
    "We have the following variables for this model\n",
    "- Prior weight\n",
    "- Weights brand/model\n",
    "- Seed\n",
    "- Number of folds"
   ]
  },
  {
   "cell_type": "markdown",
   "metadata": {},
   "source": [
    "### Test prior weight"
   ]
  },
  {
   "cell_type": "code",
   "execution_count": 77,
   "metadata": {
    "collapsed": false
   },
   "outputs": [
    {
     "name": "stdout",
     "output_type": "stream",
     "text": [
      "2.38955217791\n",
      "2.38950495255\n",
      "2.38949667294\n",
      "2.38950133797\n",
      "2.38951136217\n",
      "2.38952378303\n"
     ]
    }
   ],
   "source": [
    "s=9999\n",
    "kf = StratifiedKFold(y, n_folds=10, shuffle=True, random_state=s)\n",
    "predb = np.zeros((ptrain.shape[0],n_classes))\n",
    "predm = np.zeros((ptrain.shape[0],n_classes))\n",
    "for ws in [10., 20., 30., 40., 50., 60.]:\n",
    "    for itrain, itest in kf:\n",
    "        train = ptrain.iloc[itrain,:]\n",
    "        test = ptrain.iloc[itest,:]\n",
    "        ytrain, ytest = y[itrain], y[itest]\n",
    "        clf = GenderAgeGroupProb(prior_weight=ws).fit(train,'brand')\n",
    "        predb[itest,:] = clf.predict_proba(test)\n",
    "        clf = GenderAgeGroupProb(prior_weight=20.).fit(train,'model')\n",
    "        predm[itest,:] = clf.predict_proba(test)\n",
    "    print log_loss(y, (w1*predb+w2*predm)/(w1+w2))"
   ]
  },
  {
   "cell_type": "markdown",
   "metadata": {},
   "source": [
    "For brand: (consistent with seed)\n",
    "10: 2.3895645807\n",
    "20: 2.38951944857\n",
    "30: 2.3895114353 * Minimum\n",
    "40: 2.38951560074\n",
    "50: 2.38952474388\n",
    "60: 2.38953608403\n",
    "\n",
    "For device: (consistent with seed)\n",
    "10: 2.39029824291\n",
    "20: 2.3895114353 * Minimum\n",
    "30: 2.38965792994\n",
    "40: 2.39001784009\n",
    "50: 2.39043342904\n",
    "60: 2.39085576399"
   ]
  },
  {
   "cell_type": "markdown",
   "metadata": {},
   "source": [
    "### Weights brand/model"
   ]
  },
  {
   "cell_type": "code",
   "execution_count": 78,
   "metadata": {
    "collapsed": false
   },
   "outputs": [
    {
     "name": "stdout",
     "output_type": "stream",
     "text": [
      "2.38951324136\n"
     ]
    }
   ],
   "source": [
    "s=50\n",
    "kf = StratifiedKFold(y, n_folds=10, shuffle=True, random_state=s)\n",
    "predb = np.zeros((ptrain.shape[0],n_classes))\n",
    "predm = np.zeros((ptrain.shape[0],n_classes))\n",
    "\n",
    "for itrain, itest in kf:\n",
    "    train = ptrain.iloc[itrain,:]\n",
    "    test = ptrain.iloc[itest,:]\n",
    "    ytrain, ytest = y[itrain], y[itest]\n",
    "    clf = GenderAgeGroupProb(prior_weight=30.).fit(train,'brand')\n",
    "    predb[itest,:] = clf.predict_proba(test)\n",
    "    clf = GenderAgeGroupProb(prior_weight=20.).fit(train,'model')\n",
    "    predm[itest,:] = clf.predict_proba(test)\n",
    "print log_loss(y, (w1*predb+w2*predm)/(w1+w2))"
   ]
  },
  {
   "cell_type": "code",
   "execution_count": 48,
   "metadata": {
    "collapsed": false
   },
   "outputs": [
    {
     "name": "stdout",
     "output_type": "stream",
     "text": [
      "1.1 : 2.38934992139\n",
      "1.2 : 2.38929668366\n",
      "1.3 : 2.3892800324\n",
      "1.4 : 2.38929169768\n",
      "1.5 : 2.38932529917\n",
      "1.6 : 2.38937587558\n",
      "1.7 : 2.38943954265\n",
      "1.8 : 2.38951324136\n"
     ]
    }
   ],
   "source": [
    "w1, w2 = 1, 1.3\n",
    "for w2 in [1.1, 1.2, 1.3, 1.4, 1.5, 1.6, 1.7, 1.8]:\n",
    "    print w2, ':', log_loss(y, (w1*predb+w2*predm)/(w1+w2))"
   ]
  },
  {
   "cell_type": "markdown",
   "metadata": {},
   "source": [
    "1.1 : 2.38935143238\n",
    "1.2 : 2.38930020121\n",
    "1.3 : 2.389285235 * Minimum (consistent with different seeds)\n",
    "1.4 : 2.38929832534\n",
    "1.5 : 2.38933313955\n",
    "1.6 : 2.38938475374\n",
    "1.7 : 2.38944931332\n",
    "1.8 : 2.38952378303"
   ]
  },
  {
   "cell_type": "markdown",
   "metadata": {},
   "source": [
    "### Random seed"
   ]
  },
  {
   "cell_type": "code",
   "execution_count": 56,
   "metadata": {
    "collapsed": false
   },
   "outputs": [
    {
     "name": "stdout",
     "output_type": "stream",
     "text": [
      "72150 : 2.38977579011\n",
      "61255 : 2.38967405862\n",
      "27285 : 2.3895752101\n",
      "11696 : 2.38967676905\n",
      "98028 : 2.38954572192\n",
      "45870 : 2.38946510089\n",
      "69679 : 2.38939001884\n",
      "80186 : 2.3896153465\n",
      "17831 : 2.38988526401\n",
      "71981 : 2.38942728903\n",
      "49223 : 2.38955628212\n",
      "25456 : 2.38953473133\n",
      "16610 : 2.38975447098\n",
      "65793 : 2.39010127512\n",
      "46480 : 2.38951752224\n",
      "1144 : 2.39015718582\n",
      "21034 : 2.38984800773\n",
      "24854 : 2.38983676749\n",
      "26706 : 2.38967024259\n",
      "55971 : 2.38945183613\n",
      "29081 : 2.38956048651\n",
      "84383 : 2.389803493\n",
      "8509 : 2.38990635515\n",
      "33300 : 2.38944579915\n",
      "15723 : 2.38963095917\n",
      "48489 : 2.38929440537\n",
      "57036 : 2.38938996923\n",
      "88302 : 2.3896301587\n",
      "65890 : 2.38968032679\n",
      "74521 : 2.38938524884\n",
      "70645 : 2.38953387915\n",
      "34960 : 2.38972380816\n",
      "77243 : 2.38952086837\n",
      "48821 : 2.38941726266\n",
      "18464 : 2.3894336465\n",
      "74371 : 2.38986295447\n",
      "91912 : 2.38963631099\n",
      "77589 : 2.38976102378\n",
      "64185 : 2.38937159177\n",
      "26376 : 2.38949583\n",
      "68088 : 2.38981414279\n",
      "55882 : 2.38963342789\n",
      "39997 : 2.38984470005\n",
      "72232 : 2.38987299001\n",
      "77460 : 2.38962814178\n",
      "44674 : 2.38969713619\n",
      "42349 : 2.38952134846\n",
      "38645 : 2.38953708272\n",
      "25270 : 2.38941989133\n",
      "10279 : 2.38959281588\n"
     ]
    }
   ],
   "source": [
    "predbs = []\n",
    "predms = []\n",
    "for s in random.sample(xrange(99999), 50):\n",
    "    kf = StratifiedKFold(y, n_folds=10, shuffle=True, random_state=s)\n",
    "    predb = np.zeros((ptrain.shape[0],n_classes))\n",
    "    predm = np.zeros((ptrain.shape[0],n_classes))\n",
    "\n",
    "    for itrain, itest in kf:\n",
    "        train = ptrain.iloc[itrain,:]\n",
    "        test = ptrain.iloc[itest,:]\n",
    "        ytrain, ytest = y[itrain], y[itest]\n",
    "        clf = GenderAgeGroupProb(prior_weight=30.).fit(train,'brand')\n",
    "        predb[itest,:] = clf.predict_proba(test)\n",
    "        clf = GenderAgeGroupProb(prior_weight=20.).fit(train,'model')\n",
    "        predm[itest,:] = clf.predict_proba(test)\n",
    "    predbs.append(predb)\n",
    "    predms.append(predm)\n",
    "    print s, ':', log_loss(y, (w1*predb+w2*predm)/(w1+w2))"
   ]
  },
  {
   "cell_type": "code",
   "execution_count": 58,
   "metadata": {
    "collapsed": false
   },
   "outputs": [
    {
     "data": {
      "text/plain": [
       "2.3886149544606239"
      ]
     },
     "execution_count": 58,
     "metadata": {},
     "output_type": "execute_result"
    }
   ],
   "source": [
    "n = len(predbs)\n",
    "log_loss(y, w1*sum(predbs)/n+w2*sum(predms)/n)"
   ]
  },
  {
   "cell_type": "code",
   "execution_count": 59,
   "metadata": {
    "collapsed": false
   },
   "outputs": [
    {
     "name": "stdout",
     "output_type": "stream",
     "text": [
      "1 : 2.38977579011\n",
      "2 : 2.38919230812\n",
      "5 : 2.38881288005\n",
      "10 : 2.38867036335\n",
      "20 : 2.38868404388\n",
      "30 : 2.38863625771\n",
      "40 : 2.38861310556\n",
      "50 : 2.38861495446\n"
     ]
    }
   ],
   "source": [
    "for n in [1,2,5,10,20,30,40,50]:\n",
    "    print n, ':', log_loss(y, w1*sum(predbs[0:n])/n+w2*sum(predms[0:n])/n)"
   ]
  },
  {
   "cell_type": "markdown",
   "metadata": {},
   "source": [
    "Optimimum around 40 different seeds"
   ]
  },
  {
   "cell_type": "markdown",
   "metadata": {},
   "source": [
    "### Number of folds"
   ]
  },
  {
   "cell_type": "code",
   "execution_count": 63,
   "metadata": {
    "collapsed": false
   },
   "outputs": [
    {
     "name": "stdout",
     "output_type": "stream",
     "text": [
      "5 : 2.39093825532\n",
      "10 : 2.38959281588\n",
      "20 : 2.38898929513\n",
      "50 : 2.38890334591\n",
      "100 : 2.38865502875\n",
      "200 : 2.38864451041\n",
      "500 : 2.38856407469\n"
     ]
    }
   ],
   "source": [
    "for n_fold in [5, 10, 20, 50, 100, 200, 500]:\n",
    "    kf = StratifiedKFold(y, n_folds=n_fold, shuffle=True, random_state=s)\n",
    "    predb = np.zeros((ptrain.shape[0],n_classes))\n",
    "    predm = np.zeros((ptrain.shape[0],n_classes))\n",
    "\n",
    "    for itrain, itest in kf:\n",
    "        train = ptrain.iloc[itrain,:]\n",
    "        test = ptrain.iloc[itest,:]\n",
    "        ytrain, ytest = y[itrain], y[itest]\n",
    "        clf = GenderAgeGroupProb(prior_weight=30.).fit(train,'brand')\n",
    "        predb[itest,:] = clf.predict_proba(test)\n",
    "        clf = GenderAgeGroupProb(prior_weight=20.).fit(train,'model')\n",
    "        predm[itest,:] = clf.predict_proba(test)\n",
    "\n",
    "    print n_fold, ':', log_loss(y, (w1*predb+w2*predm)/(w1+w2))"
   ]
  },
  {
   "cell_type": "code",
   "execution_count": null,
   "metadata": {
    "collapsed": true
   },
   "outputs": [],
   "source": []
  }
 ],
 "metadata": {
  "kernelspec": {
   "display_name": "Python 2",
   "language": "python",
   "name": "python2"
  },
  "language_info": {
   "codemirror_mode": {
    "name": "ipython",
    "version": 2
   },
   "file_extension": ".py",
   "mimetype": "text/x-python",
   "name": "python",
   "nbconvert_exporter": "python",
   "pygments_lexer": "ipython2",
   "version": "2.7.11"
  }
 },
 "nbformat": 4,
 "nbformat_minor": 0
}
