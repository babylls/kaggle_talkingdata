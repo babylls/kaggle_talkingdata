{
 "cells": [
  {
   "cell_type": "markdown",
   "metadata": {},
   "source": [
    "# Train level 0: Bayesian model\n",
    "Based on:\n",
    "https://www.kaggle.com/dvasyukova/talkingdata-mobile-user-demographics/brand-and-model-based-benchmarks/comments\n",
    "\n",
    "- V0: Uses 10-fold CV \n",
    "- V1: Uses predefined dataset & combined models"
   ]
  },
  {
   "cell_type": "code",
   "execution_count": 63,
   "metadata": {
    "collapsed": false
   },
   "outputs": [],
   "source": [
    "import random\n",
    "import os\n",
    "import datetime\n",
    "import pickle\n",
    "\n",
    "import pandas as pd\n",
    "import numpy as np\n",
    "import matplotlib.pyplot as plt\n",
    "import seaborn as sns\n",
    "\n",
    "from sklearn.preprocessing import LabelEncoder\n",
    "from sklearn.metrics import log_loss\n",
    "from sklearn.cross_validation import StratifiedKFold\n",
    "from sklearn.linear_model import LogisticRegression\n",
    "\n",
    "%matplotlib inline\n"
   ]
  },
  {
   "cell_type": "code",
   "execution_count": 60,
   "metadata": {
    "collapsed": true
   },
   "outputs": [],
   "source": [
    "dir_in = 'data_ori'\n",
    "dir_feat = 'data'\n",
    "dir_out = 'model_0_bayes'\n",
    "\n",
    "description = 'models_bayes_0_V1'"
   ]
  },
  {
   "cell_type": "markdown",
   "metadata": {},
   "source": [
    "## Load data"
   ]
  },
  {
   "cell_type": "code",
   "execution_count": 4,
   "metadata": {
    "collapsed": false
   },
   "outputs": [],
   "source": [
    "gatrain = pd.read_csv(os.path.join(dir_in, 'gender_age_train.csv'))\n",
    "gatest = pd.read_csv(os.path.join(dir_in, 'gender_age_test.csv'))\n"
   ]
  },
  {
   "cell_type": "code",
   "execution_count": 5,
   "metadata": {
    "collapsed": false
   },
   "outputs": [],
   "source": [
    "letarget = LabelEncoder().fit(gatrain.group.values)\n",
    "y = letarget.transform(gatrain.group.values)\n",
    "n_classes = len(letarget.classes_)"
   ]
  },
  {
   "cell_type": "code",
   "execution_count": 6,
   "metadata": {
    "collapsed": false
   },
   "outputs": [
    {
     "data": {
      "text/html": [
       "<div>\n",
       "<table border=\"1\" class=\"dataframe\">\n",
       "  <thead>\n",
       "    <tr style=\"text-align: right;\">\n",
       "      <th></th>\n",
       "      <th>device_id</th>\n",
       "      <th>phone_brand</th>\n",
       "      <th>device_model</th>\n",
       "    </tr>\n",
       "  </thead>\n",
       "  <tbody>\n",
       "    <tr>\n",
       "      <th>0</th>\n",
       "      <td>-8890648629457979026</td>\n",
       "      <td>小米</td>\n",
       "      <td>红米</td>\n",
       "    </tr>\n",
       "    <tr>\n",
       "      <th>1</th>\n",
       "      <td>1277779817574759137</td>\n",
       "      <td>小米</td>\n",
       "      <td>MI 2</td>\n",
       "    </tr>\n",
       "    <tr>\n",
       "      <th>2</th>\n",
       "      <td>5137427614288105724</td>\n",
       "      <td>三星</td>\n",
       "      <td>Galaxy S4</td>\n",
       "    </tr>\n",
       "  </tbody>\n",
       "</table>\n",
       "</div>"
      ],
      "text/plain": [
       "             device_id phone_brand device_model\n",
       "0 -8890648629457979026          小米           红米\n",
       "1  1277779817574759137          小米         MI 2\n",
       "2  5137427614288105724          三星    Galaxy S4"
      ]
     },
     "execution_count": 6,
     "metadata": {},
     "output_type": "execute_result"
    }
   ],
   "source": [
    "phone = pd.read_csv('./data_ori/phone_brand_device_model.csv',encoding='utf-8')\n",
    "phone = phone.drop_duplicates('device_id', keep='first')\n",
    "phone.head(3)"
   ]
  },
  {
   "cell_type": "code",
   "execution_count": 7,
   "metadata": {
    "collapsed": false
   },
   "outputs": [
    {
     "data": {
      "text/html": [
       "<div>\n",
       "<table border=\"1\" class=\"dataframe\">\n",
       "  <thead>\n",
       "    <tr style=\"text-align: right;\">\n",
       "      <th></th>\n",
       "      <th>device_id</th>\n",
       "      <th>gender</th>\n",
       "      <th>age</th>\n",
       "      <th>group</th>\n",
       "      <th>brand</th>\n",
       "      <th>model</th>\n",
       "    </tr>\n",
       "  </thead>\n",
       "  <tbody>\n",
       "    <tr>\n",
       "      <th>0</th>\n",
       "      <td>-8076087639492063270</td>\n",
       "      <td>M</td>\n",
       "      <td>35</td>\n",
       "      <td>M32-38</td>\n",
       "      <td>51</td>\n",
       "      <td>843</td>\n",
       "    </tr>\n",
       "    <tr>\n",
       "      <th>1</th>\n",
       "      <td>-2897161552818060146</td>\n",
       "      <td>M</td>\n",
       "      <td>35</td>\n",
       "      <td>M32-38</td>\n",
       "      <td>51</td>\n",
       "      <td>843</td>\n",
       "    </tr>\n",
       "    <tr>\n",
       "      <th>2</th>\n",
       "      <td>-8260683887967679142</td>\n",
       "      <td>M</td>\n",
       "      <td>35</td>\n",
       "      <td>M32-38</td>\n",
       "      <td>51</td>\n",
       "      <td>843</td>\n",
       "    </tr>\n",
       "  </tbody>\n",
       "</table>\n",
       "</div>"
      ],
      "text/plain": [
       "             device_id gender  age   group  brand  model\n",
       "0 -8076087639492063270      M   35  M32-38     51    843\n",
       "1 -2897161552818060146      M   35  M32-38     51    843\n",
       "2 -8260683887967679142      M   35  M32-38     51    843"
      ]
     },
     "execution_count": 7,
     "metadata": {},
     "output_type": "execute_result"
    }
   ],
   "source": [
    "lebrand = LabelEncoder().fit(phone.phone_brand)\n",
    "phone['brand'] = lebrand.transform(phone.phone_brand)\n",
    "m = phone.phone_brand.str.cat(phone.device_model)\n",
    "lemodel = LabelEncoder().fit(m)\n",
    "phone['model'] = lemodel.transform(m)\n",
    "\n",
    "Xtrain = gatrain.merge(phone[['device_id','brand','model']], how='left',on='device_id')\n",
    "Xtest = gatest.merge(phone[['device_id','brand','model']], how='left',on='device_id')\n",
    "Xtrain.head(3)"
   ]
  },
  {
   "cell_type": "code",
   "execution_count": 8,
   "metadata": {
    "collapsed": true
   },
   "outputs": [],
   "source": [
    "# Load CV sets\n",
    "train_cv = pd.read_csv(os.path.join(dir_in, 'gender_age_train_cv.csv'))\n",
    "test_cv = pd.read_csv(os.path.join(dir_in, 'gender_age_test_cv.csv'))"
   ]
  },
  {
   "cell_type": "code",
   "execution_count": 45,
   "metadata": {
    "collapsed": true
   },
   "outputs": [],
   "source": [
    "X_train, X_val = Xtrain.loc[train_cv.sample_nr, :], Xtrain.loc[test_cv.sample_nr, :]\n",
    "y_train, y_val = y[train_cv.sample_nr], y[test_cv.sample_nr]"
   ]
  },
  {
   "cell_type": "code",
   "execution_count": 46,
   "metadata": {
    "collapsed": false
   },
   "outputs": [
    {
     "data": {
      "text/html": [
       "<div>\n",
       "<table border=\"1\" class=\"dataframe\">\n",
       "  <thead>\n",
       "    <tr style=\"text-align: right;\">\n",
       "      <th></th>\n",
       "      <th>device_id</th>\n",
       "      <th>gender</th>\n",
       "      <th>age</th>\n",
       "      <th>group</th>\n",
       "      <th>brand</th>\n",
       "      <th>model</th>\n",
       "    </tr>\n",
       "  </thead>\n",
       "  <tbody>\n",
       "    <tr>\n",
       "      <th>1492</th>\n",
       "      <td>-6939393211204340051</td>\n",
       "      <td>F</td>\n",
       "      <td>22</td>\n",
       "      <td>F23-</td>\n",
       "      <td>13</td>\n",
       "      <td>264</td>\n",
       "    </tr>\n",
       "    <tr>\n",
       "      <th>42613</th>\n",
       "      <td>4707300503949486411</td>\n",
       "      <td>M</td>\n",
       "      <td>30</td>\n",
       "      <td>M29-31</td>\n",
       "      <td>51</td>\n",
       "      <td>865</td>\n",
       "    </tr>\n",
       "    <tr>\n",
       "      <th>21842</th>\n",
       "      <td>-1456321005371064978</td>\n",
       "      <td>M</td>\n",
       "      <td>45</td>\n",
       "      <td>M39+</td>\n",
       "      <td>13</td>\n",
       "      <td>214</td>\n",
       "    </tr>\n",
       "    <tr>\n",
       "      <th>12212</th>\n",
       "      <td>-9158734172103205235</td>\n",
       "      <td>F</td>\n",
       "      <td>22</td>\n",
       "      <td>F23-</td>\n",
       "      <td>7</td>\n",
       "      <td>160</td>\n",
       "    </tr>\n",
       "    <tr>\n",
       "      <th>27235</th>\n",
       "      <td>3570714957564079372</td>\n",
       "      <td>M</td>\n",
       "      <td>43</td>\n",
       "      <td>M39+</td>\n",
       "      <td>31</td>\n",
       "      <td>730</td>\n",
       "    </tr>\n",
       "    <tr>\n",
       "      <th>31731</th>\n",
       "      <td>1585261055807865350</td>\n",
       "      <td>F</td>\n",
       "      <td>37</td>\n",
       "      <td>F33-42</td>\n",
       "      <td>51</td>\n",
       "      <td>859</td>\n",
       "    </tr>\n",
       "    <tr>\n",
       "      <th>22800</th>\n",
       "      <td>1886824808792789562</td>\n",
       "      <td>F</td>\n",
       "      <td>41</td>\n",
       "      <td>F33-42</td>\n",
       "      <td>18</td>\n",
       "      <td>493</td>\n",
       "    </tr>\n",
       "    <tr>\n",
       "      <th>55268</th>\n",
       "      <td>-9215766592714662253</td>\n",
       "      <td>F</td>\n",
       "      <td>34</td>\n",
       "      <td>F33-42</td>\n",
       "      <td>117</td>\n",
       "      <td>1537</td>\n",
       "    </tr>\n",
       "    <tr>\n",
       "      <th>30518</th>\n",
       "      <td>-1516830556977021558</td>\n",
       "      <td>F</td>\n",
       "      <td>24</td>\n",
       "      <td>F24-26</td>\n",
       "      <td>31</td>\n",
       "      <td>730</td>\n",
       "    </tr>\n",
       "    <tr>\n",
       "      <th>67501</th>\n",
       "      <td>8724946949735794672</td>\n",
       "      <td>M</td>\n",
       "      <td>23</td>\n",
       "      <td>M23-26</td>\n",
       "      <td>31</td>\n",
       "      <td>665</td>\n",
       "    </tr>\n",
       "  </tbody>\n",
       "</table>\n",
       "</div>"
      ],
      "text/plain": [
       "                 device_id gender  age   group  brand  model\n",
       "1492  -6939393211204340051      F   22    F23-     13    264\n",
       "42613  4707300503949486411      M   30  M29-31     51    865\n",
       "21842 -1456321005371064978      M   45    M39+     13    214\n",
       "12212 -9158734172103205235      F   22    F23-      7    160\n",
       "27235  3570714957564079372      M   43    M39+     31    730\n",
       "31731  1585261055807865350      F   37  F33-42     51    859\n",
       "22800  1886824808792789562      F   41  F33-42     18    493\n",
       "55268 -9215766592714662253      F   34  F33-42    117   1537\n",
       "30518 -1516830556977021558      F   24  F24-26     31    730\n",
       "67501  8724946949735794672      M   23  M23-26     31    665"
      ]
     },
     "execution_count": 46,
     "metadata": {},
     "output_type": "execute_result"
    }
   ],
   "source": [
    "X_train.sample(10)"
   ]
  },
  {
   "cell_type": "markdown",
   "metadata": {},
   "source": [
    "## Calculate and store model"
   ]
  },
  {
   "cell_type": "code",
   "execution_count": 52,
   "metadata": {
    "collapsed": true
   },
   "outputs": [],
   "source": [
    "class GenderAgeGroupProbCombined(object):\n",
    "    def __init__(self, prior_weight=(30,20), w=(1,1.3), by=('brand', 'model')):\n",
    "        self.prior_weight_brand = prior_weight[0]\n",
    "        self.prior_weight_model = prior_weight[1]\n",
    "        \n",
    "        self.w_brand = w[0]\n",
    "        self.w_model = w[1]\n",
    "        \n",
    "        self.by_brand = by[0]\n",
    "        self.by_model = by[1]\n",
    "    \n",
    "    def fit(self, df):\n",
    "        \n",
    "        self.prior_brand = df['group'].value_counts().sort_index()/df.shape[0]\n",
    "        self.prior_model = df['group'].value_counts().sort_index()/df.shape[0]\n",
    "        \n",
    "        c_brand = df.groupby([self.by_brand, 'group']).size().unstack().fillna(0)\n",
    "        c_model = df.groupby([self.by_model, 'group']).size().unstack().fillna(0)\n",
    "        \n",
    "        self.prob_brand = (c_brand.add(self.prior_weight_brand*self.prior_brand)).div(c_brand.sum(axis=1)+self.prior_weight_brand, axis=0)\n",
    "        self.prob_model = (c_model.add(self.prior_weight_model*self.prior_model)).div(c_model.sum(axis=1)+self.prior_weight_model, axis=0)\n",
    "        \n",
    "        return self\n",
    "    \n",
    "    def predict_proba(self, df):\n",
    "        pred_brand = df[[self.by_brand]].merge(self.prob_brand, \n",
    "                                   how='left', \n",
    "                                   left_on=self.by_brand, \n",
    "                                   right_index=True).fillna(self.prior_brand)[self.prob_brand.columns]\n",
    "        pred_model = df[[self.by_model]].merge(self.prob_model, \n",
    "                                   how='left', \n",
    "                                   left_on=self.by_model, \n",
    "                                   right_index=True).fillna(self.prior_model)[self.prob_model.columns]\n",
    "        \n",
    "        pred_brand.loc[pred_brand.iloc[:,0].isnull(),:] = self.prior_brand\n",
    "        pred_model.loc[pred_model.iloc[:,0].isnull(),:] = self.prior_model\n",
    "        return ((pred_brand*self.w_brand + pred_model*self.w_model) / (self.w_brand + self.w_model)).values"
   ]
  },
  {
   "cell_type": "code",
   "execution_count": 53,
   "metadata": {
    "collapsed": false
   },
   "outputs": [],
   "source": [
    "n_models = 10\n",
    "rs = 50\n",
    "\n",
    "params = {'prior_weight': (30,20),\n",
    "          'weight': (1, 1.3),\n",
    "           'seed': rs}"
   ]
  },
  {
   "cell_type": "code",
   "execution_count": 57,
   "metadata": {
    "collapsed": false
   },
   "outputs": [
    {
     "name": "stdout",
     "output_type": "stream",
     "text": [
      "2.38916631078\n"
     ]
    }
   ],
   "source": [
    "clf = GenderAgeGroupProbCombined(params['prior_weight'], params['weight']).fit(X_train)\n",
    "pred = clf.predict_proba(X_val)\n",
    "cv_score= log_loss(y_val, pred)\n",
    "\n",
    "models_out = [{'model': clf,\n",
    "             'score': cv_score,\n",
    "             'params': params}]\n",
    "print cv_score"
   ]
  },
  {
   "cell_type": "code",
   "execution_count": 64,
   "metadata": {
    "collapsed": false
   },
   "outputs": [],
   "source": [
    "outputfile = '{}_{}_{:.4f}_{:.4f}.pickle'.format(description, \n",
    "                                                 datetime.datetime.now().strftime(\"%Y-%m-%d-%H-%M\"),\n",
    "                                                 cv_score,\n",
    "                                                 -1)\n",
    "\n",
    "output = {'script': 'train_model_0_bayesian',\n",
    "          'features': None,\n",
    "          'feature_sets': 'phone_brand_device_model.csv',\n",
    "          'model_params': params,\n",
    "          'no_models': n_models,\n",
    "          'cross_validation': {'type': 'gender_age_train_cv.csv'},\n",
    "          'models': models_out}\n",
    "\n",
    "\n",
    "with open(os.path.join(dir_out, outputfile), 'wb') as f:\n",
    "    pickle.dump(output,f)"
   ]
  }
 ],
 "metadata": {
  "kernelspec": {
   "display_name": "Python 2",
   "language": "python",
   "name": "python2"
  },
  "language_info": {
   "codemirror_mode": {
    "name": "ipython",
    "version": 2
   },
   "file_extension": ".py",
   "mimetype": "text/x-python",
   "name": "python",
   "nbconvert_exporter": "python",
   "pygments_lexer": "ipython2",
   "version": "2.7.11"
  }
 },
 "nbformat": 4,
 "nbformat_minor": 0
}
