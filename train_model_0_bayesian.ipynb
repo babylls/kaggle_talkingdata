{
 "cells": [
  {
   "cell_type": "markdown",
   "metadata": {},
   "source": [
    "# Train level 0: Bayesian model\n",
    "Based on:\n",
    "https://www.kaggle.com/dvasyukova/talkingdata-mobile-user-demographics/brand-and-model-based-benchmarks/comments\n",
    "\n",
    "V0: Uses 10-fold CV \n",
    "V1: Uses predefined dataset"
   ]
  },
  {
   "cell_type": "code",
   "execution_count": 63,
   "metadata": {
    "collapsed": false
   },
   "outputs": [],
   "source": [
    "import random\n",
    "import os\n",
    "import datetime\n",
    "import pickle\n",
    "\n",
    "import pandas as pd\n",
    "import numpy as np\n",
    "import matplotlib.pyplot as plt\n",
    "import seaborn as sns\n",
    "\n",
    "from sklearn.preprocessing import LabelEncoder\n",
    "from sklearn.metrics import log_loss\n",
    "from sklearn.cross_validation import StratifiedKFold\n",
    "from sklearn.linear_model import LogisticRegression\n",
    "\n",
    "%matplotlib inline\n"
   ]
  },
  {
   "cell_type": "code",
   "execution_count": 60,
   "metadata": {
    "collapsed": true
   },
   "outputs": [],
   "source": [
    "dir_in = 'data_ori'\n",
    "dir_feat = 'data'\n",
    "dir_out = 'model_0_bayes'\n",
    "\n",
    "description = 'models_bayes_0_V1'"
   ]
  },
  {
   "cell_type": "markdown",
   "metadata": {},
   "source": [
    "## Load data"
   ]
  },
  {
   "cell_type": "code",
   "execution_count": 4,
   "metadata": {
    "collapsed": false
   },
   "outputs": [],
   "source": [
    "gatrain = pd.read_csv(os.path.join(dir_in, 'gender_age_train.csv'))\n",
    "gatest = pd.read_csv(os.path.join(dir_in, 'gender_age_test.csv'))\n"
   ]
  },
  {
   "cell_type": "code",
   "execution_count": 5,
   "metadata": {
    "collapsed": false
   },
   "outputs": [],
   "source": [
    "letarget = LabelEncoder().fit(gatrain.group.values)\n",
    "y = letarget.transform(gatrain.group.values)\n",
    "n_classes = len(letarget.classes_)"
   ]
  },
  {
   "cell_type": "code",
   "execution_count": 6,
   "metadata": {
    "collapsed": false
   },
   "outputs": [
    {
     "data": {
      "text/html": [
       "<div>\n",
       "<table border=\"1\" class=\"dataframe\">\n",
       "  <thead>\n",
       "    <tr style=\"text-align: right;\">\n",
       "      <th></th>\n",
       "      <th>device_id</th>\n",
       "      <th>phone_brand</th>\n",
       "      <th>device_model</th>\n",
       "    </tr>\n",
       "  </thead>\n",
       "  <tbody>\n",
       "    <tr>\n",
       "      <th>0</th>\n",
       "      <td>-8890648629457979026</td>\n",
       "      <td>小米</td>\n",
       "      <td>红米</td>\n",
       "    </tr>\n",
       "    <tr>\n",
       "      <th>1</th>\n",
       "      <td>1277779817574759137</td>\n",
       "      <td>小米</td>\n",
       "      <td>MI 2</td>\n",
       "    </tr>\n",
       "    <tr>\n",
       "      <th>2</th>\n",
       "      <td>5137427614288105724</td>\n",
       "      <td>三星</td>\n",
       "      <td>Galaxy S4</td>\n",
       "    </tr>\n",
       "  </tbody>\n",
       "</table>\n",
       "</div>"
      ],
      "text/plain": [
       "             device_id phone_brand device_model\n",
       "0 -8890648629457979026          小米           红米\n",
       "1  1277779817574759137          小米         MI 2\n",
       "2  5137427614288105724          三星    Galaxy S4"
      ]
     },
     "execution_count": 6,
     "metadata": {},
     "output_type": "execute_result"
    }
   ],
   "source": [
    "phone = pd.read_csv('./data_ori/phone_brand_device_model.csv',encoding='utf-8')\n",
    "phone = phone.drop_duplicates('device_id', keep='first')\n",
    "phone.head(3)"
   ]
  },
  {
   "cell_type": "code",
   "execution_count": 7,
   "metadata": {
    "collapsed": false
   },
   "outputs": [
    {
     "data": {
      "text/html": [
       "<div>\n",
       "<table border=\"1\" class=\"dataframe\">\n",
       "  <thead>\n",
       "    <tr style=\"text-align: right;\">\n",
       "      <th></th>\n",
       "      <th>device_id</th>\n",
       "      <th>gender</th>\n",
       "      <th>age</th>\n",
       "      <th>group</th>\n",
       "      <th>brand</th>\n",
       "      <th>model</th>\n",
       "    </tr>\n",
       "  </thead>\n",
       "  <tbody>\n",
       "    <tr>\n",
       "      <th>0</th>\n",
       "      <td>-8076087639492063270</td>\n",
       "      <td>M</td>\n",
       "      <td>35</td>\n",
       "      <td>M32-38</td>\n",
       "      <td>51</td>\n",
       "      <td>843</td>\n",
       "    </tr>\n",
       "    <tr>\n",
       "      <th>1</th>\n",
       "      <td>-2897161552818060146</td>\n",
       "      <td>M</td>\n",
       "      <td>35</td>\n",
       "      <td>M32-38</td>\n",
       "      <td>51</td>\n",
       "      <td>843</td>\n",
       "    </tr>\n",
       "    <tr>\n",
       "      <th>2</th>\n",
       "      <td>-8260683887967679142</td>\n",
       "      <td>M</td>\n",
       "      <td>35</td>\n",
       "      <td>M32-38</td>\n",
       "      <td>51</td>\n",
       "      <td>843</td>\n",
       "    </tr>\n",
       "  </tbody>\n",
       "</table>\n",
       "</div>"
      ],
      "text/plain": [
       "             device_id gender  age   group  brand  model\n",
       "0 -8076087639492063270      M   35  M32-38     51    843\n",
       "1 -2897161552818060146      M   35  M32-38     51    843\n",
       "2 -8260683887967679142      M   35  M32-38     51    843"
      ]
     },
     "execution_count": 7,
     "metadata": {},
     "output_type": "execute_result"
    }
   ],
   "source": [
    "lebrand = LabelEncoder().fit(phone.phone_brand)\n",
    "phone['brand'] = lebrand.transform(phone.phone_brand)\n",
    "m = phone.phone_brand.str.cat(phone.device_model)\n",
    "lemodel = LabelEncoder().fit(m)\n",
    "phone['model'] = lemodel.transform(m)\n",
    "\n",
    "Xtrain = gatrain.merge(phone[['device_id','brand','model']], how='left',on='device_id')\n",
    "Xtest = gatest.merge(phone[['device_id','brand','model']], how='left',on='device_id')\n",
    "Xtrain.head(3)"
   ]
  },
  {
   "cell_type": "code",
   "execution_count": 8,
   "metadata": {
    "collapsed": true
   },
   "outputs": [],
   "source": [
    "# Load CV sets\n",
    "train_cv = pd.read_csv(os.path.join(dir_in, 'gender_age_train_cv.csv'))\n",
    "test_cv = pd.read_csv(os.path.join(dir_in, 'gender_age_test_cv.csv'))"
   ]
  },
  {
   "cell_type": "code",
   "execution_count": 45,
   "metadata": {
    "collapsed": true
   },
   "outputs": [],
   "source": [
    "X_train, X_val = Xtrain.loc[train_cv.sample_nr, :], Xtrain.loc[test_cv.sample_nr, :]\n",
    "y_train, y_val = y[train_cv.sample_nr], y[test_cv.sample_nr]"
   ]
  },
  {
   "cell_type": "code",
   "execution_count": 46,
   "metadata": {
    "collapsed": false
   },
   "outputs": [
    {
     "data": {
      "text/html": [
       "<div>\n",
       "<table border=\"1\" class=\"dataframe\">\n",
       "  <thead>\n",
       "    <tr style=\"text-align: right;\">\n",
       "      <th></th>\n",
       "      <th>device_id</th>\n",
       "      <th>gender</th>\n",
       "      <th>age</th>\n",
       "      <th>group</th>\n",
       "      <th>brand</th>\n",
       "      <th>model</th>\n",
       "    </tr>\n",
       "  </thead>\n",
       "  <tbody>\n",
       "    <tr>\n",
       "      <th>1492</th>\n",
       "      <td>-6939393211204340051</td>\n",
       "      <td>F</td>\n",
       "      <td>22</td>\n",
       "      <td>F23-</td>\n",
       "      <td>13</td>\n",
       "      <td>264</td>\n",
       "    </tr>\n",
       "    <tr>\n",
       "      <th>42613</th>\n",
       "      <td>4707300503949486411</td>\n",
       "      <td>M</td>\n",
       "      <td>30</td>\n",
       "      <td>M29-31</td>\n",
       "      <td>51</td>\n",
       "      <td>865</td>\n",
       "    </tr>\n",
       "    <tr>\n",
       "      <th>21842</th>\n",
       "      <td>-1456321005371064978</td>\n",
       "      <td>M</td>\n",
       "      <td>45</td>\n",
       "      <td>M39+</td>\n",
       "      <td>13</td>\n",
       "      <td>214</td>\n",
       "    </tr>\n",
       "    <tr>\n",
       "      <th>12212</th>\n",
       "      <td>-9158734172103205235</td>\n",
       "      <td>F</td>\n",
       "      <td>22</td>\n",
       "      <td>F23-</td>\n",
       "      <td>7</td>\n",
       "      <td>160</td>\n",
       "    </tr>\n",
       "    <tr>\n",
       "      <th>27235</th>\n",
       "      <td>3570714957564079372</td>\n",
       "      <td>M</td>\n",
       "      <td>43</td>\n",
       "      <td>M39+</td>\n",
       "      <td>31</td>\n",
       "      <td>730</td>\n",
       "    </tr>\n",
       "    <tr>\n",
       "      <th>31731</th>\n",
       "      <td>1585261055807865350</td>\n",
       "      <td>F</td>\n",
       "      <td>37</td>\n",
       "      <td>F33-42</td>\n",
       "      <td>51</td>\n",
       "      <td>859</td>\n",
       "    </tr>\n",
       "    <tr>\n",
       "      <th>22800</th>\n",
       "      <td>1886824808792789562</td>\n",
       "      <td>F</td>\n",
       "      <td>41</td>\n",
       "      <td>F33-42</td>\n",
       "      <td>18</td>\n",
       "      <td>493</td>\n",
       "    </tr>\n",
       "    <tr>\n",
       "      <th>55268</th>\n",
       "      <td>-9215766592714662253</td>\n",
       "      <td>F</td>\n",
       "      <td>34</td>\n",
       "      <td>F33-42</td>\n",
       "      <td>117</td>\n",
       "      <td>1537</td>\n",
       "    </tr>\n",
       "    <tr>\n",
       "      <th>30518</th>\n",
       "      <td>-1516830556977021558</td>\n",
       "      <td>F</td>\n",
       "      <td>24</td>\n",
       "      <td>F24-26</td>\n",
       "      <td>31</td>\n",
       "      <td>730</td>\n",
       "    </tr>\n",
       "    <tr>\n",
       "      <th>67501</th>\n",
       "      <td>8724946949735794672</td>\n",
       "      <td>M</td>\n",
       "      <td>23</td>\n",
       "      <td>M23-26</td>\n",
       "      <td>31</td>\n",
       "      <td>665</td>\n",
       "    </tr>\n",
       "  </tbody>\n",
       "</table>\n",
       "</div>"
      ],
      "text/plain": [
       "                 device_id gender  age   group  brand  model\n",
       "1492  -6939393211204340051      F   22    F23-     13    264\n",
       "42613  4707300503949486411      M   30  M29-31     51    865\n",
       "21842 -1456321005371064978      M   45    M39+     13    214\n",
       "12212 -9158734172103205235      F   22    F23-      7    160\n",
       "27235  3570714957564079372      M   43    M39+     31    730\n",
       "31731  1585261055807865350      F   37  F33-42     51    859\n",
       "22800  1886824808792789562      F   41  F33-42     18    493\n",
       "55268 -9215766592714662253      F   34  F33-42    117   1537\n",
       "30518 -1516830556977021558      F   24  F24-26     31    730\n",
       "67501  8724946949735794672      M   23  M23-26     31    665"
      ]
     },
     "execution_count": 46,
     "metadata": {},
     "output_type": "execute_result"
    }
   ],
   "source": [
    "X_train.sample(10)"
   ]
  },
  {
   "cell_type": "markdown",
   "metadata": {},
   "source": [
    "## Calculate and store model"
   ]
  },
  {
   "cell_type": "code",
   "execution_count": 52,
   "metadata": {
    "collapsed": true
   },
   "outputs": [],
   "source": [
    "class GenderAgeGroupProbCombined(object):\n",
    "    def __init__(self, prior_weight=(30,20), w=(1,1.3), by=('brand', 'model')):\n",
    "        self.prior_weight_brand = prior_weight[0]\n",
    "        self.prior_weight_model = prior_weight[1]\n",
    "        \n",
    "        self.w_brand = w[0]\n",
    "        self.w_model = w[1]\n",
    "        \n",
    "        self.by_brand = by[0]\n",
    "        self.by_model = by[1]\n",
    "    \n",
    "    def fit(self, df):\n",
    "        \n",
    "        self.prior_brand = df['group'].value_counts().sort_index()/df.shape[0]\n",
    "        self.prior_model = df['group'].value_counts().sort_index()/df.shape[0]\n",
    "        \n",
    "        c_brand = df.groupby([self.by_brand, 'group']).size().unstack().fillna(0)\n",
    "        c_model = df.groupby([self.by_model, 'group']).size().unstack().fillna(0)\n",
    "        \n",
    "        self.prob_brand = (c_brand.add(self.prior_weight_brand*self.prior_brand)).div(c_brand.sum(axis=1)+self.prior_weight_brand, axis=0)\n",
    "        self.prob_model = (c_model.add(self.prior_weight_model*self.prior_model)).div(c_model.sum(axis=1)+self.prior_weight_model, axis=0)\n",
    "        \n",
    "        return self\n",
    "    \n",
    "    def predict_proba(self, df):\n",
    "        pred_brand = df[[self.by_brand]].merge(self.prob_brand, \n",
    "                                   how='left', \n",
    "                                   left_on=self.by_brand, \n",
    "                                   right_index=True).fillna(self.prior_brand)[self.prob_brand.columns]\n",
    "        pred_model = df[[self.by_model]].merge(self.prob_model, \n",
    "                                   how='left', \n",
    "                                   left_on=self.by_model, \n",
    "                                   right_index=True).fillna(self.prior_model)[self.prob_model.columns]\n",
    "        \n",
    "        pred_brand.loc[pred_brand.iloc[:,0].isnull(),:] = self.prior_brand\n",
    "        pred_model.loc[pred_model.iloc[:,0].isnull(),:] = self.prior_model\n",
    "        return ((pred_brand*self.w_brand + pred_model*self.w_model) / (self.w_brand + self.w_model)).values"
   ]
  },
  {
   "cell_type": "code",
   "execution_count": 53,
   "metadata": {
    "collapsed": false
   },
   "outputs": [],
   "source": [
    "n_models = 10\n",
    "rs = 50\n",
    "\n",
    "params = {'prior_weight': (30,20),\n",
    "          'weight': (1, 1.3),\n",
    "           'seed': rs}"
   ]
  },
  {
   "cell_type": "code",
   "execution_count": 57,
   "metadata": {
    "collapsed": false
   },
   "outputs": [
    {
     "name": "stdout",
     "output_type": "stream",
     "text": [
      "2.38916631078\n"
     ]
    }
   ],
   "source": [
    "clf = GenderAgeGroupProbCombined(params['prior_weight'], params['weight']).fit(X_train)\n",
    "pred = clf.predict_proba(X_val)\n",
    "cv_score= log_loss(y_val, pred)\n",
    "\n",
    "models_out = [{'model': clf,\n",
    "             'score': cv_score,\n",
    "             'params': params}]\n",
    "print cv_score"
   ]
  },
  {
   "cell_type": "code",
   "execution_count": 64,
   "metadata": {
    "collapsed": false
   },
   "outputs": [],
   "source": [
    "outputfile = '{}_{}_{:.4f}_{:.4f}.pickle'.format(description, \n",
    "                                                 datetime.datetime.now().strftime(\"%Y-%m-%d-%H-%M\"),\n",
    "                                                 cv_score,\n",
    "                                                 -1)\n",
    "\n",
    "output = {'script': 'train_model_0_bayesian',\n",
    "          'features': None,\n",
    "          'feature_sets': 'phone_brand_device_model.csv',\n",
    "          'model_params': params,\n",
    "          'no_models': n_models,\n",
    "          'cross_validation': {'type': 'gender_age_train_cv.csv'},\n",
    "          'models': models_out}\n",
    "\n",
    "\n",
    "with open(os.path.join(dir_out, outputfile), 'wb') as f:\n",
    "    pickle.dump(output,f)"
   ]
  },
  {
   "cell_type": "markdown",
   "metadata": {},
   "source": [
    "## Bayesian model"
   ]
  },
  {
   "cell_type": "code",
   "execution_count": 11,
   "metadata": {
    "collapsed": true
   },
   "outputs": [],
   "source": [
    "class GenderAgeGroupProb(object):\n",
    "    def __init__(self, prior_weight=10.):\n",
    "        self.prior_weight = prior_weight\n",
    "    \n",
    "    def fit(self, df, by):\n",
    "        self.by = by\n",
    "        #self.label = 'pF_' + by\n",
    "        self.prior = df['group'].value_counts().sort_index()/df.shape[0]\n",
    "        # fit gender probs by grouping column\n",
    "        c = df.groupby([by, 'group']).size().unstack().fillna(0)\n",
    "        total = c.sum(axis=1)\n",
    "        self.prob = (c.add(self.prior_weight*self.prior)).div(c.sum(axis=1)+self.prior_weight, axis=0)\n",
    "        return self\n",
    "    \n",
    "    def predict_proba(self, df):\n",
    "        pred = df[[self.by]].merge(self.prob, how='left', \n",
    "                                left_on=self.by, right_index=True).fillna(self.prior)[self.prob.columns]\n",
    "        pred.loc[pred.iloc[:,0].isnull(),:] = self.prior\n",
    "        return pred.values\n",
    "    \n",
    "def score(ptrain, by, prior_weight=10.):\n",
    "    kf = StratifiedKFold(y, n_folds=10, shuffle=True, random_state=0)\n",
    "    pred = np.zeros((ptrain.shape[0],n_classes))\n",
    "    for itrain, itest in kf:\n",
    "        train = ptrain.iloc[itrain,:]\n",
    "        test = ptrain.iloc[itest,:]\n",
    "        ytrain, ytest = y[itrain], y[itest]\n",
    "        clf = GenderAgeGroupProb(prior_weight=prior_weight).fit(train,by)\n",
    "        pred[itest,:] = clf.predict_proba(test)\n",
    "    return log_loss(y, pred)"
   ]
  },
  {
   "cell_type": "code",
   "execution_count": 12,
   "metadata": {
    "collapsed": false
   },
   "outputs": [
    {
     "data": {
      "text/plain": [
       "<matplotlib.text.Text at 0x11623bcd0>"
      ]
     },
     "execution_count": 12,
     "metadata": {},
     "output_type": "execute_result"
    },
    {
     "data": {
      "image/png": "[encoded data removed]",
      "text/plain": [
       "<matplotlib.figure.Figure at 0x103fecc50>"
      ]
     },
     "metadata": {},
     "output_type": "display_data"
    }
   ],
   "source": [
    "weights = [0.5, 1., 5., 10., 20.,30.,40.,50.,100.]\n",
    "res = [score(Xtrain,'model',prior_weight=w) for w in weights]\n",
    "plt.plot(weights, res)\n",
    "plt.title('Best score {:.5f} at prior_weight = {}'.format(np.min(res),weights[np.argmin(res)]))\n",
    "plt.xlabel('prior_weight')"
   ]
  },
  {
   "cell_type": "code",
   "execution_count": 13,
   "metadata": {
    "collapsed": false
   },
   "outputs": [],
   "source": [
    "# Best weight for brand: 40\n",
    "# Best weight for device: 50"
   ]
  },
  {
   "cell_type": "code",
   "execution_count": 14,
   "metadata": {
    "collapsed": false
   },
   "outputs": [],
   "source": [
    "s = 100\n",
    "kf = StratifiedKFold(y, n_folds=10, shuffle=True, random_state=s)\n",
    "predb = np.zeros((Xtrain.shape[0],n_classes))\n",
    "predm = np.zeros((Xtrain.shape[0],n_classes))\n",
    "for itrain, itest in kf:\n",
    "    train = Xtrain.iloc[itrain,:]\n",
    "    test = Xtrain.iloc[itest,:]\n",
    "    ytrain, ytest = y[itrain], y[itest]\n",
    "    clf = GenderAgeGroupProb(prior_weight=20.).fit(train,'brand')\n",
    "    predb[itest,:] = clf.predict_proba(test)\n",
    "    clf = GenderAgeGroupProb(prior_weight=20.).fit(train,'model')\n",
    "    predm[itest,:] = clf.predict_proba(test)\n"
   ]
  },
  {
   "cell_type": "code",
   "execution_count": 15,
   "metadata": {
    "collapsed": false
   },
   "outputs": [
    {
     "data": {
      "text/plain": [
       "2.3893103376967981"
      ]
     },
     "execution_count": 15,
     "metadata": {},
     "output_type": "execute_result"
    }
   ],
   "source": [
    "w1, w2 = 1, 1.3\n",
    "log_loss(y, (w1*predb+w2*predm)/(w1+w2))"
   ]
  },
  {
   "cell_type": "markdown",
   "metadata": {},
   "source": [
    "We have the following variables for this model\n",
    "- Prior weight\n",
    "- Weights brand/model\n",
    "- Seed\n",
    "- Number of folds"
   ]
  },
  {
   "cell_type": "markdown",
   "metadata": {},
   "source": [
    "### Test prior weight"
   ]
  },
  {
   "cell_type": "code",
   "execution_count": 16,
   "metadata": {
    "collapsed": false
   },
   "outputs": [
    {
     "name": "stdout",
     "output_type": "stream",
     "text": [
      "2.3893546854\n",
      "2.38927766956\n",
      "2.3892597998\n",
      "2.38926151891\n",
      "2.38927146844\n",
      "2.389285235\n"
     ]
    }
   ],
   "source": [
    "s=9999\n",
    "kf = StratifiedKFold(y, n_folds=10, shuffle=True, random_state=s)\n",
    "predb = np.zeros((Xtrain.shape[0],n_classes))\n",
    "predm = np.zeros((Xtrain.shape[0],n_classes))\n",
    "for ws in [10., 20., 30., 40., 50., 60.]:\n",
    "    for itrain, itest in kf:\n",
    "        train = Xtrain.iloc[itrain,:]\n",
    "        test = Xtrain.iloc[itest,:]\n",
    "        ytrain, ytest = y[itrain], y[itest]\n",
    "        clf = GenderAgeGroupProb(prior_weight=ws).fit(train,'brand')\n",
    "        predb[itest,:] = clf.predict_proba(test)\n",
    "        clf = GenderAgeGroupProb(prior_weight=20.).fit(train,'model')\n",
    "        predm[itest,:] = clf.predict_proba(test)\n",
    "    print log_loss(y, (w1*predb+w2*predm)/(w1+w2))"
   ]
  },
  {
   "cell_type": "markdown",
   "metadata": {},
   "source": [
    "For brand: (consistent with seed)\n",
    "10: 2.3895645807\n",
    "20: 2.38951944857\n",
    "30: 2.3895114353 * Minimum\n",
    "40: 2.38951560074\n",
    "50: 2.38952474388\n",
    "60: 2.38953608403\n",
    "\n",
    "For device: (consistent with seed)\n",
    "10: 2.39029824291\n",
    "20: 2.3895114353 * Minimum\n",
    "30: 2.38965792994\n",
    "40: 2.39001784009\n",
    "50: 2.39043342904\n",
    "60: 2.39085576399"
   ]
  },
  {
   "cell_type": "markdown",
   "metadata": {},
   "source": [
    "### Weights brand/model"
   ]
  },
  {
   "cell_type": "code",
   "execution_count": 17,
   "metadata": {
    "collapsed": false
   },
   "outputs": [
    {
     "name": "stdout",
     "output_type": "stream",
     "text": [
      "2.3892800324\n"
     ]
    }
   ],
   "source": [
    "s=50\n",
    "kf = StratifiedKFold(y, n_folds=10, shuffle=True, random_state=s)\n",
    "predb = np.zeros((Xtrain.shape[0],n_classes))\n",
    "predm = np.zeros((Xtrain.shape[0],n_classes))\n",
    "\n",
    "for itrain, itest in kf:\n",
    "    train = Xtrain.iloc[itrain,:]\n",
    "    test = Xtrain.iloc[itest,:]\n",
    "    ytrain, ytest = y[itrain], y[itest]\n",
    "    clf = GenderAgeGroupProb(prior_weight=30.).fit(train,'brand')\n",
    "    predb[itest,:] = clf.predict_proba(test)\n",
    "    clf = GenderAgeGroupProb(prior_weight=20.).fit(train,'model')\n",
    "    predm[itest,:] = clf.predict_proba(test)\n",
    "print log_loss(y, (w1*predb+w2*predm)/(w1+w2))"
   ]
  },
  {
   "cell_type": "code",
   "execution_count": 18,
   "metadata": {
    "collapsed": false
   },
   "outputs": [
    {
     "name": "stdout",
     "output_type": "stream",
     "text": [
      "1.1 : 2.38934992139\n",
      "1.2 : 2.38929668366\n",
      "1.3 : 2.3892800324\n",
      "1.4 : 2.38929169768\n",
      "1.5 : 2.38932529917\n",
      "1.6 : 2.38937587558\n",
      "1.7 : 2.38943954265\n",
      "1.8 : 2.38951324136\n"
     ]
    }
   ],
   "source": [
    "w1, w2 = 1, 1.3\n",
    "for w2 in [1.1, 1.2, 1.3, 1.4, 1.5, 1.6, 1.7, 1.8]:\n",
    "    print w2, ':', log_loss(y, (w1*predb+w2*predm)/(w1+w2))"
   ]
  },
  {
   "cell_type": "markdown",
   "metadata": {},
   "source": [
    "1.1 : 2.38935143238\n",
    "1.2 : 2.38930020121\n",
    "1.3 : 2.389285235 * Minimum (consistent with different seeds)\n",
    "1.4 : 2.38929832534\n",
    "1.5 : 2.38933313955\n",
    "1.6 : 2.38938475374\n",
    "1.7 : 2.38944931332\n",
    "1.8 : 2.38952378303"
   ]
  },
  {
   "cell_type": "markdown",
   "metadata": {},
   "source": [
    "### Random seed"
   ]
  },
  {
   "cell_type": "code",
   "execution_count": 19,
   "metadata": {
    "collapsed": false
   },
   "outputs": [
    {
     "ename": "NameError",
     "evalue": "name 'ptrain' is not defined",
     "output_type": "error",
     "traceback": [
      "\u001b[0;31m---------------------------------------------------------------------------\u001b[0m",
      "\u001b[0;31mNameError\u001b[0m                                 Traceback (most recent call last)",
      "\u001b[0;32m<ipython-input-19-ba9f6cb4ebb5>\u001b[0m in \u001b[0;36m<module>\u001b[0;34m()\u001b[0m\n\u001b[1;32m      3\u001b[0m \u001b[0;32mfor\u001b[0m \u001b[0ms\u001b[0m \u001b[0;32min\u001b[0m \u001b[0mrandom\u001b[0m\u001b[0;34m.\u001b[0m\u001b[0msample\u001b[0m\u001b[0;34m(\u001b[0m\u001b[0mxrange\u001b[0m\u001b[0;34m(\u001b[0m\u001b[0;36m99999\u001b[0m\u001b[0;34m)\u001b[0m\u001b[0;34m,\u001b[0m \u001b[0;36m50\u001b[0m\u001b[0;34m)\u001b[0m\u001b[0;34m:\u001b[0m\u001b[0;34m\u001b[0m\u001b[0m\n\u001b[1;32m      4\u001b[0m     \u001b[0mkf\u001b[0m \u001b[0;34m=\u001b[0m \u001b[0mStratifiedKFold\u001b[0m\u001b[0;34m(\u001b[0m\u001b[0my\u001b[0m\u001b[0;34m,\u001b[0m \u001b[0mn_folds\u001b[0m\u001b[0;34m=\u001b[0m\u001b[0;36m10\u001b[0m\u001b[0;34m,\u001b[0m \u001b[0mshuffle\u001b[0m\u001b[0;34m=\u001b[0m\u001b[0mTrue\u001b[0m\u001b[0;34m,\u001b[0m \u001b[0mrandom_state\u001b[0m\u001b[0;34m=\u001b[0m\u001b[0ms\u001b[0m\u001b[0;34m)\u001b[0m\u001b[0;34m\u001b[0m\u001b[0m\n\u001b[0;32m----> 5\u001b[0;31m     \u001b[0mpredb\u001b[0m \u001b[0;34m=\u001b[0m \u001b[0mnp\u001b[0m\u001b[0;34m.\u001b[0m\u001b[0mzeros\u001b[0m\u001b[0;34m(\u001b[0m\u001b[0;34m(\u001b[0m\u001b[0mptrain\u001b[0m\u001b[0;34m.\u001b[0m\u001b[0mshape\u001b[0m\u001b[0;34m[\u001b[0m\u001b[0;36m0\u001b[0m\u001b[0;34m]\u001b[0m\u001b[0;34m,\u001b[0m\u001b[0mn_classes\u001b[0m\u001b[0;34m)\u001b[0m\u001b[0;34m)\u001b[0m\u001b[0;34m\u001b[0m\u001b[0m\n\u001b[0m\u001b[1;32m      6\u001b[0m     \u001b[0mpredm\u001b[0m \u001b[0;34m=\u001b[0m \u001b[0mnp\u001b[0m\u001b[0;34m.\u001b[0m\u001b[0mzeros\u001b[0m\u001b[0;34m(\u001b[0m\u001b[0;34m(\u001b[0m\u001b[0mptrain\u001b[0m\u001b[0;34m.\u001b[0m\u001b[0mshape\u001b[0m\u001b[0;34m[\u001b[0m\u001b[0;36m0\u001b[0m\u001b[0;34m]\u001b[0m\u001b[0;34m,\u001b[0m\u001b[0mn_classes\u001b[0m\u001b[0;34m)\u001b[0m\u001b[0;34m)\u001b[0m\u001b[0;34m\u001b[0m\u001b[0m\n\u001b[1;32m      7\u001b[0m \u001b[0;34m\u001b[0m\u001b[0m\n",
      "\u001b[0;31mNameError\u001b[0m: name 'ptrain' is not defined"
     ]
    }
   ],
   "source": [
    "predbs = []\n",
    "predms = []\n",
    "for s in random.sample(xrange(99999), 50):\n",
    "    kf = StratifiedKFold(y, n_folds=10, shuffle=True, random_state=s)\n",
    "    predb = np.zeros((ptrain.shape[0],n_classes))\n",
    "    predm = np.zeros((ptrain.shape[0],n_classes))\n",
    "\n",
    "    for itrain, itest in kf:\n",
    "        train = ptrain.iloc[itrain,:]\n",
    "        test = ptrain.iloc[itest,:]\n",
    "        ytrain, ytest = y[itrain], y[itest]\n",
    "        clf = GenderAgeGroupProb(prior_weight=30.).fit(train,'brand')\n",
    "        predb[itest,:] = clf.predict_proba(test)\n",
    "        clf = GenderAgeGroupProb(prior_weight=20.).fit(train,'model')\n",
    "        predm[itest,:] = clf.predict_proba(test)\n",
    "    predbs.append(predb)\n",
    "    predms.append(predm)\n",
    "    print s, ':', log_loss(y, (w1*predb+w2*predm)/(w1+w2))"
   ]
  },
  {
   "cell_type": "code",
   "execution_count": null,
   "metadata": {
    "collapsed": false
   },
   "outputs": [],
   "source": [
    "n = len(predbs)\n",
    "log_loss(y, w1*sum(predbs)/n+w2*sum(predms)/n)"
   ]
  },
  {
   "cell_type": "code",
   "execution_count": null,
   "metadata": {
    "collapsed": false
   },
   "outputs": [],
   "source": [
    "for n in [1,2,5,10,20,30,40,50]:\n",
    "    print n, ':', log_loss(y, w1*sum(predbs[0:n])/n+w2*sum(predms[0:n])/n)"
   ]
  },
  {
   "cell_type": "markdown",
   "metadata": {},
   "source": [
    "Optimimum around 40 different seeds"
   ]
  },
  {
   "cell_type": "markdown",
   "metadata": {},
   "source": [
    "### Number of folds"
   ]
  },
  {
   "cell_type": "code",
   "execution_count": 63,
   "metadata": {
    "collapsed": false
   },
   "outputs": [
    {
     "name": "stdout",
     "output_type": "stream",
     "text": [
      "5 : 2.39093825532\n",
      "10 : 2.38959281588\n",
      "20 : 2.38898929513\n",
      "50 : 2.38890334591\n",
      "100 : 2.38865502875\n",
      "200 : 2.38864451041\n",
      "500 : 2.38856407469\n"
     ]
    }
   ],
   "source": [
    "for n_fold in [5, 10, 20, 50, 100, 200, 500]:\n",
    "    kf = StratifiedKFold(y, n_folds=n_fold, shuffle=True, random_state=s)\n",
    "    predb = np.zeros((ptrain.shape[0],n_classes))\n",
    "    predm = np.zeros((ptrain.shape[0],n_classes))\n",
    "\n",
    "    for itrain, itest in kf:\n",
    "        train = ptrain.iloc[itrain,:]\n",
    "        test = ptrain.iloc[itest,:]\n",
    "        ytrain, ytest = y[itrain], y[itest]\n",
    "        clf = GenderAgeGroupProb(prior_weight=30.).fit(train,'brand')\n",
    "        predb[itest,:] = clf.predict_proba(test)\n",
    "        clf = GenderAgeGroupProb(prior_weight=20.).fit(train,'model')\n",
    "        predm[itest,:] = clf.predict_proba(test)\n",
    "\n",
    "    print n_fold, ':', log_loss(y, (w1*predb+w2*predm)/(w1+w2))"
   ]
  },
  {
   "cell_type": "markdown",
   "metadata": {
    "collapsed": true
   },
   "source": [
    "## Development"
   ]
  },
  {
   "cell_type": "code",
   "execution_count": 27,
   "metadata": {
    "collapsed": true
   },
   "outputs": [],
   "source": [
    "class GenderAgeGroupProbCombined(object):\n",
    "    def __init__(self, prior_weight=(30,20), w=(1,1.3), by=('brand', 'model')):\n",
    "        self.prior_weight_brand = prior_weight[0]\n",
    "        self.prior_weight_model = prior_weight[1]\n",
    "        \n",
    "        self.w_brand = w[0]\n",
    "        self.w_model = w[1]\n",
    "        \n",
    "        self.by_brand = by[0]\n",
    "        self.by_model = by[1]\n",
    "    \n",
    "    def fit(self, df):\n",
    "        \n",
    "        self.prior_brand = df['group'].value_counts().sort_index()/df.shape[0]\n",
    "        self.prior_model = df['group'].value_counts().sort_index()/df.shape[0]\n",
    "        \n",
    "        c_brand = df.groupby([self.by_brand, 'group']).size().unstack().fillna(0)\n",
    "        c_model = df.groupby([self.by_model, 'group']).size().unstack().fillna(0)\n",
    "        \n",
    "        self.prob_brand = (c_brand.add(self.prior_weight_brand*self.prior_brand)).div(c_brand.sum(axis=1)+self.prior_weight_brand, axis=0)\n",
    "        self.prob_model = (c_model.add(self.prior_weight_model*self.prior_model)).div(c_model.sum(axis=1)+self.prior_weight_model, axis=0)\n",
    "        \n",
    "        return self\n",
    "    \n",
    "    def predict_proba(self, df):\n",
    "        pred_brand = df[[self.by_brand]].merge(self.prob_brand, \n",
    "                                   how='left', \n",
    "                                   left_on=self.by_brand, \n",
    "                                   right_index=True).fillna(self.prior_brand)[self.prob_brand.columns]\n",
    "        pred_model = df[[self.by_model]].merge(self.prob_model, \n",
    "                                   how='left', \n",
    "                                   left_on=self.by_model, \n",
    "                                   right_index=True).fillna(self.prior_model)[self.prob_model.columns]\n",
    "        \n",
    "        pred_brand.loc[pred_brand.iloc[:,0].isnull(),:] = self.prior_brand\n",
    "        pred_model.loc[pred_model.iloc[:,0].isnull(),:] = self.prior_model\n",
    "        return (pred_brand*self.w_brand + pred_model*self.w_model) / (self.w_brand + self.w_model)"
   ]
  },
  {
   "cell_type": "code",
   "execution_count": 28,
   "metadata": {
    "collapsed": false
   },
   "outputs": [],
   "source": [
    "s = 50\n",
    "kf = StratifiedKFold(y, n_folds=5, shuffle=True, random_state=s)\n",
    "pred = np.zeros((Xtrain.shape[0],n_classes))\n",
    "predm = np.zeros((Xtrain.shape[0],n_classes))\n",
    "for itrain, itest in kf:\n",
    "    train = Xtrain.iloc[itrain,:]\n",
    "    test = Xtrain.iloc[itest,:]\n",
    "    ytrain, ytest = y[itrain], y[itest]\n",
    "    clf = GenderAgeGroupProbCombined().fit(train)\n",
    "    pred[itest,:] = clf.predict_proba(test)\n"
   ]
  },
  {
   "cell_type": "code",
   "execution_count": 26,
   "metadata": {
    "collapsed": false
   },
   "outputs": [
    {
     "name": "stdout",
     "output_type": "stream",
     "text": [
      "2.3892800324\n"
     ]
    }
   ],
   "source": [
    "print log_loss(y, pred)"
   ]
  },
  {
   "cell_type": "code",
   "execution_count": null,
   "metadata": {
    "collapsed": true
   },
   "outputs": [],
   "source": []
  }
 ],
 "metadata": {
  "kernelspec": {
   "display_name": "Python 2",
   "language": "python",
   "name": "python2"
  },
  "language_info": {
   "codemirror_mode": {
    "name": "ipython",
    "version": 2
   },
   "file_extension": ".py",
   "mimetype": "text/x-python",
   "name": "python",
   "nbconvert_exporter": "python",
   "pygments_lexer": "ipython2",
   "version": "2.7.11"
  }
 },
 "nbformat": 4,
 "nbformat_minor": 0
}
