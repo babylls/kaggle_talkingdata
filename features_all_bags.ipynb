{
 "cells": [
  {
   "cell_type": "code",
   "execution_count": 1,
   "metadata": {
    "collapsed": true
   },
   "outputs": [],
   "source": [
    "import pandas as pd\n",
    "import numpy as np\n",
    "%matplotlib inline\n",
    "import seaborn as sns\n",
    "import matplotlib.pyplot as plt\n",
    "import os\n",
    "from sklearn.preprocessing import LabelEncoder\n",
    "from scipy.sparse import csr_matrix, hstack\n",
    "from sklearn.linear_model import LogisticRegression, SGDClassifier\n",
    "from sklearn.cross_validation import StratifiedKFold\n",
    "from sklearn.feature_selection import VarianceThreshold\n",
    "from sklearn.metrics import log_loss\n",
    "import pickle"
   ]
  },
  {
   "cell_type": "code",
   "execution_count": 2,
   "metadata": {
    "collapsed": true
   },
   "outputs": [],
   "source": [
    "dir_out = 'data'"
   ]
  },
  {
   "cell_type": "code",
   "execution_count": 3,
   "metadata": {
    "collapsed": true
   },
   "outputs": [],
   "source": [
    "datadir = 'data_ori'\n",
    "gatrain = pd.read_csv(os.path.join(datadir,'gender_age_train.csv'),\n",
    "                      index_col='device_id')\n",
    "gatest = pd.read_csv(os.path.join(datadir,'gender_age_test.csv'),\n",
    "                      index_col = 'device_id')\n",
    "phone = pd.read_csv(os.path.join(datadir,'phone_brand_device_model.csv'))\n",
    "# Get rid of duplicate device ids in phone\n",
    "phone = phone.drop_duplicates('device_id',keep='first').set_index('device_id')\n",
    "events = pd.read_csv(os.path.join(datadir,'events.csv'),\n",
    "                     parse_dates=['timestamp'], index_col='event_id')\n",
    "appevents = pd.read_csv(os.path.join(datadir,'app_events.csv'), \n",
    "                        usecols=['event_id','app_id','is_active'],\n",
    "                        dtype={'is_active':bool})\n",
    "applabels = pd.read_csv(os.path.join(datadir,'app_labels.csv'))"
   ]
  },
  {
   "cell_type": "code",
   "execution_count": 4,
   "metadata": {
    "collapsed": true
   },
   "outputs": [],
   "source": [
    "gatrain['trainrow'] = np.arange(gatrain.shape[0])\n",
    "gatest['testrow'] = np.arange(gatest.shape[0])"
   ]
  },
  {
   "cell_type": "markdown",
   "metadata": {},
   "source": [
    "## Brand and model features"
   ]
  },
  {
   "cell_type": "code",
   "execution_count": 5,
   "metadata": {
    "collapsed": false
   },
   "outputs": [
    {
     "name": "stdout",
     "output_type": "stream",
     "text": [
      "Brand features: train shape (74645, 131), test shape (112071, 131)\n"
     ]
    }
   ],
   "source": [
    "brandencoder = LabelEncoder().fit(phone.phone_brand)\n",
    "phone['brand'] = brandencoder.transform(phone['phone_brand'])\n",
    "gatrain['brand'] = phone['brand']\n",
    "gatest['brand'] = phone['brand']\n",
    "Xtr_brand = csr_matrix((np.ones(gatrain.shape[0]), \n",
    "                       (gatrain.trainrow, gatrain.brand)))\n",
    "Xte_brand = csr_matrix((np.ones(gatest.shape[0]), \n",
    "                       (gatest.testrow, gatest.brand)))\n",
    "print('Brand features: train shape {}, test shape {}'.format(Xtr_brand.shape, Xte_brand.shape))\n",
    "\n"
   ]
  },
  {
   "cell_type": "code",
   "execution_count": 6,
   "metadata": {
    "collapsed": true
   },
   "outputs": [],
   "source": [
    "# Save features\n",
    "with open(os.path.join(dir_out, 'features_bag_brand_train.pickle'), 'wb') as f:\n",
    "    pickle.dump(Xtr_brand, f, pickle.HIGHEST_PROTOCOL)\n",
    "with open(os.path.join(dir_out, 'features_bag_brand_test.pickle'), 'wb') as f:\n",
    "    pickle.dump(Xte_brand, f, pickle.HIGHEST_PROTOCOL)"
   ]
  },
  {
   "cell_type": "code",
   "execution_count": 7,
   "metadata": {
    "collapsed": false
   },
   "outputs": [
    {
     "name": "stdout",
     "output_type": "stream",
     "text": [
      "Model features: train shape (74645, 1667), test shape (112071, 1667)\n"
     ]
    }
   ],
   "source": [
    "m = phone.phone_brand.str.cat(phone.device_model)\n",
    "modelencoder = LabelEncoder().fit(m)\n",
    "phone['model'] = modelencoder.transform(m)\n",
    "gatrain['model'] = phone['model']\n",
    "gatest['model'] = phone['model']\n",
    "Xtr_model = csr_matrix((np.ones(gatrain.shape[0]), \n",
    "                       (gatrain.trainrow, gatrain.model)))\n",
    "Xte_model = csr_matrix((np.ones(gatest.shape[0]), \n",
    "                       (gatest.testrow, gatest.model)))\n",
    "print('Model features: train shape {}, test shape {}'.format(Xtr_model.shape, Xte_model.shape))"
   ]
  },
  {
   "cell_type": "code",
   "execution_count": 8,
   "metadata": {
    "collapsed": true
   },
   "outputs": [],
   "source": [
    "# Save features\n",
    "with open(os.path.join(dir_out, 'features_bag_model_train.pickle'), 'wb') as f:\n",
    "    pickle.dump(Xtr_model, f, pickle.HIGHEST_PROTOCOL)\n",
    "with open(os.path.join(dir_out, 'features_bag_model_test.pickle'), 'wb') as f:\n",
    "    pickle.dump(Xte_model, f, pickle.HIGHEST_PROTOCOL)"
   ]
  },
  {
   "cell_type": "markdown",
   "metadata": {},
   "source": [
    "## Installed apps features"
   ]
  },
  {
   "cell_type": "code",
   "execution_count": 9,
   "metadata": {
    "collapsed": false
   },
   "outputs": [
    {
     "name": "stdout",
     "output_type": "stream",
     "text": [
      "(2369025, 5)\n"
     ]
    },
    {
     "data": {
      "text/html": [
       "<div>\n",
       "<table border=\"1\" class=\"dataframe\">\n",
       "  <thead>\n",
       "    <tr style=\"text-align: right;\">\n",
       "      <th></th>\n",
       "      <th>device_id</th>\n",
       "      <th>app</th>\n",
       "      <th>size</th>\n",
       "      <th>trainrow</th>\n",
       "      <th>testrow</th>\n",
       "    </tr>\n",
       "  </thead>\n",
       "  <tbody>\n",
       "    <tr>\n",
       "      <th>0</th>\n",
       "      <td>-9222956879900151005</td>\n",
       "      <td>548</td>\n",
       "      <td>18</td>\n",
       "      <td>21594.0</td>\n",
       "      <td>NaN</td>\n",
       "    </tr>\n",
       "    <tr>\n",
       "      <th>1</th>\n",
       "      <td>-9222956879900151005</td>\n",
       "      <td>1096</td>\n",
       "      <td>18</td>\n",
       "      <td>21594.0</td>\n",
       "      <td>NaN</td>\n",
       "    </tr>\n",
       "    <tr>\n",
       "      <th>2</th>\n",
       "      <td>-9222956879900151005</td>\n",
       "      <td>1248</td>\n",
       "      <td>26</td>\n",
       "      <td>21594.0</td>\n",
       "      <td>NaN</td>\n",
       "    </tr>\n",
       "    <tr>\n",
       "      <th>3</th>\n",
       "      <td>-9222956879900151005</td>\n",
       "      <td>1545</td>\n",
       "      <td>12</td>\n",
       "      <td>21594.0</td>\n",
       "      <td>NaN</td>\n",
       "    </tr>\n",
       "    <tr>\n",
       "      <th>4</th>\n",
       "      <td>-9222956879900151005</td>\n",
       "      <td>1664</td>\n",
       "      <td>18</td>\n",
       "      <td>21594.0</td>\n",
       "      <td>NaN</td>\n",
       "    </tr>\n",
       "  </tbody>\n",
       "</table>\n",
       "</div>"
      ],
      "text/plain": [
       "             device_id   app  size  trainrow  testrow\n",
       "0 -9222956879900151005   548    18   21594.0      NaN\n",
       "1 -9222956879900151005  1096    18   21594.0      NaN\n",
       "2 -9222956879900151005  1248    26   21594.0      NaN\n",
       "3 -9222956879900151005  1545    12   21594.0      NaN\n",
       "4 -9222956879900151005  1664    18   21594.0      NaN"
      ]
     },
     "execution_count": 9,
     "metadata": {},
     "output_type": "execute_result"
    }
   ],
   "source": [
    "appencoder = LabelEncoder().fit(appevents.app_id)\n",
    "appevents['app'] = appencoder.transform(appevents.app_id)\n",
    "napps = len(appencoder.classes_)\n",
    "deviceapps = (appevents.merge(events[['device_id']], how='left',left_on='event_id',right_index=True)\n",
    "                       .groupby(['device_id','app'])['app'].agg(['size'])\n",
    "                       .merge(gatrain[['trainrow']], how='left', left_index=True, right_index=True)\n",
    "                       .merge(gatest[['testrow']], how='left', left_index=True, right_index=True)\n",
    "                       .reset_index())\n",
    "print deviceapps.shape\n",
    "deviceapps.head()"
   ]
  },
  {
   "cell_type": "code",
   "execution_count": 10,
   "metadata": {
    "collapsed": false
   },
   "outputs": [
    {
     "name": "stdout",
     "output_type": "stream",
     "text": [
      "Apps data: train shape (74645, 19237), test shape (112071, 19237)\n"
     ]
    }
   ],
   "source": [
    "d = deviceapps.dropna(subset=['trainrow'])\n",
    "Xtr_app = csr_matrix((np.ones(d.shape[0]), (d.trainrow, d.app)), \n",
    "                      shape=(gatrain.shape[0],napps))\n",
    "d = deviceapps.dropna(subset=['testrow'])\n",
    "Xte_app = csr_matrix((np.ones(d.shape[0]), (d.testrow, d.app)), \n",
    "                      shape=(gatest.shape[0],napps))\n",
    "print('Apps data: train shape {}, test shape {}'.format(Xtr_app.shape, Xte_app.shape))"
   ]
  },
  {
   "cell_type": "code",
   "execution_count": 11,
   "metadata": {
    "collapsed": true
   },
   "outputs": [],
   "source": [
    "# Save features\n",
    "with open(os.path.join(dir_out, 'features_bag_app_installed_train.pickle'), 'wb') as f:\n",
    "    pickle.dump(Xtr_app, f, pickle.HIGHEST_PROTOCOL)\n",
    "with open(os.path.join(dir_out, 'features_bag_app_installed_test.pickle'), 'wb') as f:\n",
    "    pickle.dump(Xte_app, f, pickle.HIGHEST_PROTOCOL)"
   ]
  },
  {
   "cell_type": "code",
   "execution_count": 12,
   "metadata": {
    "collapsed": false
   },
   "outputs": [
    {
     "name": "stdout",
     "output_type": "stream",
     "text": [
      "Train: (23290,)\n",
      "Test: (35172,)\n"
     ]
    }
   ],
   "source": [
    "# Remember devices that have events\n",
    "trainrows_with_events = deviceapps.dropna(subset=['trainrow']).trainrow.unique().astype(int)\n",
    "testrows_with_events = deviceapps.dropna(subset=['testrow']).testrow.unique().astype(int)\n",
    "print 'Train:',trainrows_with_events.shape\n",
    "print 'Test:',testrows_with_events.shape"
   ]
  },
  {
   "cell_type": "code",
   "execution_count": 13,
   "metadata": {
    "collapsed": false
   },
   "outputs": [
    {
     "name": "stdout",
     "output_type": "stream",
     "text": [
      "[27155 31158 74103 33759 72531 58566  3519 48415 55268 38547 34907 44950\n",
      " 71390 36661 37160 50202 11817 32842 43795]\n",
      "[ 10825 106929  35716  12532   2366  83094  97141  62416  72062  73108\n",
      "  44944  71869  37215  60741  40298  77869 109642  58667  43799]\n"
     ]
    }
   ],
   "source": [
    "print trainrows_with_events[1:20]\n",
    "print testrows_with_events[1:20]"
   ]
  },
  {
   "cell_type": "markdown",
   "metadata": {},
   "source": [
    "## Active apps features"
   ]
  },
  {
   "cell_type": "code",
   "execution_count": 14,
   "metadata": {
    "collapsed": false
   },
   "outputs": [
    {
     "name": "stdout",
     "output_type": "stream",
     "text": [
      "(2369025, 5)\n"
     ]
    },
    {
     "data": {
      "text/html": [
       "<div>\n",
       "<table border=\"1\" class=\"dataframe\">\n",
       "  <thead>\n",
       "    <tr style=\"text-align: right;\">\n",
       "      <th></th>\n",
       "      <th>device_id</th>\n",
       "      <th>app</th>\n",
       "      <th>sum</th>\n",
       "      <th>trainrow</th>\n",
       "      <th>testrow</th>\n",
       "    </tr>\n",
       "  </thead>\n",
       "  <tbody>\n",
       "    <tr>\n",
       "      <th>0</th>\n",
       "      <td>-9222956879900151005</td>\n",
       "      <td>548</td>\n",
       "      <td>4.0</td>\n",
       "      <td>21594.0</td>\n",
       "      <td>NaN</td>\n",
       "    </tr>\n",
       "    <tr>\n",
       "      <th>1</th>\n",
       "      <td>-9222956879900151005</td>\n",
       "      <td>1096</td>\n",
       "      <td>0.0</td>\n",
       "      <td>21594.0</td>\n",
       "      <td>NaN</td>\n",
       "    </tr>\n",
       "    <tr>\n",
       "      <th>2</th>\n",
       "      <td>-9222956879900151005</td>\n",
       "      <td>1248</td>\n",
       "      <td>15.0</td>\n",
       "      <td>21594.0</td>\n",
       "      <td>NaN</td>\n",
       "    </tr>\n",
       "    <tr>\n",
       "      <th>3</th>\n",
       "      <td>-9222956879900151005</td>\n",
       "      <td>1545</td>\n",
       "      <td>2.0</td>\n",
       "      <td>21594.0</td>\n",
       "      <td>NaN</td>\n",
       "    </tr>\n",
       "    <tr>\n",
       "      <th>4</th>\n",
       "      <td>-9222956879900151005</td>\n",
       "      <td>1664</td>\n",
       "      <td>0.0</td>\n",
       "      <td>21594.0</td>\n",
       "      <td>NaN</td>\n",
       "    </tr>\n",
       "  </tbody>\n",
       "</table>\n",
       "</div>"
      ],
      "text/plain": [
       "             device_id   app   sum  trainrow  testrow\n",
       "0 -9222956879900151005   548   4.0   21594.0      NaN\n",
       "1 -9222956879900151005  1096   0.0   21594.0      NaN\n",
       "2 -9222956879900151005  1248  15.0   21594.0      NaN\n",
       "3 -9222956879900151005  1545   2.0   21594.0      NaN\n",
       "4 -9222956879900151005  1664   0.0   21594.0      NaN"
      ]
     },
     "execution_count": 14,
     "metadata": {},
     "output_type": "execute_result"
    }
   ],
   "source": [
    "deviceactiveapps = (appevents.merge(events[['device_id']], how='left',left_on='event_id',right_index=True)\n",
    "                       .groupby(['device_id','app'])['is_active'].agg(['sum'])\n",
    "                       .merge(gatrain[['trainrow']], how='left', left_index=True, right_index=True)\n",
    "                       .merge(gatest[['testrow']], how='left', left_index=True, right_index=True)\n",
    "                       .reset_index())\n",
    "print deviceactiveapps.shape\n",
    "deviceactiveapps.head()"
   ]
  },
  {
   "cell_type": "code",
   "execution_count": 15,
   "metadata": {
    "collapsed": false
   },
   "outputs": [
    {
     "data": {
      "text/html": [
       "<div>\n",
       "<table border=\"1\" class=\"dataframe\">\n",
       "  <thead>\n",
       "    <tr style=\"text-align: right;\">\n",
       "      <th></th>\n",
       "      <th>device_id</th>\n",
       "      <th>app</th>\n",
       "      <th>sum</th>\n",
       "      <th>trainrow</th>\n",
       "      <th>testrow</th>\n",
       "    </tr>\n",
       "  </thead>\n",
       "  <tbody>\n",
       "    <tr>\n",
       "      <th>0</th>\n",
       "      <td>-9222956879900151005</td>\n",
       "      <td>548</td>\n",
       "      <td>0.222222</td>\n",
       "      <td>21594.0</td>\n",
       "      <td>NaN</td>\n",
       "    </tr>\n",
       "    <tr>\n",
       "      <th>1</th>\n",
       "      <td>-9222956879900151005</td>\n",
       "      <td>1096</td>\n",
       "      <td>0.000000</td>\n",
       "      <td>21594.0</td>\n",
       "      <td>NaN</td>\n",
       "    </tr>\n",
       "    <tr>\n",
       "      <th>2</th>\n",
       "      <td>-9222956879900151005</td>\n",
       "      <td>1248</td>\n",
       "      <td>0.576923</td>\n",
       "      <td>21594.0</td>\n",
       "      <td>NaN</td>\n",
       "    </tr>\n",
       "    <tr>\n",
       "      <th>3</th>\n",
       "      <td>-9222956879900151005</td>\n",
       "      <td>1545</td>\n",
       "      <td>0.166667</td>\n",
       "      <td>21594.0</td>\n",
       "      <td>NaN</td>\n",
       "    </tr>\n",
       "    <tr>\n",
       "      <th>4</th>\n",
       "      <td>-9222956879900151005</td>\n",
       "      <td>1664</td>\n",
       "      <td>0.000000</td>\n",
       "      <td>21594.0</td>\n",
       "      <td>NaN</td>\n",
       "    </tr>\n",
       "  </tbody>\n",
       "</table>\n",
       "</div>"
      ],
      "text/plain": [
       "             device_id   app       sum  trainrow  testrow\n",
       "0 -9222956879900151005   548  0.222222   21594.0      NaN\n",
       "1 -9222956879900151005  1096  0.000000   21594.0      NaN\n",
       "2 -9222956879900151005  1248  0.576923   21594.0      NaN\n",
       "3 -9222956879900151005  1545  0.166667   21594.0      NaN\n",
       "4 -9222956879900151005  1664  0.000000   21594.0      NaN"
      ]
     },
     "execution_count": 15,
     "metadata": {},
     "output_type": "execute_result"
    }
   ],
   "source": [
    "deviceactiveapps['sum'] = deviceactiveapps['sum'].div(deviceapps['size'])\n",
    "deviceactiveapps.head()"
   ]
  },
  {
   "cell_type": "code",
   "execution_count": 16,
   "metadata": {
    "collapsed": false
   },
   "outputs": [
    {
     "name": "stdout",
     "output_type": "stream",
     "text": [
      "Apps data: train shape (74645, 19237), test shape (112071, 19237)\n"
     ]
    }
   ],
   "source": [
    "d = deviceactiveapps.dropna(subset=['trainrow'])\n",
    "Xtr_act_app = csr_matrix((d['sum'], (d.trainrow, d.app)), \n",
    "                          shape=(gatrain.shape[0],napps))\n",
    "d = deviceactiveapps.dropna(subset=['testrow'])\n",
    "Xte_act_app = csr_matrix((d['sum'], (d.testrow, d.app)), \n",
    "                        shape=(gatest.shape[0],napps))\n",
    "print('Apps data: train shape {}, test shape {}'.format(Xtr_act_app.shape, Xte_act_app.shape))"
   ]
  },
  {
   "cell_type": "code",
   "execution_count": 17,
   "metadata": {
    "collapsed": false
   },
   "outputs": [],
   "source": [
    "# Save features\n",
    "with open(os.path.join(dir_out, 'features_bag_app_active_train.pickle'), 'wb') as f:\n",
    "    pickle.dump(Xtr_act_app, f, pickle.HIGHEST_PROTOCOL)\n",
    "with open(os.path.join(dir_out, 'features_bag_app_active_test.pickle'), 'wb') as f:\n",
    "    pickle.dump(Xte_act_app, f, pickle.HIGHEST_PROTOCOL)"
   ]
  },
  {
   "cell_type": "markdown",
   "metadata": {},
   "source": [
    "## App labels features"
   ]
  },
  {
   "cell_type": "code",
   "execution_count": 18,
   "metadata": {
    "collapsed": true
   },
   "outputs": [],
   "source": [
    "applabels = applabels.loc[applabels.app_id.isin(appevents.app_id.unique())]\n",
    "applabels['app'] = appencoder.transform(applabels.app_id)\n",
    "labelencoder = LabelEncoder().fit(applabels.label_id)\n",
    "applabels['label'] = labelencoder.transform(applabels.label_id)\n",
    "nlabels = len(labelencoder.classes_)"
   ]
  },
  {
   "cell_type": "code",
   "execution_count": 21,
   "metadata": {
    "collapsed": false
   },
   "outputs": [
    {
     "name": "stdout",
     "output_type": "stream",
     "text": [
      "(4244113, 5)\n"
     ]
    },
    {
     "data": {
      "text/html": [
       "<div>\n",
       "<table border=\"1\" class=\"dataframe\">\n",
       "  <thead>\n",
       "    <tr style=\"text-align: right;\">\n",
       "      <th></th>\n",
       "      <th>device_id</th>\n",
       "      <th>label</th>\n",
       "      <th>size</th>\n",
       "      <th>trainrow</th>\n",
       "      <th>testrow</th>\n",
       "    </tr>\n",
       "  </thead>\n",
       "  <tbody>\n",
       "    <tr>\n",
       "      <th>0</th>\n",
       "      <td>-9222956879900151005</td>\n",
       "      <td>117</td>\n",
       "      <td>1</td>\n",
       "      <td>21594.0</td>\n",
       "      <td>NaN</td>\n",
       "    </tr>\n",
       "    <tr>\n",
       "      <th>1</th>\n",
       "      <td>-9222956879900151005</td>\n",
       "      <td>120</td>\n",
       "      <td>1</td>\n",
       "      <td>21594.0</td>\n",
       "      <td>NaN</td>\n",
       "    </tr>\n",
       "    <tr>\n",
       "      <th>2</th>\n",
       "      <td>-9222956879900151005</td>\n",
       "      <td>126</td>\n",
       "      <td>1</td>\n",
       "      <td>21594.0</td>\n",
       "      <td>NaN</td>\n",
       "    </tr>\n",
       "    <tr>\n",
       "      <th>3</th>\n",
       "      <td>-9222956879900151005</td>\n",
       "      <td>138</td>\n",
       "      <td>2</td>\n",
       "      <td>21594.0</td>\n",
       "      <td>NaN</td>\n",
       "    </tr>\n",
       "    <tr>\n",
       "      <th>4</th>\n",
       "      <td>-9222956879900151005</td>\n",
       "      <td>147</td>\n",
       "      <td>2</td>\n",
       "      <td>21594.0</td>\n",
       "      <td>NaN</td>\n",
       "    </tr>\n",
       "  </tbody>\n",
       "</table>\n",
       "</div>"
      ],
      "text/plain": [
       "             device_id  label  size  trainrow  testrow\n",
       "0 -9222956879900151005    117     1   21594.0      NaN\n",
       "1 -9222956879900151005    120     1   21594.0      NaN\n",
       "2 -9222956879900151005    126     1   21594.0      NaN\n",
       "3 -9222956879900151005    138     2   21594.0      NaN\n",
       "4 -9222956879900151005    147     2   21594.0      NaN"
      ]
     },
     "execution_count": 21,
     "metadata": {},
     "output_type": "execute_result"
    }
   ],
   "source": [
    "devicelabels = (deviceapps[['device_id','app']]\n",
    "                .merge(applabels[['app','label']])\n",
    "                .groupby(['device_id','label'])['app'].agg(['size'])\n",
    "                .merge(gatrain[['trainrow']], how='left', left_index=True, right_index=True)\n",
    "                .merge(gatest[['testrow']], how='left', left_index=True, right_index=True)\n",
    "                .reset_index())\n",
    "print(devicelabels.shape)\n",
    "devicelabels.head()"
   ]
  },
  {
   "cell_type": "code",
   "execution_count": 20,
   "metadata": {
    "collapsed": false,
    "scrolled": true
   },
   "outputs": [
    {
     "name": "stdout",
     "output_type": "stream",
     "text": [
      "Labels data: train shape (74645, 492), test shape (112071, 492)\n"
     ]
    }
   ],
   "source": [
    "d = devicelabels.dropna(subset=['trainrow'])\n",
    "Xtr_label = csr_matrix((np.ones(d.shape[0]), (d.trainrow, d.label)), \n",
    "                      shape=(gatrain.shape[0],nlabels))\n",
    "d = devicelabels.dropna(subset=['testrow'])\n",
    "Xte_label = csr_matrix((np.ones(d.shape[0]), (d.testrow, d.label)), \n",
    "                      shape=(gatest.shape[0],nlabels))\n",
    "print('Labels data: train shape {}, test shape {}'.format(Xtr_label.shape, Xte_label.shape))"
   ]
  },
  {
   "cell_type": "code",
   "execution_count": 21,
   "metadata": {
    "collapsed": true
   },
   "outputs": [],
   "source": [
    "# Save features\n",
    "with open(os.path.join(dir_out, 'features_bag_label_installed_train.pickle'), 'wb') as f:\n",
    "    pickle.dump(Xtr_label, f, pickle.HIGHEST_PROTOCOL)\n",
    "with open(os.path.join(dir_out, 'features_bag_label_installed_test.pickle'), 'wb') as f:\n",
    "    pickle.dump(Xte_label, f, pickle.HIGHEST_PROTOCOL)"
   ]
  },
  {
   "cell_type": "markdown",
   "metadata": {},
   "source": [
    "## Combine features"
   ]
  },
  {
   "cell_type": "code",
   "execution_count": 128,
   "metadata": {
    "collapsed": false
   },
   "outputs": [
    {
     "name": "stdout",
     "output_type": "stream",
     "text": [
      "All features: train shape (74645, 21527), test shape (112071, 21527)\n"
     ]
    }
   ],
   "source": [
    "Xtrain = hstack((Xtr_brand, Xtr_model, Xtr_app, Xtr_label), format='csr')\n",
    "Xtest =  hstack((Xte_brand, Xte_model, Xte_app, Xte_label), format='csr')\n",
    "print('All features: train shape {}, test shape {}'.format(Xtrain.shape, Xtest.shape))"
   ]
  },
  {
   "cell_type": "code",
   "execution_count": 69,
   "metadata": {
    "collapsed": true
   },
   "outputs": [],
   "source": [
    "targetencoder = LabelEncoder().fit(gatrain.group)\n",
    "y = targetencoder.transform(gatrain.group)\n",
    "nclasses = len(targetencoder.classes_)"
   ]
  },
  {
   "cell_type": "code",
   "execution_count": 70,
   "metadata": {
    "collapsed": false
   },
   "outputs": [],
   "source": [
    "def score(clf, random_state = 0):\n",
    "    kf = StratifiedKFold(y, n_folds=5, shuffle=True, random_state=random_state)\n",
    "    pred = np.zeros((y.shape[0],nclasses))\n",
    "    for itrain, itest in kf:\n",
    "        Xtr, Xte = Xtrain[itrain, :], Xtrain[itest, :]\n",
    "        ytr, yte = y[itrain], y[itest]\n",
    "        clf.fit(Xtr, ytr)\n",
    "        pred[itest,:] = clf.predict_proba(Xte)\n",
    "        # Downsize to one fold only for kernels\n",
    "        #print(\"{:.5f}\".format(log_loss(yte, pred[itest,:])))\n",
    "    print('')\n",
    "    return log_loss(y, pred)"
   ]
  },
  {
   "cell_type": "code",
   "execution_count": 19,
   "metadata": {
    "collapsed": false
   },
   "outputs": [
    {
     "name": "stdout",
     "output_type": "stream",
     "text": [
      "\n",
      "\n",
      "\n",
      "\n"
     ]
    },
    {
     "data": {
      "image/png": "[encoded data removed]",
      "text/plain": [
       "<matplotlib.figure.Figure at 0x102d25050>"
      ]
     },
     "metadata": {},
     "output_type": "display_data"
    }
   ],
   "source": [
    "Cs = np.logspace(-3,0,4)\n",
    "res = []\n",
    "for C in Cs:\n",
    "    res.append(score(LogisticRegression(C = C)))\n",
    "plt.semilogx(Cs, res,'-o');"
   ]
  },
  {
   "cell_type": "code",
   "execution_count": 71,
   "metadata": {
    "collapsed": false,
    "scrolled": true
   },
   "outputs": [
    {
     "name": "stdout",
     "output_type": "stream",
     "text": [
      "\n",
      "2.2745185044\n"
     ]
    }
   ],
   "source": [
    "print score(LogisticRegression(C=0.02, multi_class='multinomial',solver='lbfgs'))"
   ]
  },
  {
   "cell_type": "code",
   "execution_count": 35,
   "metadata": {
    "collapsed": false
   },
   "outputs": [
    {
     "data": {
      "text/html": [
       "<div>\n",
       "<table border=\"1\" class=\"dataframe\">\n",
       "  <thead>\n",
       "    <tr style=\"text-align: right;\">\n",
       "      <th></th>\n",
       "      <th>F23-</th>\n",
       "      <th>F24-26</th>\n",
       "      <th>F27-28</th>\n",
       "      <th>F29-32</th>\n",
       "      <th>F33-42</th>\n",
       "      <th>F43+</th>\n",
       "      <th>M22-</th>\n",
       "      <th>M23-26</th>\n",
       "      <th>M27-28</th>\n",
       "      <th>M29-31</th>\n",
       "      <th>M32-38</th>\n",
       "      <th>M39+</th>\n",
       "    </tr>\n",
       "    <tr>\n",
       "      <th>device_id</th>\n",
       "      <th></th>\n",
       "      <th></th>\n",
       "      <th></th>\n",
       "      <th></th>\n",
       "      <th></th>\n",
       "      <th></th>\n",
       "      <th></th>\n",
       "      <th></th>\n",
       "      <th></th>\n",
       "      <th></th>\n",
       "      <th></th>\n",
       "      <th></th>\n",
       "    </tr>\n",
       "  </thead>\n",
       "  <tbody>\n",
       "    <tr>\n",
       "      <th>1002079943728939269</th>\n",
       "      <td>0.001424</td>\n",
       "      <td>0.005998</td>\n",
       "      <td>0.013605</td>\n",
       "      <td>0.013286</td>\n",
       "      <td>0.025313</td>\n",
       "      <td>0.046103</td>\n",
       "      <td>0.011815</td>\n",
       "      <td>0.033501</td>\n",
       "      <td>0.074615</td>\n",
       "      <td>0.121405</td>\n",
       "      <td>0.260537</td>\n",
       "      <td>0.392400</td>\n",
       "    </tr>\n",
       "    <tr>\n",
       "      <th>-1547860181818787117</th>\n",
       "      <td>0.007414</td>\n",
       "      <td>0.013299</td>\n",
       "      <td>0.031228</td>\n",
       "      <td>0.058677</td>\n",
       "      <td>0.072686</td>\n",
       "      <td>0.151391</td>\n",
       "      <td>0.006009</td>\n",
       "      <td>0.091906</td>\n",
       "      <td>0.054989</td>\n",
       "      <td>0.077066</td>\n",
       "      <td>0.229204</td>\n",
       "      <td>0.206130</td>\n",
       "    </tr>\n",
       "    <tr>\n",
       "      <th>7374582448058474277</th>\n",
       "      <td>0.023158</td>\n",
       "      <td>0.036713</td>\n",
       "      <td>0.036233</td>\n",
       "      <td>0.158343</td>\n",
       "      <td>0.162774</td>\n",
       "      <td>0.079852</td>\n",
       "      <td>0.012986</td>\n",
       "      <td>0.026441</td>\n",
       "      <td>0.043571</td>\n",
       "      <td>0.104941</td>\n",
       "      <td>0.181501</td>\n",
       "      <td>0.133486</td>\n",
       "    </tr>\n",
       "    <tr>\n",
       "      <th>-6220210354783429585</th>\n",
       "      <td>0.003474</td>\n",
       "      <td>0.030860</td>\n",
       "      <td>0.008801</td>\n",
       "      <td>0.012351</td>\n",
       "      <td>0.050697</td>\n",
       "      <td>0.172943</td>\n",
       "      <td>0.048150</td>\n",
       "      <td>0.139719</td>\n",
       "      <td>0.073499</td>\n",
       "      <td>0.093593</td>\n",
       "      <td>0.179861</td>\n",
       "      <td>0.186053</td>\n",
       "    </tr>\n",
       "    <tr>\n",
       "      <th>-5893464122623104785</th>\n",
       "      <td>0.046952</td>\n",
       "      <td>0.065640</td>\n",
       "      <td>0.042578</td>\n",
       "      <td>0.062522</td>\n",
       "      <td>0.056329</td>\n",
       "      <td>0.043467</td>\n",
       "      <td>0.090625</td>\n",
       "      <td>0.165219</td>\n",
       "      <td>0.097877</td>\n",
       "      <td>0.102350</td>\n",
       "      <td>0.132938</td>\n",
       "      <td>0.093503</td>\n",
       "    </tr>\n",
       "  </tbody>\n",
       "</table>\n",
       "</div>"
      ],
      "text/plain": [
       "                          F23-    F24-26    F27-28    F29-32    F33-42  \\\n",
       "device_id                                                                \n",
       " 1002079943728939269  0.001424  0.005998  0.013605  0.013286  0.025313   \n",
       "-1547860181818787117  0.007414  0.013299  0.031228  0.058677  0.072686   \n",
       " 7374582448058474277  0.023158  0.036713  0.036233  0.158343  0.162774   \n",
       "-6220210354783429585  0.003474  0.030860  0.008801  0.012351  0.050697   \n",
       "-5893464122623104785  0.046952  0.065640  0.042578  0.062522  0.056329   \n",
       "\n",
       "                          F43+      M22-    M23-26    M27-28    M29-31  \\\n",
       "device_id                                                                \n",
       " 1002079943728939269  0.046103  0.011815  0.033501  0.074615  0.121405   \n",
       "-1547860181818787117  0.151391  0.006009  0.091906  0.054989  0.077066   \n",
       " 7374582448058474277  0.079852  0.012986  0.026441  0.043571  0.104941   \n",
       "-6220210354783429585  0.172943  0.048150  0.139719  0.073499  0.093593   \n",
       "-5893464122623104785  0.043467  0.090625  0.165219  0.097877  0.102350   \n",
       "\n",
       "                        M32-38      M39+  \n",
       "device_id                                 \n",
       " 1002079943728939269  0.260537  0.392400  \n",
       "-1547860181818787117  0.229204  0.206130  \n",
       " 7374582448058474277  0.181501  0.133486  \n",
       "-6220210354783429585  0.179861  0.186053  \n",
       "-5893464122623104785  0.132938  0.093503  "
      ]
     },
     "execution_count": 35,
     "metadata": {},
     "output_type": "execute_result"
    }
   ],
   "source": [
    "# Train on all devices\n",
    "pred = np.zeros((y.shape[0], nclasses))\n",
    "\n",
    "clf = LogisticRegression(C=0.02, multi_class='multinomial',solver='lbfgs')\n",
    "clf.fit(Xtrain, y)\n",
    "pred = pd.DataFrame(clf.predict_proba(Xtest), index = gatest.index, columns=targetencoder.classes_)\n",
    "pred.head()"
   ]
  },
  {
   "cell_type": "code",
   "execution_count": 36,
   "metadata": {
    "collapsed": true
   },
   "outputs": [],
   "source": [
    "pred.to_csv('logreg_subm.csv',index=True)"
   ]
  },
  {
   "cell_type": "markdown",
   "metadata": {},
   "source": [
    "### Train on devices with events only"
   ]
  },
  {
   "cell_type": "code",
   "execution_count": null,
   "metadata": {
    "collapsed": true
   },
   "outputs": [],
   "source": [
    "Xtrain = Xtrain[trainrows_with_events,:]\n",
    "y = y[trainrows_with_events]\n",
    "print score(LogisticRegression(C=0.02, multi_class='multinomial',solver='lbfgs'))"
   ]
  },
  {
   "cell_type": "code",
   "execution_count": 37,
   "metadata": {
    "collapsed": false
   },
   "outputs": [
    {
     "name": "stdout",
     "output_type": "stream",
     "text": [
      "All features: train shape (74645, 21527), test shape (112071, 21527)\n"
     ]
    },
    {
     "data": {
      "text/html": [
       "<div>\n",
       "<table border=\"1\" class=\"dataframe\">\n",
       "  <thead>\n",
       "    <tr style=\"text-align: right;\">\n",
       "      <th></th>\n",
       "      <th>F23-</th>\n",
       "      <th>F24-26</th>\n",
       "      <th>F27-28</th>\n",
       "      <th>F29-32</th>\n",
       "      <th>F33-42</th>\n",
       "      <th>F43+</th>\n",
       "      <th>M22-</th>\n",
       "      <th>M23-26</th>\n",
       "      <th>M27-28</th>\n",
       "      <th>M29-31</th>\n",
       "      <th>M32-38</th>\n",
       "      <th>M39+</th>\n",
       "    </tr>\n",
       "    <tr>\n",
       "      <th>device_id</th>\n",
       "      <th></th>\n",
       "      <th></th>\n",
       "      <th></th>\n",
       "      <th></th>\n",
       "      <th></th>\n",
       "      <th></th>\n",
       "      <th></th>\n",
       "      <th></th>\n",
       "      <th></th>\n",
       "      <th></th>\n",
       "      <th></th>\n",
       "      <th></th>\n",
       "    </tr>\n",
       "  </thead>\n",
       "  <tbody>\n",
       "    <tr>\n",
       "      <th>1002079943728939269</th>\n",
       "      <td>0.001492</td>\n",
       "      <td>0.005908</td>\n",
       "      <td>0.012127</td>\n",
       "      <td>0.012823</td>\n",
       "      <td>0.026008</td>\n",
       "      <td>0.043189</td>\n",
       "      <td>0.011091</td>\n",
       "      <td>0.027077</td>\n",
       "      <td>0.074270</td>\n",
       "      <td>0.111487</td>\n",
       "      <td>0.250954</td>\n",
       "      <td>0.423574</td>\n",
       "    </tr>\n",
       "    <tr>\n",
       "      <th>-1547860181818787117</th>\n",
       "      <td>0.006903</td>\n",
       "      <td>0.012172</td>\n",
       "      <td>0.023050</td>\n",
       "      <td>0.066971</td>\n",
       "      <td>0.078409</td>\n",
       "      <td>0.188372</td>\n",
       "      <td>0.004520</td>\n",
       "      <td>0.068493</td>\n",
       "      <td>0.036542</td>\n",
       "      <td>0.063060</td>\n",
       "      <td>0.238333</td>\n",
       "      <td>0.213175</td>\n",
       "    </tr>\n",
       "    <tr>\n",
       "      <th>7374582448058474277</th>\n",
       "      <td>0.024959</td>\n",
       "      <td>0.036950</td>\n",
       "      <td>0.037317</td>\n",
       "      <td>0.163299</td>\n",
       "      <td>0.161039</td>\n",
       "      <td>0.081345</td>\n",
       "      <td>0.012359</td>\n",
       "      <td>0.026086</td>\n",
       "      <td>0.042070</td>\n",
       "      <td>0.104421</td>\n",
       "      <td>0.177660</td>\n",
       "      <td>0.132494</td>\n",
       "    </tr>\n",
       "    <tr>\n",
       "      <th>-6220210354783429585</th>\n",
       "      <td>0.003754</td>\n",
       "      <td>0.029205</td>\n",
       "      <td>0.009505</td>\n",
       "      <td>0.012574</td>\n",
       "      <td>0.049471</td>\n",
       "      <td>0.188668</td>\n",
       "      <td>0.046326</td>\n",
       "      <td>0.126026</td>\n",
       "      <td>0.075881</td>\n",
       "      <td>0.086568</td>\n",
       "      <td>0.165567</td>\n",
       "      <td>0.206456</td>\n",
       "    </tr>\n",
       "    <tr>\n",
       "      <th>-5893464122623104785</th>\n",
       "      <td>0.000000</td>\n",
       "      <td>0.000000</td>\n",
       "      <td>0.000000</td>\n",
       "      <td>0.000000</td>\n",
       "      <td>0.000000</td>\n",
       "      <td>0.000000</td>\n",
       "      <td>0.000000</td>\n",
       "      <td>0.000000</td>\n",
       "      <td>0.000000</td>\n",
       "      <td>0.000000</td>\n",
       "      <td>0.000000</td>\n",
       "      <td>0.000000</td>\n",
       "    </tr>\n",
       "  </tbody>\n",
       "</table>\n",
       "</div>"
      ],
      "text/plain": [
       "                          F23-    F24-26    F27-28    F29-32    F33-42  \\\n",
       "device_id                                                                \n",
       " 1002079943728939269  0.001492  0.005908  0.012127  0.012823  0.026008   \n",
       "-1547860181818787117  0.006903  0.012172  0.023050  0.066971  0.078409   \n",
       " 7374582448058474277  0.024959  0.036950  0.037317  0.163299  0.161039   \n",
       "-6220210354783429585  0.003754  0.029205  0.009505  0.012574  0.049471   \n",
       "-5893464122623104785  0.000000  0.000000  0.000000  0.000000  0.000000   \n",
       "\n",
       "                          F43+      M22-    M23-26    M27-28    M29-31  \\\n",
       "device_id                                                                \n",
       " 1002079943728939269  0.043189  0.011091  0.027077  0.074270  0.111487   \n",
       "-1547860181818787117  0.188372  0.004520  0.068493  0.036542  0.063060   \n",
       " 7374582448058474277  0.081345  0.012359  0.026086  0.042070  0.104421   \n",
       "-6220210354783429585  0.188668  0.046326  0.126026  0.075881  0.086568   \n",
       "-5893464122623104785  0.000000  0.000000  0.000000  0.000000  0.000000   \n",
       "\n",
       "                        M32-38      M39+  \n",
       "device_id                                 \n",
       " 1002079943728939269  0.250954  0.423574  \n",
       "-1547860181818787117  0.238333  0.213175  \n",
       " 7374582448058474277  0.177660  0.132494  \n",
       "-6220210354783429585  0.165567  0.206456  \n",
       "-5893464122623104785  0.000000  0.000000  "
      ]
     },
     "execution_count": 37,
     "metadata": {},
     "output_type": "execute_result"
    }
   ],
   "source": [
    "# Train only on devices with events\n",
    "# This led to a slightly worse score (+0.0001)\n",
    "y = targetencoder.transform(gatrain.group)\n",
    "Xtrain = hstack((Xtr_brand, Xtr_model, Xtr_app, Xtr_label), format='csr')\n",
    "Xtest =  hstack((Xte_brand, Xte_model, Xte_app, Xte_label), format='csr')\n",
    "print('All features: train shape {}, test shape {}'.format(Xtrain.shape, Xtest.shape))\n",
    "\n",
    "Xtrain = Xtrain[trainrows_with_events,:]\n",
    "Xtest = Xtest[testrows_with_events,:]\n",
    "y = y[trainrows_with_events]\n",
    "#print score(LogisticRegression(C=0.02, multi_class='multinomial',solver='lbfgs'))\n",
    "\n",
    "# Train on all devices\n",
    "pred = np.zeros((y.shape[0], nclasses))\n",
    "\n",
    "clf = LogisticRegression(C=0.02, multi_class='multinomial',solver='lbfgs')\n",
    "clf.fit(Xtrain, y)\n",
    "pred = pd.DataFrame(clf.predict_proba(Xtest), index = gatest.index[testrows_with_events], columns=targetencoder.classes_)\n",
    "pred = pred.reindex(gatest.index, fill_value=0)\n",
    "pred.head()"
   ]
  },
  {
   "cell_type": "code",
   "execution_count": 38,
   "metadata": {
    "collapsed": false
   },
   "outputs": [],
   "source": [
    "pred.to_csv('logreg_subm_with_events.csv',index=True)"
   ]
  },
  {
   "cell_type": "markdown",
   "metadata": {},
   "source": [
    "### Add extra features"
   ]
  },
  {
   "cell_type": "code",
   "execution_count": 100,
   "metadata": {
    "collapsed": true
   },
   "outputs": [],
   "source": [
    "def normalize(x):\n",
    "    return (x - x.min())/(x.max() - x.min())"
   ]
  },
  {
   "cell_type": "code",
   "execution_count": 101,
   "metadata": {
    "collapsed": false
   },
   "outputs": [
    {
     "name": "stdout",
     "output_type": "stream",
     "text": [
      "(74645, 32)\n"
     ]
    },
    {
     "data": {
      "text/html": [
       "<div>\n",
       "<table border=\"1\" class=\"dataframe\">\n",
       "  <thead>\n",
       "    <tr style=\"text-align: right;\">\n",
       "      <th></th>\n",
       "      <th>gender</th>\n",
       "      <th>age</th>\n",
       "      <th>group</th>\n",
       "      <th>trainrow</th>\n",
       "      <th>brand</th>\n",
       "      <th>model</th>\n",
       "      <th>device_id</th>\n",
       "      <th>dist_beijing</th>\n",
       "      <th>close_to_beijing</th>\n",
       "      <th>dist_guangzhou</th>\n",
       "      <th>...</th>\n",
       "      <th>close_to_nanjing</th>\n",
       "      <th>dist_wuhan</th>\n",
       "      <th>close_to_wuhan</th>\n",
       "      <th>dist_shanghai</th>\n",
       "      <th>close_to_shanghai</th>\n",
       "      <th>dist_harbin</th>\n",
       "      <th>close_to_harbin</th>\n",
       "      <th>dist_chongqing</th>\n",
       "      <th>close_to_chongqing</th>\n",
       "      <th>travel_dist</th>\n",
       "    </tr>\n",
       "  </thead>\n",
       "  <tbody>\n",
       "    <tr>\n",
       "      <th>30673</th>\n",
       "      <td>M</td>\n",
       "      <td>35</td>\n",
       "      <td>M32-38</td>\n",
       "      <td>0</td>\n",
       "      <td>51</td>\n",
       "      <td>843</td>\n",
       "      <td>-8.076088e+18</td>\n",
       "      <td>0.0</td>\n",
       "      <td>0.0</td>\n",
       "      <td>0.0</td>\n",
       "      <td>...</td>\n",
       "      <td>0.0</td>\n",
       "      <td>0.0</td>\n",
       "      <td>0.0</td>\n",
       "      <td>0.0</td>\n",
       "      <td>0.0</td>\n",
       "      <td>0.0</td>\n",
       "      <td>0.0</td>\n",
       "      <td>0.0</td>\n",
       "      <td>0.0</td>\n",
       "      <td>0.0</td>\n",
       "    </tr>\n",
       "    <tr>\n",
       "      <th>30673</th>\n",
       "      <td>M</td>\n",
       "      <td>35</td>\n",
       "      <td>M32-38</td>\n",
       "      <td>1</td>\n",
       "      <td>51</td>\n",
       "      <td>843</td>\n",
       "      <td>-2.897162e+18</td>\n",
       "      <td>0.0</td>\n",
       "      <td>0.0</td>\n",
       "      <td>0.0</td>\n",
       "      <td>...</td>\n",
       "      <td>0.0</td>\n",
       "      <td>0.0</td>\n",
       "      <td>0.0</td>\n",
       "      <td>0.0</td>\n",
       "      <td>0.0</td>\n",
       "      <td>0.0</td>\n",
       "      <td>0.0</td>\n",
       "      <td>0.0</td>\n",
       "      <td>0.0</td>\n",
       "      <td>0.0</td>\n",
       "    </tr>\n",
       "    <tr>\n",
       "      <th>30673</th>\n",
       "      <td>M</td>\n",
       "      <td>35</td>\n",
       "      <td>M32-38</td>\n",
       "      <td>2</td>\n",
       "      <td>51</td>\n",
       "      <td>843</td>\n",
       "      <td>-8.260684e+18</td>\n",
       "      <td>0.0</td>\n",
       "      <td>0.0</td>\n",
       "      <td>0.0</td>\n",
       "      <td>...</td>\n",
       "      <td>0.0</td>\n",
       "      <td>0.0</td>\n",
       "      <td>0.0</td>\n",
       "      <td>0.0</td>\n",
       "      <td>0.0</td>\n",
       "      <td>0.0</td>\n",
       "      <td>0.0</td>\n",
       "      <td>0.0</td>\n",
       "      <td>0.0</td>\n",
       "      <td>0.0</td>\n",
       "    </tr>\n",
       "    <tr>\n",
       "      <th>30673</th>\n",
       "      <td>M</td>\n",
       "      <td>30</td>\n",
       "      <td>M29-31</td>\n",
       "      <td>3</td>\n",
       "      <td>51</td>\n",
       "      <td>865</td>\n",
       "      <td>-4.938849e+18</td>\n",
       "      <td>0.0</td>\n",
       "      <td>0.0</td>\n",
       "      <td>0.0</td>\n",
       "      <td>...</td>\n",
       "      <td>0.0</td>\n",
       "      <td>0.0</td>\n",
       "      <td>0.0</td>\n",
       "      <td>0.0</td>\n",
       "      <td>0.0</td>\n",
       "      <td>0.0</td>\n",
       "      <td>0.0</td>\n",
       "      <td>0.0</td>\n",
       "      <td>0.0</td>\n",
       "      <td>0.0</td>\n",
       "    </tr>\n",
       "    <tr>\n",
       "      <th>30673</th>\n",
       "      <td>M</td>\n",
       "      <td>30</td>\n",
       "      <td>M29-31</td>\n",
       "      <td>4</td>\n",
       "      <td>51</td>\n",
       "      <td>847</td>\n",
       "      <td>2.451335e+17</td>\n",
       "      <td>0.0</td>\n",
       "      <td>0.0</td>\n",
       "      <td>0.0</td>\n",
       "      <td>...</td>\n",
       "      <td>0.0</td>\n",
       "      <td>0.0</td>\n",
       "      <td>0.0</td>\n",
       "      <td>0.0</td>\n",
       "      <td>0.0</td>\n",
       "      <td>0.0</td>\n",
       "      <td>0.0</td>\n",
       "      <td>0.0</td>\n",
       "      <td>0.0</td>\n",
       "      <td>0.0</td>\n",
       "    </tr>\n",
       "  </tbody>\n",
       "</table>\n",
       "<p>5 rows × 32 columns</p>\n",
       "</div>"
      ],
      "text/plain": [
       "      gender  age   group  trainrow  brand  model     device_id  dist_beijing  \\\n",
       "30673      M   35  M32-38         0     51    843 -8.076088e+18           0.0   \n",
       "30673      M   35  M32-38         1     51    843 -2.897162e+18           0.0   \n",
       "30673      M   35  M32-38         2     51    843 -8.260684e+18           0.0   \n",
       "30673      M   30  M29-31         3     51    865 -4.938849e+18           0.0   \n",
       "30673      M   30  M29-31         4     51    847  2.451335e+17           0.0   \n",
       "\n",
       "       close_to_beijing  dist_guangzhou     ...       close_to_nanjing  \\\n",
       "30673               0.0             0.0     ...                    0.0   \n",
       "30673               0.0             0.0     ...                    0.0   \n",
       "30673               0.0             0.0     ...                    0.0   \n",
       "30673               0.0             0.0     ...                    0.0   \n",
       "30673               0.0             0.0     ...                    0.0   \n",
       "\n",
       "       dist_wuhan  close_to_wuhan  dist_shanghai  close_to_shanghai  \\\n",
       "30673         0.0             0.0            0.0                0.0   \n",
       "30673         0.0             0.0            0.0                0.0   \n",
       "30673         0.0             0.0            0.0                0.0   \n",
       "30673         0.0             0.0            0.0                0.0   \n",
       "30673         0.0             0.0            0.0                0.0   \n",
       "\n",
       "       dist_harbin  close_to_harbin  dist_chongqing  close_to_chongqing  \\\n",
       "30673          0.0              0.0             0.0                 0.0   \n",
       "30673          0.0              0.0             0.0                 0.0   \n",
       "30673          0.0              0.0             0.0                 0.0   \n",
       "30673          0.0              0.0             0.0                 0.0   \n",
       "30673          0.0              0.0             0.0                 0.0   \n",
       "\n",
       "       travel_dist  \n",
       "30673          0.0  \n",
       "30673          0.0  \n",
       "30673          0.0  \n",
       "30673          0.0  \n",
       "30673          0.0  \n",
       "\n",
       "[5 rows x 32 columns]"
      ]
     },
     "execution_count": 101,
     "metadata": {},
     "output_type": "execute_result"
    }
   ],
   "source": [
    "# Adding geo features\n",
    "feat_geo = pd.read_csv(os.path.join(dir_out,'features_geo.csv'))\n",
    "feat_geo_tr = gatrain.merge(feat_geo, right_on='device_id', left_index=True, how='left')\n",
    "feat_geo_te = gatest.merge(feat_geo, right_on='device_id', left_index=True, how='left')\n",
    "feat_geo_tr.fillna(0, inplace=True)\n",
    "feat_geo_te.fillna(0, inplace=True)\n",
    "print feat_geo_tr.shape\n",
    "feat_geo_tr.head()"
   ]
  },
  {
   "cell_type": "code",
   "execution_count": 102,
   "metadata": {
    "collapsed": true
   },
   "outputs": [],
   "source": [
    "feat_geo_include = ['close_to_guangzhou', 'close_to_nanjing', 'close_to_harbin', 'close_to_chongqing']"
   ]
  },
  {
   "cell_type": "code",
   "execution_count": 103,
   "metadata": {
    "collapsed": false
   },
   "outputs": [
    {
     "data": {
      "text/plain": [
       "(74645, 4)"
      ]
     },
     "execution_count": 103,
     "metadata": {},
     "output_type": "execute_result"
    }
   ],
   "source": [
    "Xtr_geo = csr_matrix(feat_geo_tr[feat_geo_include].values)\n",
    "Xte_geo = csr_matrix(feat_geo_te[feat_geo_include].values)\n",
    "\n",
    "Xtr_geo.shape"
   ]
  },
  {
   "cell_type": "code",
   "execution_count": 106,
   "metadata": {
    "collapsed": false
   },
   "outputs": [
    {
     "name": "stdout",
     "output_type": "stream",
     "text": [
      "(74645, 16)\n"
     ]
    },
    {
     "name": "stderr",
     "output_type": "stream",
     "text": [
      "/Users/joostbloom/anaconda/lib/python2.7/site-packages/ipykernel/__main__.py:5: SettingWithCopyWarning: \n",
      "A value is trying to be set on a copy of a slice from a DataFrame\n",
      "\n",
      "See the caveats in the documentation: http://pandas.pydata.org/pandas-docs/stable/indexing.html#indexing-view-versus-copy\n"
     ]
    },
    {
     "data": {
      "text/html": [
       "<div>\n",
       "<table border=\"1\" class=\"dataframe\">\n",
       "  <thead>\n",
       "    <tr style=\"text-align: right;\">\n",
       "      <th></th>\n",
       "      <th>gender</th>\n",
       "      <th>age</th>\n",
       "      <th>group</th>\n",
       "      <th>trainrow</th>\n",
       "      <th>brand</th>\n",
       "      <th>model</th>\n",
       "      <th>device_id</th>\n",
       "      <th>n day events</th>\n",
       "      <th>n hour events</th>\n",
       "      <th>n event sum</th>\n",
       "      <th>n event day max</th>\n",
       "      <th>n event day mean</th>\n",
       "      <th>n event day std</th>\n",
       "      <th>n event hour max</th>\n",
       "      <th>n event hour mean</th>\n",
       "      <th>n event hour std</th>\n",
       "    </tr>\n",
       "  </thead>\n",
       "  <tbody>\n",
       "    <tr>\n",
       "      <th>60864</th>\n",
       "      <td>M</td>\n",
       "      <td>35</td>\n",
       "      <td>M32-38</td>\n",
       "      <td>0</td>\n",
       "      <td>51</td>\n",
       "      <td>843</td>\n",
       "      <td>-8.076088e+18</td>\n",
       "      <td>0.0</td>\n",
       "      <td>0.0</td>\n",
       "      <td>0.0</td>\n",
       "      <td>0.0</td>\n",
       "      <td>0.0</td>\n",
       "      <td>0.0</td>\n",
       "      <td>0.0</td>\n",
       "      <td>0.0</td>\n",
       "      <td>0.0</td>\n",
       "    </tr>\n",
       "    <tr>\n",
       "      <th>60864</th>\n",
       "      <td>M</td>\n",
       "      <td>35</td>\n",
       "      <td>M32-38</td>\n",
       "      <td>1</td>\n",
       "      <td>51</td>\n",
       "      <td>843</td>\n",
       "      <td>-2.897162e+18</td>\n",
       "      <td>0.0</td>\n",
       "      <td>0.0</td>\n",
       "      <td>0.0</td>\n",
       "      <td>0.0</td>\n",
       "      <td>0.0</td>\n",
       "      <td>0.0</td>\n",
       "      <td>0.0</td>\n",
       "      <td>0.0</td>\n",
       "      <td>0.0</td>\n",
       "    </tr>\n",
       "    <tr>\n",
       "      <th>59075</th>\n",
       "      <td>M</td>\n",
       "      <td>35</td>\n",
       "      <td>M32-38</td>\n",
       "      <td>2</td>\n",
       "      <td>51</td>\n",
       "      <td>843</td>\n",
       "      <td>-8.260684e+18</td>\n",
       "      <td>0.0</td>\n",
       "      <td>0.0</td>\n",
       "      <td>0.0</td>\n",
       "      <td>0.0</td>\n",
       "      <td>0.0</td>\n",
       "      <td>0.0</td>\n",
       "      <td>0.0</td>\n",
       "      <td>0.0</td>\n",
       "      <td>0.0</td>\n",
       "    </tr>\n",
       "    <tr>\n",
       "      <th>60864</th>\n",
       "      <td>M</td>\n",
       "      <td>30</td>\n",
       "      <td>M29-31</td>\n",
       "      <td>3</td>\n",
       "      <td>51</td>\n",
       "      <td>865</td>\n",
       "      <td>-4.938849e+18</td>\n",
       "      <td>0.0</td>\n",
       "      <td>0.0</td>\n",
       "      <td>0.0</td>\n",
       "      <td>0.0</td>\n",
       "      <td>0.0</td>\n",
       "      <td>0.0</td>\n",
       "      <td>0.0</td>\n",
       "      <td>0.0</td>\n",
       "      <td>0.0</td>\n",
       "    </tr>\n",
       "    <tr>\n",
       "      <th>60864</th>\n",
       "      <td>M</td>\n",
       "      <td>30</td>\n",
       "      <td>M29-31</td>\n",
       "      <td>4</td>\n",
       "      <td>51</td>\n",
       "      <td>847</td>\n",
       "      <td>2.451335e+17</td>\n",
       "      <td>0.0</td>\n",
       "      <td>0.0</td>\n",
       "      <td>0.0</td>\n",
       "      <td>0.0</td>\n",
       "      <td>0.0</td>\n",
       "      <td>0.0</td>\n",
       "      <td>0.0</td>\n",
       "      <td>0.0</td>\n",
       "      <td>0.0</td>\n",
       "    </tr>\n",
       "  </tbody>\n",
       "</table>\n",
       "</div>"
      ],
      "text/plain": [
       "      gender  age   group  trainrow  brand  model     device_id  n day events  \\\n",
       "60864      M   35  M32-38         0     51    843 -8.076088e+18           0.0   \n",
       "60864      M   35  M32-38         1     51    843 -2.897162e+18           0.0   \n",
       "59075      M   35  M32-38         2     51    843 -8.260684e+18           0.0   \n",
       "60864      M   30  M29-31         3     51    865 -4.938849e+18           0.0   \n",
       "60864      M   30  M29-31         4     51    847  2.451335e+17           0.0   \n",
       "\n",
       "       n hour events  n event sum  n event day max  n event day mean  \\\n",
       "60864            0.0          0.0              0.0               0.0   \n",
       "60864            0.0          0.0              0.0               0.0   \n",
       "59075            0.0          0.0              0.0               0.0   \n",
       "60864            0.0          0.0              0.0               0.0   \n",
       "60864            0.0          0.0              0.0               0.0   \n",
       "\n",
       "       n event day std  n event hour max  n event hour mean  n event hour std  \n",
       "60864              0.0               0.0                0.0               0.0  \n",
       "60864              0.0               0.0                0.0               0.0  \n",
       "59075              0.0               0.0                0.0               0.0  \n",
       "60864              0.0               0.0                0.0               0.0  \n",
       "60864              0.0               0.0                0.0               0.0  "
      ]
     },
     "execution_count": 106,
     "metadata": {},
     "output_type": "execute_result"
    }
   ],
   "source": [
    "# Adding event features\n",
    "feat_events = pd.read_csv(os.path.join(dir_out,'features_event.csv'))\n",
    "\n",
    "# Extreme values\n",
    "feat_events['n event hour max'][feat_events['n event hour max']>500]=500\n",
    "\n",
    "for c in feat_events.columns[1:]:\n",
    "    feat_events[c] = np.log(feat_events[c])\n",
    "    feat_events[c] = normalize(feat_events[c])\n",
    "    \n",
    "feat_events_tr = gatrain.merge(feat_events, right_on='device_id', left_index=True, how='left')\n",
    "feat_events_tr.fillna(0, inplace=True)\n",
    "\n",
    "feat_events_te = gatest.merge(feat_events, right_on='device_id', left_index=True, how='left')\n",
    "feat_events_te.fillna(0, inplace=True)\n",
    "\n",
    "print feat_events_tr.shape\n",
    "feat_events_tr.head()"
   ]
  },
  {
   "cell_type": "code",
   "execution_count": 107,
   "metadata": {
    "collapsed": true
   },
   "outputs": [],
   "source": [
    "feat_events_include = ['n day events', 'n event sum', 'n event day max']"
   ]
  },
  {
   "cell_type": "code",
   "execution_count": 108,
   "metadata": {
    "collapsed": false
   },
   "outputs": [
    {
     "data": {
      "text/plain": [
       "(74645, 3)"
      ]
     },
     "execution_count": 108,
     "metadata": {},
     "output_type": "execute_result"
    }
   ],
   "source": [
    "Xtr_events = csr_matrix(feat_events_tr[feat_events_include].values)\n",
    "Xte_events = csr_matrix(feat_events_te[feat_events_include].values)\n",
    "Xtr_events.shape"
   ]
  },
  {
   "cell_type": "code",
   "execution_count": 137,
   "metadata": {
    "collapsed": false
   },
   "outputs": [
    {
     "name": "stdout",
     "output_type": "stream",
     "text": [
      "Shape before (74645, 19237)\n",
      "Shape after feature selection (74645, 2135)\n"
     ]
    }
   ],
   "source": [
    "print('Shape before {}'.format(Xtr_act_app.shape))\n",
    "selector = VarianceThreshold(0.000001)\n",
    "selector.fit(Xtr_act_app)\n",
    "Xtr_act_app2 = selector.transform(Xtr_act_app)\n",
    "Xte_act_app2 = selector.transform(Xte_act_app)\n",
    "print('Shape after feature selection {}'.format(Xtr_act_app2.shape))"
   ]
  },
  {
   "cell_type": "code",
   "execution_count": 138,
   "metadata": {
    "collapsed": false
   },
   "outputs": [
    {
     "name": "stdout",
     "output_type": "stream",
     "text": [
      "All features: train shape (74645, 23669), test shape (112071, 23669)\n"
     ]
    }
   ],
   "source": [
    "\n",
    "Xtrain = hstack((Xtr_brand, Xtr_model, Xtr_app, Xtr_label, Xtr_geo, Xtr_events, Xtr_act_app2), format='csr')\n",
    "Xtest =  hstack((Xte_brand, Xte_model, Xte_app, Xte_label, Xte_geo, Xte_events, Xte_act_app2), format='csr')\n",
    "print('All features: train shape {}, test shape {}'.format(Xtrain.shape, Xtest.shape))"
   ]
  },
  {
   "cell_type": "code",
   "execution_count": 133,
   "metadata": {
    "collapsed": false
   },
   "outputs": [
    {
     "name": "stdout",
     "output_type": "stream",
     "text": [
      "\n",
      "2.27411249347\n"
     ]
    }
   ],
   "source": [
    "print score(LogisticRegression(C=0.02, multi_class='multinomial',solver='lbfgs'))"
   ]
  },
  {
   "cell_type": "code",
   "execution_count": 139,
   "metadata": {
    "collapsed": false
   },
   "outputs": [
    {
     "data": {
      "text/html": [
       "<div>\n",
       "<table border=\"1\" class=\"dataframe\">\n",
       "  <thead>\n",
       "    <tr style=\"text-align: right;\">\n",
       "      <th></th>\n",
       "      <th>F23-</th>\n",
       "      <th>F24-26</th>\n",
       "      <th>F27-28</th>\n",
       "      <th>F29-32</th>\n",
       "      <th>F33-42</th>\n",
       "      <th>F43+</th>\n",
       "      <th>M22-</th>\n",
       "      <th>M23-26</th>\n",
       "      <th>M27-28</th>\n",
       "      <th>M29-31</th>\n",
       "      <th>M32-38</th>\n",
       "      <th>M39+</th>\n",
       "    </tr>\n",
       "    <tr>\n",
       "      <th>device_id</th>\n",
       "      <th></th>\n",
       "      <th></th>\n",
       "      <th></th>\n",
       "      <th></th>\n",
       "      <th></th>\n",
       "      <th></th>\n",
       "      <th></th>\n",
       "      <th></th>\n",
       "      <th></th>\n",
       "      <th></th>\n",
       "      <th></th>\n",
       "      <th></th>\n",
       "    </tr>\n",
       "  </thead>\n",
       "  <tbody>\n",
       "    <tr>\n",
       "      <th>1002079943728939269</th>\n",
       "      <td>0.001289</td>\n",
       "      <td>0.004928</td>\n",
       "      <td>0.011339</td>\n",
       "      <td>0.011982</td>\n",
       "      <td>0.025924</td>\n",
       "      <td>0.045094</td>\n",
       "      <td>0.010954</td>\n",
       "      <td>0.026970</td>\n",
       "      <td>0.066801</td>\n",
       "      <td>0.114036</td>\n",
       "      <td>0.260222</td>\n",
       "      <td>0.420460</td>\n",
       "    </tr>\n",
       "    <tr>\n",
       "      <th>-1547860181818787117</th>\n",
       "      <td>0.006701</td>\n",
       "      <td>0.011075</td>\n",
       "      <td>0.027359</td>\n",
       "      <td>0.060812</td>\n",
       "      <td>0.077953</td>\n",
       "      <td>0.152517</td>\n",
       "      <td>0.004840</td>\n",
       "      <td>0.071422</td>\n",
       "      <td>0.058678</td>\n",
       "      <td>0.076714</td>\n",
       "      <td>0.241267</td>\n",
       "      <td>0.210662</td>\n",
       "    </tr>\n",
       "    <tr>\n",
       "      <th>7374582448058474277</th>\n",
       "      <td>0.021819</td>\n",
       "      <td>0.035673</td>\n",
       "      <td>0.032062</td>\n",
       "      <td>0.166387</td>\n",
       "      <td>0.160471</td>\n",
       "      <td>0.065827</td>\n",
       "      <td>0.014091</td>\n",
       "      <td>0.028257</td>\n",
       "      <td>0.042407</td>\n",
       "      <td>0.101265</td>\n",
       "      <td>0.185604</td>\n",
       "      <td>0.146137</td>\n",
       "    </tr>\n",
       "    <tr>\n",
       "      <th>-6220210354783429585</th>\n",
       "      <td>0.003240</td>\n",
       "      <td>0.029094</td>\n",
       "      <td>0.009028</td>\n",
       "      <td>0.011882</td>\n",
       "      <td>0.050864</td>\n",
       "      <td>0.192944</td>\n",
       "      <td>0.049351</td>\n",
       "      <td>0.126334</td>\n",
       "      <td>0.087813</td>\n",
       "      <td>0.095585</td>\n",
       "      <td>0.159666</td>\n",
       "      <td>0.184197</td>\n",
       "    </tr>\n",
       "    <tr>\n",
       "      <th>-5893464122623104785</th>\n",
       "      <td>0.046985</td>\n",
       "      <td>0.065538</td>\n",
       "      <td>0.042861</td>\n",
       "      <td>0.062404</td>\n",
       "      <td>0.056654</td>\n",
       "      <td>0.043127</td>\n",
       "      <td>0.089342</td>\n",
       "      <td>0.166455</td>\n",
       "      <td>0.099124</td>\n",
       "      <td>0.102042</td>\n",
       "      <td>0.132799</td>\n",
       "      <td>0.092668</td>\n",
       "    </tr>\n",
       "  </tbody>\n",
       "</table>\n",
       "</div>"
      ],
      "text/plain": [
       "                          F23-    F24-26    F27-28    F29-32    F33-42  \\\n",
       "device_id                                                                \n",
       " 1002079943728939269  0.001289  0.004928  0.011339  0.011982  0.025924   \n",
       "-1547860181818787117  0.006701  0.011075  0.027359  0.060812  0.077953   \n",
       " 7374582448058474277  0.021819  0.035673  0.032062  0.166387  0.160471   \n",
       "-6220210354783429585  0.003240  0.029094  0.009028  0.011882  0.050864   \n",
       "-5893464122623104785  0.046985  0.065538  0.042861  0.062404  0.056654   \n",
       "\n",
       "                          F43+      M22-    M23-26    M27-28    M29-31  \\\n",
       "device_id                                                                \n",
       " 1002079943728939269  0.045094  0.010954  0.026970  0.066801  0.114036   \n",
       "-1547860181818787117  0.152517  0.004840  0.071422  0.058678  0.076714   \n",
       " 7374582448058474277  0.065827  0.014091  0.028257  0.042407  0.101265   \n",
       "-6220210354783429585  0.192944  0.049351  0.126334  0.087813  0.095585   \n",
       "-5893464122623104785  0.043127  0.089342  0.166455  0.099124  0.102042   \n",
       "\n",
       "                        M32-38      M39+  \n",
       "device_id                                 \n",
       " 1002079943728939269  0.260222  0.420460  \n",
       "-1547860181818787117  0.241267  0.210662  \n",
       " 7374582448058474277  0.185604  0.146137  \n",
       "-6220210354783429585  0.159666  0.184197  \n",
       "-5893464122623104785  0.132799  0.092668  "
      ]
     },
     "execution_count": 139,
     "metadata": {},
     "output_type": "execute_result"
    }
   ],
   "source": [
    "# Train on all devices\n",
    "pred = np.zeros((y.shape[0], nclasses))\n",
    "\n",
    "clf = LogisticRegression(C=0.02, multi_class='multinomial',solver='lbfgs')\n",
    "clf.fit(Xtrain, y)\n",
    "pred = pd.DataFrame(clf.predict_proba(Xtest), index = gatest.index, columns=targetencoder.classes_)\n",
    "pred.head()"
   ]
  },
  {
   "cell_type": "code",
   "execution_count": 140,
   "metadata": {
    "collapsed": true
   },
   "outputs": [],
   "source": [
    "pred.to_csv('logreg_subm_extra_features.csv',index=True)"
   ]
  },
  {
   "cell_type": "code",
   "execution_count": null,
   "metadata": {
    "collapsed": true
   },
   "outputs": [],
   "source": []
  }
 ],
 "metadata": {
  "kernelspec": {
   "display_name": "Python 2",
   "language": "python",
   "name": "python2"
  },
  "language_info": {
   "codemirror_mode": {
    "name": "ipython",
    "version": 2
   },
   "file_extension": ".py",
   "mimetype": "text/x-python",
   "name": "python",
   "nbconvert_exporter": "python",
   "pygments_lexer": "ipython2",
   "version": "2.7.11"
  }
 },
 "nbformat": 4,
 "nbformat_minor": 0
}
