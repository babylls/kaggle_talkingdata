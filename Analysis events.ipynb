{
 "cells": [
  {
   "cell_type": "markdown",
   "metadata": {},
   "source": [
    "# Finding features for events\n",
    "The purpose of this notebook is to find meaningful features based on the events table.\n",
    "\n",
    "### Specific goals\n",
    "- Correlation between age and number of days without events\n",
    "- Correlation between age and number of hours without events\n",
    "- Correlation between gender and number of days without events\n",
    "- Correlation between gender and number of hours without events\n",
    "- Correlation between age and min, max, mean and std of events per day\n",
    "- Correlation between age and min, max, mean and std of events per hour\n",
    "- Correlation between gender and min, max, mean and std of events per day\n",
    "- Correlation between gender and min, max, mean and std of events per hour\n",
    "- Correlation between gender and number of events in the morning, afternoon, evening and night\n",
    "- Correlation between age and number of events in the morning, afternoon, evening and night\n",
    "- Correlation between gender and number of events in the week and weekend\n",
    "- Correlation between age and number of events in the week and weekend\n",
    "\n",
    "### Observations\n",
    "- Males have in general more events, more often per day and per hour\n",
    "- Older people have in general more events, more often per day and per hour\n",
    "- Good predictors are in this order: sum, max, mean, std\n",
    "- There are no specific hours or specific days that a gender or age group has more events\n",
    "- In the weekends and periods of the days specific genders or age do not have more events\n",
    "\n",
    "### Conclusions\n",
    "Useful features for devices are:\n",
    "- Number of hours with or without events\n",
    "- Number of days with or without events\n",
    "- Number of events per hour (sum, max, mean, std)\n",
    "- Number of events per day (sum, max, mean, std)\n",
    "\n",
    "### To-do:\n",
    "Investigate in the future:\n",
    "- Investigate per day of the week\n"
   ]
  },
  {
   "cell_type": "code",
   "execution_count": 74,
   "metadata": {
    "collapsed": false
   },
   "outputs": [],
   "source": [
    "import pandas as pd\n",
    "import numpy as np\n",
    "import matplotlib.pyplot as plt\n",
    "%matplotlib inline\n",
    "dir_in = './data_ori/'"
   ]
  },
  {
   "cell_type": "markdown",
   "metadata": {},
   "source": [
    "## Import data\n",
    "I only want to use the events and train table and only care about devices that have at least one event_id (around 31% of devices)."
   ]
  },
  {
   "cell_type": "code",
   "execution_count": 2,
   "metadata": {
    "collapsed": false
   },
   "outputs": [],
   "source": [
    "# Load data and make timestamp is a datetime type\n",
    "train = pd.read_csv(dir_in + 'gender_age_train.csv')\n",
    "dateparse = lambda x: pd.datetime.strptime(x, '%Y-%m-%d %H:%M:%S')\n",
    "events = pd.read_csv(dir_in + 'events.csv', parse_dates=['timestamp'], date_parser=dateparse)\n",
    "\n",
    "# Here I only care about devices with events -> inner join\n",
    "train = pd.merge(train, events, how='inner', on='device_id')\n",
    "def unpack_date(df, date_col):\n",
    "    # Create columns for elements of date_col\n",
    "    di=pd.DatetimeIndex(df[date_col])\n",
    "    \n",
    "    df[date_col+'_h'] = di.hour\n",
    "    df[date_col+'_d'] = di.day\n",
    "    \n",
    "    return df\n",
    "\n",
    "def age_group(sex, age):\n",
    "    # Convert age column to age group\n",
    "    #ageGroupsF = ['23-','24-26','27-28','29-32','33-42,''43+']\n",
    "    #ageGroupsM = ['22-','23-26','27-28','29-31','32-38,''39+']\n",
    "\n",
    "    if sex not in ['M','F']:\n",
    "        ValueError('%s is not a valid gender' % sex)\n",
    "        \n",
    "    if age not in range(100):\n",
    "        ValueError('%s is not a valid age' % age)\n",
    "    \n",
    "    if sex==\"M\":\n",
    "        if age<=22:\n",
    "            g = 0\n",
    "        elif age<=26:\n",
    "            g = 1\n",
    "        elif age<=28:\n",
    "            g = 2\n",
    "        elif age<=31:\n",
    "            g = 3\n",
    "        elif age<=38:\n",
    "            g = 4\n",
    "        else:\n",
    "            g = 5\n",
    "    elif sex==\"F\":\n",
    "        if age<=23:\n",
    "            g = 0\n",
    "        elif age<=26:\n",
    "            g = 1\n",
    "        elif age<=28:\n",
    "            g = 2\n",
    "        elif age<=32:\n",
    "            g = 3\n",
    "        elif age<=42:\n",
    "            g = 4\n",
    "        else:\n",
    "            g = 5\n",
    "    \n",
    "    return g\n",
    "train = unpack_date(train, 'timestamp')\n",
    "train['age_group'] = train[['gender','age']].apply(lambda x: age_group(x[0],x[1]), axis=1)\n",
    "train.drop(['age','group'], axis=1, inplace=True)"
   ]
  },
  {
   "cell_type": "markdown",
   "metadata": {},
   "source": [
    "# Total number of events"
   ]
  },
  {
   "cell_type": "markdown",
   "metadata": {},
   "source": [
    "### Validation\n",
    "Let's first check whether our data make sense."
   ]
  },
  {
   "cell_type": "code",
   "execution_count": 256,
   "metadata": {
    "collapsed": false
   },
   "outputs": [
    {
     "data": {
      "text/html": [
       "<div>\n",
       "<table border=\"1\" class=\"dataframe\">\n",
       "  <thead>\n",
       "    <tr style=\"text-align: right;\">\n",
       "      <th></th>\n",
       "      <th>device_id</th>\n",
       "      <th>gender</th>\n",
       "      <th>event_id</th>\n",
       "      <th>timestamp</th>\n",
       "      <th>longitude</th>\n",
       "      <th>latitude</th>\n",
       "      <th>timestamp_h</th>\n",
       "      <th>timestamp_d</th>\n",
       "      <th>age_group</th>\n",
       "    </tr>\n",
       "  </thead>\n",
       "  <tbody>\n",
       "    <tr>\n",
       "      <th>1</th>\n",
       "      <td>7477216237379271436</td>\n",
       "      <td>F</td>\n",
       "      <td>280934</td>\n",
       "      <td>2016-05-04 14:10:03</td>\n",
       "      <td>119.57</td>\n",
       "      <td>31.75</td>\n",
       "      <td>14</td>\n",
       "      <td>4</td>\n",
       "      <td>4</td>\n",
       "    </tr>\n",
       "    <tr>\n",
       "      <th>2</th>\n",
       "      <td>7477216237379271436</td>\n",
       "      <td>F</td>\n",
       "      <td>363585</td>\n",
       "      <td>2016-05-04 14:13:30</td>\n",
       "      <td>119.57</td>\n",
       "      <td>31.75</td>\n",
       "      <td>14</td>\n",
       "      <td>4</td>\n",
       "      <td>4</td>\n",
       "    </tr>\n",
       "    <tr>\n",
       "      <th>3</th>\n",
       "      <td>7477216237379271436</td>\n",
       "      <td>F</td>\n",
       "      <td>935225</td>\n",
       "      <td>2016-05-06 18:51:15</td>\n",
       "      <td>0.00</td>\n",
       "      <td>0.00</td>\n",
       "      <td>18</td>\n",
       "      <td>6</td>\n",
       "      <td>4</td>\n",
       "    </tr>\n",
       "    <tr>\n",
       "      <th>4</th>\n",
       "      <td>7477216237379271436</td>\n",
       "      <td>F</td>\n",
       "      <td>1551108</td>\n",
       "      <td>2016-05-04 14:09:29</td>\n",
       "      <td>119.57</td>\n",
       "      <td>31.75</td>\n",
       "      <td>14</td>\n",
       "      <td>4</td>\n",
       "      <td>4</td>\n",
       "    </tr>\n",
       "    <tr>\n",
       "      <th>5</th>\n",
       "      <td>7477216237379271436</td>\n",
       "      <td>F</td>\n",
       "      <td>1901681</td>\n",
       "      <td>2016-05-04 14:10:00</td>\n",
       "      <td>119.57</td>\n",
       "      <td>31.75</td>\n",
       "      <td>14</td>\n",
       "      <td>4</td>\n",
       "      <td>4</td>\n",
       "    </tr>\n",
       "    <tr>\n",
       "      <th>6</th>\n",
       "      <td>7477216237379271436</td>\n",
       "      <td>F</td>\n",
       "      <td>1969680</td>\n",
       "      <td>2016-05-04 14:08:17</td>\n",
       "      <td>119.59</td>\n",
       "      <td>31.75</td>\n",
       "      <td>14</td>\n",
       "      <td>4</td>\n",
       "      <td>4</td>\n",
       "    </tr>\n",
       "    <tr>\n",
       "      <th>7</th>\n",
       "      <td>7477216237379271436</td>\n",
       "      <td>F</td>\n",
       "      <td>2616450</td>\n",
       "      <td>2016-05-04 14:08:23</td>\n",
       "      <td>119.57</td>\n",
       "      <td>31.75</td>\n",
       "      <td>14</td>\n",
       "      <td>4</td>\n",
       "      <td>4</td>\n",
       "    </tr>\n",
       "    <tr>\n",
       "      <th>8</th>\n",
       "      <td>6352067998666467520</td>\n",
       "      <td>M</td>\n",
       "      <td>7665</td>\n",
       "      <td>2016-05-05 09:36:50</td>\n",
       "      <td>0.00</td>\n",
       "      <td>0.00</td>\n",
       "      <td>9</td>\n",
       "      <td>5</td>\n",
       "      <td>4</td>\n",
       "    </tr>\n",
       "    <tr>\n",
       "      <th>9</th>\n",
       "      <td>6352067998666467520</td>\n",
       "      <td>M</td>\n",
       "      <td>223251</td>\n",
       "      <td>2016-05-05 10:44:38</td>\n",
       "      <td>0.00</td>\n",
       "      <td>0.00</td>\n",
       "      <td>10</td>\n",
       "      <td>5</td>\n",
       "      <td>4</td>\n",
       "    </tr>\n",
       "    <tr>\n",
       "      <th>10</th>\n",
       "      <td>6352067998666467520</td>\n",
       "      <td>M</td>\n",
       "      <td>375447</td>\n",
       "      <td>2016-05-05 12:52:14</td>\n",
       "      <td>0.00</td>\n",
       "      <td>0.00</td>\n",
       "      <td>12</td>\n",
       "      <td>5</td>\n",
       "      <td>4</td>\n",
       "    </tr>\n",
       "    <tr>\n",
       "      <th>11</th>\n",
       "      <td>6352067998666467520</td>\n",
       "      <td>M</td>\n",
       "      <td>973134</td>\n",
       "      <td>2016-05-03 22:25:27</td>\n",
       "      <td>0.00</td>\n",
       "      <td>0.00</td>\n",
       "      <td>22</td>\n",
       "      <td>3</td>\n",
       "      <td>4</td>\n",
       "    </tr>\n",
       "    <tr>\n",
       "      <th>12</th>\n",
       "      <td>6352067998666467520</td>\n",
       "      <td>M</td>\n",
       "      <td>1692837</td>\n",
       "      <td>2016-05-05 17:25:25</td>\n",
       "      <td>0.00</td>\n",
       "      <td>0.00</td>\n",
       "      <td>17</td>\n",
       "      <td>5</td>\n",
       "      <td>4</td>\n",
       "    </tr>\n",
       "    <tr>\n",
       "      <th>13</th>\n",
       "      <td>6352067998666467520</td>\n",
       "      <td>M</td>\n",
       "      <td>1833120</td>\n",
       "      <td>2016-05-05 17:27:58</td>\n",
       "      <td>0.00</td>\n",
       "      <td>0.00</td>\n",
       "      <td>17</td>\n",
       "      <td>5</td>\n",
       "      <td>4</td>\n",
       "    </tr>\n",
       "    <tr>\n",
       "      <th>14</th>\n",
       "      <td>6352067998666467520</td>\n",
       "      <td>M</td>\n",
       "      <td>1852884</td>\n",
       "      <td>2016-05-05 12:44:44</td>\n",
       "      <td>0.00</td>\n",
       "      <td>0.00</td>\n",
       "      <td>12</td>\n",
       "      <td>5</td>\n",
       "      <td>4</td>\n",
       "    </tr>\n",
       "    <tr>\n",
       "      <th>15</th>\n",
       "      <td>6352067998666467520</td>\n",
       "      <td>M</td>\n",
       "      <td>2355981</td>\n",
       "      <td>2016-05-03 22:14:30</td>\n",
       "      <td>0.00</td>\n",
       "      <td>0.00</td>\n",
       "      <td>22</td>\n",
       "      <td>3</td>\n",
       "      <td>4</td>\n",
       "    </tr>\n",
       "    <tr>\n",
       "      <th>16</th>\n",
       "      <td>6352067998666467520</td>\n",
       "      <td>M</td>\n",
       "      <td>2611671</td>\n",
       "      <td>2016-05-05 10:42:26</td>\n",
       "      <td>0.00</td>\n",
       "      <td>0.00</td>\n",
       "      <td>10</td>\n",
       "      <td>5</td>\n",
       "      <td>4</td>\n",
       "    </tr>\n",
       "    <tr>\n",
       "      <th>17</th>\n",
       "      <td>6352067998666467520</td>\n",
       "      <td>M</td>\n",
       "      <td>2785142</td>\n",
       "      <td>2016-05-04 18:23:24</td>\n",
       "      <td>0.00</td>\n",
       "      <td>0.00</td>\n",
       "      <td>18</td>\n",
       "      <td>4</td>\n",
       "      <td>4</td>\n",
       "    </tr>\n",
       "    <tr>\n",
       "      <th>18</th>\n",
       "      <td>6352067998666467520</td>\n",
       "      <td>M</td>\n",
       "      <td>3139923</td>\n",
       "      <td>2016-05-05 09:33:18</td>\n",
       "      <td>0.00</td>\n",
       "      <td>0.00</td>\n",
       "      <td>9</td>\n",
       "      <td>5</td>\n",
       "      <td>4</td>\n",
       "    </tr>\n",
       "  </tbody>\n",
       "</table>\n",
       "</div>"
      ],
      "text/plain": [
       "              device_id gender  event_id           timestamp  longitude  \\\n",
       "1   7477216237379271436      F    280934 2016-05-04 14:10:03     119.57   \n",
       "2   7477216237379271436      F    363585 2016-05-04 14:13:30     119.57   \n",
       "3   7477216237379271436      F    935225 2016-05-06 18:51:15       0.00   \n",
       "4   7477216237379271436      F   1551108 2016-05-04 14:09:29     119.57   \n",
       "5   7477216237379271436      F   1901681 2016-05-04 14:10:00     119.57   \n",
       "6   7477216237379271436      F   1969680 2016-05-04 14:08:17     119.59   \n",
       "7   7477216237379271436      F   2616450 2016-05-04 14:08:23     119.57   \n",
       "8   6352067998666467520      M      7665 2016-05-05 09:36:50       0.00   \n",
       "9   6352067998666467520      M    223251 2016-05-05 10:44:38       0.00   \n",
       "10  6352067998666467520      M    375447 2016-05-05 12:52:14       0.00   \n",
       "11  6352067998666467520      M    973134 2016-05-03 22:25:27       0.00   \n",
       "12  6352067998666467520      M   1692837 2016-05-05 17:25:25       0.00   \n",
       "13  6352067998666467520      M   1833120 2016-05-05 17:27:58       0.00   \n",
       "14  6352067998666467520      M   1852884 2016-05-05 12:44:44       0.00   \n",
       "15  6352067998666467520      M   2355981 2016-05-03 22:14:30       0.00   \n",
       "16  6352067998666467520      M   2611671 2016-05-05 10:42:26       0.00   \n",
       "17  6352067998666467520      M   2785142 2016-05-04 18:23:24       0.00   \n",
       "18  6352067998666467520      M   3139923 2016-05-05 09:33:18       0.00   \n",
       "\n",
       "    latitude  timestamp_h  timestamp_d  age_group  \n",
       "1      31.75           14            4          4  \n",
       "2      31.75           14            4          4  \n",
       "3       0.00           18            6          4  \n",
       "4      31.75           14            4          4  \n",
       "5      31.75           14            4          4  \n",
       "6      31.75           14            4          4  \n",
       "7      31.75           14            4          4  \n",
       "8       0.00            9            5          4  \n",
       "9       0.00           10            5          4  \n",
       "10      0.00           12            5          4  \n",
       "11      0.00           22            3          4  \n",
       "12      0.00           17            5          4  \n",
       "13      0.00           17            5          4  \n",
       "14      0.00           12            5          4  \n",
       "15      0.00           22            3          4  \n",
       "16      0.00           10            5          4  \n",
       "17      0.00           18            4          4  \n",
       "18      0.00            9            5          4  "
      ]
     },
     "execution_count": 256,
     "metadata": {},
     "output_type": "execute_result"
    }
   ],
   "source": [
    "train[train.device_id.isin([ 6352067998666467520,7477216237379271436])]"
   ]
  },
  {
   "cell_type": "markdown",
   "metadata": {},
   "source": [
    "So device 6352067998666467520 had 11 events on 3 different days, and 7477216237379271436 has 7 events on 2 different days."
   ]
  },
  {
   "cell_type": "code",
   "execution_count": 258,
   "metadata": {
    "collapsed": false
   },
   "outputs": [
    {
     "data": {
      "text/html": [
       "<div>\n",
       "<table border=\"1\" class=\"dataframe\">\n",
       "  <thead>\n",
       "    <tr style=\"text-align: right;\">\n",
       "      <th></th>\n",
       "      <th>gender</th>\n",
       "      <th>F</th>\n",
       "      <th>M</th>\n",
       "    </tr>\n",
       "    <tr>\n",
       "      <th>device_id</th>\n",
       "      <th>timestamp_d</th>\n",
       "      <th></th>\n",
       "      <th></th>\n",
       "    </tr>\n",
       "  </thead>\n",
       "  <tbody>\n",
       "    <tr>\n",
       "      <th rowspan=\"2\" valign=\"top\">-9222956879900151005</th>\n",
       "      <th>6</th>\n",
       "      <td>NaN</td>\n",
       "      <td>30.0</td>\n",
       "    </tr>\n",
       "    <tr>\n",
       "      <th>7</th>\n",
       "      <td>NaN</td>\n",
       "      <td>35.0</td>\n",
       "    </tr>\n",
       "    <tr>\n",
       "      <th rowspan=\"7\" valign=\"top\">-9221026417907250887</th>\n",
       "      <th>1</th>\n",
       "      <td>32.0</td>\n",
       "      <td>NaN</td>\n",
       "    </tr>\n",
       "    <tr>\n",
       "      <th>2</th>\n",
       "      <td>37.0</td>\n",
       "      <td>NaN</td>\n",
       "    </tr>\n",
       "    <tr>\n",
       "      <th>3</th>\n",
       "      <td>16.0</td>\n",
       "      <td>NaN</td>\n",
       "    </tr>\n",
       "    <tr>\n",
       "      <th>4</th>\n",
       "      <td>19.0</td>\n",
       "      <td>NaN</td>\n",
       "    </tr>\n",
       "    <tr>\n",
       "      <th>5</th>\n",
       "      <td>20.0</td>\n",
       "      <td>NaN</td>\n",
       "    </tr>\n",
       "    <tr>\n",
       "      <th>6</th>\n",
       "      <td>14.0</td>\n",
       "      <td>NaN</td>\n",
       "    </tr>\n",
       "    <tr>\n",
       "      <th>7</th>\n",
       "      <td>9.0</td>\n",
       "      <td>NaN</td>\n",
       "    </tr>\n",
       "    <tr>\n",
       "      <th>-9220830859283101130</th>\n",
       "      <th>3</th>\n",
       "      <td>NaN</td>\n",
       "      <td>1.0</td>\n",
       "    </tr>\n",
       "  </tbody>\n",
       "</table>\n",
       "</div>"
      ],
      "text/plain": [
       "gender                               F     M\n",
       "device_id            timestamp_d            \n",
       "-9222956879900151005 6             NaN  30.0\n",
       "                     7             NaN  35.0\n",
       "-9221026417907250887 1            32.0   NaN\n",
       "                     2            37.0   NaN\n",
       "                     3            16.0   NaN\n",
       "                     4            19.0   NaN\n",
       "                     5            20.0   NaN\n",
       "                     6            14.0   NaN\n",
       "                     7             9.0   NaN\n",
       "-9220830859283101130 3             NaN   1.0"
      ]
     },
     "execution_count": 258,
     "metadata": {},
     "output_type": "execute_result"
    }
   ],
   "source": [
    "counts=train.groupby(['gender','device_id','timestamp_d']).timestamp_d.size().unstack('gender')\n",
    "counts.head(10)\n",
    "# Each number in table below denotes the number of evens during that hour for that device.\n",
    "# NaNs are ignored while calculating mean, min, max, sum and std, so do not replace them by 0"
   ]
  },
  {
   "cell_type": "code",
   "execution_count": 259,
   "metadata": {
    "collapsed": false
   },
   "outputs": [
    {
     "data": {
      "text/plain": [
       "gender\n",
       "F    10.854406\n",
       "M    13.360483\n",
       "dtype: float64"
      ]
     },
     "execution_count": 259,
     "metadata": {},
     "output_type": "execute_result"
    }
   ],
   "source": [
    "counts.mean()"
   ]
  },
  {
   "cell_type": "code",
   "execution_count": 260,
   "metadata": {
    "collapsed": false
   },
   "outputs": [
    {
     "data": {
      "text/plain": [
       "gender\n",
       "F    351292.0\n",
       "M    864303.0\n",
       "dtype: float64"
      ]
     },
     "execution_count": 260,
     "metadata": {},
     "output_type": "execute_result"
    }
   ],
   "source": [
    "counts.sum()"
   ]
  },
  {
   "cell_type": "code",
   "execution_count": 263,
   "metadata": {
    "collapsed": false
   },
   "outputs": [
    {
     "data": {
      "text/html": [
       "<div>\n",
       "<table border=\"1\" class=\"dataframe\">\n",
       "  <thead>\n",
       "    <tr style=\"text-align: right;\">\n",
       "      <th></th>\n",
       "      <th>age_group</th>\n",
       "      <th>0</th>\n",
       "      <th>1</th>\n",
       "      <th>2</th>\n",
       "      <th>3</th>\n",
       "      <th>4</th>\n",
       "      <th>5</th>\n",
       "    </tr>\n",
       "    <tr>\n",
       "      <th>device_id</th>\n",
       "      <th>timestamp_d</th>\n",
       "      <th></th>\n",
       "      <th></th>\n",
       "      <th></th>\n",
       "      <th></th>\n",
       "      <th></th>\n",
       "      <th></th>\n",
       "    </tr>\n",
       "  </thead>\n",
       "  <tbody>\n",
       "    <tr>\n",
       "      <th rowspan=\"2\" valign=\"top\">-9222956879900151005</th>\n",
       "      <th>6</th>\n",
       "      <td>NaN</td>\n",
       "      <td>NaN</td>\n",
       "      <td>NaN</td>\n",
       "      <td>NaN</td>\n",
       "      <td>30.0</td>\n",
       "      <td>NaN</td>\n",
       "    </tr>\n",
       "    <tr>\n",
       "      <th>7</th>\n",
       "      <td>NaN</td>\n",
       "      <td>NaN</td>\n",
       "      <td>NaN</td>\n",
       "      <td>NaN</td>\n",
       "      <td>35.0</td>\n",
       "      <td>NaN</td>\n",
       "    </tr>\n",
       "    <tr>\n",
       "      <th rowspan=\"7\" valign=\"top\">-9221026417907250887</th>\n",
       "      <th>1</th>\n",
       "      <td>NaN</td>\n",
       "      <td>NaN</td>\n",
       "      <td>NaN</td>\n",
       "      <td>32.0</td>\n",
       "      <td>NaN</td>\n",
       "      <td>NaN</td>\n",
       "    </tr>\n",
       "    <tr>\n",
       "      <th>2</th>\n",
       "      <td>NaN</td>\n",
       "      <td>NaN</td>\n",
       "      <td>NaN</td>\n",
       "      <td>37.0</td>\n",
       "      <td>NaN</td>\n",
       "      <td>NaN</td>\n",
       "    </tr>\n",
       "    <tr>\n",
       "      <th>3</th>\n",
       "      <td>NaN</td>\n",
       "      <td>NaN</td>\n",
       "      <td>NaN</td>\n",
       "      <td>16.0</td>\n",
       "      <td>NaN</td>\n",
       "      <td>NaN</td>\n",
       "    </tr>\n",
       "    <tr>\n",
       "      <th>4</th>\n",
       "      <td>NaN</td>\n",
       "      <td>NaN</td>\n",
       "      <td>NaN</td>\n",
       "      <td>19.0</td>\n",
       "      <td>NaN</td>\n",
       "      <td>NaN</td>\n",
       "    </tr>\n",
       "    <tr>\n",
       "      <th>5</th>\n",
       "      <td>NaN</td>\n",
       "      <td>NaN</td>\n",
       "      <td>NaN</td>\n",
       "      <td>20.0</td>\n",
       "      <td>NaN</td>\n",
       "      <td>NaN</td>\n",
       "    </tr>\n",
       "    <tr>\n",
       "      <th>6</th>\n",
       "      <td>NaN</td>\n",
       "      <td>NaN</td>\n",
       "      <td>NaN</td>\n",
       "      <td>14.0</td>\n",
       "      <td>NaN</td>\n",
       "      <td>NaN</td>\n",
       "    </tr>\n",
       "    <tr>\n",
       "      <th>7</th>\n",
       "      <td>NaN</td>\n",
       "      <td>NaN</td>\n",
       "      <td>NaN</td>\n",
       "      <td>9.0</td>\n",
       "      <td>NaN</td>\n",
       "      <td>NaN</td>\n",
       "    </tr>\n",
       "    <tr>\n",
       "      <th>-9220830859283101130</th>\n",
       "      <th>3</th>\n",
       "      <td>1.0</td>\n",
       "      <td>NaN</td>\n",
       "      <td>NaN</td>\n",
       "      <td>NaN</td>\n",
       "      <td>NaN</td>\n",
       "      <td>NaN</td>\n",
       "    </tr>\n",
       "  </tbody>\n",
       "</table>\n",
       "</div>"
      ],
      "text/plain": [
       "age_group                           0   1   2     3     4   5\n",
       "device_id            timestamp_d                             \n",
       "-9222956879900151005 6            NaN NaN NaN   NaN  30.0 NaN\n",
       "                     7            NaN NaN NaN   NaN  35.0 NaN\n",
       "-9221026417907250887 1            NaN NaN NaN  32.0   NaN NaN\n",
       "                     2            NaN NaN NaN  37.0   NaN NaN\n",
       "                     3            NaN NaN NaN  16.0   NaN NaN\n",
       "                     4            NaN NaN NaN  19.0   NaN NaN\n",
       "                     5            NaN NaN NaN  20.0   NaN NaN\n",
       "                     6            NaN NaN NaN  14.0   NaN NaN\n",
       "                     7            NaN NaN NaN   9.0   NaN NaN\n",
       "-9220830859283101130 3            1.0 NaN NaN   NaN   NaN NaN"
      ]
     },
     "execution_count": 263,
     "metadata": {},
     "output_type": "execute_result"
    }
   ],
   "source": [
    "counts=train.groupby(['age_group','device_id','timestamp_d']).timestamp_d.size().unstack('age_group')\n",
    "counts.head(10)"
   ]
  },
  {
   "cell_type": "code",
   "execution_count": 264,
   "metadata": {
    "collapsed": false
   },
   "outputs": [
    {
     "data": {
      "text/plain": [
       "age_group\n",
       "0    10.108474\n",
       "1    12.014901\n",
       "2    12.145909\n",
       "3    12.495100\n",
       "4    13.083209\n",
       "5    13.881155\n",
       "dtype: float64"
      ]
     },
     "execution_count": 264,
     "metadata": {},
     "output_type": "execute_result"
    }
   ],
   "source": [
    "counts.mean()"
   ]
  },
  {
   "cell_type": "code",
   "execution_count": 265,
   "metadata": {
    "collapsed": false
   },
   "outputs": [
    {
     "data": {
      "text/plain": [
       "age_group\n",
       "0    118815.0\n",
       "1    183840.0\n",
       "2    130192.0\n",
       "3    197610.0\n",
       "4    298742.0\n",
       "5    286396.0\n",
       "dtype: float64"
      ]
     },
     "execution_count": 265,
     "metadata": {},
     "output_type": "execute_result"
    }
   ],
   "source": [
    "counts.sum()"
   ]
  },
  {
   "cell_type": "markdown",
   "metadata": {},
   "source": [
    "Conclusion so-far: older and male have more events."
   ]
  },
  {
   "cell_type": "markdown",
   "metadata": {
    "collapsed": false
   },
   "source": [
    "### Relation between gender and number of days without events\n",
    "Let's see if there is a correlation between the gender and the number of days without events (NaN)"
   ]
  },
  {
   "cell_type": "code",
   "execution_count": 247,
   "metadata": {
    "collapsed": false
   },
   "outputs": [
    {
     "data": {
      "text/html": [
       "<div>\n",
       "<table border=\"1\" class=\"dataframe\">\n",
       "  <thead>\n",
       "    <tr style=\"text-align: right;\">\n",
       "      <th></th>\n",
       "      <th></th>\n",
       "      <th>days without events</th>\n",
       "    </tr>\n",
       "    <tr>\n",
       "      <th>gender</th>\n",
       "      <th>device_id</th>\n",
       "      <th></th>\n",
       "    </tr>\n",
       "  </thead>\n",
       "  <tbody>\n",
       "    <tr>\n",
       "      <th rowspan=\"5\" valign=\"top\">F</th>\n",
       "      <th>-9221026417907250887</th>\n",
       "      <td>1.0</td>\n",
       "    </tr>\n",
       "    <tr>\n",
       "      <th>-9218960997324667698</th>\n",
       "      <td>4.0</td>\n",
       "    </tr>\n",
       "    <tr>\n",
       "      <th>-9216200545381120263</th>\n",
       "      <td>7.0</td>\n",
       "    </tr>\n",
       "    <tr>\n",
       "      <th>-9215766592714662253</th>\n",
       "      <td>7.0</td>\n",
       "    </tr>\n",
       "    <tr>\n",
       "      <th>-9214243372173201436</th>\n",
       "      <td>5.0</td>\n",
       "    </tr>\n",
       "  </tbody>\n",
       "</table>\n",
       "</div>"
      ],
      "text/plain": [
       "                             days without events\n",
       "gender device_id                                \n",
       "F      -9221026417907250887                  1.0\n",
       "       -9218960997324667698                  4.0\n",
       "       -9216200545381120263                  7.0\n",
       "       -9215766592714662253                  7.0\n",
       "       -9214243372173201436                  5.0"
      ]
     },
     "execution_count": 247,
     "metadata": {},
     "output_type": "execute_result"
    }
   ],
   "source": [
    "count = train.groupby(['gender','device_id','timestamp_d']).timestamp_d.nunique().unstack(['timestamp_d'])\n",
    "count = 8-count.sum(axis=1).to_frame('days without events')\n",
    "count.head(5)"
   ]
  },
  {
   "cell_type": "code",
   "execution_count": 248,
   "metadata": {
    "collapsed": false
   },
   "outputs": [
    {
     "name": "stdout",
     "output_type": "stream",
     "text": [
      "                     days without events     \n",
      "gender                                 F    M\n",
      "device_id                                    \n",
      "-9222956879900151005                 NaN  6.0\n",
      "-9221026417907250887                 1.0  NaN\n",
      "-9220830859283101130                 NaN  5.0\n",
      "-9220061629197656378                 NaN  1.0\n",
      "-9218960997324667698                 4.0  NaN\n"
     ]
    },
    {
     "data": {
      "text/plain": [
       "array([[<matplotlib.axes._subplots.AxesSubplot object at 0x1342b5dd0>,\n",
       "        <matplotlib.axes._subplots.AxesSubplot object at 0x13397d350>]], dtype=object)"
      ]
     },
     "execution_count": 248,
     "metadata": {},
     "output_type": "execute_result"
    },
    {
     "data": {
      "image/png": "[encoded data removed]",
      "text/plain": [
       "<matplotlib.figure.Figure at 0x12b17b950>"
      ]
     },
     "metadata": {},
     "output_type": "display_data"
    },
    {
     "data": {
      "image/png": "[encoded data removed]",
      "text/plain": [
       "<matplotlib.figure.Figure at 0x1339d7e10>"
      ]
     },
     "metadata": {},
     "output_type": "display_data"
    }
   ],
   "source": [
    "print count.unstack('gender').head(5)\n",
    "count.unstack('gender').mean().plot(kind='barh')\n",
    "plt.xlabel('Mean number of days without events')\n",
    "count.unstack('gender').hist(bins=8, sharex=True, sharey=True)"
   ]
  },
  {
   "cell_type": "markdown",
   "metadata": {},
   "source": [
    "Conclusion: females have slightly more days without events, but not significantly."
   ]
  },
  {
   "cell_type": "markdown",
   "metadata": {},
   "source": [
    "### Relation between age and number of days without events"
   ]
  },
  {
   "cell_type": "markdown",
   "metadata": {},
   "source": [
    "Let's see if there is a relation between age and number of days without events."
   ]
  },
  {
   "cell_type": "code",
   "execution_count": 249,
   "metadata": {
    "collapsed": false
   },
   "outputs": [
    {
     "data": {
      "text/html": [
       "<div>\n",
       "<table border=\"1\" class=\"dataframe\">\n",
       "  <thead>\n",
       "    <tr style=\"text-align: right;\">\n",
       "      <th></th>\n",
       "      <th></th>\n",
       "      <th>days without events</th>\n",
       "    </tr>\n",
       "    <tr>\n",
       "      <th>age_group</th>\n",
       "      <th>device_id</th>\n",
       "      <th></th>\n",
       "    </tr>\n",
       "  </thead>\n",
       "  <tbody>\n",
       "    <tr>\n",
       "      <th rowspan=\"5\" valign=\"top\">0</th>\n",
       "      <th>-9220830859283101130</th>\n",
       "      <td>5.0</td>\n",
       "    </tr>\n",
       "    <tr>\n",
       "      <th>-9215352913819638805</th>\n",
       "      <td>7.0</td>\n",
       "    </tr>\n",
       "    <tr>\n",
       "      <th>-9212424538588397592</th>\n",
       "      <td>7.0</td>\n",
       "    </tr>\n",
       "    <tr>\n",
       "      <th>-9208560418953812508</th>\n",
       "      <td>2.0</td>\n",
       "    </tr>\n",
       "    <tr>\n",
       "      <th>-9206202041936929793</th>\n",
       "      <td>1.0</td>\n",
       "    </tr>\n",
       "  </tbody>\n",
       "</table>\n",
       "</div>"
      ],
      "text/plain": [
       "                                days without events\n",
       "age_group device_id                                \n",
       "0         -9220830859283101130                  5.0\n",
       "          -9215352913819638805                  7.0\n",
       "          -9212424538588397592                  7.0\n",
       "          -9208560418953812508                  2.0\n",
       "          -9206202041936929793                  1.0"
      ]
     },
     "execution_count": 249,
     "metadata": {},
     "output_type": "execute_result"
    }
   ],
   "source": [
    "count = train.groupby(['age_group','device_id','timestamp_d']).timestamp_d.nunique().unstack(['timestamp_d'])\n",
    "count = 8-count.sum(axis=1).to_frame('days without events')\n",
    "count.head(5)"
   ]
  },
  {
   "cell_type": "code",
   "execution_count": 250,
   "metadata": {
    "collapsed": false
   },
   "outputs": [
    {
     "name": "stdout",
     "output_type": "stream",
     "text": [
      "                     days without events                       \n",
      "age_group                              0   1   2    3    4    5\n",
      "device_id                                                      \n",
      "-9222956879900151005                 NaN NaN NaN  NaN  6.0  NaN\n",
      "-9221026417907250887                 NaN NaN NaN  1.0  NaN  NaN\n",
      "-9220830859283101130                 5.0 NaN NaN  NaN  NaN  NaN\n",
      "-9220061629197656378                 NaN NaN NaN  NaN  NaN  1.0\n",
      "-9218960997324667698                 NaN NaN NaN  NaN  NaN  4.0\n"
     ]
    },
    {
     "data": {
      "text/plain": [
       "array([[<matplotlib.axes._subplots.AxesSubplot object at 0x1cd1ce5d0>,\n",
       "        <matplotlib.axes._subplots.AxesSubplot object at 0x13408be50>],\n",
       "       [<matplotlib.axes._subplots.AxesSubplot object at 0x13449b9d0>,\n",
       "        <matplotlib.axes._subplots.AxesSubplot object at 0x1cd316190>],\n",
       "       [<matplotlib.axes._subplots.AxesSubplot object at 0x135b94c50>,\n",
       "        <matplotlib.axes._subplots.AxesSubplot object at 0x1c18d8410>]], dtype=object)"
      ]
     },
     "execution_count": 250,
     "metadata": {},
     "output_type": "execute_result"
    },
    {
     "data": {
      "image/png": "[encoded data removed]",
      "text/plain": [
       "<matplotlib.figure.Figure at 0x133d4f110>"
      ]
     },
     "metadata": {},
     "output_type": "display_data"
    },
    {
     "data": {
      "image/png": "[encoded data removed]",
      "text/plain": [
       "<matplotlib.figure.Figure at 0x134744550>"
      ]
     },
     "metadata": {},
     "output_type": "display_data"
    }
   ],
   "source": [
    "print count.unstack('age_group').head(5)\n",
    "count.unstack('age_group').mean().plot(kind='barh')\n",
    "plt.xlabel('Mean number of days without events')\n",
    "count.unstack('age_group').hist(bins=8, sharex=True, sharey=True)"
   ]
  },
  {
   "cell_type": "markdown",
   "metadata": {},
   "source": [
    "Conclusion: older people generally have less days without events. This is because older people have more often events on every day (column 1)."
   ]
  },
  {
   "cell_type": "markdown",
   "metadata": {},
   "source": [
    "### Relation between age and number of hours without events"
   ]
  },
  {
   "cell_type": "code",
   "execution_count": 251,
   "metadata": {
    "collapsed": false
   },
   "outputs": [
    {
     "data": {
      "text/plain": [
       "hours without events    23.0\n",
       "dtype: float64"
      ]
     },
     "execution_count": 251,
     "metadata": {},
     "output_type": "execute_result"
    }
   ],
   "source": [
    "count = train.groupby(['age_group','device_id','timestamp_h']).timestamp_h.nunique().unstack(['timestamp_h'])\n",
    "count = 24-count.sum(axis=1).to_frame('hours without events')\n",
    "count.head(5)\n",
    "count.max()"
   ]
  },
  {
   "cell_type": "code",
   "execution_count": 252,
   "metadata": {
    "collapsed": false
   },
   "outputs": [
    {
     "name": "stdout",
     "output_type": "stream",
     "text": [
      "                     hours without events                         \n",
      "age_group                               0   1   2    3     4     5\n",
      "device_id                                                         \n",
      "-9222956879900151005                  NaN NaN NaN  NaN  15.0   NaN\n",
      "-9221026417907250887                  NaN NaN NaN  8.0   NaN   NaN\n",
      "-9220830859283101130                 20.0 NaN NaN  NaN   NaN   NaN\n",
      "-9220061629197656378                  NaN NaN NaN  NaN   NaN  10.0\n",
      "-9218960997324667698                  NaN NaN NaN  NaN   NaN  20.0\n"
     ]
    },
    {
     "data": {
      "text/plain": [
       "array([[<matplotlib.axes._subplots.AxesSubplot object at 0x131e3e950>,\n",
       "        <matplotlib.axes._subplots.AxesSubplot object at 0x13271ba10>],\n",
       "       [<matplotlib.axes._subplots.AxesSubplot object at 0x131ffd690>,\n",
       "        <matplotlib.axes._subplots.AxesSubplot object at 0x1326afd90>],\n",
       "       [<matplotlib.axes._subplots.AxesSubplot object at 0x131fdac90>,\n",
       "        <matplotlib.axes._subplots.AxesSubplot object at 0x131c40d90>]], dtype=object)"
      ]
     },
     "execution_count": 252,
     "metadata": {},
     "output_type": "execute_result"
    },
    {
     "data": {
      "image/png": "[encoded data removed]",
      "text/plain": [
       "<matplotlib.figure.Figure at 0x132548e90>"
      ]
     },
     "metadata": {},
     "output_type": "display_data"
    },
    {
     "data": {
      "image/png": "[encoded data removed]",
      "text/plain": [
       "<matplotlib.figure.Figure at 0x131e3e3d0>"
      ]
     },
     "metadata": {},
     "output_type": "display_data"
    }
   ],
   "source": [
    "print count.unstack('age_group').head(5)\n",
    "count.unstack('age_group').mean().plot(kind='barh')\n",
    "plt.xlabel('Mean number of hours without events')\n",
    "count.unstack('age_group').hist(bins=23, sharex=True, sharey=True)"
   ]
  },
  {
   "cell_type": "markdown",
   "metadata": {},
   "source": [
    "Conclusion: young people events are more focused on specific hours of the day."
   ]
  },
  {
   "cell_type": "markdown",
   "metadata": {},
   "source": [
    "## Number of events"
   ]
  },
  {
   "cell_type": "markdown",
   "metadata": {},
   "source": [
    "### Number of events per day and gender"
   ]
  },
  {
   "cell_type": "code",
   "execution_count": 18,
   "metadata": {
    "collapsed": true
   },
   "outputs": [],
   "source": [
    "count = train.groupby(['gender','device_id','timestamp_d']).size().unstack(['gender', 'timestamp_d'])\n",
    "#count.fillna(0, inplace=True)a"
   ]
  },
  {
   "cell_type": "code",
   "execution_count": 19,
   "metadata": {
    "collapsed": false
   },
   "outputs": [
    {
     "data": {
      "text/html": [
       "<div>\n",
       "<table border=\"1\" class=\"dataframe\">\n",
       "  <thead>\n",
       "    <tr>\n",
       "      <th>gender</th>\n",
       "      <th colspan=\"8\" halign=\"left\">F</th>\n",
       "      <th colspan=\"9\" halign=\"left\">M</th>\n",
       "    </tr>\n",
       "    <tr>\n",
       "      <th>timestamp_d</th>\n",
       "      <th>1</th>\n",
       "      <th>2</th>\n",
       "      <th>3</th>\n",
       "      <th>4</th>\n",
       "      <th>5</th>\n",
       "      <th>6</th>\n",
       "      <th>7</th>\n",
       "      <th>30</th>\n",
       "      <th>6</th>\n",
       "      <th>7</th>\n",
       "      <th>3</th>\n",
       "      <th>5</th>\n",
       "      <th>1</th>\n",
       "      <th>2</th>\n",
       "      <th>4</th>\n",
       "      <th>30</th>\n",
       "      <th>8</th>\n",
       "    </tr>\n",
       "    <tr>\n",
       "      <th>device_id</th>\n",
       "      <th></th>\n",
       "      <th></th>\n",
       "      <th></th>\n",
       "      <th></th>\n",
       "      <th></th>\n",
       "      <th></th>\n",
       "      <th></th>\n",
       "      <th></th>\n",
       "      <th></th>\n",
       "      <th></th>\n",
       "      <th></th>\n",
       "      <th></th>\n",
       "      <th></th>\n",
       "      <th></th>\n",
       "      <th></th>\n",
       "      <th></th>\n",
       "      <th></th>\n",
       "    </tr>\n",
       "  </thead>\n",
       "  <tbody>\n",
       "    <tr>\n",
       "      <th>-9222956879900151005</th>\n",
       "      <td>NaN</td>\n",
       "      <td>NaN</td>\n",
       "      <td>NaN</td>\n",
       "      <td>NaN</td>\n",
       "      <td>NaN</td>\n",
       "      <td>NaN</td>\n",
       "      <td>NaN</td>\n",
       "      <td>NaN</td>\n",
       "      <td>30.0</td>\n",
       "      <td>35.0</td>\n",
       "      <td>NaN</td>\n",
       "      <td>NaN</td>\n",
       "      <td>NaN</td>\n",
       "      <td>NaN</td>\n",
       "      <td>NaN</td>\n",
       "      <td>NaN</td>\n",
       "      <td>NaN</td>\n",
       "    </tr>\n",
       "    <tr>\n",
       "      <th>-9221026417907250887</th>\n",
       "      <td>32.0</td>\n",
       "      <td>37.0</td>\n",
       "      <td>16.0</td>\n",
       "      <td>19.0</td>\n",
       "      <td>20.0</td>\n",
       "      <td>14.0</td>\n",
       "      <td>9.0</td>\n",
       "      <td>NaN</td>\n",
       "      <td>NaN</td>\n",
       "      <td>NaN</td>\n",
       "      <td>NaN</td>\n",
       "      <td>NaN</td>\n",
       "      <td>NaN</td>\n",
       "      <td>NaN</td>\n",
       "      <td>NaN</td>\n",
       "      <td>NaN</td>\n",
       "      <td>NaN</td>\n",
       "    </tr>\n",
       "    <tr>\n",
       "      <th>-9220830859283101130</th>\n",
       "      <td>NaN</td>\n",
       "      <td>NaN</td>\n",
       "      <td>NaN</td>\n",
       "      <td>NaN</td>\n",
       "      <td>NaN</td>\n",
       "      <td>NaN</td>\n",
       "      <td>NaN</td>\n",
       "      <td>NaN</td>\n",
       "      <td>NaN</td>\n",
       "      <td>2.0</td>\n",
       "      <td>1.0</td>\n",
       "      <td>5.0</td>\n",
       "      <td>NaN</td>\n",
       "      <td>NaN</td>\n",
       "      <td>NaN</td>\n",
       "      <td>NaN</td>\n",
       "      <td>NaN</td>\n",
       "    </tr>\n",
       "    <tr>\n",
       "      <th>-9220061629197656378</th>\n",
       "      <td>NaN</td>\n",
       "      <td>NaN</td>\n",
       "      <td>NaN</td>\n",
       "      <td>NaN</td>\n",
       "      <td>NaN</td>\n",
       "      <td>NaN</td>\n",
       "      <td>NaN</td>\n",
       "      <td>NaN</td>\n",
       "      <td>1.0</td>\n",
       "      <td>1.0</td>\n",
       "      <td>12.0</td>\n",
       "      <td>17.0</td>\n",
       "      <td>6.0</td>\n",
       "      <td>2.0</td>\n",
       "      <td>13.0</td>\n",
       "      <td>NaN</td>\n",
       "      <td>NaN</td>\n",
       "    </tr>\n",
       "    <tr>\n",
       "      <th>-9218960997324667698</th>\n",
       "      <td>NaN</td>\n",
       "      <td>1.0</td>\n",
       "      <td>1.0</td>\n",
       "      <td>NaN</td>\n",
       "      <td>NaN</td>\n",
       "      <td>1.0</td>\n",
       "      <td>3.0</td>\n",
       "      <td>NaN</td>\n",
       "      <td>NaN</td>\n",
       "      <td>NaN</td>\n",
       "      <td>NaN</td>\n",
       "      <td>NaN</td>\n",
       "      <td>NaN</td>\n",
       "      <td>NaN</td>\n",
       "      <td>NaN</td>\n",
       "      <td>NaN</td>\n",
       "      <td>NaN</td>\n",
       "    </tr>\n",
       "  </tbody>\n",
       "</table>\n",
       "</div>"
      ],
      "text/plain": [
       "gender                   F                                            M        \\\n",
       "timestamp_d             1     2     3     4     5     6    7   30    6     7    \n",
       "device_id                                                                       \n",
       "-9222956879900151005   NaN   NaN   NaN   NaN   NaN   NaN  NaN NaN  30.0  35.0   \n",
       "-9221026417907250887  32.0  37.0  16.0  19.0  20.0  14.0  9.0 NaN   NaN   NaN   \n",
       "-9220830859283101130   NaN   NaN   NaN   NaN   NaN   NaN  NaN NaN   NaN   2.0   \n",
       "-9220061629197656378   NaN   NaN   NaN   NaN   NaN   NaN  NaN NaN   1.0   1.0   \n",
       "-9218960997324667698   NaN   1.0   1.0   NaN   NaN   1.0  3.0 NaN   NaN   NaN   \n",
       "\n",
       "gender                                                    \n",
       "timestamp_d             3     5    1    2     4   30  8   \n",
       "device_id                                                 \n",
       "-9222956879900151005   NaN   NaN  NaN  NaN   NaN NaN NaN  \n",
       "-9221026417907250887   NaN   NaN  NaN  NaN   NaN NaN NaN  \n",
       "-9220830859283101130   1.0   5.0  NaN  NaN   NaN NaN NaN  \n",
       "-9220061629197656378  12.0  17.0  6.0  2.0  13.0 NaN NaN  \n",
       "-9218960997324667698   NaN   NaN  NaN  NaN   NaN NaN NaN  "
      ]
     },
     "execution_count": 19,
     "metadata": {},
     "output_type": "execute_result"
    }
   ],
   "source": [
    "count.head()"
   ]
  },
  {
   "cell_type": "code",
   "execution_count": 20,
   "metadata": {
    "collapsed": false
   },
   "outputs": [
    {
     "data": {
      "text/html": [
       "<div>\n",
       "<table border=\"1\" class=\"dataframe\">\n",
       "  <thead>\n",
       "    <tr style=\"text-align: right;\">\n",
       "      <th>gender</th>\n",
       "      <th>F</th>\n",
       "      <th>M</th>\n",
       "    </tr>\n",
       "    <tr>\n",
       "      <th>timestamp_d</th>\n",
       "      <th></th>\n",
       "      <th></th>\n",
       "    </tr>\n",
       "  </thead>\n",
       "  <tbody>\n",
       "    <tr>\n",
       "      <th>1</th>\n",
       "      <td>10.313691</td>\n",
       "      <td>12.868098</td>\n",
       "    </tr>\n",
       "    <tr>\n",
       "      <th>2</th>\n",
       "      <td>10.780321</td>\n",
       "      <td>13.081595</td>\n",
       "    </tr>\n",
       "    <tr>\n",
       "      <th>3</th>\n",
       "      <td>10.946169</td>\n",
       "      <td>14.105246</td>\n",
       "    </tr>\n",
       "    <tr>\n",
       "      <th>4</th>\n",
       "      <td>11.001301</td>\n",
       "      <td>13.726931</td>\n",
       "    </tr>\n",
       "    <tr>\n",
       "      <th>5</th>\n",
       "      <td>11.224778</td>\n",
       "      <td>13.570603</td>\n",
       "    </tr>\n",
       "    <tr>\n",
       "      <th>6</th>\n",
       "      <td>11.028346</td>\n",
       "      <td>13.565595</td>\n",
       "    </tr>\n",
       "    <tr>\n",
       "      <th>7</th>\n",
       "      <td>10.770200</td>\n",
       "      <td>12.800767</td>\n",
       "    </tr>\n",
       "    <tr>\n",
       "      <th>8</th>\n",
       "      <td>NaN</td>\n",
       "      <td>1.000000</td>\n",
       "    </tr>\n",
       "    <tr>\n",
       "      <th>30</th>\n",
       "      <td>1.481481</td>\n",
       "      <td>1.784431</td>\n",
       "    </tr>\n",
       "  </tbody>\n",
       "</table>\n",
       "</div>"
      ],
      "text/plain": [
       "gender               F          M\n",
       "timestamp_d                      \n",
       "1            10.313691  12.868098\n",
       "2            10.780321  13.081595\n",
       "3            10.946169  14.105246\n",
       "4            11.001301  13.726931\n",
       "5            11.224778  13.570603\n",
       "6            11.028346  13.565595\n",
       "7            10.770200  12.800767\n",
       "8                  NaN   1.000000\n",
       "30            1.481481   1.784431"
      ]
     },
     "execution_count": 20,
     "metadata": {},
     "output_type": "execute_result"
    },
    {
     "data": {
      "image/png": "[encoded data removed]",
      "text/plain": [
       "<matplotlib.figure.Figure at 0x11ed29850>"
      ]
     },
     "metadata": {},
     "output_type": "display_data"
    }
   ],
   "source": [
    "mean_gender = count.mean().unstack('gender')\n",
    "mean_gender.plot(kind='barh')\n",
    "mean_gender"
   ]
  },
  {
   "cell_type": "markdown",
   "metadata": {},
   "source": [
    "Not really. This looks fairly constant. Make no sense to further investigate day dependence for gender. Lets have a look per hour. Following line confirms."
   ]
  },
  {
   "cell_type": "code",
   "execution_count": 21,
   "metadata": {
    "collapsed": false
   },
   "outputs": [
    {
     "data": {
      "text/plain": [
       "<matplotlib.axes._subplots.AxesSubplot at 0x115b461d0>"
      ]
     },
     "execution_count": 21,
     "metadata": {},
     "output_type": "execute_result"
    },
    {
     "data": {
      "image/png": "[encoded data removed]",
      "text/plain": [
       "<matplotlib.figure.Figure at 0x115b46e50>"
      ]
     },
     "metadata": {},
     "output_type": "display_data"
    }
   ],
   "source": [
    "np.divide(mean_gender['F'],mean_gender['M']).plot(kind='barh')"
   ]
  },
  {
   "cell_type": "code",
   "execution_count": 25,
   "metadata": {
    "collapsed": false
   },
   "outputs": [
    {
     "data": {
      "text/plain": [
       "gender  device_id             timestamp_d\n",
       "F       -9221026417907250887  1              32\n",
       "                              2              37\n",
       "                              3              16\n",
       "                              4              19\n",
       "                              5              20\n",
       "dtype: int64"
      ]
     },
     "execution_count": 25,
     "metadata": {},
     "output_type": "execute_result"
    }
   ],
   "source": [
    "train.groupby(['gender','device_id','timestamp_d']).size().head(5)"
   ]
  },
  {
   "cell_type": "code",
   "execution_count": 27,
   "metadata": {
    "collapsed": false
   },
   "outputs": [
    {
     "data": {
      "text/html": [
       "<div>\n",
       "<table border=\"1\" class=\"dataframe\">\n",
       "  <thead>\n",
       "    <tr style=\"text-align: right;\">\n",
       "      <th></th>\n",
       "      <th>timestamp_d</th>\n",
       "      <th>1</th>\n",
       "      <th>2</th>\n",
       "      <th>3</th>\n",
       "      <th>4</th>\n",
       "      <th>5</th>\n",
       "      <th>6</th>\n",
       "      <th>7</th>\n",
       "      <th>8</th>\n",
       "      <th>30</th>\n",
       "    </tr>\n",
       "    <tr>\n",
       "      <th>gender</th>\n",
       "      <th>device_id</th>\n",
       "      <th></th>\n",
       "      <th></th>\n",
       "      <th></th>\n",
       "      <th></th>\n",
       "      <th></th>\n",
       "      <th></th>\n",
       "      <th></th>\n",
       "      <th></th>\n",
       "      <th></th>\n",
       "    </tr>\n",
       "  </thead>\n",
       "  <tbody>\n",
       "    <tr>\n",
       "      <th rowspan=\"5\" valign=\"top\">F</th>\n",
       "      <th>-9221026417907250887</th>\n",
       "      <td>32.0</td>\n",
       "      <td>37.0</td>\n",
       "      <td>16.0</td>\n",
       "      <td>19.0</td>\n",
       "      <td>20.0</td>\n",
       "      <td>14.0</td>\n",
       "      <td>9.0</td>\n",
       "      <td>NaN</td>\n",
       "      <td>NaN</td>\n",
       "    </tr>\n",
       "    <tr>\n",
       "      <th>-9218960997324667698</th>\n",
       "      <td>NaN</td>\n",
       "      <td>1.0</td>\n",
       "      <td>1.0</td>\n",
       "      <td>NaN</td>\n",
       "      <td>NaN</td>\n",
       "      <td>1.0</td>\n",
       "      <td>3.0</td>\n",
       "      <td>NaN</td>\n",
       "      <td>NaN</td>\n",
       "    </tr>\n",
       "    <tr>\n",
       "      <th>-9216200545381120263</th>\n",
       "      <td>NaN</td>\n",
       "      <td>1.0</td>\n",
       "      <td>NaN</td>\n",
       "      <td>NaN</td>\n",
       "      <td>NaN</td>\n",
       "      <td>NaN</td>\n",
       "      <td>NaN</td>\n",
       "      <td>NaN</td>\n",
       "      <td>NaN</td>\n",
       "    </tr>\n",
       "    <tr>\n",
       "      <th>-9215766592714662253</th>\n",
       "      <td>NaN</td>\n",
       "      <td>NaN</td>\n",
       "      <td>NaN</td>\n",
       "      <td>NaN</td>\n",
       "      <td>1.0</td>\n",
       "      <td>NaN</td>\n",
       "      <td>NaN</td>\n",
       "      <td>NaN</td>\n",
       "      <td>NaN</td>\n",
       "    </tr>\n",
       "    <tr>\n",
       "      <th>-9214243372173201436</th>\n",
       "      <td>NaN</td>\n",
       "      <td>1.0</td>\n",
       "      <td>1.0</td>\n",
       "      <td>NaN</td>\n",
       "      <td>1.0</td>\n",
       "      <td>NaN</td>\n",
       "      <td>NaN</td>\n",
       "      <td>NaN</td>\n",
       "      <td>NaN</td>\n",
       "    </tr>\n",
       "  </tbody>\n",
       "</table>\n",
       "</div>"
      ],
      "text/plain": [
       "timestamp_d                    1     2     3     4     5     6    7   8   30\n",
       "gender device_id                                                            \n",
       "F      -9221026417907250887  32.0  37.0  16.0  19.0  20.0  14.0  9.0 NaN NaN\n",
       "       -9218960997324667698   NaN   1.0   1.0   NaN   NaN   1.0  3.0 NaN NaN\n",
       "       -9216200545381120263   NaN   1.0   NaN   NaN   NaN   NaN  NaN NaN NaN\n",
       "       -9215766592714662253   NaN   NaN   NaN   NaN   1.0   NaN  NaN NaN NaN\n",
       "       -9214243372173201436   NaN   1.0   1.0   NaN   1.0   NaN  NaN NaN NaN"
      ]
     },
     "execution_count": 27,
     "metadata": {},
     "output_type": "execute_result"
    }
   ],
   "source": [
    "train.groupby(['gender','device_id','timestamp_d']).size().unstack('timestamp_d').head(5)"
   ]
  },
  {
   "cell_type": "markdown",
   "metadata": {},
   "source": [
    "### Number of events per day and gender"
   ]
  },
  {
   "cell_type": "code",
   "execution_count": 191,
   "metadata": {
    "collapsed": false
   },
   "outputs": [
    {
     "data": {
      "text/html": [
       "<div>\n",
       "<table border=\"1\" class=\"dataframe\">\n",
       "  <thead>\n",
       "    <tr style=\"text-align: right;\">\n",
       "      <th></th>\n",
       "      <th>timestamp_d</th>\n",
       "      <th>1</th>\n",
       "      <th>2</th>\n",
       "      <th>3</th>\n",
       "      <th>4</th>\n",
       "      <th>5</th>\n",
       "      <th>6</th>\n",
       "      <th>7</th>\n",
       "      <th>8</th>\n",
       "      <th>30</th>\n",
       "    </tr>\n",
       "    <tr>\n",
       "      <th>gender</th>\n",
       "      <th>device_id</th>\n",
       "      <th></th>\n",
       "      <th></th>\n",
       "      <th></th>\n",
       "      <th></th>\n",
       "      <th></th>\n",
       "      <th></th>\n",
       "      <th></th>\n",
       "      <th></th>\n",
       "      <th></th>\n",
       "    </tr>\n",
       "  </thead>\n",
       "  <tbody>\n",
       "    <tr>\n",
       "      <th rowspan=\"5\" valign=\"top\">F</th>\n",
       "      <th>-9221026417907250887</th>\n",
       "      <td>32.0</td>\n",
       "      <td>37.0</td>\n",
       "      <td>16.0</td>\n",
       "      <td>19.0</td>\n",
       "      <td>20.0</td>\n",
       "      <td>14.0</td>\n",
       "      <td>9.0</td>\n",
       "      <td>NaN</td>\n",
       "      <td>NaN</td>\n",
       "    </tr>\n",
       "    <tr>\n",
       "      <th>-9218960997324667698</th>\n",
       "      <td>NaN</td>\n",
       "      <td>1.0</td>\n",
       "      <td>1.0</td>\n",
       "      <td>NaN</td>\n",
       "      <td>NaN</td>\n",
       "      <td>1.0</td>\n",
       "      <td>3.0</td>\n",
       "      <td>NaN</td>\n",
       "      <td>NaN</td>\n",
       "    </tr>\n",
       "    <tr>\n",
       "      <th>-9216200545381120263</th>\n",
       "      <td>NaN</td>\n",
       "      <td>1.0</td>\n",
       "      <td>NaN</td>\n",
       "      <td>NaN</td>\n",
       "      <td>NaN</td>\n",
       "      <td>NaN</td>\n",
       "      <td>NaN</td>\n",
       "      <td>NaN</td>\n",
       "      <td>NaN</td>\n",
       "    </tr>\n",
       "    <tr>\n",
       "      <th>-9215766592714662253</th>\n",
       "      <td>NaN</td>\n",
       "      <td>NaN</td>\n",
       "      <td>NaN</td>\n",
       "      <td>NaN</td>\n",
       "      <td>1.0</td>\n",
       "      <td>NaN</td>\n",
       "      <td>NaN</td>\n",
       "      <td>NaN</td>\n",
       "      <td>NaN</td>\n",
       "    </tr>\n",
       "    <tr>\n",
       "      <th>-9214243372173201436</th>\n",
       "      <td>NaN</td>\n",
       "      <td>1.0</td>\n",
       "      <td>1.0</td>\n",
       "      <td>NaN</td>\n",
       "      <td>1.0</td>\n",
       "      <td>NaN</td>\n",
       "      <td>NaN</td>\n",
       "      <td>NaN</td>\n",
       "      <td>NaN</td>\n",
       "    </tr>\n",
       "  </tbody>\n",
       "</table>\n",
       "</div>"
      ],
      "text/plain": [
       "timestamp_d                    1     2     3     4     5     6    7   8   30\n",
       "gender device_id                                                            \n",
       "F      -9221026417907250887  32.0  37.0  16.0  19.0  20.0  14.0  9.0 NaN NaN\n",
       "       -9218960997324667698   NaN   1.0   1.0   NaN   NaN   1.0  3.0 NaN NaN\n",
       "       -9216200545381120263   NaN   1.0   NaN   NaN   NaN   NaN  NaN NaN NaN\n",
       "       -9215766592714662253   NaN   NaN   NaN   NaN   1.0   NaN  NaN NaN NaN\n",
       "       -9214243372173201436   NaN   1.0   1.0   NaN   1.0   NaN  NaN NaN NaN"
      ]
     },
     "execution_count": 191,
     "metadata": {},
     "output_type": "execute_result"
    }
   ],
   "source": [
    "count = train.groupby(['gender','device_id','timestamp_d']).size()\n",
    "count.unstack('timestamp_d').head(5)"
   ]
  },
  {
   "cell_type": "code",
   "execution_count": 193,
   "metadata": {
    "collapsed": false
   },
   "outputs": [
    {
     "data": {
      "text/html": [
       "<div>\n",
       "<table border=\"1\" class=\"dataframe\">\n",
       "  <thead>\n",
       "    <tr style=\"text-align: right;\">\n",
       "      <th>gender</th>\n",
       "      <th>F</th>\n",
       "      <th>M</th>\n",
       "    </tr>\n",
       "    <tr>\n",
       "      <th>device_id</th>\n",
       "      <th></th>\n",
       "      <th></th>\n",
       "    </tr>\n",
       "  </thead>\n",
       "  <tbody>\n",
       "    <tr>\n",
       "      <th>-9222956879900151005</th>\n",
       "      <td>NaN</td>\n",
       "      <td>35.0</td>\n",
       "    </tr>\n",
       "    <tr>\n",
       "      <th>-9221026417907250887</th>\n",
       "      <td>37.0</td>\n",
       "      <td>NaN</td>\n",
       "    </tr>\n",
       "    <tr>\n",
       "      <th>-9220830859283101130</th>\n",
       "      <td>NaN</td>\n",
       "      <td>5.0</td>\n",
       "    </tr>\n",
       "    <tr>\n",
       "      <th>-9220061629197656378</th>\n",
       "      <td>NaN</td>\n",
       "      <td>17.0</td>\n",
       "    </tr>\n",
       "    <tr>\n",
       "      <th>-9218960997324667698</th>\n",
       "      <td>3.0</td>\n",
       "      <td>NaN</td>\n",
       "    </tr>\n",
       "  </tbody>\n",
       "</table>\n",
       "</div>"
      ],
      "text/plain": [
       "gender                   F     M\n",
       "device_id                       \n",
       "-9222956879900151005   NaN  35.0\n",
       "-9221026417907250887  37.0   NaN\n",
       "-9220830859283101130   NaN   5.0\n",
       "-9220061629197656378   NaN  17.0\n",
       "-9218960997324667698   3.0   NaN"
      ]
     },
     "execution_count": 193,
     "metadata": {},
     "output_type": "execute_result"
    }
   ],
   "source": [
    "count.unstack('timestamp_d').max(axis=1).unstack('gender').head(5)"
   ]
  },
  {
   "cell_type": "code",
   "execution_count": 206,
   "metadata": {
    "collapsed": false
   },
   "outputs": [
    {
     "data": {
      "text/plain": [
       "(0.7, 0.9)"
      ]
     },
     "execution_count": 206,
     "metadata": {},
     "output_type": "execute_result"
    },
    {
     "data": {
      "text/plain": [
       "<matplotlib.figure.Figure at 0x131c548d0>"
      ]
     },
     "metadata": {},
     "output_type": "display_data"
    },
    {
     "data": {
      "image/png": "[encoded data removed]",
      "text/plain": [
       "<matplotlib.figure.Figure at 0x131c54950>"
      ]
     },
     "metadata": {},
     "output_type": "display_data"
    },
    {
     "data": {
      "image/png": "[encoded data removed]",
      "text/plain": [
       "<matplotlib.figure.Figure at 0x131b9af50>"
      ]
     },
     "metadata": {},
     "output_type": "display_data"
    }
   ],
   "source": [
    "df = pd.DataFrame()\n",
    "df['max'] = count.unstack('timestamp_d').max(axis=1).unstack('gender').mean()\n",
    "df['min'] = count.unstack('timestamp_d').min(axis=1).unstack('gender').mean()\n",
    "df['mean'] = count.unstack('timestamp_d').mean(axis=1).unstack('gender').mean()\n",
    "df['sum'] = count.unstack('timestamp_d').sum(axis=1).unstack('gender').mean()\n",
    "df['std'] = count.unstack('timestamp_d').std(axis=1).unstack('gender').mean()\n",
    "\n",
    "plt.figure()\n",
    "df.transpose().plot.bar()\n",
    "plt.grid()\n",
    "plt.ylabel('Average over all days')\n",
    "\n",
    "plt.figure()\n",
    "df.apply(lambda x: x[0]/x[1]).transpose().plot.bar()\n",
    "plt.grid()\n",
    "plt.ylabel('Difference average between males and females')\n",
    "plt.ylim([0.7,0.9])"
   ]
  },
  {
   "cell_type": "markdown",
   "metadata": {},
   "source": [
    "### Number of events per day and age group"
   ]
  },
  {
   "cell_type": "code",
   "execution_count": 212,
   "metadata": {
    "collapsed": false
   },
   "outputs": [
    {
     "data": {
      "text/plain": [
       "(0.5, 0.9)"
      ]
     },
     "execution_count": 212,
     "metadata": {},
     "output_type": "execute_result"
    },
    {
     "data": {
      "text/plain": [
       "<matplotlib.figure.Figure at 0x12b817c50>"
      ]
     },
     "metadata": {},
     "output_type": "display_data"
    },
    {
     "data": {
      "image/png": "[encoded data removed]",
      "text/plain": [
       "<matplotlib.figure.Figure at 0x12b791e10>"
      ]
     },
     "metadata": {},
     "output_type": "display_data"
    },
    {
     "data": {
      "image/png": "[encoded data removed]",
      "text/plain": [
       "<matplotlib.figure.Figure at 0x12b538e10>"
      ]
     },
     "metadata": {},
     "output_type": "display_data"
    }
   ],
   "source": [
    "count = train.groupby(['age_group','device_id','timestamp_d']).size()\n",
    "\n",
    "df = pd.DataFrame()\n",
    "df['max'] = count.unstack('timestamp_d').max(axis=1).unstack('age_group').mean()\n",
    "df['min'] = count.unstack('timestamp_d').min(axis=1).unstack('age_group').mean()\n",
    "df['mean'] = count.unstack('timestamp_d').mean(axis=1).unstack('age_group').mean()\n",
    "df['sum'] = count.unstack('timestamp_d').sum(axis=1).unstack('age_group').mean()\n",
    "df['std'] = count.unstack('timestamp_d').std(axis=1).unstack('age_group').mean()\n",
    "\n",
    "plt.figure()\n",
    "df.transpose().plot.bar()\n",
    "plt.grid()\n",
    "plt.ylabel('Average over all days')\n",
    "\n",
    "plt.figure()\n",
    "df.apply(lambda x: x[0]/max(x)).transpose().plot.bar()\n",
    "plt.grid()\n",
    "plt.ylabel('Difference average between males and females')\n",
    "plt.ylim([0.5,0.9])"
   ]
  },
  {
   "cell_type": "markdown",
   "metadata": {},
   "source": [
    "### Number of events per hour and gender"
   ]
  },
  {
   "cell_type": "code",
   "execution_count": 218,
   "metadata": {
    "collapsed": false
   },
   "outputs": [
    {
     "data": {
      "text/plain": [
       "(0.6, 1.1)"
      ]
     },
     "execution_count": 218,
     "metadata": {},
     "output_type": "execute_result"
    },
    {
     "data": {
      "text/plain": [
       "<matplotlib.figure.Figure at 0x191045390>"
      ]
     },
     "metadata": {},
     "output_type": "display_data"
    },
    {
     "data": {
      "image/png": "[encoded data removed]",
      "text/plain": [
       "<matplotlib.figure.Figure at 0x131ded950>"
      ]
     },
     "metadata": {},
     "output_type": "display_data"
    },
    {
     "data": {
      "image/png": "[encoded data removed]",
      "text/plain": [
       "<matplotlib.figure.Figure at 0x1913fe9d0>"
      ]
     },
     "metadata": {},
     "output_type": "display_data"
    }
   ],
   "source": [
    "count = train.groupby(['gender','device_id','timestamp_h']).size()\n",
    "\n",
    "df = pd.DataFrame()\n",
    "df['max'] = count.unstack('timestamp_h').max(axis=1).unstack('gender').mean()\n",
    "df['min'] = count.unstack('timestamp_h').min(axis=1).unstack('gender').mean()\n",
    "df['mean'] = count.unstack('timestamp_h').mean(axis=1).unstack('gender').mean()\n",
    "df['sum'] = count.unstack('timestamp_h').sum(axis=1).unstack('gender').mean()\n",
    "df['std'] = count.unstack('timestamp_h').std(axis=1).unstack('gender').mean()\n",
    "\n",
    "plt.figure()\n",
    "df.transpose().plot.bar()\n",
    "plt.grid()\n",
    "plt.ylabel('Average over all hours')\n",
    "\n",
    "plt.figure()\n",
    "df.apply(lambda x: x[0]/max(x)).transpose().plot.bar()\n",
    "plt.grid()\n",
    "plt.ylabel('Difference average between males and females')\n",
    "plt.ylim([0.6,1.1])"
   ]
  },
  {
   "cell_type": "markdown",
   "metadata": {},
   "source": [
    "### Number of events per hour and age group"
   ]
  },
  {
   "cell_type": "code",
   "execution_count": 220,
   "metadata": {
    "collapsed": false
   },
   "outputs": [
    {
     "data": {
      "text/plain": [
       "(0.5, 1.1)"
      ]
     },
     "execution_count": 220,
     "metadata": {},
     "output_type": "execute_result"
    },
    {
     "data": {
      "text/plain": [
       "<matplotlib.figure.Figure at 0x12b953610>"
      ]
     },
     "metadata": {},
     "output_type": "display_data"
    },
    {
     "data": {
      "image/png": "[encoded data removed]",
      "text/plain": [
       "<matplotlib.figure.Figure at 0x132916790>"
      ]
     },
     "metadata": {},
     "output_type": "display_data"
    },
    {
     "data": {
      "image/png": "[encoded data removed]",
      "text/plain": [
       "<matplotlib.figure.Figure at 0x132671810>"
      ]
     },
     "metadata": {},
     "output_type": "display_data"
    }
   ],
   "source": [
    "count = train.groupby(['age_group','device_id','timestamp_h']).size()\n",
    "\n",
    "df = pd.DataFrame()\n",
    "df['max'] = count.unstack('timestamp_h').max(axis=1).unstack('age_group').mean()\n",
    "df['min'] = count.unstack('timestamp_h').min(axis=1).unstack('age_group').mean()\n",
    "df['mean'] = count.unstack('timestamp_h').mean(axis=1).unstack('age_group').mean()\n",
    "df['sum'] = count.unstack('timestamp_h').sum(axis=1).unstack('age_group').mean()\n",
    "df['std'] = count.unstack('timestamp_h').std(axis=1).unstack('age_group').mean()\n",
    "\n",
    "plt.figure()\n",
    "df.transpose().plot.bar()\n",
    "plt.grid()\n",
    "plt.ylabel('Average over all hours')\n",
    "\n",
    "plt.figure()\n",
    "df.apply(lambda x: x[0]/max(x)).transpose().plot.bar()\n",
    "plt.grid()\n",
    "plt.ylabel('Difference average between males and females')\n",
    "plt.ylim([0.5,1.1])"
   ]
  },
  {
   "cell_type": "markdown",
   "metadata": {
    "collapsed": true
   },
   "source": [
    "## Number of events in the morning, afternoon, evening and night"
   ]
  },
  {
   "cell_type": "code",
   "execution_count": 157,
   "metadata": {
    "collapsed": true
   },
   "outputs": [],
   "source": [
    "# Define periods during the day\n",
    "night = [1,2,3,4,5,6]\n",
    "morning = [7,8,9,10,11,12]\n",
    "afternoon = [13,14,15,16,17,18]\n",
    "evening = [19,20,21,22,23,0]"
   ]
  },
  {
   "cell_type": "markdown",
   "metadata": {},
   "source": [
    "### Per age group"
   ]
  },
  {
   "cell_type": "code",
   "execution_count": 237,
   "metadata": {
    "collapsed": false
   },
   "outputs": [
    {
     "data": {
      "text/html": [
       "<div>\n",
       "<table border=\"1\" class=\"dataframe\">\n",
       "  <thead>\n",
       "    <tr style=\"text-align: right;\">\n",
       "      <th></th>\n",
       "      <th>timestamp_h</th>\n",
       "      <th>0</th>\n",
       "      <th>1</th>\n",
       "      <th>2</th>\n",
       "      <th>3</th>\n",
       "      <th>4</th>\n",
       "      <th>5</th>\n",
       "      <th>6</th>\n",
       "      <th>7</th>\n",
       "      <th>8</th>\n",
       "      <th>9</th>\n",
       "      <th>...</th>\n",
       "      <th>14</th>\n",
       "      <th>15</th>\n",
       "      <th>16</th>\n",
       "      <th>17</th>\n",
       "      <th>18</th>\n",
       "      <th>19</th>\n",
       "      <th>20</th>\n",
       "      <th>21</th>\n",
       "      <th>22</th>\n",
       "      <th>23</th>\n",
       "    </tr>\n",
       "    <tr>\n",
       "      <th>age_group</th>\n",
       "      <th>device_id</th>\n",
       "      <th></th>\n",
       "      <th></th>\n",
       "      <th></th>\n",
       "      <th></th>\n",
       "      <th></th>\n",
       "      <th></th>\n",
       "      <th></th>\n",
       "      <th></th>\n",
       "      <th></th>\n",
       "      <th></th>\n",
       "      <th></th>\n",
       "      <th></th>\n",
       "      <th></th>\n",
       "      <th></th>\n",
       "      <th></th>\n",
       "      <th></th>\n",
       "      <th></th>\n",
       "      <th></th>\n",
       "      <th></th>\n",
       "      <th></th>\n",
       "      <th></th>\n",
       "    </tr>\n",
       "  </thead>\n",
       "  <tbody>\n",
       "    <tr>\n",
       "      <th rowspan=\"5\" valign=\"top\">0</th>\n",
       "      <th>-9220830859283101130</th>\n",
       "      <td>NaN</td>\n",
       "      <td>NaN</td>\n",
       "      <td>2.0</td>\n",
       "      <td>NaN</td>\n",
       "      <td>NaN</td>\n",
       "      <td>NaN</td>\n",
       "      <td>NaN</td>\n",
       "      <td>NaN</td>\n",
       "      <td>NaN</td>\n",
       "      <td>NaN</td>\n",
       "      <td>...</td>\n",
       "      <td>NaN</td>\n",
       "      <td>NaN</td>\n",
       "      <td>NaN</td>\n",
       "      <td>NaN</td>\n",
       "      <td>NaN</td>\n",
       "      <td>NaN</td>\n",
       "      <td>3.0</td>\n",
       "      <td>1.0</td>\n",
       "      <td>NaN</td>\n",
       "      <td>2.0</td>\n",
       "    </tr>\n",
       "    <tr>\n",
       "      <th>-9215352913819638805</th>\n",
       "      <td>NaN</td>\n",
       "      <td>NaN</td>\n",
       "      <td>NaN</td>\n",
       "      <td>NaN</td>\n",
       "      <td>NaN</td>\n",
       "      <td>NaN</td>\n",
       "      <td>NaN</td>\n",
       "      <td>NaN</td>\n",
       "      <td>NaN</td>\n",
       "      <td>NaN</td>\n",
       "      <td>...</td>\n",
       "      <td>NaN</td>\n",
       "      <td>14.0</td>\n",
       "      <td>4.0</td>\n",
       "      <td>NaN</td>\n",
       "      <td>NaN</td>\n",
       "      <td>NaN</td>\n",
       "      <td>NaN</td>\n",
       "      <td>NaN</td>\n",
       "      <td>NaN</td>\n",
       "      <td>NaN</td>\n",
       "    </tr>\n",
       "    <tr>\n",
       "      <th>-9212424538588397592</th>\n",
       "      <td>NaN</td>\n",
       "      <td>NaN</td>\n",
       "      <td>NaN</td>\n",
       "      <td>NaN</td>\n",
       "      <td>NaN</td>\n",
       "      <td>NaN</td>\n",
       "      <td>NaN</td>\n",
       "      <td>NaN</td>\n",
       "      <td>NaN</td>\n",
       "      <td>NaN</td>\n",
       "      <td>...</td>\n",
       "      <td>NaN</td>\n",
       "      <td>1.0</td>\n",
       "      <td>NaN</td>\n",
       "      <td>1.0</td>\n",
       "      <td>NaN</td>\n",
       "      <td>1.0</td>\n",
       "      <td>NaN</td>\n",
       "      <td>NaN</td>\n",
       "      <td>NaN</td>\n",
       "      <td>NaN</td>\n",
       "    </tr>\n",
       "    <tr>\n",
       "      <th>-9208560418953812508</th>\n",
       "      <td>NaN</td>\n",
       "      <td>NaN</td>\n",
       "      <td>NaN</td>\n",
       "      <td>NaN</td>\n",
       "      <td>NaN</td>\n",
       "      <td>NaN</td>\n",
       "      <td>NaN</td>\n",
       "      <td>NaN</td>\n",
       "      <td>1.0</td>\n",
       "      <td>4.0</td>\n",
       "      <td>...</td>\n",
       "      <td>NaN</td>\n",
       "      <td>NaN</td>\n",
       "      <td>1.0</td>\n",
       "      <td>1.0</td>\n",
       "      <td>NaN</td>\n",
       "      <td>1.0</td>\n",
       "      <td>NaN</td>\n",
       "      <td>NaN</td>\n",
       "      <td>NaN</td>\n",
       "      <td>NaN</td>\n",
       "    </tr>\n",
       "    <tr>\n",
       "      <th>-9206202041936929793</th>\n",
       "      <td>2.0</td>\n",
       "      <td>2.0</td>\n",
       "      <td>2.0</td>\n",
       "      <td>NaN</td>\n",
       "      <td>NaN</td>\n",
       "      <td>NaN</td>\n",
       "      <td>NaN</td>\n",
       "      <td>19.0</td>\n",
       "      <td>15.0</td>\n",
       "      <td>8.0</td>\n",
       "      <td>...</td>\n",
       "      <td>3.0</td>\n",
       "      <td>7.0</td>\n",
       "      <td>21.0</td>\n",
       "      <td>6.0</td>\n",
       "      <td>4.0</td>\n",
       "      <td>5.0</td>\n",
       "      <td>7.0</td>\n",
       "      <td>16.0</td>\n",
       "      <td>2.0</td>\n",
       "      <td>4.0</td>\n",
       "    </tr>\n",
       "  </tbody>\n",
       "</table>\n",
       "<p>5 rows × 24 columns</p>\n",
       "</div>"
      ],
      "text/plain": [
       "timestamp_h                      0    1    2   3   4   5   6     7     8   \\\n",
       "age_group device_id                                                         \n",
       "0         -9220830859283101130  NaN  NaN  2.0 NaN NaN NaN NaN   NaN   NaN   \n",
       "          -9215352913819638805  NaN  NaN  NaN NaN NaN NaN NaN   NaN   NaN   \n",
       "          -9212424538588397592  NaN  NaN  NaN NaN NaN NaN NaN   NaN   NaN   \n",
       "          -9208560418953812508  NaN  NaN  NaN NaN NaN NaN NaN   NaN   1.0   \n",
       "          -9206202041936929793  2.0  2.0  2.0 NaN NaN NaN NaN  19.0  15.0   \n",
       "\n",
       "timestamp_h                      9  ...    14    15    16   17   18   19   20  \\\n",
       "age_group device_id                 ...                                         \n",
       "0         -9220830859283101130  NaN ...   NaN   NaN   NaN  NaN  NaN  NaN  3.0   \n",
       "          -9215352913819638805  NaN ...   NaN  14.0   4.0  NaN  NaN  NaN  NaN   \n",
       "          -9212424538588397592  NaN ...   NaN   1.0   NaN  1.0  NaN  1.0  NaN   \n",
       "          -9208560418953812508  4.0 ...   NaN   NaN   1.0  1.0  NaN  1.0  NaN   \n",
       "          -9206202041936929793  8.0 ...   3.0   7.0  21.0  6.0  4.0  5.0  7.0   \n",
       "\n",
       "timestamp_h                       21   22   23  \n",
       "age_group device_id                             \n",
       "0         -9220830859283101130   1.0  NaN  2.0  \n",
       "          -9215352913819638805   NaN  NaN  NaN  \n",
       "          -9212424538588397592   NaN  NaN  NaN  \n",
       "          -9208560418953812508   NaN  NaN  NaN  \n",
       "          -9206202041936929793  16.0  2.0  4.0  \n",
       "\n",
       "[5 rows x 24 columns]"
      ]
     },
     "execution_count": 237,
     "metadata": {},
     "output_type": "execute_result"
    }
   ],
   "source": [
    "\n",
    "count = train.groupby(['age_group','device_id','timestamp_h']).size().unstack('timestamp_h')\n",
    "count.head(5)"
   ]
  },
  {
   "cell_type": "code",
   "execution_count": 238,
   "metadata": {
    "collapsed": false
   },
   "outputs": [
    {
     "data": {
      "text/html": [
       "<div>\n",
       "<table border=\"1\" class=\"dataframe\">\n",
       "  <thead>\n",
       "    <tr style=\"text-align: right;\">\n",
       "      <th>age_group</th>\n",
       "      <th>0</th>\n",
       "      <th>1</th>\n",
       "      <th>2</th>\n",
       "      <th>3</th>\n",
       "      <th>4</th>\n",
       "      <th>5</th>\n",
       "    </tr>\n",
       "    <tr>\n",
       "      <th>timestamp_h</th>\n",
       "      <th></th>\n",
       "      <th></th>\n",
       "      <th></th>\n",
       "      <th></th>\n",
       "      <th></th>\n",
       "      <th></th>\n",
       "    </tr>\n",
       "  </thead>\n",
       "  <tbody>\n",
       "    <tr>\n",
       "      <th>0</th>\n",
       "      <td>4513.0</td>\n",
       "      <td>8010.0</td>\n",
       "      <td>4774.0</td>\n",
       "      <td>7037.0</td>\n",
       "      <td>11130.0</td>\n",
       "      <td>9400.0</td>\n",
       "    </tr>\n",
       "    <tr>\n",
       "      <th>1</th>\n",
       "      <td>2655.0</td>\n",
       "      <td>5516.0</td>\n",
       "      <td>2904.0</td>\n",
       "      <td>4243.0</td>\n",
       "      <td>6239.0</td>\n",
       "      <td>5533.0</td>\n",
       "    </tr>\n",
       "    <tr>\n",
       "      <th>2</th>\n",
       "      <td>1945.0</td>\n",
       "      <td>4133.0</td>\n",
       "      <td>2279.0</td>\n",
       "      <td>3473.0</td>\n",
       "      <td>4364.0</td>\n",
       "      <td>4054.0</td>\n",
       "    </tr>\n",
       "    <tr>\n",
       "      <th>3</th>\n",
       "      <td>1610.0</td>\n",
       "      <td>3170.0</td>\n",
       "      <td>1831.0</td>\n",
       "      <td>2873.0</td>\n",
       "      <td>3892.0</td>\n",
       "      <td>3615.0</td>\n",
       "    </tr>\n",
       "    <tr>\n",
       "      <th>4</th>\n",
       "      <td>1234.0</td>\n",
       "      <td>2708.0</td>\n",
       "      <td>1682.0</td>\n",
       "      <td>2627.0</td>\n",
       "      <td>3803.0</td>\n",
       "      <td>4228.0</td>\n",
       "    </tr>\n",
       "    <tr>\n",
       "      <th>5</th>\n",
       "      <td>1602.0</td>\n",
       "      <td>3189.0</td>\n",
       "      <td>2075.0</td>\n",
       "      <td>3679.0</td>\n",
       "      <td>5848.0</td>\n",
       "      <td>8143.0</td>\n",
       "    </tr>\n",
       "    <tr>\n",
       "      <th>6</th>\n",
       "      <td>2671.0</td>\n",
       "      <td>5132.0</td>\n",
       "      <td>3706.0</td>\n",
       "      <td>6939.0</td>\n",
       "      <td>11576.0</td>\n",
       "      <td>13946.0</td>\n",
       "    </tr>\n",
       "    <tr>\n",
       "      <th>7</th>\n",
       "      <td>4019.0</td>\n",
       "      <td>6754.0</td>\n",
       "      <td>5744.0</td>\n",
       "      <td>8767.0</td>\n",
       "      <td>15167.0</td>\n",
       "      <td>15132.0</td>\n",
       "    </tr>\n",
       "    <tr>\n",
       "      <th>8</th>\n",
       "      <td>5015.0</td>\n",
       "      <td>8265.0</td>\n",
       "      <td>6032.0</td>\n",
       "      <td>8948.0</td>\n",
       "      <td>15751.0</td>\n",
       "      <td>15021.0</td>\n",
       "    </tr>\n",
       "    <tr>\n",
       "      <th>9</th>\n",
       "      <td>5893.0</td>\n",
       "      <td>9172.0</td>\n",
       "      <td>6782.0</td>\n",
       "      <td>9838.0</td>\n",
       "      <td>16073.0</td>\n",
       "      <td>14468.0</td>\n",
       "    </tr>\n",
       "    <tr>\n",
       "      <th>10</th>\n",
       "      <td>7489.0</td>\n",
       "      <td>10540.0</td>\n",
       "      <td>7378.0</td>\n",
       "      <td>10971.0</td>\n",
       "      <td>17100.0</td>\n",
       "      <td>15100.0</td>\n",
       "    </tr>\n",
       "    <tr>\n",
       "      <th>11</th>\n",
       "      <td>6487.0</td>\n",
       "      <td>9952.0</td>\n",
       "      <td>6706.0</td>\n",
       "      <td>10424.0</td>\n",
       "      <td>15186.0</td>\n",
       "      <td>14165.0</td>\n",
       "    </tr>\n",
       "    <tr>\n",
       "      <th>12</th>\n",
       "      <td>6096.0</td>\n",
       "      <td>9678.0</td>\n",
       "      <td>6446.0</td>\n",
       "      <td>10964.0</td>\n",
       "      <td>14937.0</td>\n",
       "      <td>14463.0</td>\n",
       "    </tr>\n",
       "    <tr>\n",
       "      <th>13</th>\n",
       "      <td>6311.0</td>\n",
       "      <td>9089.0</td>\n",
       "      <td>6474.0</td>\n",
       "      <td>9680.0</td>\n",
       "      <td>13951.0</td>\n",
       "      <td>12799.0</td>\n",
       "    </tr>\n",
       "    <tr>\n",
       "      <th>14</th>\n",
       "      <td>5768.0</td>\n",
       "      <td>8670.0</td>\n",
       "      <td>6212.0</td>\n",
       "      <td>9561.0</td>\n",
       "      <td>13388.0</td>\n",
       "      <td>12725.0</td>\n",
       "    </tr>\n",
       "    <tr>\n",
       "      <th>15</th>\n",
       "      <td>5612.0</td>\n",
       "      <td>8475.0</td>\n",
       "      <td>6280.0</td>\n",
       "      <td>8651.0</td>\n",
       "      <td>13527.0</td>\n",
       "      <td>12679.0</td>\n",
       "    </tr>\n",
       "    <tr>\n",
       "      <th>16</th>\n",
       "      <td>5677.0</td>\n",
       "      <td>8835.0</td>\n",
       "      <td>6327.0</td>\n",
       "      <td>9185.0</td>\n",
       "      <td>13903.0</td>\n",
       "      <td>13075.0</td>\n",
       "    </tr>\n",
       "    <tr>\n",
       "      <th>17</th>\n",
       "      <td>6141.0</td>\n",
       "      <td>8208.0</td>\n",
       "      <td>6575.0</td>\n",
       "      <td>9466.0</td>\n",
       "      <td>14484.0</td>\n",
       "      <td>13326.0</td>\n",
       "    </tr>\n",
       "    <tr>\n",
       "      <th>18</th>\n",
       "      <td>5921.0</td>\n",
       "      <td>8314.0</td>\n",
       "      <td>5890.0</td>\n",
       "      <td>9276.0</td>\n",
       "      <td>14607.0</td>\n",
       "      <td>13599.0</td>\n",
       "    </tr>\n",
       "    <tr>\n",
       "      <th>19</th>\n",
       "      <td>6198.0</td>\n",
       "      <td>8900.0</td>\n",
       "      <td>6417.0</td>\n",
       "      <td>10088.0</td>\n",
       "      <td>15455.0</td>\n",
       "      <td>14889.0</td>\n",
       "    </tr>\n",
       "    <tr>\n",
       "      <th>20</th>\n",
       "      <td>6545.0</td>\n",
       "      <td>9242.0</td>\n",
       "      <td>7207.0</td>\n",
       "      <td>10629.0</td>\n",
       "      <td>15883.0</td>\n",
       "      <td>15593.0</td>\n",
       "    </tr>\n",
       "    <tr>\n",
       "      <th>21</th>\n",
       "      <td>6678.0</td>\n",
       "      <td>9370.0</td>\n",
       "      <td>7576.0</td>\n",
       "      <td>11378.0</td>\n",
       "      <td>16427.0</td>\n",
       "      <td>16069.0</td>\n",
       "    </tr>\n",
       "    <tr>\n",
       "      <th>22</th>\n",
       "      <td>6331.0</td>\n",
       "      <td>10009.0</td>\n",
       "      <td>7170.0</td>\n",
       "      <td>10217.0</td>\n",
       "      <td>14550.0</td>\n",
       "      <td>13701.0</td>\n",
       "    </tr>\n",
       "    <tr>\n",
       "      <th>23</th>\n",
       "      <td>6404.0</td>\n",
       "      <td>8509.0</td>\n",
       "      <td>5725.0</td>\n",
       "      <td>8696.0</td>\n",
       "      <td>11501.0</td>\n",
       "      <td>10673.0</td>\n",
       "    </tr>\n",
       "  </tbody>\n",
       "</table>\n",
       "</div>"
      ],
      "text/plain": [
       "age_group         0        1       2        3        4        5\n",
       "timestamp_h                                                    \n",
       "0            4513.0   8010.0  4774.0   7037.0  11130.0   9400.0\n",
       "1            2655.0   5516.0  2904.0   4243.0   6239.0   5533.0\n",
       "2            1945.0   4133.0  2279.0   3473.0   4364.0   4054.0\n",
       "3            1610.0   3170.0  1831.0   2873.0   3892.0   3615.0\n",
       "4            1234.0   2708.0  1682.0   2627.0   3803.0   4228.0\n",
       "5            1602.0   3189.0  2075.0   3679.0   5848.0   8143.0\n",
       "6            2671.0   5132.0  3706.0   6939.0  11576.0  13946.0\n",
       "7            4019.0   6754.0  5744.0   8767.0  15167.0  15132.0\n",
       "8            5015.0   8265.0  6032.0   8948.0  15751.0  15021.0\n",
       "9            5893.0   9172.0  6782.0   9838.0  16073.0  14468.0\n",
       "10           7489.0  10540.0  7378.0  10971.0  17100.0  15100.0\n",
       "11           6487.0   9952.0  6706.0  10424.0  15186.0  14165.0\n",
       "12           6096.0   9678.0  6446.0  10964.0  14937.0  14463.0\n",
       "13           6311.0   9089.0  6474.0   9680.0  13951.0  12799.0\n",
       "14           5768.0   8670.0  6212.0   9561.0  13388.0  12725.0\n",
       "15           5612.0   8475.0  6280.0   8651.0  13527.0  12679.0\n",
       "16           5677.0   8835.0  6327.0   9185.0  13903.0  13075.0\n",
       "17           6141.0   8208.0  6575.0   9466.0  14484.0  13326.0\n",
       "18           5921.0   8314.0  5890.0   9276.0  14607.0  13599.0\n",
       "19           6198.0   8900.0  6417.0  10088.0  15455.0  14889.0\n",
       "20           6545.0   9242.0  7207.0  10629.0  15883.0  15593.0\n",
       "21           6678.0   9370.0  7576.0  11378.0  16427.0  16069.0\n",
       "22           6331.0  10009.0  7170.0  10217.0  14550.0  13701.0\n",
       "23           6404.0   8509.0  5725.0   8696.0  11501.0  10673.0"
      ]
     },
     "execution_count": 238,
     "metadata": {},
     "output_type": "execute_result"
    }
   ],
   "source": [
    "count.groupby(level=0).sum().transpose()"
   ]
  },
  {
   "cell_type": "code",
   "execution_count": 239,
   "metadata": {
    "collapsed": false
   },
   "outputs": [
    {
     "data": {
      "text/plain": [
       "age_group\n",
       "0    10\n",
       "1    10\n",
       "2    21\n",
       "3    21\n",
       "4    10\n",
       "5    21\n",
       "dtype: int64"
      ]
     },
     "execution_count": 239,
     "metadata": {},
     "output_type": "execute_result"
    }
   ],
   "source": [
    "count.groupby(level=0).sum().transpose().idxmax()"
   ]
  },
  {
   "cell_type": "code",
   "execution_count": 240,
   "metadata": {
    "collapsed": false
   },
   "outputs": [
    {
     "data": {
      "text/plain": [
       "age_group\n",
       "0    4\n",
       "1    4\n",
       "2    4\n",
       "3    4\n",
       "4    4\n",
       "5    3\n",
       "dtype: int64"
      ]
     },
     "execution_count": 240,
     "metadata": {},
     "output_type": "execute_result"
    }
   ],
   "source": [
    "count.groupby(level=0).sum().transpose().idxmin()"
   ]
  },
  {
   "cell_type": "code",
   "execution_count": 241,
   "metadata": {
    "collapsed": false
   },
   "outputs": [
    {
     "data": {
      "image/png": "[encoded data removed]",
      "text/plain": [
       "<matplotlib.figure.Figure at 0x12b185490>"
      ]
     },
     "metadata": {},
     "output_type": "display_data"
    },
    {
     "data": {
      "text/plain": [
       "<matplotlib.figure.Figure at 0x12b03ef90>"
      ]
     },
     "metadata": {},
     "output_type": "display_data"
    },
    {
     "data": {
      "image/png": "[encoded data removed]",
      "text/plain": [
       "<matplotlib.figure.Figure at 0x13e27a610>"
      ]
     },
     "metadata": {},
     "output_type": "display_data"
    }
   ],
   "source": [
    "df = count.groupby(level=0).sum().transpose().loc[night].sum().to_frame('Night')\n",
    "df['Morning'] = count.groupby(level=0).sum().transpose().loc[morning].sum()\n",
    "df['Afternoon'] = count.groupby(level=0).sum().transpose().loc[afternoon].sum()\n",
    "df['Evening'] = count.groupby(level=0).sum().transpose().loc[evening].sum()\n",
    "\n",
    "df.plot.bar()\n",
    "plt.grid()\n",
    "\n",
    "plt.figure()\n",
    "df.transpose().apply(lambda x: x/(x[0]+x[1]+x[2]+x[3]), axis=0).transpose().plot.bar()\n",
    "plt.ylabel('Percentage of events')\n",
    "plt.grid()"
   ]
  },
  {
   "cell_type": "markdown",
   "metadata": {},
   "source": [
    "### Per gender"
   ]
  },
  {
   "cell_type": "code",
   "execution_count": 224,
   "metadata": {
    "collapsed": false
   },
   "outputs": [
    {
     "data": {
      "text/html": [
       "<div>\n",
       "<table border=\"1\" class=\"dataframe\">\n",
       "  <thead>\n",
       "    <tr style=\"text-align: right;\">\n",
       "      <th></th>\n",
       "      <th>timestamp_h</th>\n",
       "      <th>0</th>\n",
       "      <th>1</th>\n",
       "      <th>2</th>\n",
       "      <th>3</th>\n",
       "      <th>4</th>\n",
       "      <th>5</th>\n",
       "      <th>6</th>\n",
       "      <th>7</th>\n",
       "      <th>8</th>\n",
       "      <th>9</th>\n",
       "      <th>...</th>\n",
       "      <th>14</th>\n",
       "      <th>15</th>\n",
       "      <th>16</th>\n",
       "      <th>17</th>\n",
       "      <th>18</th>\n",
       "      <th>19</th>\n",
       "      <th>20</th>\n",
       "      <th>21</th>\n",
       "      <th>22</th>\n",
       "      <th>23</th>\n",
       "    </tr>\n",
       "    <tr>\n",
       "      <th>gender</th>\n",
       "      <th>device_id</th>\n",
       "      <th></th>\n",
       "      <th></th>\n",
       "      <th></th>\n",
       "      <th></th>\n",
       "      <th></th>\n",
       "      <th></th>\n",
       "      <th></th>\n",
       "      <th></th>\n",
       "      <th></th>\n",
       "      <th></th>\n",
       "      <th></th>\n",
       "      <th></th>\n",
       "      <th></th>\n",
       "      <th></th>\n",
       "      <th></th>\n",
       "      <th></th>\n",
       "      <th></th>\n",
       "      <th></th>\n",
       "      <th></th>\n",
       "      <th></th>\n",
       "      <th></th>\n",
       "    </tr>\n",
       "  </thead>\n",
       "  <tbody>\n",
       "    <tr>\n",
       "      <th rowspan=\"5\" valign=\"top\">F</th>\n",
       "      <th>-9221026417907250887</th>\n",
       "      <td>NaN</td>\n",
       "      <td>NaN</td>\n",
       "      <td>NaN</td>\n",
       "      <td>NaN</td>\n",
       "      <td>NaN</td>\n",
       "      <td>NaN</td>\n",
       "      <td>7.0</td>\n",
       "      <td>43.0</td>\n",
       "      <td>10.0</td>\n",
       "      <td>5.0</td>\n",
       "      <td>...</td>\n",
       "      <td>NaN</td>\n",
       "      <td>4.0</td>\n",
       "      <td>13.0</td>\n",
       "      <td>2.0</td>\n",
       "      <td>4.0</td>\n",
       "      <td>3.0</td>\n",
       "      <td>26.0</td>\n",
       "      <td>NaN</td>\n",
       "      <td>13.0</td>\n",
       "      <td>3.0</td>\n",
       "    </tr>\n",
       "    <tr>\n",
       "      <th>-9218960997324667698</th>\n",
       "      <td>NaN</td>\n",
       "      <td>NaN</td>\n",
       "      <td>NaN</td>\n",
       "      <td>NaN</td>\n",
       "      <td>NaN</td>\n",
       "      <td>1.0</td>\n",
       "      <td>NaN</td>\n",
       "      <td>NaN</td>\n",
       "      <td>NaN</td>\n",
       "      <td>NaN</td>\n",
       "      <td>...</td>\n",
       "      <td>NaN</td>\n",
       "      <td>1.0</td>\n",
       "      <td>NaN</td>\n",
       "      <td>NaN</td>\n",
       "      <td>NaN</td>\n",
       "      <td>NaN</td>\n",
       "      <td>NaN</td>\n",
       "      <td>NaN</td>\n",
       "      <td>3.0</td>\n",
       "      <td>NaN</td>\n",
       "    </tr>\n",
       "    <tr>\n",
       "      <th>-9216200545381120263</th>\n",
       "      <td>NaN</td>\n",
       "      <td>NaN</td>\n",
       "      <td>NaN</td>\n",
       "      <td>NaN</td>\n",
       "      <td>NaN</td>\n",
       "      <td>NaN</td>\n",
       "      <td>NaN</td>\n",
       "      <td>NaN</td>\n",
       "      <td>NaN</td>\n",
       "      <td>NaN</td>\n",
       "      <td>...</td>\n",
       "      <td>NaN</td>\n",
       "      <td>NaN</td>\n",
       "      <td>NaN</td>\n",
       "      <td>NaN</td>\n",
       "      <td>NaN</td>\n",
       "      <td>NaN</td>\n",
       "      <td>NaN</td>\n",
       "      <td>NaN</td>\n",
       "      <td>NaN</td>\n",
       "      <td>NaN</td>\n",
       "    </tr>\n",
       "    <tr>\n",
       "      <th>-9215766592714662253</th>\n",
       "      <td>NaN</td>\n",
       "      <td>NaN</td>\n",
       "      <td>NaN</td>\n",
       "      <td>NaN</td>\n",
       "      <td>NaN</td>\n",
       "      <td>NaN</td>\n",
       "      <td>NaN</td>\n",
       "      <td>NaN</td>\n",
       "      <td>NaN</td>\n",
       "      <td>NaN</td>\n",
       "      <td>...</td>\n",
       "      <td>NaN</td>\n",
       "      <td>NaN</td>\n",
       "      <td>NaN</td>\n",
       "      <td>NaN</td>\n",
       "      <td>NaN</td>\n",
       "      <td>1.0</td>\n",
       "      <td>NaN</td>\n",
       "      <td>NaN</td>\n",
       "      <td>NaN</td>\n",
       "      <td>NaN</td>\n",
       "    </tr>\n",
       "    <tr>\n",
       "      <th>-9214243372173201436</th>\n",
       "      <td>NaN</td>\n",
       "      <td>NaN</td>\n",
       "      <td>NaN</td>\n",
       "      <td>NaN</td>\n",
       "      <td>NaN</td>\n",
       "      <td>NaN</td>\n",
       "      <td>NaN</td>\n",
       "      <td>NaN</td>\n",
       "      <td>NaN</td>\n",
       "      <td>NaN</td>\n",
       "      <td>...</td>\n",
       "      <td>1.0</td>\n",
       "      <td>NaN</td>\n",
       "      <td>NaN</td>\n",
       "      <td>NaN</td>\n",
       "      <td>NaN</td>\n",
       "      <td>NaN</td>\n",
       "      <td>NaN</td>\n",
       "      <td>NaN</td>\n",
       "      <td>NaN</td>\n",
       "      <td>NaN</td>\n",
       "    </tr>\n",
       "  </tbody>\n",
       "</table>\n",
       "<p>5 rows × 24 columns</p>\n",
       "</div>"
      ],
      "text/plain": [
       "timestamp_h                  0   1   2   3   4    5    6     7     8    9   \\\n",
       "gender device_id                                                             \n",
       "F      -9221026417907250887 NaN NaN NaN NaN NaN  NaN  7.0  43.0  10.0  5.0   \n",
       "       -9218960997324667698 NaN NaN NaN NaN NaN  1.0  NaN   NaN   NaN  NaN   \n",
       "       -9216200545381120263 NaN NaN NaN NaN NaN  NaN  NaN   NaN   NaN  NaN   \n",
       "       -9215766592714662253 NaN NaN NaN NaN NaN  NaN  NaN   NaN   NaN  NaN   \n",
       "       -9214243372173201436 NaN NaN NaN NaN NaN  NaN  NaN   NaN   NaN  NaN   \n",
       "\n",
       "timestamp_h                 ...    14   15    16   17   18   19    20  21  \\\n",
       "gender device_id            ...                                             \n",
       "F      -9221026417907250887 ...   NaN  4.0  13.0  2.0  4.0  3.0  26.0 NaN   \n",
       "       -9218960997324667698 ...   NaN  1.0   NaN  NaN  NaN  NaN   NaN NaN   \n",
       "       -9216200545381120263 ...   NaN  NaN   NaN  NaN  NaN  NaN   NaN NaN   \n",
       "       -9215766592714662253 ...   NaN  NaN   NaN  NaN  NaN  1.0   NaN NaN   \n",
       "       -9214243372173201436 ...   1.0  NaN   NaN  NaN  NaN  NaN   NaN NaN   \n",
       "\n",
       "timestamp_h                    22   23  \n",
       "gender device_id                        \n",
       "F      -9221026417907250887  13.0  3.0  \n",
       "       -9218960997324667698   3.0  NaN  \n",
       "       -9216200545381120263   NaN  NaN  \n",
       "       -9215766592714662253   NaN  NaN  \n",
       "       -9214243372173201436   NaN  NaN  \n",
       "\n",
       "[5 rows x 24 columns]"
      ]
     },
     "execution_count": 224,
     "metadata": {},
     "output_type": "execute_result"
    }
   ],
   "source": [
    "count = train.groupby(['gender','device_id','timestamp_h']).size().unstack('timestamp_h')\n",
    "count.head(5)"
   ]
  },
  {
   "cell_type": "code",
   "execution_count": 225,
   "metadata": {
    "collapsed": false
   },
   "outputs": [
    {
     "data": {
      "text/html": [
       "<div>\n",
       "<table border=\"1\" class=\"dataframe\">\n",
       "  <thead>\n",
       "    <tr style=\"text-align: right;\">\n",
       "      <th>gender</th>\n",
       "      <th>F</th>\n",
       "      <th>M</th>\n",
       "    </tr>\n",
       "    <tr>\n",
       "      <th>timestamp_h</th>\n",
       "      <th></th>\n",
       "      <th></th>\n",
       "    </tr>\n",
       "  </thead>\n",
       "  <tbody>\n",
       "    <tr>\n",
       "      <th>0</th>\n",
       "      <td>11004.0</td>\n",
       "      <td>33860.0</td>\n",
       "    </tr>\n",
       "    <tr>\n",
       "      <th>1</th>\n",
       "      <td>6693.0</td>\n",
       "      <td>20397.0</td>\n",
       "    </tr>\n",
       "    <tr>\n",
       "      <th>2</th>\n",
       "      <td>5241.0</td>\n",
       "      <td>15007.0</td>\n",
       "    </tr>\n",
       "    <tr>\n",
       "      <th>3</th>\n",
       "      <td>4424.0</td>\n",
       "      <td>12567.0</td>\n",
       "    </tr>\n",
       "    <tr>\n",
       "      <th>4</th>\n",
       "      <td>4561.0</td>\n",
       "      <td>11721.0</td>\n",
       "    </tr>\n",
       "    <tr>\n",
       "      <th>5</th>\n",
       "      <td>7894.0</td>\n",
       "      <td>16642.0</td>\n",
       "    </tr>\n",
       "    <tr>\n",
       "      <th>6</th>\n",
       "      <td>14475.0</td>\n",
       "      <td>29495.0</td>\n",
       "    </tr>\n",
       "    <tr>\n",
       "      <th>7</th>\n",
       "      <td>17364.0</td>\n",
       "      <td>38219.0</td>\n",
       "    </tr>\n",
       "    <tr>\n",
       "      <th>8</th>\n",
       "      <td>17137.0</td>\n",
       "      <td>41895.0</td>\n",
       "    </tr>\n",
       "    <tr>\n",
       "      <th>9</th>\n",
       "      <td>17705.0</td>\n",
       "      <td>44521.0</td>\n",
       "    </tr>\n",
       "    <tr>\n",
       "      <th>10</th>\n",
       "      <td>19505.0</td>\n",
       "      <td>49073.0</td>\n",
       "    </tr>\n",
       "    <tr>\n",
       "      <th>11</th>\n",
       "      <td>17839.0</td>\n",
       "      <td>45081.0</td>\n",
       "    </tr>\n",
       "    <tr>\n",
       "      <th>12</th>\n",
       "      <td>17836.0</td>\n",
       "      <td>44748.0</td>\n",
       "    </tr>\n",
       "    <tr>\n",
       "      <th>13</th>\n",
       "      <td>16577.0</td>\n",
       "      <td>41727.0</td>\n",
       "    </tr>\n",
       "    <tr>\n",
       "      <th>14</th>\n",
       "      <td>16126.0</td>\n",
       "      <td>40198.0</td>\n",
       "    </tr>\n",
       "    <tr>\n",
       "      <th>15</th>\n",
       "      <td>16141.0</td>\n",
       "      <td>39083.0</td>\n",
       "    </tr>\n",
       "    <tr>\n",
       "      <th>16</th>\n",
       "      <td>16288.0</td>\n",
       "      <td>40714.0</td>\n",
       "    </tr>\n",
       "    <tr>\n",
       "      <th>17</th>\n",
       "      <td>16550.0</td>\n",
       "      <td>41650.0</td>\n",
       "    </tr>\n",
       "    <tr>\n",
       "      <th>18</th>\n",
       "      <td>16486.0</td>\n",
       "      <td>41121.0</td>\n",
       "    </tr>\n",
       "    <tr>\n",
       "      <th>19</th>\n",
       "      <td>18314.0</td>\n",
       "      <td>43633.0</td>\n",
       "    </tr>\n",
       "    <tr>\n",
       "      <th>20</th>\n",
       "      <td>19670.0</td>\n",
       "      <td>45429.0</td>\n",
       "    </tr>\n",
       "    <tr>\n",
       "      <th>21</th>\n",
       "      <td>20934.0</td>\n",
       "      <td>46564.0</td>\n",
       "    </tr>\n",
       "    <tr>\n",
       "      <th>22</th>\n",
       "      <td>18242.0</td>\n",
       "      <td>43736.0</td>\n",
       "    </tr>\n",
       "    <tr>\n",
       "      <th>23</th>\n",
       "      <td>14286.0</td>\n",
       "      <td>37222.0</td>\n",
       "    </tr>\n",
       "  </tbody>\n",
       "</table>\n",
       "</div>"
      ],
      "text/plain": [
       "gender             F        M\n",
       "timestamp_h                  \n",
       "0            11004.0  33860.0\n",
       "1             6693.0  20397.0\n",
       "2             5241.0  15007.0\n",
       "3             4424.0  12567.0\n",
       "4             4561.0  11721.0\n",
       "5             7894.0  16642.0\n",
       "6            14475.0  29495.0\n",
       "7            17364.0  38219.0\n",
       "8            17137.0  41895.0\n",
       "9            17705.0  44521.0\n",
       "10           19505.0  49073.0\n",
       "11           17839.0  45081.0\n",
       "12           17836.0  44748.0\n",
       "13           16577.0  41727.0\n",
       "14           16126.0  40198.0\n",
       "15           16141.0  39083.0\n",
       "16           16288.0  40714.0\n",
       "17           16550.0  41650.0\n",
       "18           16486.0  41121.0\n",
       "19           18314.0  43633.0\n",
       "20           19670.0  45429.0\n",
       "21           20934.0  46564.0\n",
       "22           18242.0  43736.0\n",
       "23           14286.0  37222.0"
      ]
     },
     "execution_count": 225,
     "metadata": {},
     "output_type": "execute_result"
    }
   ],
   "source": [
    "count.groupby(level=0).sum().transpose()"
   ]
  },
  {
   "cell_type": "code",
   "execution_count": 226,
   "metadata": {
    "collapsed": false
   },
   "outputs": [
    {
     "data": {
      "text/plain": [
       "gender\n",
       "F    21\n",
       "M    10\n",
       "dtype: int64"
      ]
     },
     "execution_count": 226,
     "metadata": {},
     "output_type": "execute_result"
    }
   ],
   "source": [
    "count.groupby(level=0).sum().transpose().idxmax()"
   ]
  },
  {
   "cell_type": "code",
   "execution_count": 227,
   "metadata": {
    "collapsed": false
   },
   "outputs": [
    {
     "data": {
      "text/plain": [
       "gender\n",
       "F    3\n",
       "M    4\n",
       "dtype: int64"
      ]
     },
     "execution_count": 227,
     "metadata": {},
     "output_type": "execute_result"
    }
   ],
   "source": [
    "count.groupby(level=0).sum().transpose().idxmin()"
   ]
  },
  {
   "cell_type": "code",
   "execution_count": 235,
   "metadata": {
    "collapsed": false
   },
   "outputs": [
    {
     "data": {
      "image/png": "[encoded data removed]",
      "text/plain": [
       "<matplotlib.figure.Figure at 0x13431e710>"
      ]
     },
     "metadata": {},
     "output_type": "display_data"
    },
    {
     "data": {
      "text/plain": [
       "<matplotlib.figure.Figure at 0x1954aa690>"
      ]
     },
     "metadata": {},
     "output_type": "display_data"
    },
    {
     "data": {
      "image/png": "[encoded data removed]",
      "text/plain": [
       "<matplotlib.figure.Figure at 0x196cbcd50>"
      ]
     },
     "metadata": {},
     "output_type": "display_data"
    }
   ],
   "source": [
    "df = count.groupby(level=0).sum().transpose().loc[night].sum().to_frame('Night')\n",
    "df['Morning'] = count.groupby(level=0).sum().transpose().loc[morning].sum()\n",
    "df['Afternoon'] = count.groupby(level=0).sum().transpose().loc[afternoon].sum()\n",
    "df['Evening'] = count.groupby(level=0).sum().transpose().loc[evening].sum()\n",
    "\n",
    "df.plot.bar()\n",
    "plt.grid()\n",
    "plt.ylabel('Sum of events')\n",
    "\n",
    "plt.figure()\n",
    "df.transpose().apply(lambda x: x/(x[0]+x[1]+x[2]+x[3]), axis=0).transpose().plot.bar()\n",
    "plt.ylabel('Percentage of events')\n",
    "plt.grid()\n"
   ]
  },
  {
   "cell_type": "markdown",
   "metadata": {},
   "source": [
    "## Investigate difference during the day / in the weekend"
   ]
  },
  {
   "cell_type": "code",
   "execution_count": 169,
   "metadata": {
    "collapsed": true
   },
   "outputs": [],
   "source": [
    "weekdays = [2,3,4,5,6]\n",
    "weekends = [30,1,7,8]"
   ]
  },
  {
   "cell_type": "markdown",
   "metadata": {},
   "source": [
    "### Per age group"
   ]
  },
  {
   "cell_type": "code",
   "execution_count": 170,
   "metadata": {
    "collapsed": false
   },
   "outputs": [
    {
     "data": {
      "text/html": [
       "<div>\n",
       "<table border=\"1\" class=\"dataframe\">\n",
       "  <thead>\n",
       "    <tr style=\"text-align: right;\">\n",
       "      <th></th>\n",
       "      <th>timestamp_d</th>\n",
       "      <th>1</th>\n",
       "      <th>2</th>\n",
       "      <th>3</th>\n",
       "      <th>4</th>\n",
       "      <th>5</th>\n",
       "      <th>6</th>\n",
       "      <th>7</th>\n",
       "      <th>8</th>\n",
       "      <th>30</th>\n",
       "    </tr>\n",
       "    <tr>\n",
       "      <th>age_group</th>\n",
       "      <th>device_id</th>\n",
       "      <th></th>\n",
       "      <th></th>\n",
       "      <th></th>\n",
       "      <th></th>\n",
       "      <th></th>\n",
       "      <th></th>\n",
       "      <th></th>\n",
       "      <th></th>\n",
       "      <th></th>\n",
       "    </tr>\n",
       "  </thead>\n",
       "  <tbody>\n",
       "    <tr>\n",
       "      <th rowspan=\"5\" valign=\"top\">0</th>\n",
       "      <th>-9220830859283101130</th>\n",
       "      <td>NaN</td>\n",
       "      <td>NaN</td>\n",
       "      <td>1.0</td>\n",
       "      <td>NaN</td>\n",
       "      <td>5.0</td>\n",
       "      <td>NaN</td>\n",
       "      <td>2.0</td>\n",
       "      <td>NaN</td>\n",
       "      <td>NaN</td>\n",
       "    </tr>\n",
       "    <tr>\n",
       "      <th>-9215352913819638805</th>\n",
       "      <td>NaN</td>\n",
       "      <td>NaN</td>\n",
       "      <td>NaN</td>\n",
       "      <td>NaN</td>\n",
       "      <td>NaN</td>\n",
       "      <td>18.0</td>\n",
       "      <td>NaN</td>\n",
       "      <td>NaN</td>\n",
       "      <td>NaN</td>\n",
       "    </tr>\n",
       "    <tr>\n",
       "      <th>-9212424538588397592</th>\n",
       "      <td>NaN</td>\n",
       "      <td>NaN</td>\n",
       "      <td>NaN</td>\n",
       "      <td>NaN</td>\n",
       "      <td>15.0</td>\n",
       "      <td>NaN</td>\n",
       "      <td>NaN</td>\n",
       "      <td>NaN</td>\n",
       "      <td>NaN</td>\n",
       "    </tr>\n",
       "    <tr>\n",
       "      <th>-9208560418953812508</th>\n",
       "      <td>2.0</td>\n",
       "      <td>1.0</td>\n",
       "      <td>NaN</td>\n",
       "      <td>1.0</td>\n",
       "      <td>2.0</td>\n",
       "      <td>1.0</td>\n",
       "      <td>2.0</td>\n",
       "      <td>NaN</td>\n",
       "      <td>NaN</td>\n",
       "    </tr>\n",
       "    <tr>\n",
       "      <th>-9206202041936929793</th>\n",
       "      <td>11.0</td>\n",
       "      <td>8.0</td>\n",
       "      <td>38.0</td>\n",
       "      <td>23.0</td>\n",
       "      <td>41.0</td>\n",
       "      <td>67.0</td>\n",
       "      <td>25.0</td>\n",
       "      <td>NaN</td>\n",
       "      <td>NaN</td>\n",
       "    </tr>\n",
       "  </tbody>\n",
       "</table>\n",
       "</div>"
      ],
      "text/plain": [
       "timestamp_d                       1    2     3     4     5     6     7   8   \\\n",
       "age_group device_id                                                           \n",
       "0         -9220830859283101130   NaN  NaN   1.0   NaN   5.0   NaN   2.0 NaN   \n",
       "          -9215352913819638805   NaN  NaN   NaN   NaN   NaN  18.0   NaN NaN   \n",
       "          -9212424538588397592   NaN  NaN   NaN   NaN  15.0   NaN   NaN NaN   \n",
       "          -9208560418953812508   2.0  1.0   NaN   1.0   2.0   1.0   2.0 NaN   \n",
       "          -9206202041936929793  11.0  8.0  38.0  23.0  41.0  67.0  25.0 NaN   \n",
       "\n",
       "timestamp_d                     30  \n",
       "age_group device_id                 \n",
       "0         -9220830859283101130 NaN  \n",
       "          -9215352913819638805 NaN  \n",
       "          -9212424538588397592 NaN  \n",
       "          -9208560418953812508 NaN  \n",
       "          -9206202041936929793 NaN  "
      ]
     },
     "execution_count": 170,
     "metadata": {},
     "output_type": "execute_result"
    }
   ],
   "source": [
    "# Define periods during the day\n",
    "\n",
    "count = train.groupby(['age_group','device_id','timestamp_d']).size().unstack('timestamp_d')\n",
    "count.head(5)"
   ]
  },
  {
   "cell_type": "code",
   "execution_count": 177,
   "metadata": {
    "collapsed": false
   },
   "outputs": [
    {
     "data": {
      "image/png": "[encoded data removed]",
      "text/plain": [
       "<matplotlib.figure.Figure at 0x1c174b550>"
      ]
     },
     "metadata": {},
     "output_type": "display_data"
    },
    {
     "data": {
      "image/png": "[encoded data removed]",
      "text/plain": [
       "<matplotlib.figure.Figure at 0x133c81290>"
      ]
     },
     "metadata": {},
     "output_type": "display_data"
    }
   ],
   "source": [
    "df = count.groupby(level=0).sum().transpose().loc[weekdays].sum().to_frame('Weekdays')\n",
    "df['Weekend'] = count.groupby(level=0).sum().transpose().loc[weekends].sum()\n",
    "\n",
    "df.plot.bar()\n",
    "plt.grid()\n",
    "plt.ylabel('Number of events')\n",
    "\n",
    "plt.figure()\n",
    "df[['Weekend','Weekdays']].transpose().apply(lambda x: x[0]/(x[1] +x[0])).plot.bar()\n",
    "plt.ylabel('Percentage of events in weekend')\n",
    "plt.grid()"
   ]
  },
  {
   "cell_type": "markdown",
   "metadata": {},
   "source": [
    "### Per gender"
   ]
  },
  {
   "cell_type": "code",
   "execution_count": 178,
   "metadata": {
    "collapsed": false
   },
   "outputs": [
    {
     "data": {
      "text/html": [
       "<div>\n",
       "<table border=\"1\" class=\"dataframe\">\n",
       "  <thead>\n",
       "    <tr style=\"text-align: right;\">\n",
       "      <th></th>\n",
       "      <th>timestamp_d</th>\n",
       "      <th>1</th>\n",
       "      <th>2</th>\n",
       "      <th>3</th>\n",
       "      <th>4</th>\n",
       "      <th>5</th>\n",
       "      <th>6</th>\n",
       "      <th>7</th>\n",
       "      <th>8</th>\n",
       "      <th>30</th>\n",
       "    </tr>\n",
       "    <tr>\n",
       "      <th>gender</th>\n",
       "      <th>device_id</th>\n",
       "      <th></th>\n",
       "      <th></th>\n",
       "      <th></th>\n",
       "      <th></th>\n",
       "      <th></th>\n",
       "      <th></th>\n",
       "      <th></th>\n",
       "      <th></th>\n",
       "      <th></th>\n",
       "    </tr>\n",
       "  </thead>\n",
       "  <tbody>\n",
       "    <tr>\n",
       "      <th rowspan=\"5\" valign=\"top\">F</th>\n",
       "      <th>-9221026417907250887</th>\n",
       "      <td>32.0</td>\n",
       "      <td>37.0</td>\n",
       "      <td>16.0</td>\n",
       "      <td>19.0</td>\n",
       "      <td>20.0</td>\n",
       "      <td>14.0</td>\n",
       "      <td>9.0</td>\n",
       "      <td>NaN</td>\n",
       "      <td>NaN</td>\n",
       "    </tr>\n",
       "    <tr>\n",
       "      <th>-9218960997324667698</th>\n",
       "      <td>NaN</td>\n",
       "      <td>1.0</td>\n",
       "      <td>1.0</td>\n",
       "      <td>NaN</td>\n",
       "      <td>NaN</td>\n",
       "      <td>1.0</td>\n",
       "      <td>3.0</td>\n",
       "      <td>NaN</td>\n",
       "      <td>NaN</td>\n",
       "    </tr>\n",
       "    <tr>\n",
       "      <th>-9216200545381120263</th>\n",
       "      <td>NaN</td>\n",
       "      <td>1.0</td>\n",
       "      <td>NaN</td>\n",
       "      <td>NaN</td>\n",
       "      <td>NaN</td>\n",
       "      <td>NaN</td>\n",
       "      <td>NaN</td>\n",
       "      <td>NaN</td>\n",
       "      <td>NaN</td>\n",
       "    </tr>\n",
       "    <tr>\n",
       "      <th>-9215766592714662253</th>\n",
       "      <td>NaN</td>\n",
       "      <td>NaN</td>\n",
       "      <td>NaN</td>\n",
       "      <td>NaN</td>\n",
       "      <td>1.0</td>\n",
       "      <td>NaN</td>\n",
       "      <td>NaN</td>\n",
       "      <td>NaN</td>\n",
       "      <td>NaN</td>\n",
       "    </tr>\n",
       "    <tr>\n",
       "      <th>-9214243372173201436</th>\n",
       "      <td>NaN</td>\n",
       "      <td>1.0</td>\n",
       "      <td>1.0</td>\n",
       "      <td>NaN</td>\n",
       "      <td>1.0</td>\n",
       "      <td>NaN</td>\n",
       "      <td>NaN</td>\n",
       "      <td>NaN</td>\n",
       "      <td>NaN</td>\n",
       "    </tr>\n",
       "  </tbody>\n",
       "</table>\n",
       "</div>"
      ],
      "text/plain": [
       "timestamp_d                    1     2     3     4     5     6    7   8   30\n",
       "gender device_id                                                            \n",
       "F      -9221026417907250887  32.0  37.0  16.0  19.0  20.0  14.0  9.0 NaN NaN\n",
       "       -9218960997324667698   NaN   1.0   1.0   NaN   NaN   1.0  3.0 NaN NaN\n",
       "       -9216200545381120263   NaN   1.0   NaN   NaN   NaN   NaN  NaN NaN NaN\n",
       "       -9215766592714662253   NaN   NaN   NaN   NaN   1.0   NaN  NaN NaN NaN\n",
       "       -9214243372173201436   NaN   1.0   1.0   NaN   1.0   NaN  NaN NaN NaN"
      ]
     },
     "execution_count": 178,
     "metadata": {},
     "output_type": "execute_result"
    }
   ],
   "source": [
    "count = train.groupby(['gender','device_id','timestamp_d']).size().unstack('timestamp_d')\n",
    "count.head(5)"
   ]
  },
  {
   "cell_type": "code",
   "execution_count": 179,
   "metadata": {
    "collapsed": false
   },
   "outputs": [
    {
     "data": {
      "image/png": "[encoded data removed]",
      "text/plain": [
       "<matplotlib.figure.Figure at 0x1353e0e90>"
      ]
     },
     "metadata": {},
     "output_type": "display_data"
    },
    {
     "data": {
      "image/png": "[encoded data removed]",
      "text/plain": [
       "<matplotlib.figure.Figure at 0x1cd1ed110>"
      ]
     },
     "metadata": {},
     "output_type": "display_data"
    }
   ],
   "source": [
    "df = count.groupby(level=0).sum().transpose().loc[weekdays].sum().to_frame('Weekdays')\n",
    "df['Weekend'] = count.groupby(level=0).sum().transpose().loc[weekends].sum()\n",
    "\n",
    "df.plot.bar()\n",
    "plt.grid()\n",
    "plt.ylabel('Number of events')\n",
    "\n",
    "plt.figure()\n",
    "df[['Weekend','Weekdays']].transpose().apply(lambda x: x[0]/(x[1] +x[0])).plot.bar()\n",
    "plt.ylabel('Percentage of events in weekend')\n",
    "plt.grid()"
   ]
  }
 ],
 "metadata": {
  "kernelspec": {
   "display_name": "Python 2",
   "language": "python",
   "name": "python2"
  },
  "language_info": {
   "codemirror_mode": {
    "name": "ipython",
    "version": 2
   },
   "file_extension": ".py",
   "mimetype": "text/x-python",
   "name": "python",
   "nbconvert_exporter": "python",
   "pygments_lexer": "ipython2",
   "version": "2.7.11"
  }
 },
 "nbformat": 4,
 "nbformat_minor": 0
}
