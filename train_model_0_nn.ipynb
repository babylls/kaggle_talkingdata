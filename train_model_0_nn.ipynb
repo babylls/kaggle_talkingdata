{
 "cells": [
  {
   "cell_type": "markdown",
   "metadata": {},
   "source": [
    "# Train level 0: Neural net model\n",
    "\n",
    "\n",
    "- V0 Based on HyperOpt optimizated model\n",
    "    - including extra features increased CV score, but lowered LB score\n",
    "    - including isChinese features increase LB score slightly\n",
    "- V1 Averaged over five random seeds\n",
    "\n",
    "Validation scores:\n",
    "- V0: CV: 2.3903 / LB: 2.38747\n",
    "- V1: averaging over five seeds: CV: 2.3882 / LB: 2.3870"
   ]
  },
  {
   "cell_type": "code",
   "execution_count": 2,
   "metadata": {
    "collapsed": false
   },
   "outputs": [
    {
     "name": "stderr",
     "output_type": "stream",
     "text": [
      "Using Theano backend.\n"
     ]
    }
   ],
   "source": [
    "import pandas as pd\n",
    "import numpy as np\n",
    "%matplotlib inline\n",
    "import seaborn as sns\n",
    "import matplotlib.pyplot as plt\n",
    "import os\n",
    "import random\n",
    "import time\n",
    "import sys\n",
    "import pickle\n",
    "import datetime\n",
    "\n",
    "#import sys\n",
    "#import pymongo\n",
    "#import bson.objectid\n",
    "#pymongo.objectid = bson.objectid\n",
    "#sys.modules[\"pymongo.objectid\"] = bson.objectid\n",
    "\n",
    "#os.environ['KERAS_BACKEND']='tensorflow'\n",
    "#os.environ['THEANO_FLAGS'] = 'device=cpu'\n",
    "from keras.models import Sequential\n",
    "from keras.layers import Dense, Dropout, Activation\n",
    "from keras.wrappers.scikit_learn import KerasClassifier\n",
    "from keras.utils import np_utils\n",
    "from keras.optimizers import SGD\n",
    "from keras.callbacks import Callback\n",
    "import keras\n",
    "\n",
    "from hyperopt import fmin, tpe, hp, STATUS_OK, Trials\n",
    "\n",
    "from sklearn.preprocessing import LabelEncoder, StandardScaler\n",
    "from scipy.sparse import csr_matrix, hstack\n",
    "from sklearn.linear_model import LogisticRegression, SGDClassifier\n",
    "from sklearn.cross_validation import StratifiedKFold, train_test_split\n",
    "from sklearn.feature_selection import VarianceThreshold\n",
    "from sklearn.metrics import log_loss\n",
    "\n",
    "from ml_toolbox.kaggle import KaggleResult\n"
   ]
  },
  {
   "cell_type": "code",
   "execution_count": 8,
   "metadata": {
    "collapsed": false
   },
   "outputs": [],
   "source": [
    "dir_in = 'data_ori'\n",
    "dir_feat = 'data'\n",
    "dir_sub = 'model_0_nn'\n",
    "rs = 123\n",
    "np.random.seed(rs)\n",
    "random.seed(rs) # not sure if needed or not\n",
    "\n",
    "feature_files_old = ['features_bag_brand',\n",
    "                 'features_bag_model',\n",
    "                'features_bag_label_installed',\n",
    "                'features_bag_app_installed']\n",
    "feature_files = ['features_brand_bag',\n",
    "                 'features_brand_model_bag',\n",
    "                 'features_brand_model.csv']\n",
    "\n",
    "feature_files=feature_files[0:3]\n",
    "n_features = range(1800)\n",
    "\n",
    "# Function to read feature file\n",
    "def open_feature_file(fname, samples='train'):\n",
    "    if fname[-3:] == 'csv':\n",
    "        if samples=='train':\n",
    "            X = gatrain[['device_id']].merge( pd.read_csv(os.path.join(dir_feat, fname)), on='device_id', how='left')\n",
    "        else:\n",
    "            X = gatest[['device_id']].merge( pd.read_csv(os.path.join(dir_feat, fname)), on='device_id', how='left')\n",
    "            \n",
    "        X.drop('device_id', axis=1, inplace=True)\n",
    "        X.fillna(0, inplace=True)\n",
    "        \n",
    "        for c in X.columns:\n",
    "            if X[c].max()>1:\n",
    "                X[c] = StandardScaler().fit_transform(X)\n",
    "                \n",
    "        return csr_matrix(X.values)\n",
    "    else:\n",
    "        # Assume it is a pickle file\n",
    "        with open(os.path.join(dir_feat, '{}_{}.pickle'.format(fname,samples)), 'rb') as f:\n",
    "            return pickle.load(f)"
   ]
  },
  {
   "cell_type": "markdown",
   "metadata": {},
   "source": [
    "## Get basescore on installed bag of apps"
   ]
  },
  {
   "cell_type": "code",
   "execution_count": 9,
   "metadata": {
    "collapsed": false
   },
   "outputs": [],
   "source": [
    "gatrain = pd.read_csv(os.path.join(dir_in,'gender_age_train.csv'))\n",
    "gatest = pd.read_csv(os.path.join(dir_in,'gender_age_test.csv'))\n",
    "targetencoder = LabelEncoder().fit(gatrain.group)\n",
    "y = targetencoder.transform(gatrain.group)\n",
    "nclasses = len(targetencoder.classes_)"
   ]
  },
  {
   "cell_type": "code",
   "execution_count": 10,
   "metadata": {
    "collapsed": false
   },
   "outputs": [],
   "source": [
    "Xtrain = hstack([open_feature_file(f) for f in feature_files],format='csr')\n",
    "Xtest = hstack([open_feature_file(f,'test') for f in feature_files],format='csr')"
   ]
  },
  {
   "cell_type": "code",
   "execution_count": 11,
   "metadata": {
    "collapsed": false
   },
   "outputs": [],
   "source": [
    "Xtrain = Xtrain[:, n_features]\n",
    "Xtest = Xtest[:, n_features]"
   ]
  },
  {
   "cell_type": "code",
   "execution_count": 12,
   "metadata": {
    "collapsed": false
   },
   "outputs": [
    {
     "name": "stdout",
     "output_type": "stream",
     "text": [
      "Training on 1800 features\n"
     ]
    }
   ],
   "source": [
    "print('Training on {} features'.format(Xtrain.shape[1]))"
   ]
  },
  {
   "cell_type": "markdown",
   "metadata": {},
   "source": [
    "## Train model"
   ]
  },
  {
   "cell_type": "code",
   "execution_count": 13,
   "metadata": {
    "collapsed": false
   },
   "outputs": [],
   "source": [
    "def nn_model1(X, params):\n",
    "    \n",
    "    # create model\n",
    "    print ('NN model with following params: %s' % (params))\n",
    "    \n",
    "    model = Sequential()\n",
    "    model.add(Dense(params['layer_1']['units1'], \n",
    "                    input_dim=X.shape[1], \n",
    "                    init='normal', \n",
    "                    activation=params['layer_1']['activation1']))\n",
    "    \n",
    "    model.add(Dropout(params['layer_1']['dropout1']))\n",
    "    \n",
    "    if params['layer_2']['on2']:\n",
    "        model.add(Dense(params['layer_2']['units2'], \n",
    "                        input_dim=X.shape[1], \n",
    "                        init='normal', \n",
    "                        activation=params['layer_2']['activation2']))\n",
    "        #https://www.kaggle.com/poiss0nriot/talkingdata-mobile-user-demographics/bag-of-apps-keras-11-08-16-no-val/run/328610\n",
    "        #model.add(PReLU())\n",
    "        model.add(Dropout(params['layer_2']['dropout2']))\n",
    "    \n",
    "    if params['layer_3']['on3']:\n",
    "        model.add(Dense(params['layer_3']['units3'], \n",
    "                        init='normal', \n",
    "                        activation=params['layer_3']['activation3']))\n",
    "        \n",
    "        model.add(Dropout(params['layer_3']['dropout3']))\n",
    "    \n",
    "    model.add(Dense(12, init='normal', activation='softmax'))    \n",
    "    # Compile model\n",
    "    model.compile(loss='categorical_crossentropy', optimizer=params['optimizer'], metrics=['accuracy'])  #logloss\n",
    "    \n",
    "    return model\n",
    "\n",
    "class prediction_check(Callback):\n",
    "    def __init__(self, tag='', filepath = './nn_model.h5'):\n",
    "        self.predhist = pd.DataFrame(columns=['acc','logloss','val_acc','val_logloss'])\n",
    "        self.tag = str(tag)\n",
    "        self.counter = 0\n",
    "        self.best = 10.0\n",
    "        self.best_rounds = 1\n",
    "        self.wait = 0\n",
    "        self.patience = 3\n",
    "        self.filepath = filepath\n",
    "        \n",
    "    def on_epoch_end(self, epoch, logs={}):\n",
    "        #print logs.values()\n",
    "        self.counter += 1\n",
    "        self.predhist.loc[epoch] = logs.values()\n",
    "        \n",
    "        current_score = logs['val_loss']\n",
    "        \n",
    "        if current_score < self.best:\n",
    "            self.best = current_score\n",
    "            self.best_train = logs['loss']\n",
    "            self.best_rounds = self.counter\n",
    "            self.wait = 0\n",
    "            self.model.save_weights(self.filepath, overwrite=True)\n",
    "        else:\n",
    "            if self.wait >= self.patience:\n",
    "                self.model.stop_training = True\n",
    "                self.model.load_weights(self.filepath)\n",
    "                print('Best number of rounds: %d \\n Val loss: %f \\n' % (self.best_rounds, self.best))\n",
    "            self.wait += 1\n",
    "            \n",
    "    def on_train_end(self, logs={}):\n",
    "        self.model.load_weights(self.filepath)\n",
    "        self.model.save(self.filepath, overwrite=True)"
   ]
  },
  {
   "cell_type": "code",
   "execution_count": 14,
   "metadata": {
    "collapsed": true
   },
   "outputs": [],
   "source": [
    "params = {'optimizer': 'adam',\n",
    "          'batch_size': 32,\n",
    "          'n_epoch': 4,\n",
    "          'seed': rs, \n",
    "         'layer_1': {'on1': True,\n",
    "                     'units1': 150,\n",
    "                     'activation1': 'tanh',\n",
    "                     'dropout1': 0.8},\n",
    "         'layer_2': {'on2': False,\n",
    "                    'units2': 150,\n",
    "                    'activation2': 'tanh',\n",
    "                    'dropout2': 0.2},\n",
    "          'layer_3': {'on3': False,\n",
    "                     'units3': 12,\n",
    "                     'activation3': 'sigmoid',\n",
    "                     'dropout3': 0.2}\n",
    "          }"
   ]
  },
  {
   "cell_type": "code",
   "execution_count": 19,
   "metadata": {
    "collapsed": false
   },
   "outputs": [
    {
     "name": "stdout",
     "output_type": "stream",
     "text": [
      "Training set: (67176, 1800)\n",
      "Validation set: (7469, 1800)\n",
      "NN model with following params: {'optimizer': 'adam', 'layer_1': {'units1': 150, 'activation1': 'tanh', 'on1': True, 'dropout1': 0.8}, 'layer_3': {'activation3': 'sigmoid', 'on3': False, 'units3': 12, 'dropout3': 0.2}, 'layer_2': {'on2': False, 'activation2': 'tanh', 'units2': 150, 'dropout2': 0.2}, 'batch_size': 32, 'seed': 76833, 'n_epoch': 4}\n",
      "Train on 67176 samples, validate on 7469 samples\n",
      "Epoch 1/4\n",
      "15s - loss: 2.4176 - acc: 0.1391 - val_loss: 2.3944 - val_acc: 0.1517\n",
      "Epoch 2/4\n",
      "25s - loss: 2.3985 - acc: 0.1509 - val_loss: 2.3903 - val_acc: 0.1514\n",
      "Epoch 3/4\n",
      "28s - loss: 2.3908 - acc: 0.1561 - val_loss: 2.3885 - val_acc: 0.1545\n",
      "Epoch 4/4\n",
      "31s - loss: 2.3838 - acc: 0.1585 - val_loss: 2.3893 - val_acc: 0.1577\n",
      "('Validation score:', 2.3885334566712362)\n",
      "Training set: (67176, 1800)\n",
      "Validation set: (7469, 1800)\n",
      "NN model with following params: {'optimizer': 'adam', 'layer_1': {'units1': 150, 'activation1': 'tanh', 'on1': True, 'dropout1': 0.8}, 'layer_3': {'activation3': 'sigmoid', 'on3': False, 'units3': 12, 'dropout3': 0.2}, 'layer_2': {'on2': False, 'activation2': 'tanh', 'units2': 150, 'dropout2': 0.2}, 'batch_size': 32, 'seed': 63924, 'n_epoch': 4}\n",
      "Train on 67176 samples, validate on 7469 samples\n",
      "Epoch 1/4\n",
      "14s - loss: 2.4164 - acc: 0.1421 - val_loss: 2.3923 - val_acc: 0.1497\n",
      "Epoch 2/4\n",
      "25s - loss: 2.3986 - acc: 0.1530 - val_loss: 2.3898 - val_acc: 0.1487\n",
      "Epoch 3/4\n",
      "31s - loss: 2.3896 - acc: 0.1557 - val_loss: 2.3866 - val_acc: 0.1514\n",
      "Epoch 4/4\n",
      "32s - loss: 2.3840 - acc: 0.1607 - val_loss: 2.3871 - val_acc: 0.1510\n",
      "('Validation score:', 2.3866031014276072)\n",
      "Training set: (67176, 1800)\n",
      "Validation set: (7469, 1800)\n",
      "NN model with following params: {'optimizer': 'adam', 'layer_1': {'units1': 150, 'activation1': 'tanh', 'on1': True, 'dropout1': 0.8}, 'layer_3': {'activation3': 'sigmoid', 'on3': False, 'units3': 12, 'dropout3': 0.2}, 'layer_2': {'on2': False, 'activation2': 'tanh', 'units2': 150, 'dropout2': 0.2}, 'batch_size': 32, 'seed': 75813, 'n_epoch': 4}\n",
      "Train on 67176 samples, validate on 7469 samples\n",
      "Epoch 1/4\n",
      "14s - loss: 2.4163 - acc: 0.1389 - val_loss: 2.3975 - val_acc: 0.1520\n",
      "Epoch 2/4\n",
      "24s - loss: 2.3980 - acc: 0.1521 - val_loss: 2.3950 - val_acc: 0.1505\n",
      "Epoch 3/4\n",
      "28s - loss: 2.3902 - acc: 0.1568 - val_loss: 2.3924 - val_acc: 0.1517\n",
      "Epoch 4/4\n",
      "30s - loss: 2.3842 - acc: 0.1589 - val_loss: 2.3933 - val_acc: 0.1512\n",
      "('Validation score:', 2.3924359677386646)\n",
      "Training set: (67176, 1800)\n",
      "Validation set: (7469, 1800)\n",
      "NN model with following params: {'optimizer': 'adam', 'layer_1': {'units1': 150, 'activation1': 'tanh', 'on1': True, 'dropout1': 0.8}, 'layer_3': {'activation3': 'sigmoid', 'on3': False, 'units3': 12, 'dropout3': 0.2}, 'layer_2': {'on2': False, 'activation2': 'tanh', 'units2': 150, 'dropout2': 0.2}, 'batch_size': 32, 'seed': 5509, 'n_epoch': 4}\n",
      "Train on 67176 samples, validate on 7469 samples\n",
      "Epoch 1/4\n",
      "16s - loss: 2.4170 - acc: 0.1398 - val_loss: 2.3916 - val_acc: 0.1504\n",
      "Epoch 2/4\n",
      "25s - loss: 2.3992 - acc: 0.1508 - val_loss: 2.3876 - val_acc: 0.1550\n",
      "Epoch 3/4\n",
      "29s - loss: 2.3901 - acc: 0.1553 - val_loss: 2.3851 - val_acc: 0.1562\n",
      "Epoch 4/4\n",
      "31s - loss: 2.3843 - acc: 0.1588 - val_loss: 2.3842 - val_acc: 0.1564\n",
      "('Validation score:', 2.384170191006131)\n",
      "Training set: (67176, 1800)\n",
      "Validation set: (7469, 1800)\n",
      "NN model with following params: {'optimizer': 'adam', 'layer_1': {'units1': 150, 'activation1': 'tanh', 'on1': True, 'dropout1': 0.8}, 'layer_3': {'activation3': 'sigmoid', 'on3': False, 'units3': 12, 'dropout3': 0.2}, 'layer_2': {'on2': False, 'activation2': 'tanh', 'units2': 150, 'dropout2': 0.2}, 'batch_size': 32, 'seed': 19602, 'n_epoch': 4}\n",
      "Train on 67176 samples, validate on 7469 samples\n",
      "Epoch 1/4\n",
      "15s - loss: 2.4174 - acc: 0.1414 - val_loss: 2.3941 - val_acc: 0.1534\n",
      "Epoch 2/4\n",
      "26s - loss: 2.3980 - acc: 0.1538 - val_loss: 2.3898 - val_acc: 0.1509\n",
      "Epoch 3/4\n",
      "37s - loss: 2.3911 - acc: 0.1546 - val_loss: 2.3874 - val_acc: 0.1544\n",
      "Epoch 4/4\n",
      "38s - loss: 2.3843 - acc: 0.1598 - val_loss: 2.3871 - val_acc: 0.1564\n",
      "('Validation score:', 2.3870581174602243)\n"
     ]
    }
   ],
   "source": [
    "models_out = []\n",
    "scores = []\n",
    "\n",
    "for s in [76833, 63924, 75813, 5509, 19602]: #  np.random.randint(99999,size=5):\n",
    "    \n",
    "    params['seed'] = s\n",
    "    \n",
    "    kf = list(StratifiedKFold(y, n_folds=10, shuffle=True, random_state=s))[0]\n",
    "\n",
    "    Xtr, Xte = Xtrain[kf[0], :], Xtrain[kf[1], :]\n",
    "    ytr, yte = y[kf[0]], y[kf[1]]\n",
    "\n",
    "    print('Training set: ' + str(Xtr.shape))\n",
    "    print('Validation set: ' + str(Xte.shape))\n",
    "\n",
    "    model=nn_model1(Xtr, params)\n",
    "\n",
    "    keras_mon = prediction_check()\n",
    "    \n",
    "    fit=model.fit(Xtr.todense(), \n",
    "                  np_utils.to_categorical(ytr), \n",
    "                  nb_epoch = params['n_epoch'], \n",
    "                  batch_size=params['batch_size'],\n",
    "                  validation_data=(Xte.todense(), np_utils.to_categorical(yte)), \n",
    "                  verbose=2,\n",
    "                  callbacks=[keras_mon])\n",
    "    \n",
    "\n",
    "    modelfile = os.path.join(dir_sub, 'model_nn_0_V1_' + str(s) +'.h5')   \n",
    "    #model.save_weights(modelfile, overwrite=True)  \n",
    "    model.save(modelfile, overwrite=True)  \n",
    "\n",
    "    pred_val = model.predict_proba(Xte.todense(), batch_size = 128, verbose = 0)\n",
    "    score = log_loss(yte, pred_val)\n",
    "    print('Validation score:',score)\n",
    "\n",
    "    model_out = {'model': modelfile,\n",
    "                 'score': score,\n",
    "                 'params': params}\n",
    "    \n",
    "    models_out.append(model_out)\n",
    "    scores.append(score)"
   ]
  },
  {
   "cell_type": "code",
   "execution_count": 20,
   "metadata": {
    "collapsed": false
   },
   "outputs": [
    {
     "name": "stdout",
     "output_type": "stream",
     "text": [
      "CV Score: 2.3878\n"
     ]
    }
   ],
   "source": [
    "cv_score = np.mean(scores)\n",
    "print('CV Score: {:.4f}'.format(cv_score))"
   ]
  },
  {
   "cell_type": "markdown",
   "metadata": {},
   "source": [
    "### Upload test results to Kaggle"
   ]
  },
  {
   "cell_type": "code",
   "execution_count": 21,
   "metadata": {
    "collapsed": false
   },
   "outputs": [
    {
     "name": "stdout",
     "output_type": "stream",
     "text": [
      "NN model with following params: {'optimizer': 'adam', 'layer_1': {'units1': 150, 'activation1': 'tanh', 'on1': True, 'dropout1': 0.8}, 'layer_3': {'activation3': 'sigmoid', 'on3': False, 'units3': 12, 'dropout3': 0.2}, 'layer_2': {'on2': False, 'activation2': 'tanh', 'units2': 150, 'dropout2': 0.2}, 'batch_size': 32, 'seed': 19602, 'n_epoch': 4}\n",
      "112032/112071 [============================>.] - ETA: 0s"
     ]
    }
   ],
   "source": [
    "model=nn_model1(Xtest, params)\n",
    "preds = []\n",
    "for m in models_out:\n",
    "    model.load_weights(m['model'])\n",
    "    pred = model.predict_proba(Xtest.todense())\n",
    "    preds.append(pred)\n",
    "    \n",
    "pred_test = sum(preds)/len(models_out)\n",
    "\n",
    "pred = pd.DataFrame(pred, index = gatest.device_id, columns=targetencoder.classes_)"
   ]
  },
  {
   "cell_type": "code",
   "execution_count": 22,
   "metadata": {
    "collapsed": false
   },
   "outputs": [],
   "source": [
    "kag = KaggleResult(pred.values, pred.index.values, cv_score=2.38819, description='NN Model 0 V1', subdir=dir_sub)"
   ]
  },
  {
   "cell_type": "code",
   "execution_count": 23,
   "metadata": {
    "collapsed": false
   },
   "outputs": [
    {
     "name": "stdout",
     "output_type": "stream",
     "text": [
      "2.38696\n"
     ]
    }
   ],
   "source": [
    "if kag.validate():\n",
    "    kag.upload()\n",
    "print kag.lb_score"
   ]
  },
  {
   "cell_type": "markdown",
   "metadata": {},
   "source": [
    "### Store model output"
   ]
  },
  {
   "cell_type": "code",
   "execution_count": 22,
   "metadata": {
    "collapsed": false
   },
   "outputs": [],
   "source": [
    "outputfile = 'models_nn_0_V1_{}_{:.4f}_{:.4f}'.format(datetime.datetime.now().strftime(\"%Y-%m-%d-%H-%M\"),\n",
    "                                                                cv_score, 2.3870)\n",
    "\n",
    "\n",
    "output = {'script': 'train_model_0_nn',\n",
    "          'model_params': params,\n",
    "          'no_models': 1,\n",
    "          'cross_validation': {'type': 'gender_age_train_cv.csv'},\n",
    "          'models': models_out}\n",
    "\n",
    "\n",
    "with open(os.path.join(dir_sub, outputfile + '.pickle'), 'wb') as f:\n",
    "    pickle.dump(output,f)"
   ]
  },
  {
   "cell_type": "markdown",
   "metadata": {},
   "source": [
    "## Below is WIP...."
   ]
  },
  {
   "cell_type": "code",
   "execution_count": null,
   "metadata": {
    "collapsed": false
   },
   "outputs": [],
   "source": [
    "dummy_y = np_utils.to_categorical(y)"
   ]
  },
  {
   "cell_type": "code",
   "execution_count": null,
   "metadata": {
    "collapsed": false
   },
   "outputs": [],
   "source": [
    "X_train, X_val, y_train, y_val = train_test_split(Xtrain, dummy_y, stratify=y,\n",
    "                                                  test_size=0.1, random_state=42)"
   ]
  },
  {
   "cell_type": "code",
   "execution_count": null,
   "metadata": {
    "collapsed": false
   },
   "outputs": [],
   "source": [
    "def batch_generator(X, y, batch_size, shuffle):\n",
    "    #chenglong code for fiting from generator (https://www.kaggle.com/c/talkingdata-mobile-user-demographics/forums/t/22567/neural-network-for-sparse-matrices)\n",
    "    number_of_batches = np.ceil(X.shape[0]/batch_size)\n",
    "    counter = 0\n",
    "    sample_index = np.arange(X.shape[0])\n",
    "    if shuffle:\n",
    "        np.random.shuffle(sample_index)\n",
    "    while True:\n",
    "        batch_index = sample_index[batch_size*counter:batch_size*(counter+1)]\n",
    "        X_batch = X[batch_index,:].toarray()\n",
    "        y_batch = y[batch_index]\n",
    "        counter += 1\n",
    "        yield X_batch, y_batch, np.ones(X_batch.shape[0])\n",
    "        if (counter == number_of_batches):\n",
    "            if shuffle:\n",
    "                np.random.shuffle(sample_index)\n",
    "            counter = 0\n",
    "\n",
    "def batch_generatorp(X, batch_size, shuffle):\n",
    "    number_of_batches = X.shape[0] / np.ceil(X.shape[0]/batch_size)\n",
    "    counter = 0\n",
    "    sample_index = np.arange(X.shape[0])\n",
    "    while True:\n",
    "        batch_index = sample_index[batch_size * counter:batch_size * (counter + 1)]\n",
    "        X_batch = X[batch_index, :].toarray()\n",
    "        counter += 1\n",
    "        yield X_batch#, np.ones(X_batch.shape[0])\n",
    "        if (counter == number_of_batches):\n",
    "            counter = 0\n",
    "\n",
    "# Best model:\n",
    "# With layer1: 2.38222170278\n",
    "# With layer2: 2.3828 ('activation2': 1, 'units2': 141.67406062812924, 'n_epoch': 6.1304111628793283, 'dropout2': 0.54756289671556369)\n",
    "params = {'optimizer': 'adam',\n",
    "          'batch_size': 32,\n",
    "          'n_epoch': 5,\n",
    "         'layer_1': {'on1': True,\n",
    "                     'units1': 150,\n",
    "                     'activation1': 'tanh',\n",
    "                     'dropout1': 0.8},\n",
    "         'layer_2': {'on2': False,\n",
    "                    'units2': 150,\n",
    "                    'activation2': 'tanh',\n",
    "                    'dropout2': 0.2},\n",
    "          'layer_3': {'on3': False,\n",
    "                     'units3': 12,\n",
    "                     'activation3': 'sigmoid',\n",
    "                     'dropout3': 0.2}\n",
    "          }\n",
    "\n",
    "# define baseline model\n",
    "params = {'optimizer': 'adam',\n",
    "          'batch_size': 32, #hp.uniform('batch_size', 16, 512),\n",
    "          'n_epoch': hp.uniform('n_epoch', 3, 7),\n",
    "         'layer_1': {'on1': True,\n",
    "                     'units1': 150,\n",
    "                     'activation1': 'tanh',\n",
    "                     'dropout1': 0.8},\n",
    "         'layer_2': {'on2': True,\n",
    "                    'units2': hp.uniform('units2', 16, 256),\n",
    "                    'activation2': hp.choice('activation2',['relu','tanh']),\n",
    "                    'dropout2': hp.uniform('dropout2', .2, .9)},\n",
    "          'layer_3': {'on3': False,\n",
    "                     'units3': 16,\n",
    "                     'activation3': 'relu',\n",
    "                     'dropout3': .25}\n",
    "          }\n",
    "\n",
    "\n",
    "def f_nn(params):\n",
    "    global counter\n",
    "    global times\n",
    "    \n",
    "    a = time.time()\n",
    "    \n",
    "    # create model\n",
    "    print ('Params testing %d: %s' % (counter, params))\n",
    "    counter += 1\n",
    "    \n",
    "    model = Sequential()\n",
    "    model.add(Dense(params['layer_1']['units1'], \n",
    "                    input_dim=Xtrain.shape[1], \n",
    "                    init='normal', \n",
    "                    activation=params['layer_1']['activation1']))\n",
    "    \n",
    "    model.add(Dropout(params['layer_1']['dropout1']))\n",
    "    \n",
    "    if params['layer_2']['on2']:\n",
    "        model.add(Dense(params['layer_2']['units2'], \n",
    "                        input_dim=Xtrain.shape[1], \n",
    "                        init='normal', \n",
    "                        activation=params['layer_2']['activation2']))\n",
    "        #https://www.kaggle.com/poiss0nriot/talkingdata-mobile-user-demographics/bag-of-apps-keras-11-08-16-no-val/run/328610\n",
    "        #model.add(PReLU())\n",
    "        model.add(Dropout(params['layer_2']['dropout2']))\n",
    "    \n",
    "    if params['layer_3']['on3']:\n",
    "        model.add(Dense(params['layer_3']['units3'], \n",
    "                        init='normal', \n",
    "                        activation=params['layer_3']['activation3']))\n",
    "        \n",
    "        model.add(Dropout(params['layer_3']['dropout3']))\n",
    "    \n",
    "    model.add(Dense(12, init='normal', activation='softmax'))    \n",
    "    # Compile model\n",
    "    model.compile(loss='categorical_crossentropy', optimizer=params['optimizer'], metrics=['accuracy'])  #logloss\n",
    "    \n",
    "    hist_all = prediction_hist('test')\n",
    "    \n",
    "    fit=model.fit(X_train.todense(), y_train, nb_epoch = int(params['n_epoch']), batch_size=int(params['batch_size']),\n",
    "                             validation_data=(X_val.todense(), y_val), verbose=2,\n",
    "                 callbacks=[hist_all]) \n",
    "    \n",
    "    scores_val = model.predict_proba(X_val.todense(), batch_size = 128, verbose = 0)\n",
    "\n",
    "    logloss = log_loss(y_val, scores_val)\n",
    "    times.append(a-time.time())\n",
    "                        \n",
    "    print('Log_loss:', logloss, 'It took', a-time.time())\n",
    "    print('Average time per eval:', sum(times)/counter)\n",
    "    sys.stdout.flush() \n",
    "    return {'loss': logloss, 'status': STATUS_OK}\n",
    "\n",
    "def plot_loss_progress(pred_hist_obj, ax1=None, ax2=None, c='g'):\n",
    "    \n",
    "    df = pred_hist_obj.predhist\n",
    "    \n",
    "    if not ax1:\n",
    "        fig, (ax1, ax2) = plt.subplot(1, 2, figsize=(16,4))\n",
    "        \n",
    "    df.plot(y='acc', ax=ax1, label=pred_hist_obj.tag, color=c)\n",
    "    df.plot(y='val_acc', ax=ax1, label=pred_hist_obj.tag, linestyle='--', color=c)\n",
    "    ax1.set_title('Accuracy score')\n",
    "    ax1.set_xlabel('Epoch #')\n",
    "    ax1.set_ylabel('Accuracy')\n",
    "    \n",
    "    df.plot(y='logloss', ax=ax2, label=pred_hist_obj.tag, color=c)\n",
    "    df.plot(y='val_logloss', ax=ax2, label=pred_hist_obj.tag, linestyle='--', color=c)\n",
    "    ax2.set_title('Logloss score')\n",
    "    ax2.set_xlabel('Epoch #')\n",
    "    ax2.set_ylabel('Logloss')\n",
    "\n",
    "class prediction_hist(Callback):\n",
    "    def __init__(self, tag=''):\n",
    "        self.predhist = pd.DataFrame(columns=['acc','logloss','val_acc','val_logloss'])\n",
    "        self.tag = str(tag)\n",
    "        \n",
    "    def on_epoch_end(self, epoch, logs={}):\n",
    "        #print logs.values()\n",
    "        self.predhist.loc[epoch] = logs.values()\n",
    "        "
   ]
  },
  {
   "cell_type": "code",
   "execution_count": null,
   "metadata": {
    "collapsed": false
   },
   "outputs": [],
   "source": [
    "counter = 0\n",
    "times = []\n",
    "trials = Trials()\n",
    "best = fmin(f_nn, params, algo=tpe.suggest, max_evals=300, trials=trials)\n",
    "print 'best: '\n",
    "print best\n"
   ]
  },
  {
   "cell_type": "code",
   "execution_count": null,
   "metadata": {
    "collapsed": false
   },
   "outputs": [],
   "source": [
    "parameters = trials.trials[0]['misc']['vals'].keys()\n",
    "f, axes = plt.subplots(nrows=3, ncols=3, figsize=(16,16))\n",
    "cmap = plt.cm.jet\n",
    "par_best_score = {}\n",
    "for i, val in enumerate(parameters):\n",
    "    xs = np.array([t['misc']['vals'][val] for t in trials.trials if 'loss' in t['result']]).ravel()\n",
    "    ys = [t['result']['loss'] for t in trials.trials if 'loss' in t['result']]\n",
    "    \n",
    "    par_best_score[val] = xs[ys.index(min(ys))]\n",
    "    #print trials.trials[ys.index(max(ys))]\n",
    "    print i, val, max(ys)\n",
    "    #xs, ys = zip(sorted(xs), sorted(ys))\n",
    "    #ys = np.array(ys)\n",
    "    axes[i/3,i%3].scatter(xs, ys, s=20, linewidth=0.01, alpha=0.5, c=cmap(float(i)/len(parameters)))\n",
    "    axes[i/3,i%3].set_title(val)\n",
    "print par_best_score"
   ]
  },
  {
   "cell_type": "code",
   "execution_count": null,
   "metadata": {
    "collapsed": false
   },
   "outputs": [],
   "source": [
    "f, axes = plt.subplots(nrows=3, ncols=3, figsize=(16,16))\n",
    "cmap = plt.cm.jet\n",
    "par_best_score = {}\n",
    "for i, val in enumerate(parameters):\n",
    "    xs = np.array([t['misc']['vals'][val] for t in trials.trials if 'loss' in t['result']]).ravel()\n",
    "    ys = [t['result']['loss'] for t in trials.trials if 'loss' in t['result']]\n",
    "    \n",
    "    #par_best_score[val] = xs[ys.index(max(ys))]\n",
    "    #print trials.trials[ys.index(max(ys))]\n",
    "    print i, val, min(ys)\n",
    "    #xs, ys = zip(sorted(xs), sorted(ys))\n",
    "    #ys = np.array(ys)\n",
    "    a=pd.DataFrame({val:xs,'loss':ys})\n",
    "    \n",
    "    if a[val].nunique()>10:\n",
    "        a[val] = pd.cut(a[val], 10, labels=np.linspace(a[val].min(),a[val].max(),10))\n",
    "    #a[val] = a[val].round(0)\n",
    "    (a.groupby(val).agg('mean')).plot(kind='bar',ylim=[2.36, 2.41], ax=axes[i/3,i%3])\n",
    "    axes[i/3,i%3].set_title(val)\n",
    "print par_best_score"
   ]
  },
  {
   "cell_type": "code",
   "execution_count": null,
   "metadata": {
    "collapsed": false
   },
   "outputs": [],
   "source": [
    "x = [1, 1.2, 1.23, 1.3, 1.56]\n",
    "bins=np.linspace(min(x),max(x),10)\n",
    "a=pd.Series(x)\n",
    "pd.cut(a, 10, labels=bins)"
   ]
  },
  {
   "cell_type": "code",
   "execution_count": null,
   "metadata": {
    "collapsed": false
   },
   "outputs": [],
   "source": [
    "a=pd.DataFrame({'activation2':xs,'loss':ys})\n",
    "a.sample(10)"
   ]
  },
  {
   "cell_type": "code",
   "execution_count": null,
   "metadata": {
    "collapsed": false
   },
   "outputs": [],
   "source": [
    "(a.groupby('activation2').agg('mean')).plot(kind='bar', xlim=[-2.38, -2.42])"
   ]
  },
  {
   "cell_type": "code",
   "execution_count": null,
   "metadata": {
    "collapsed": false
   },
   "outputs": [],
   "source": [
    "fig, (ax1, ax2) = plt.subplots(1,2,figsize=(16,4))\n",
    "drs = [0.1, 0.2, 0.3, 0.4, 0.5]\n",
    "optim = ['adamax', 'adam', 'nadam', 'adadelta']\n",
    "cs = 'grbycm'\n",
    "for i,dr in enumerate(optim):\n",
    "    hist_all = prediction_hist(tag=optim)\n",
    "    \n",
    "    model=baseline_model(params)\n",
    "    \n",
    "    fit=model.fit(X_train.todense(), y_train, nb_epoch = 7, batch_size=32,\n",
    "                             validation_data=(X_val.todense(), y_val), verbose=2,\n",
    "                 callbacks=[hist_all]) \n",
    "    \n",
    "    plot_loss_progress(hist_all, ax1=ax1, ax2=ax2, c=cs[i])"
   ]
  },
  {
   "cell_type": "code",
   "execution_count": null,
   "metadata": {
    "collapsed": false
   },
   "outputs": [],
   "source": [
    "model.summary()"
   ]
  },
  {
   "cell_type": "code",
   "execution_count": null,
   "metadata": {
    "collapsed": false
   },
   "outputs": [],
   "source": [
    "fig, (ax1, ax2) = plt.subplots(1,2,figsize=(16,4))\n",
    "\n",
    "cs = 'grbycm'\n",
    "plot_loss_progress(hist_all, ax1=ax1, ax2=ax2, c=cs[i])"
   ]
  },
  {
   "cell_type": "code",
   "execution_count": null,
   "metadata": {
    "collapsed": false
   },
   "outputs": [],
   "source": [
    "print hist_generator.predhist.head()\n",
    "fig, (ax1, ax2) = plt.subplots(1,2,figsize=(16,4))\n",
    "plot_loss_progress(hist_all, ax1=ax1, ax2=ax2)"
   ]
  },
  {
   "cell_type": "code",
   "execution_count": null,
   "metadata": {
    "collapsed": false
   },
   "outputs": [],
   "source": [
    "# evaluate the model\n",
    "scores_val = model.predict_generator(generator=batch_generatorp(X_val, 32, False), val_samples=X_val.shape[0])\n",
    "scores = model.predict_generator(generator=batch_generatorp(Xtest, 32, False), val_samples=Xtest.shape[0])\n",
    "\n",
    "print('logloss val {}'.format(log_loss(y_val, scores_val)))"
   ]
  },
  {
   "cell_type": "code",
   "execution_count": null,
   "metadata": {
    "collapsed": false
   },
   "outputs": [],
   "source": [
    "basescore = 2.27506319419 (2.2751433925) with weight in batch_generator: 2.2751433925, 2.2751433925"
   ]
  },
  {
   "cell_type": "code",
   "execution_count": null,
   "metadata": {
    "collapsed": false
   },
   "outputs": [],
   "source": [
    "pred = pd.DataFrame(scores, index = gatest['device_id'], columns=targetencoder.classes_)\n",
    "pred.to_csv('A_keras_model_on_apps_and_labels.csv',index=True)"
   ]
  },
  {
   "cell_type": "markdown",
   "metadata": {
    "collapsed": true
   },
   "source": [
    "## Fit on complete model"
   ]
  },
  {
   "cell_type": "code",
   "execution_count": null,
   "metadata": {
    "collapsed": false
   },
   "outputs": [],
   "source": [
    "model=baseline_model()\n",
    "fit=model.fit(X_train.todense(), y_train, nb_epoch = 20, batch_size=32,\n",
    "                         validation_data=(X_val.todense(), y_val), verbose=2)"
   ]
  },
  {
   "cell_type": "code",
   "execution_count": null,
   "metadata": {
    "collapsed": false
   },
   "outputs": [],
   "source": [
    "# evaluate the model\n",
    "scores_val = model.predict_generator(generator=batch_generatorp(X_val, 32, False), val_samples=X_val.shape[0])\n",
    "print('logloss val {}'.format(log_loss(y_val, scores_val)))"
   ]
  },
  {
   "cell_type": "code",
   "execution_count": null,
   "metadata": {
    "collapsed": false
   },
   "outputs": [],
   "source": [
    "model.summary()"
   ]
  },
  {
   "cell_type": "code",
   "execution_count": null,
   "metadata": {
    "collapsed": true
   },
   "outputs": [],
   "source": []
  }
 ],
 "metadata": {
  "kernelspec": {
   "display_name": "Python 2",
   "language": "python",
   "name": "python2"
  },
  "language_info": {
   "codemirror_mode": {
    "name": "ipython",
    "version": 2
   },
   "file_extension": ".py",
   "mimetype": "text/x-python",
   "name": "python",
   "nbconvert_exporter": "python",
   "pygments_lexer": "ipython2",
   "version": "2.7.11"
  }
 },
 "nbformat": 4,
 "nbformat_minor": 0
}
