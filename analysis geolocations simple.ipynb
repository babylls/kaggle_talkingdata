{
 "cells": [
  {
   "cell_type": "markdown",
   "metadata": {},
   "source": [
    "# Analyze geolocation"
   ]
  },
  {
   "cell_type": "code",
   "execution_count": 179,
   "metadata": {
    "collapsed": false
   },
   "outputs": [],
   "source": [
    "import os\n",
    "import math\n",
    "\n",
    "import pandas as pd\n",
    "import numpy as np\n",
    "\n",
    "import seaborn as sns \n",
    "import matplotlib.pyplot as plt\n",
    "from mpl_toolkits.basemap import Basemap\n",
    "\n",
    "%matplotlib inline\n",
    "\n",
    "dir_in = './data_ori/'"
   ]
  },
  {
   "cell_type": "code",
   "execution_count": 86,
   "metadata": {
    "collapsed": true
   },
   "outputs": [],
   "source": [
    "events = pd.read_csv(dir_in + 'events.csv')\n",
    "def age_group(sex, age):\n",
    "    # Convert age column to age group\n",
    "    #ageGroupsF = ['23-','24-26','27-28','29-32','33-42,''43+']\n",
    "    #ageGroupsM = ['22-','23-26','27-28','29-31','32-38,''39+']\n",
    "\n",
    "    if sex not in ['M','F']:\n",
    "        ValueError('%s is not a valid gender' % sex)\n",
    "        \n",
    "    if age not in range(100):\n",
    "        ValueError('%s is not a valid age' % age)\n",
    "    \n",
    "    if sex==\"M\":\n",
    "        if age<=22:\n",
    "            g = 0\n",
    "        elif age<=26:\n",
    "            g = 1\n",
    "        elif age<=28:\n",
    "            g = 2\n",
    "        elif age<=31:\n",
    "            g = 3\n",
    "        elif age<=38:\n",
    "            g = 4\n",
    "        else:\n",
    "            g = 5\n",
    "    elif sex==\"F\":\n",
    "        if age<=23:\n",
    "            g = 0\n",
    "        elif age<=26:\n",
    "            g = 1\n",
    "        elif age<=28:\n",
    "            g = 2\n",
    "        elif age<=32:\n",
    "            g = 3\n",
    "        elif age<=42:\n",
    "            g = 4\n",
    "        else:\n",
    "            g = 5\n",
    "    \n",
    "    return g\n",
    "# From http://www.tageo.com/index-e-ch-cities-CN.htm\n",
    "gps_cities = {}\n",
    "gps_cities['beijing'] = (39.93, 116.4) #\n",
    "gps_cities['wuhan'] = (30.58, 114.27) #\n",
    "gps_cities['chengdu'] = (30.670, 104.07)#\n",
    "gps_cities['tianjin'] = (39.130, 117.20)#\n",
    "gps_cities['shenyang'] = (41.800, 123.450)#\n",
    "gps_cities['xian'] = (34.270, 108.900) #\n",
    "gps_cities['guangzhou'] = (23.120, 113.250) # Canton\n",
    "gps_cities['harbin'] = (45.750, 126.650)\n",
    "gps_cities['chongqing'] = (29.57, 106.58) #\n",
    "gps_cities['hongkong'] = (22.20, 114.10) #\n",
    "gps_cities['nanjing'] = (32.050, 118.78)\n",
    "gps_cities['shanghai'] = (31.230, 121.470) #"
   ]
  },
  {
   "cell_type": "code",
   "execution_count": 89,
   "metadata": {
    "collapsed": false
   },
   "outputs": [
    {
     "data": {
      "text/html": [
       "<div>\n",
       "<table border=\"1\" class=\"dataframe\">\n",
       "  <thead>\n",
       "    <tr style=\"text-align: right;\">\n",
       "      <th></th>\n",
       "      <th>event_id</th>\n",
       "      <th>timestamp</th>\n",
       "      <th>longitude</th>\n",
       "      <th>latitude</th>\n",
       "    </tr>\n",
       "    <tr>\n",
       "      <th>device_id</th>\n",
       "      <th></th>\n",
       "      <th></th>\n",
       "      <th></th>\n",
       "      <th></th>\n",
       "    </tr>\n",
       "  </thead>\n",
       "  <tbody>\n",
       "    <tr>\n",
       "      <th>-9222956879900151005</th>\n",
       "      <td>12679</td>\n",
       "      <td>2016-05-07 12:18:35</td>\n",
       "      <td>113.24</td>\n",
       "      <td>23.19</td>\n",
       "    </tr>\n",
       "    <tr>\n",
       "      <th>-9221825537663503111</th>\n",
       "      <td>74539</td>\n",
       "      <td>2016-05-07 07:52:34</td>\n",
       "      <td>113.36</td>\n",
       "      <td>33.63</td>\n",
       "    </tr>\n",
       "    <tr>\n",
       "      <th>-9221026417907250887</th>\n",
       "      <td>6402</td>\n",
       "      <td>2016-05-02 07:56:49</td>\n",
       "      <td>114.36</td>\n",
       "      <td>30.87</td>\n",
       "    </tr>\n",
       "    <tr>\n",
       "      <th>-9220452176650064280</th>\n",
       "      <td>105475</td>\n",
       "      <td>2016-05-06 08:19:24</td>\n",
       "      <td>1.00</td>\n",
       "      <td>1.00</td>\n",
       "    </tr>\n",
       "    <tr>\n",
       "      <th>-9220061629197656378</th>\n",
       "      <td>279922</td>\n",
       "      <td>2016-05-05 13:08:11</td>\n",
       "      <td>124.90</td>\n",
       "      <td>46.60</td>\n",
       "    </tr>\n",
       "  </tbody>\n",
       "</table>\n",
       "</div>"
      ],
      "text/plain": [
       "                      event_id            timestamp  longitude  latitude\n",
       "device_id                                                               \n",
       "-9222956879900151005     12679  2016-05-07 12:18:35     113.24     23.19\n",
       "-9221825537663503111     74539  2016-05-07 07:52:34     113.36     33.63\n",
       "-9221026417907250887      6402  2016-05-02 07:56:49     114.36     30.87\n",
       "-9220452176650064280    105475  2016-05-06 08:19:24       1.00      1.00\n",
       "-9220061629197656378    279922  2016-05-05 13:08:11     124.90     46.60"
      ]
     },
     "execution_count": 89,
     "metadata": {},
     "output_type": "execute_result"
    }
   ],
   "source": [
    "train_0 = events[(events.longitude>0) & (events.latitude>0)].groupby('device_id').first()\n",
    "train_0.head()"
   ]
  },
  {
   "cell_type": "code",
   "execution_count": 122,
   "metadata": {
    "collapsed": false
   },
   "outputs": [
    {
     "data": {
      "text/html": [
       "<div>\n",
       "<table border=\"1\" class=\"dataframe\">\n",
       "  <thead>\n",
       "    <tr style=\"text-align: right;\">\n",
       "      <th></th>\n",
       "      <th>event_id</th>\n",
       "      <th>timestamp</th>\n",
       "      <th>longitude</th>\n",
       "      <th>latitude</th>\n",
       "      <th>dist_beijing</th>\n",
       "      <th>close_to_beijing</th>\n",
       "      <th>dist_guangzhou</th>\n",
       "      <th>close_to_guangzhou</th>\n",
       "      <th>dist_chengdu</th>\n",
       "      <th>close_to_chengdu</th>\n",
       "      <th>...</th>\n",
       "      <th>dist_nanjing</th>\n",
       "      <th>close_to_nanjing</th>\n",
       "      <th>dist_wuhan</th>\n",
       "      <th>close_to_wuhan</th>\n",
       "      <th>dist_shanghai</th>\n",
       "      <th>close_to_shanghai</th>\n",
       "      <th>dist_harbin</th>\n",
       "      <th>close_to_harbin</th>\n",
       "      <th>dist_chongqing</th>\n",
       "      <th>close_to_chongqing</th>\n",
       "    </tr>\n",
       "    <tr>\n",
       "      <th>device_id</th>\n",
       "      <th></th>\n",
       "      <th></th>\n",
       "      <th></th>\n",
       "      <th></th>\n",
       "      <th></th>\n",
       "      <th></th>\n",
       "      <th></th>\n",
       "      <th></th>\n",
       "      <th></th>\n",
       "      <th></th>\n",
       "      <th></th>\n",
       "      <th></th>\n",
       "      <th></th>\n",
       "      <th></th>\n",
       "      <th></th>\n",
       "      <th></th>\n",
       "      <th></th>\n",
       "      <th></th>\n",
       "      <th></th>\n",
       "      <th></th>\n",
       "      <th></th>\n",
       "    </tr>\n",
       "  </thead>\n",
       "  <tbody>\n",
       "    <tr>\n",
       "      <th>-9222956879900151005</th>\n",
       "      <td>12679</td>\n",
       "      <td>2016-05-07 12:18:35</td>\n",
       "      <td>113.24</td>\n",
       "      <td>23.19</td>\n",
       "      <td>17.035645</td>\n",
       "      <td>False</td>\n",
       "      <td>0.070711</td>\n",
       "      <td>True</td>\n",
       "      <td>11.833820</td>\n",
       "      <td>False</td>\n",
       "      <td>...</td>\n",
       "      <td>10.449459</td>\n",
       "      <td>False</td>\n",
       "      <td>7.461434</td>\n",
       "      <td>False</td>\n",
       "      <td>11.505412</td>\n",
       "      <td>False</td>\n",
       "      <td>26.244651</td>\n",
       "      <td>False</td>\n",
       "      <td>9.222798</td>\n",
       "      <td>False</td>\n",
       "    </tr>\n",
       "    <tr>\n",
       "      <th>-9221825537663503111</th>\n",
       "      <td>74539</td>\n",
       "      <td>2016-05-07 07:52:34</td>\n",
       "      <td>113.36</td>\n",
       "      <td>33.63</td>\n",
       "      <td>6.995113</td>\n",
       "      <td>False</td>\n",
       "      <td>10.510576</td>\n",
       "      <td>False</td>\n",
       "      <td>9.750164</td>\n",
       "      <td>False</td>\n",
       "      <td>...</td>\n",
       "      <td>5.645600</td>\n",
       "      <td>False</td>\n",
       "      <td>3.182860</td>\n",
       "      <td>False</td>\n",
       "      <td>8.457665</td>\n",
       "      <td>False</td>\n",
       "      <td>17.986620</td>\n",
       "      <td>False</td>\n",
       "      <td>7.902658</td>\n",
       "      <td>False</td>\n",
       "    </tr>\n",
       "    <tr>\n",
       "      <th>-9221026417907250887</th>\n",
       "      <td>6402</td>\n",
       "      <td>2016-05-02 07:56:49</td>\n",
       "      <td>114.36</td>\n",
       "      <td>30.87</td>\n",
       "      <td>9.286829</td>\n",
       "      <td>False</td>\n",
       "      <td>7.829087</td>\n",
       "      <td>False</td>\n",
       "      <td>10.291943</td>\n",
       "      <td>False</td>\n",
       "      <td>...</td>\n",
       "      <td>4.574801</td>\n",
       "      <td>False</td>\n",
       "      <td>0.303645</td>\n",
       "      <td>True</td>\n",
       "      <td>7.119108</td>\n",
       "      <td>False</td>\n",
       "      <td>19.299184</td>\n",
       "      <td>False</td>\n",
       "      <td>7.887864</td>\n",
       "      <td>False</td>\n",
       "    </tr>\n",
       "    <tr>\n",
       "      <th>-9220452176650064280</th>\n",
       "      <td>105475</td>\n",
       "      <td>2016-05-06 08:19:24</td>\n",
       "      <td>1.00</td>\n",
       "      <td>1.00</td>\n",
       "      <td>121.789593</td>\n",
       "      <td>False</td>\n",
       "      <td>114.408727</td>\n",
       "      <td>False</td>\n",
       "      <td>107.255460</td>\n",
       "      <td>False</td>\n",
       "      <td>...</td>\n",
       "      <td>121.804068</td>\n",
       "      <td>False</td>\n",
       "      <td>117.068652</td>\n",
       "      <td>False</td>\n",
       "      <td>124.204967</td>\n",
       "      <td>False</td>\n",
       "      <td>133.380977</td>\n",
       "      <td>False</td>\n",
       "      <td>109.377243</td>\n",
       "      <td>False</td>\n",
       "    </tr>\n",
       "    <tr>\n",
       "      <th>-9220061629197656378</th>\n",
       "      <td>279922</td>\n",
       "      <td>2016-05-05 13:08:11</td>\n",
       "      <td>124.90</td>\n",
       "      <td>46.60</td>\n",
       "      <td>10.804578</td>\n",
       "      <td>False</td>\n",
       "      <td>26.211312</td>\n",
       "      <td>False</td>\n",
       "      <td>26.223154</td>\n",
       "      <td>False</td>\n",
       "      <td>...</td>\n",
       "      <td>15.784705</td>\n",
       "      <td>False</td>\n",
       "      <td>19.225954</td>\n",
       "      <td>False</td>\n",
       "      <td>15.748073</td>\n",
       "      <td>False</td>\n",
       "      <td>1.945508</td>\n",
       "      <td>False</td>\n",
       "      <td>25.012863</td>\n",
       "      <td>False</td>\n",
       "    </tr>\n",
       "  </tbody>\n",
       "</table>\n",
       "<p>5 rows × 28 columns</p>\n",
       "</div>"
      ],
      "text/plain": [
       "                      event_id            timestamp  longitude  latitude  \\\n",
       "device_id                                                                  \n",
       "-9222956879900151005     12679  2016-05-07 12:18:35     113.24     23.19   \n",
       "-9221825537663503111     74539  2016-05-07 07:52:34     113.36     33.63   \n",
       "-9221026417907250887      6402  2016-05-02 07:56:49     114.36     30.87   \n",
       "-9220452176650064280    105475  2016-05-06 08:19:24       1.00      1.00   \n",
       "-9220061629197656378    279922  2016-05-05 13:08:11     124.90     46.60   \n",
       "\n",
       "                      dist_beijing close_to_beijing  dist_guangzhou  \\\n",
       "device_id                                                             \n",
       "-9222956879900151005     17.035645            False        0.070711   \n",
       "-9221825537663503111      6.995113            False       10.510576   \n",
       "-9221026417907250887      9.286829            False        7.829087   \n",
       "-9220452176650064280    121.789593            False      114.408727   \n",
       "-9220061629197656378     10.804578            False       26.211312   \n",
       "\n",
       "                     close_to_guangzhou  dist_chengdu close_to_chengdu  \\\n",
       "device_id                                                                \n",
       "-9222956879900151005               True     11.833820            False   \n",
       "-9221825537663503111              False      9.750164            False   \n",
       "-9221026417907250887              False     10.291943            False   \n",
       "-9220452176650064280              False    107.255460            False   \n",
       "-9220061629197656378              False     26.223154            False   \n",
       "\n",
       "                            ...          dist_nanjing close_to_nanjing  \\\n",
       "device_id                   ...                                          \n",
       "-9222956879900151005        ...             10.449459            False   \n",
       "-9221825537663503111        ...              5.645600            False   \n",
       "-9221026417907250887        ...              4.574801            False   \n",
       "-9220452176650064280        ...            121.804068            False   \n",
       "-9220061629197656378        ...             15.784705            False   \n",
       "\n",
       "                      dist_wuhan close_to_wuhan  dist_shanghai  \\\n",
       "device_id                                                        \n",
       "-9222956879900151005    7.461434          False      11.505412   \n",
       "-9221825537663503111    3.182860          False       8.457665   \n",
       "-9221026417907250887    0.303645           True       7.119108   \n",
       "-9220452176650064280  117.068652          False     124.204967   \n",
       "-9220061629197656378   19.225954          False      15.748073   \n",
       "\n",
       "                     close_to_shanghai  dist_harbin close_to_harbin  \\\n",
       "device_id                                                             \n",
       "-9222956879900151005             False    26.244651           False   \n",
       "-9221825537663503111             False    17.986620           False   \n",
       "-9221026417907250887             False    19.299184           False   \n",
       "-9220452176650064280             False   133.380977           False   \n",
       "-9220061629197656378             False     1.945508           False   \n",
       "\n",
       "                      dist_chongqing close_to_chongqing  \n",
       "device_id                                                \n",
       "-9222956879900151005        9.222798              False  \n",
       "-9221825537663503111        7.902658              False  \n",
       "-9221026417907250887        7.887864              False  \n",
       "-9220452176650064280      109.377243              False  \n",
       "-9220061629197656378       25.012863              False  \n",
       "\n",
       "[5 rows x 28 columns]"
      ]
     },
     "execution_count": 122,
     "metadata": {},
     "output_type": "execute_result"
    }
   ],
   "source": [
    "distance_for_close = 1.1\n",
    "\n",
    "for k in gps_cities.keys():\n",
    "    v = gps_cities[k]\n",
    "    train_0['dist_' + k] = train_0[['longitude','latitude']].apply(lambda x: math.sqrt( (x[0]-v[1])**2 + (x[1]-v[0])**2 ), axis=1)\n",
    "    train_0['close_to_' + k] = train_0['dist_' + k] < distance_for_close\n",
    "\n",
    "train_0.head()"
   ]
  },
  {
   "cell_type": "code",
   "execution_count": 123,
   "metadata": {
    "collapsed": false
   },
   "outputs": [
    {
     "name": "stdout",
     "output_type": "stream",
     "text": [
      "['close_to_beijing', 'close_to_guangzhou', 'close_to_chengdu', 'close_to_tianjin', 'close_to_hongkong', 'close_to_shenyang', 'close_to_xian', 'close_to_nanjing', 'close_to_wuhan', 'close_to_shanghai', 'close_to_harbin', 'close_to_chongqing']\n"
     ]
    }
   ],
   "source": [
    "dist_cols = ['dist_' + k for k in gps_cities.keys()]\n",
    "close_to_cols = ['close_to_' + k for k in gps_cities.keys()]\n",
    "print close_to_cols"
   ]
  },
  {
   "cell_type": "markdown",
   "metadata": {},
   "source": [
    "### Validation"
   ]
  },
  {
   "cell_type": "markdown",
   "metadata": {},
   "source": []
  },
  {
   "cell_type": "code",
   "execution_count": 124,
   "metadata": {
    "collapsed": false
   },
   "outputs": [
    {
     "data": {
      "text/plain": [
       "(30674, 28)"
      ]
     },
     "execution_count": 124,
     "metadata": {},
     "output_type": "execute_result"
    }
   ],
   "source": [
    "# How many devices:\n",
    "train_0.shape"
   ]
  },
  {
   "cell_type": "code",
   "execution_count": 131,
   "metadata": {
    "collapsed": false
   },
   "outputs": [
    {
     "name": "stdout",
     "output_type": "stream",
     "text": [
      "Number of devices close to more than one city\n"
     ]
    },
    {
     "data": {
      "text/plain": [
       "2634"
      ]
     },
     "execution_count": 131,
     "metadata": {},
     "output_type": "execute_result"
    }
   ],
   "source": [
    "# Check whether devices are close to multiple cities\n",
    "# For distance_for_close = 1.0: 1788 devices double, 11654 are close to cities\n",
    "# For distance_for_close = 1.1: 2634 devices double, 12039 are close to cities <- most reasonable\n",
    "# For distance_for_close = 1.3: 4569 devices double, 12832 are close to cities\n",
    "# For distance_for_close = 1.5: 5250 devices double, 13788 are close to cities\n",
    "# For distance_for_close = 2.0: 6725 devices double, 15892 are close to cities\n",
    "print('Number of devices close to more than one city')\n",
    "sum(train_0[close_to_cols].sum(axis=1)>1)"
   ]
  },
  {
   "cell_type": "code",
   "execution_count": 132,
   "metadata": {
    "collapsed": false
   },
   "outputs": [
    {
     "name": "stdout",
     "output_type": "stream",
     "text": [
      "Number of devices close to cities\n"
     ]
    },
    {
     "data": {
      "text/plain": [
       "12039"
      ]
     },
     "execution_count": 132,
     "metadata": {},
     "output_type": "execute_result"
    }
   ],
   "source": [
    "# Check how many devices are close to cities\n",
    "print('Number of devices close to cities')\n",
    "sum(train_0[close_to_cols].sum(axis=1)>0)"
   ]
  },
  {
   "cell_type": "code",
   "execution_count": 130,
   "metadata": {
    "collapsed": false
   },
   "outputs": [
    {
     "name": "stdout",
     "output_type": "stream",
     "text": [
      "Number of devices in train\n"
     ]
    },
    {
     "data": {
      "text/plain": [
       "(11949, 33)"
      ]
     },
     "execution_count": 130,
     "metadata": {},
     "output_type": "execute_result"
    }
   ],
   "source": [
    "# Merge with train data\n",
    "df_train = pd.read_csv(dir_in + 'gender_age_train.csv')\n",
    "df_train['age_group'] = df_train[['gender','age']].apply(lambda x: age_group(x[0],x[1]), axis=1)\n",
    "\n",
    "df_plot = pd.merge(df_train, train_0, left_on=\"device_id\", right_index=True, how=\"inner\")\n",
    "print('Number of devices in train')\n",
    "df_plot.shape"
   ]
  },
  {
   "cell_type": "markdown",
   "metadata": {},
   "source": [
    "### Validate close to per gender"
   ]
  },
  {
   "cell_type": "code",
   "execution_count": 133,
   "metadata": {
    "collapsed": false
   },
   "outputs": [
    {
     "name": "stdout",
     "output_type": "stream",
     "text": [
      "Gender count:\n"
     ]
    },
    {
     "data": {
      "text/plain": [
       "gender\n",
       "F    3498\n",
       "M    8451\n",
       "dtype: int64"
      ]
     },
     "execution_count": 133,
     "metadata": {},
     "output_type": "execute_result"
    }
   ],
   "source": [
    "print('Gender count:')\n",
    "g = df_plot.groupby('gender').size()\n",
    "g"
   ]
  },
  {
   "cell_type": "code",
   "execution_count": 134,
   "metadata": {
    "collapsed": false
   },
   "outputs": [
    {
     "data": {
      "text/html": [
       "<div>\n",
       "<table border=\"1\" class=\"dataframe\">\n",
       "  <thead>\n",
       "    <tr style=\"text-align: right;\">\n",
       "      <th></th>\n",
       "      <th>close_to_beijing</th>\n",
       "      <th>close_to_guangzhou</th>\n",
       "      <th>close_to_chengdu</th>\n",
       "      <th>close_to_tianjin</th>\n",
       "      <th>close_to_hongkong</th>\n",
       "      <th>close_to_shenyang</th>\n",
       "      <th>close_to_xian</th>\n",
       "      <th>close_to_nanjing</th>\n",
       "      <th>close_to_wuhan</th>\n",
       "      <th>close_to_shanghai</th>\n",
       "      <th>close_to_harbin</th>\n",
       "      <th>close_to_chongqing</th>\n",
       "    </tr>\n",
       "    <tr>\n",
       "      <th>gender</th>\n",
       "      <th></th>\n",
       "      <th></th>\n",
       "      <th></th>\n",
       "      <th></th>\n",
       "      <th></th>\n",
       "      <th></th>\n",
       "      <th></th>\n",
       "      <th></th>\n",
       "      <th></th>\n",
       "      <th></th>\n",
       "      <th></th>\n",
       "      <th></th>\n",
       "    </tr>\n",
       "  </thead>\n",
       "  <tbody>\n",
       "    <tr>\n",
       "      <th>F</th>\n",
       "      <td>0.072041</td>\n",
       "      <td>0.078902</td>\n",
       "      <td>0.041452</td>\n",
       "      <td>0.040309</td>\n",
       "      <td>0.056604</td>\n",
       "      <td>0.019726</td>\n",
       "      <td>0.016867</td>\n",
       "      <td>0.024871</td>\n",
       "      <td>0.027730</td>\n",
       "      <td>0.053173</td>\n",
       "      <td>0.007719</td>\n",
       "      <td>0.024014</td>\n",
       "    </tr>\n",
       "    <tr>\n",
       "      <th>M</th>\n",
       "      <td>0.056443</td>\n",
       "      <td>0.109809</td>\n",
       "      <td>0.048042</td>\n",
       "      <td>0.035854</td>\n",
       "      <td>0.080346</td>\n",
       "      <td>0.013608</td>\n",
       "      <td>0.017394</td>\n",
       "      <td>0.025796</td>\n",
       "      <td>0.026742</td>\n",
       "      <td>0.062596</td>\n",
       "      <td>0.004970</td>\n",
       "      <td>0.016093</td>\n",
       "    </tr>\n",
       "  </tbody>\n",
       "</table>\n",
       "</div>"
      ],
      "text/plain": [
       "        close_to_beijing  close_to_guangzhou  close_to_chengdu  \\\n",
       "gender                                                           \n",
       "F               0.072041            0.078902          0.041452   \n",
       "M               0.056443            0.109809          0.048042   \n",
       "\n",
       "        close_to_tianjin  close_to_hongkong  close_to_shenyang  close_to_xian  \\\n",
       "gender                                                                          \n",
       "F               0.040309           0.056604           0.019726       0.016867   \n",
       "M               0.035854           0.080346           0.013608       0.017394   \n",
       "\n",
       "        close_to_nanjing  close_to_wuhan  close_to_shanghai  close_to_harbin  \\\n",
       "gender                                                                         \n",
       "F               0.024871        0.027730           0.053173         0.007719   \n",
       "M               0.025796        0.026742           0.062596         0.004970   \n",
       "\n",
       "        close_to_chongqing  \n",
       "gender                      \n",
       "F                 0.024014  \n",
       "M                 0.016093  "
      ]
     },
     "execution_count": 134,
     "metadata": {},
     "output_type": "execute_result"
    }
   ],
   "source": [
    "cnt = df_plot.groupby('gender')[close_to_cols].sum()\n",
    "cnt.loc['F'] /= g[0]\n",
    "cnt.loc['M'] /= g[1]\n",
    "cnt"
   ]
  },
  {
   "cell_type": "code",
   "execution_count": 162,
   "metadata": {
    "collapsed": false
   },
   "outputs": [
    {
     "data": {
      "text/plain": [
       "<matplotlib.axes._subplots.AxesSubplot at 0x125c5a490>"
      ]
     },
     "execution_count": 162,
     "metadata": {},
     "output_type": "execute_result"
    },
    {
     "data": {
      "image/png": "[encoded data removed]",
      "text/plain": [
       "<matplotlib.figure.Figure at 0x12594cc10>"
      ]
     },
     "metadata": {},
     "output_type": "display_data"
    }
   ],
   "source": [
    "cnt.T.plot(kind='bar')"
   ]
  },
  {
   "cell_type": "markdown",
   "metadata": {},
   "source": [
    "### Validate close to per age group"
   ]
  },
  {
   "cell_type": "code",
   "execution_count": 163,
   "metadata": {
    "collapsed": false
   },
   "outputs": [
    {
     "name": "stdout",
     "output_type": "stream",
     "text": [
      "Age group count:\n"
     ]
    },
    {
     "data": {
      "text/plain": [
       "age_group\n",
       "0    1531\n",
       "1    2065\n",
       "2    1407\n",
       "3    2005\n",
       "4    2680\n",
       "5    2261\n",
       "dtype: int64"
      ]
     },
     "execution_count": 163,
     "metadata": {},
     "output_type": "execute_result"
    }
   ],
   "source": [
    "print('Age group count:')\n",
    "a = df_plot.groupby('age_group').size()\n",
    "a"
   ]
  },
  {
   "cell_type": "code",
   "execution_count": 164,
   "metadata": {
    "collapsed": false
   },
   "outputs": [
    {
     "data": {
      "text/html": [
       "<div>\n",
       "<table border=\"1\" class=\"dataframe\">\n",
       "  <thead>\n",
       "    <tr style=\"text-align: right;\">\n",
       "      <th></th>\n",
       "      <th>close_to_beijing</th>\n",
       "      <th>close_to_guangzhou</th>\n",
       "      <th>close_to_chengdu</th>\n",
       "      <th>close_to_tianjin</th>\n",
       "      <th>close_to_hongkong</th>\n",
       "      <th>close_to_shenyang</th>\n",
       "      <th>close_to_xian</th>\n",
       "      <th>close_to_nanjing</th>\n",
       "      <th>close_to_wuhan</th>\n",
       "      <th>close_to_shanghai</th>\n",
       "      <th>close_to_harbin</th>\n",
       "      <th>close_to_chongqing</th>\n",
       "    </tr>\n",
       "    <tr>\n",
       "      <th>age_group</th>\n",
       "      <th></th>\n",
       "      <th></th>\n",
       "      <th></th>\n",
       "      <th></th>\n",
       "      <th></th>\n",
       "      <th></th>\n",
       "      <th></th>\n",
       "      <th></th>\n",
       "      <th></th>\n",
       "      <th></th>\n",
       "      <th></th>\n",
       "      <th></th>\n",
       "    </tr>\n",
       "  </thead>\n",
       "  <tbody>\n",
       "    <tr>\n",
       "      <th>0</th>\n",
       "      <td>0.038537</td>\n",
       "      <td>0.101894</td>\n",
       "      <td>0.048334</td>\n",
       "      <td>0.029393</td>\n",
       "      <td>0.066623</td>\n",
       "      <td>0.015676</td>\n",
       "      <td>0.017636</td>\n",
       "      <td>0.015676</td>\n",
       "      <td>0.025474</td>\n",
       "      <td>0.043109</td>\n",
       "      <td>0.007185</td>\n",
       "      <td>0.023514</td>\n",
       "    </tr>\n",
       "    <tr>\n",
       "      <th>1</th>\n",
       "      <td>0.049879</td>\n",
       "      <td>0.121065</td>\n",
       "      <td>0.049879</td>\n",
       "      <td>0.036804</td>\n",
       "      <td>0.090557</td>\n",
       "      <td>0.009685</td>\n",
       "      <td>0.021308</td>\n",
       "      <td>0.026150</td>\n",
       "      <td>0.023245</td>\n",
       "      <td>0.067312</td>\n",
       "      <td>0.002906</td>\n",
       "      <td>0.014044</td>\n",
       "    </tr>\n",
       "    <tr>\n",
       "      <th>2</th>\n",
       "      <td>0.062544</td>\n",
       "      <td>0.113717</td>\n",
       "      <td>0.050462</td>\n",
       "      <td>0.037669</td>\n",
       "      <td>0.088842</td>\n",
       "      <td>0.012082</td>\n",
       "      <td>0.016347</td>\n",
       "      <td>0.017768</td>\n",
       "      <td>0.023454</td>\n",
       "      <td>0.063255</td>\n",
       "      <td>0.007107</td>\n",
       "      <td>0.016347</td>\n",
       "    </tr>\n",
       "    <tr>\n",
       "      <th>3</th>\n",
       "      <td>0.074813</td>\n",
       "      <td>0.105237</td>\n",
       "      <td>0.048878</td>\n",
       "      <td>0.038404</td>\n",
       "      <td>0.077805</td>\n",
       "      <td>0.017456</td>\n",
       "      <td>0.019451</td>\n",
       "      <td>0.021446</td>\n",
       "      <td>0.031920</td>\n",
       "      <td>0.059850</td>\n",
       "      <td>0.005985</td>\n",
       "      <td>0.018953</td>\n",
       "    </tr>\n",
       "    <tr>\n",
       "      <th>4</th>\n",
       "      <td>0.073507</td>\n",
       "      <td>0.094030</td>\n",
       "      <td>0.043284</td>\n",
       "      <td>0.042164</td>\n",
       "      <td>0.069776</td>\n",
       "      <td>0.016791</td>\n",
       "      <td>0.016418</td>\n",
       "      <td>0.029104</td>\n",
       "      <td>0.034328</td>\n",
       "      <td>0.063433</td>\n",
       "      <td>0.005224</td>\n",
       "      <td>0.021642</td>\n",
       "    </tr>\n",
       "    <tr>\n",
       "      <th>5</th>\n",
       "      <td>0.058381</td>\n",
       "      <td>0.077399</td>\n",
       "      <td>0.039363</td>\n",
       "      <td>0.035383</td>\n",
       "      <td>0.053074</td>\n",
       "      <td>0.019018</td>\n",
       "      <td>0.012826</td>\n",
       "      <td>0.035825</td>\n",
       "      <td>0.020787</td>\n",
       "      <td>0.057939</td>\n",
       "      <td>0.007077</td>\n",
       "      <td>0.015922</td>\n",
       "    </tr>\n",
       "  </tbody>\n",
       "</table>\n",
       "</div>"
      ],
      "text/plain": [
       "           close_to_beijing  close_to_guangzhou  close_to_chengdu  \\\n",
       "age_group                                                           \n",
       "0                  0.038537            0.101894          0.048334   \n",
       "1                  0.049879            0.121065          0.049879   \n",
       "2                  0.062544            0.113717          0.050462   \n",
       "3                  0.074813            0.105237          0.048878   \n",
       "4                  0.073507            0.094030          0.043284   \n",
       "5                  0.058381            0.077399          0.039363   \n",
       "\n",
       "           close_to_tianjin  close_to_hongkong  close_to_shenyang  \\\n",
       "age_group                                                           \n",
       "0                  0.029393           0.066623           0.015676   \n",
       "1                  0.036804           0.090557           0.009685   \n",
       "2                  0.037669           0.088842           0.012082   \n",
       "3                  0.038404           0.077805           0.017456   \n",
       "4                  0.042164           0.069776           0.016791   \n",
       "5                  0.035383           0.053074           0.019018   \n",
       "\n",
       "           close_to_xian  close_to_nanjing  close_to_wuhan  close_to_shanghai  \\\n",
       "age_group                                                                       \n",
       "0               0.017636          0.015676        0.025474           0.043109   \n",
       "1               0.021308          0.026150        0.023245           0.067312   \n",
       "2               0.016347          0.017768        0.023454           0.063255   \n",
       "3               0.019451          0.021446        0.031920           0.059850   \n",
       "4               0.016418          0.029104        0.034328           0.063433   \n",
       "5               0.012826          0.035825        0.020787           0.057939   \n",
       "\n",
       "           close_to_harbin  close_to_chongqing  \n",
       "age_group                                       \n",
       "0                 0.007185            0.023514  \n",
       "1                 0.002906            0.014044  \n",
       "2                 0.007107            0.016347  \n",
       "3                 0.005985            0.018953  \n",
       "4                 0.005224            0.021642  \n",
       "5                 0.007077            0.015922  "
      ]
     },
     "execution_count": 164,
     "metadata": {},
     "output_type": "execute_result"
    }
   ],
   "source": [
    "cnt = df_plot.groupby('age_group')[close_to_cols].sum()\n",
    "for i in range(6):\n",
    "    cnt.loc[i] /= a[i]\n",
    "cnt"
   ]
  },
  {
   "cell_type": "code",
   "execution_count": 165,
   "metadata": {
    "collapsed": false
   },
   "outputs": [
    {
     "data": {
      "text/plain": [
       "<matplotlib.axes._subplots.AxesSubplot at 0x1263573d0>"
      ]
     },
     "execution_count": 165,
     "metadata": {},
     "output_type": "execute_result"
    },
    {
     "data": {
      "image/png": "[encoded data removed]",
      "text/plain": [
       "<matplotlib.figure.Figure at 0x128c41750>"
      ]
     },
     "metadata": {},
     "output_type": "display_data"
    }
   ],
   "source": [
    "cnt.T.plot(kind='barh', figsize=(6,9))"
   ]
  },
  {
   "cell_type": "markdown",
   "metadata": {},
   "source": [
    "### Validate distance to per age group"
   ]
  },
  {
   "cell_type": "code",
   "execution_count": 166,
   "metadata": {
    "collapsed": false
   },
   "outputs": [
    {
     "data": {
      "text/html": [
       "<div>\n",
       "<table border=\"1\" class=\"dataframe\">\n",
       "  <thead>\n",
       "    <tr style=\"text-align: right;\">\n",
       "      <th></th>\n",
       "      <th>dist_beijing</th>\n",
       "      <th>dist_guangzhou</th>\n",
       "      <th>dist_chengdu</th>\n",
       "      <th>dist_tianjin</th>\n",
       "      <th>dist_hongkong</th>\n",
       "      <th>dist_shenyang</th>\n",
       "      <th>dist_xian</th>\n",
       "      <th>dist_nanjing</th>\n",
       "      <th>dist_wuhan</th>\n",
       "      <th>dist_shanghai</th>\n",
       "      <th>dist_harbin</th>\n",
       "      <th>dist_chongqing</th>\n",
       "    </tr>\n",
       "    <tr>\n",
       "      <th>age_group</th>\n",
       "      <th></th>\n",
       "      <th></th>\n",
       "      <th></th>\n",
       "      <th></th>\n",
       "      <th></th>\n",
       "      <th></th>\n",
       "      <th></th>\n",
       "      <th></th>\n",
       "      <th></th>\n",
       "      <th></th>\n",
       "      <th></th>\n",
       "      <th></th>\n",
       "    </tr>\n",
       "  </thead>\n",
       "  <tbody>\n",
       "    <tr>\n",
       "      <th>0</th>\n",
       "      <td>14.192881</td>\n",
       "      <td>13.231120</td>\n",
       "      <td>14.837340</td>\n",
       "      <td>13.818894</td>\n",
       "      <td>13.876534</td>\n",
       "      <td>18.276741</td>\n",
       "      <td>12.647405</td>\n",
       "      <td>11.764216</td>\n",
       "      <td>10.800578</td>\n",
       "      <td>13.192729</td>\n",
       "      <td>22.878857</td>\n",
       "      <td>13.310441</td>\n",
       "    </tr>\n",
       "    <tr>\n",
       "      <th>1</th>\n",
       "      <td>14.530835</td>\n",
       "      <td>13.381495</td>\n",
       "      <td>15.464442</td>\n",
       "      <td>14.129778</td>\n",
       "      <td>13.971864</td>\n",
       "      <td>18.659421</td>\n",
       "      <td>13.165388</td>\n",
       "      <td>11.861551</td>\n",
       "      <td>11.109085</td>\n",
       "      <td>13.203679</td>\n",
       "      <td>23.344065</td>\n",
       "      <td>13.896470</td>\n",
       "    </tr>\n",
       "    <tr>\n",
       "      <th>2</th>\n",
       "      <td>13.385717</td>\n",
       "      <td>12.991949</td>\n",
       "      <td>15.149081</td>\n",
       "      <td>12.969010</td>\n",
       "      <td>13.567277</td>\n",
       "      <td>17.312471</td>\n",
       "      <td>12.638519</td>\n",
       "      <td>10.962845</td>\n",
       "      <td>10.474208</td>\n",
       "      <td>12.225627</td>\n",
       "      <td>21.974538</td>\n",
       "      <td>13.535830</td>\n",
       "    </tr>\n",
       "    <tr>\n",
       "      <th>3</th>\n",
       "      <td>14.207629</td>\n",
       "      <td>14.228057</td>\n",
       "      <td>15.811273</td>\n",
       "      <td>13.844360</td>\n",
       "      <td>14.836823</td>\n",
       "      <td>18.265624</td>\n",
       "      <td>13.382747</td>\n",
       "      <td>12.128476</td>\n",
       "      <td>11.538615</td>\n",
       "      <td>13.467795</td>\n",
       "      <td>22.916958</td>\n",
       "      <td>14.308769</td>\n",
       "    </tr>\n",
       "    <tr>\n",
       "      <th>4</th>\n",
       "      <td>14.790869</td>\n",
       "      <td>14.853736</td>\n",
       "      <td>16.580027</td>\n",
       "      <td>14.423701</td>\n",
       "      <td>15.455946</td>\n",
       "      <td>18.727811</td>\n",
       "      <td>14.037109</td>\n",
       "      <td>12.581100</td>\n",
       "      <td>12.041808</td>\n",
       "      <td>13.883046</td>\n",
       "      <td>23.292161</td>\n",
       "      <td>15.016364</td>\n",
       "    </tr>\n",
       "    <tr>\n",
       "      <th>5</th>\n",
       "      <td>17.466587</td>\n",
       "      <td>18.376174</td>\n",
       "      <td>19.521969</td>\n",
       "      <td>17.113506</td>\n",
       "      <td>18.996034</td>\n",
       "      <td>21.345216</td>\n",
       "      <td>16.979630</td>\n",
       "      <td>15.566091</td>\n",
       "      <td>15.247850</td>\n",
       "      <td>16.922996</td>\n",
       "      <td>25.873570</td>\n",
       "      <td>18.112999</td>\n",
       "    </tr>\n",
       "  </tbody>\n",
       "</table>\n",
       "</div>"
      ],
      "text/plain": [
       "           dist_beijing  dist_guangzhou  dist_chengdu  dist_tianjin  \\\n",
       "age_group                                                             \n",
       "0             14.192881       13.231120     14.837340     13.818894   \n",
       "1             14.530835       13.381495     15.464442     14.129778   \n",
       "2             13.385717       12.991949     15.149081     12.969010   \n",
       "3             14.207629       14.228057     15.811273     13.844360   \n",
       "4             14.790869       14.853736     16.580027     14.423701   \n",
       "5             17.466587       18.376174     19.521969     17.113506   \n",
       "\n",
       "           dist_hongkong  dist_shenyang  dist_xian  dist_nanjing  dist_wuhan  \\\n",
       "age_group                                                                      \n",
       "0              13.876534      18.276741  12.647405     11.764216   10.800578   \n",
       "1              13.971864      18.659421  13.165388     11.861551   11.109085   \n",
       "2              13.567277      17.312471  12.638519     10.962845   10.474208   \n",
       "3              14.836823      18.265624  13.382747     12.128476   11.538615   \n",
       "4              15.455946      18.727811  14.037109     12.581100   12.041808   \n",
       "5              18.996034      21.345216  16.979630     15.566091   15.247850   \n",
       "\n",
       "           dist_shanghai  dist_harbin  dist_chongqing  \n",
       "age_group                                              \n",
       "0              13.192729    22.878857       13.310441  \n",
       "1              13.203679    23.344065       13.896470  \n",
       "2              12.225627    21.974538       13.535830  \n",
       "3              13.467795    22.916958       14.308769  \n",
       "4              13.883046    23.292161       15.016364  \n",
       "5              16.922996    25.873570       18.112999  "
      ]
     },
     "execution_count": 166,
     "metadata": {},
     "output_type": "execute_result"
    }
   ],
   "source": [
    "cnt = df_plot.groupby('age_group')[dist_cols].mean()\n",
    "cnt"
   ]
  },
  {
   "cell_type": "code",
   "execution_count": 167,
   "metadata": {
    "collapsed": false
   },
   "outputs": [
    {
     "data": {
      "text/plain": [
       "<matplotlib.axes._subplots.AxesSubplot at 0x1273e0590>"
      ]
     },
     "execution_count": 167,
     "metadata": {},
     "output_type": "execute_result"
    },
    {
     "data": {
      "image/png": "[encoded data removed]",
      "text/plain": [
       "<matplotlib.figure.Figure at 0x124792dd0>"
      ]
     },
     "metadata": {},
     "output_type": "display_data"
    }
   ],
   "source": [
    "cnt.T.plot(kind='barh', figsize=(6,9))"
   ]
  },
  {
   "cell_type": "code",
   "execution_count": 175,
   "metadata": {
    "collapsed": false
   },
   "outputs": [
    {
     "data": {
      "text/html": [
       "<div>\n",
       "<table border=\"1\" class=\"dataframe\">\n",
       "  <thead>\n",
       "    <tr style=\"text-align: right;\">\n",
       "      <th></th>\n",
       "      <th>dist_beijing</th>\n",
       "      <th>dist_guangzhou</th>\n",
       "      <th>dist_chengdu</th>\n",
       "      <th>dist_tianjin</th>\n",
       "      <th>dist_hongkong</th>\n",
       "      <th>dist_shenyang</th>\n",
       "      <th>dist_xian</th>\n",
       "      <th>dist_nanjing</th>\n",
       "      <th>dist_wuhan</th>\n",
       "      <th>dist_shanghai</th>\n",
       "      <th>dist_harbin</th>\n",
       "      <th>dist_chongqing</th>\n",
       "    </tr>\n",
       "    <tr>\n",
       "      <th>age_group</th>\n",
       "      <th></th>\n",
       "      <th></th>\n",
       "      <th></th>\n",
       "      <th></th>\n",
       "      <th></th>\n",
       "      <th></th>\n",
       "      <th></th>\n",
       "      <th></th>\n",
       "      <th></th>\n",
       "      <th></th>\n",
       "      <th></th>\n",
       "      <th></th>\n",
       "    </tr>\n",
       "  </thead>\n",
       "  <tbody>\n",
       "    <tr>\n",
       "      <th>0</th>\n",
       "      <td>18.934884</td>\n",
       "      <td>18.150146</td>\n",
       "      <td>16.484158</td>\n",
       "      <td>19.077820</td>\n",
       "      <td>18.194732</td>\n",
       "      <td>19.749189</td>\n",
       "      <td>17.370369</td>\n",
       "      <td>19.177372</td>\n",
       "      <td>18.375262</td>\n",
       "      <td>19.478835</td>\n",
       "      <td>19.865251</td>\n",
       "      <td>16.946776</td>\n",
       "    </tr>\n",
       "    <tr>\n",
       "      <th>1</th>\n",
       "      <td>20.522546</td>\n",
       "      <td>19.538647</td>\n",
       "      <td>17.677659</td>\n",
       "      <td>20.668833</td>\n",
       "      <td>19.601333</td>\n",
       "      <td>21.269714</td>\n",
       "      <td>18.789306</td>\n",
       "      <td>20.776952</td>\n",
       "      <td>19.854461</td>\n",
       "      <td>21.108574</td>\n",
       "      <td>21.313481</td>\n",
       "      <td>18.191687</td>\n",
       "    </tr>\n",
       "    <tr>\n",
       "      <th>2</th>\n",
       "      <td>18.261751</td>\n",
       "      <td>17.335048</td>\n",
       "      <td>15.605584</td>\n",
       "      <td>18.386224</td>\n",
       "      <td>17.404027</td>\n",
       "      <td>19.024260</td>\n",
       "      <td>16.491516</td>\n",
       "      <td>18.341894</td>\n",
       "      <td>17.458520</td>\n",
       "      <td>18.686656</td>\n",
       "      <td>19.101286</td>\n",
       "      <td>16.046892</td>\n",
       "    </tr>\n",
       "    <tr>\n",
       "      <th>3</th>\n",
       "      <td>20.997615</td>\n",
       "      <td>19.727021</td>\n",
       "      <td>17.970036</td>\n",
       "      <td>21.133436</td>\n",
       "      <td>19.779080</td>\n",
       "      <td>21.802484</td>\n",
       "      <td>19.087316</td>\n",
       "      <td>21.104014</td>\n",
       "      <td>20.154515</td>\n",
       "      <td>21.441067</td>\n",
       "      <td>21.857148</td>\n",
       "      <td>18.493339</td>\n",
       "    </tr>\n",
       "    <tr>\n",
       "      <th>4</th>\n",
       "      <td>22.346357</td>\n",
       "      <td>21.059972</td>\n",
       "      <td>19.123722</td>\n",
       "      <td>22.495199</td>\n",
       "      <td>21.105870</td>\n",
       "      <td>23.190808</td>\n",
       "      <td>20.422695</td>\n",
       "      <td>22.593894</td>\n",
       "      <td>21.631755</td>\n",
       "      <td>22.938153</td>\n",
       "      <td>23.281897</td>\n",
       "      <td>19.756952</td>\n",
       "    </tr>\n",
       "    <tr>\n",
       "      <th>5</th>\n",
       "      <td>28.602235</td>\n",
       "      <td>26.544243</td>\n",
       "      <td>24.224260</td>\n",
       "      <td>28.820225</td>\n",
       "      <td>26.574702</td>\n",
       "      <td>29.677022</td>\n",
       "      <td>26.145107</td>\n",
       "      <td>29.013670</td>\n",
       "      <td>27.717753</td>\n",
       "      <td>29.383746</td>\n",
       "      <td>29.729500</td>\n",
       "      <td>25.088311</td>\n",
       "    </tr>\n",
       "  </tbody>\n",
       "</table>\n",
       "</div>"
      ],
      "text/plain": [
       "           dist_beijing  dist_guangzhou  dist_chengdu  dist_tianjin  \\\n",
       "age_group                                                             \n",
       "0             18.934884       18.150146     16.484158     19.077820   \n",
       "1             20.522546       19.538647     17.677659     20.668833   \n",
       "2             18.261751       17.335048     15.605584     18.386224   \n",
       "3             20.997615       19.727021     17.970036     21.133436   \n",
       "4             22.346357       21.059972     19.123722     22.495199   \n",
       "5             28.602235       26.544243     24.224260     28.820225   \n",
       "\n",
       "           dist_hongkong  dist_shenyang  dist_xian  dist_nanjing  dist_wuhan  \\\n",
       "age_group                                                                      \n",
       "0              18.194732      19.749189  17.370369     19.177372   18.375262   \n",
       "1              19.601333      21.269714  18.789306     20.776952   19.854461   \n",
       "2              17.404027      19.024260  16.491516     18.341894   17.458520   \n",
       "3              19.779080      21.802484  19.087316     21.104014   20.154515   \n",
       "4              21.105870      23.190808  20.422695     22.593894   21.631755   \n",
       "5              26.574702      29.677022  26.145107     29.013670   27.717753   \n",
       "\n",
       "           dist_shanghai  dist_harbin  dist_chongqing  \n",
       "age_group                                              \n",
       "0              19.478835    19.865251       16.946776  \n",
       "1              21.108574    21.313481       18.191687  \n",
       "2              18.686656    19.101286       16.046892  \n",
       "3              21.441067    21.857148       18.493339  \n",
       "4              22.938153    23.281897       19.756952  \n",
       "5              29.383746    29.729500       25.088311  "
      ]
     },
     "execution_count": 175,
     "metadata": {},
     "output_type": "execute_result"
    }
   ],
   "source": [
    "# So women are in general further away from cities (are more spread out)\n",
    "cnt = df_plot.groupby('age_group')[dist_cols].std()\n",
    "cnt"
   ]
  },
  {
   "cell_type": "code",
   "execution_count": 176,
   "metadata": {
    "collapsed": false
   },
   "outputs": [
    {
     "data": {
      "text/plain": [
       "<matplotlib.text.Text at 0x126a85bd0>"
      ]
     },
     "execution_count": 176,
     "metadata": {},
     "output_type": "execute_result"
    },
    {
     "data": {
      "image/png": "[encoded data removed]",
      "text/plain": [
       "<matplotlib.figure.Figure at 0x1275ae1d0>"
      ]
     },
     "metadata": {},
     "output_type": "display_data"
    }
   ],
   "source": [
    "cnt.T.plot(kind='barh', figsize=(6,9))\n",
    "plt.title('std of distance to major cities')"
   ]
  },
  {
   "cell_type": "markdown",
   "metadata": {},
   "source": [
    "### Validate distance to per gender"
   ]
  },
  {
   "cell_type": "code",
   "execution_count": 168,
   "metadata": {
    "collapsed": false,
    "scrolled": true
   },
   "outputs": [
    {
     "data": {
      "text/html": [
       "<div>\n",
       "<table border=\"1\" class=\"dataframe\">\n",
       "  <thead>\n",
       "    <tr style=\"text-align: right;\">\n",
       "      <th></th>\n",
       "      <th>dist_beijing</th>\n",
       "      <th>dist_guangzhou</th>\n",
       "      <th>dist_chengdu</th>\n",
       "      <th>dist_tianjin</th>\n",
       "      <th>dist_hongkong</th>\n",
       "      <th>dist_shenyang</th>\n",
       "      <th>dist_xian</th>\n",
       "      <th>dist_nanjing</th>\n",
       "      <th>dist_wuhan</th>\n",
       "      <th>dist_shanghai</th>\n",
       "      <th>dist_harbin</th>\n",
       "      <th>dist_chongqing</th>\n",
       "    </tr>\n",
       "    <tr>\n",
       "      <th>gender</th>\n",
       "      <th></th>\n",
       "      <th></th>\n",
       "      <th></th>\n",
       "      <th></th>\n",
       "      <th></th>\n",
       "      <th></th>\n",
       "      <th></th>\n",
       "      <th></th>\n",
       "      <th></th>\n",
       "      <th></th>\n",
       "      <th></th>\n",
       "      <th></th>\n",
       "    </tr>\n",
       "  </thead>\n",
       "  <tbody>\n",
       "    <tr>\n",
       "      <th>F</th>\n",
       "      <td>14.491688</td>\n",
       "      <td>15.633744</td>\n",
       "      <td>16.761039</td>\n",
       "      <td>14.15616</td>\n",
       "      <td>16.277527</td>\n",
       "      <td>18.469892</td>\n",
       "      <td>14.056617</td>\n",
       "      <td>12.840139</td>\n",
       "      <td>12.373107</td>\n",
       "      <td>14.239723</td>\n",
       "      <td>23.013119</td>\n",
       "      <td>15.282383</td>\n",
       "    </tr>\n",
       "    <tr>\n",
       "      <th>M</th>\n",
       "      <td>15.086384</td>\n",
       "      <td>14.361172</td>\n",
       "      <td>16.283271</td>\n",
       "      <td>14.69305</td>\n",
       "      <td>14.952910</td>\n",
       "      <td>19.091114</td>\n",
       "      <td>13.963419</td>\n",
       "      <td>12.571874</td>\n",
       "      <td>11.929285</td>\n",
       "      <td>13.883204</td>\n",
       "      <td>23.727718</td>\n",
       "      <td>14.737672</td>\n",
       "    </tr>\n",
       "  </tbody>\n",
       "</table>\n",
       "</div>"
      ],
      "text/plain": [
       "        dist_beijing  dist_guangzhou  dist_chengdu  dist_tianjin  \\\n",
       "gender                                                             \n",
       "F          14.491688       15.633744     16.761039      14.15616   \n",
       "M          15.086384       14.361172     16.283271      14.69305   \n",
       "\n",
       "        dist_hongkong  dist_shenyang  dist_xian  dist_nanjing  dist_wuhan  \\\n",
       "gender                                                                      \n",
       "F           16.277527      18.469892  14.056617     12.840139   12.373107   \n",
       "M           14.952910      19.091114  13.963419     12.571874   11.929285   \n",
       "\n",
       "        dist_shanghai  dist_harbin  dist_chongqing  \n",
       "gender                                              \n",
       "F           14.239723    23.013119       15.282383  \n",
       "M           13.883204    23.727718       14.737672  "
      ]
     },
     "execution_count": 168,
     "metadata": {},
     "output_type": "execute_result"
    }
   ],
   "source": [
    "cnt = df_plot.groupby('gender')[dist_cols].mean()\n",
    "cnt"
   ]
  },
  {
   "cell_type": "code",
   "execution_count": 169,
   "metadata": {
    "collapsed": false
   },
   "outputs": [
    {
     "data": {
      "text/plain": [
       "<matplotlib.axes._subplots.AxesSubplot at 0x12a30bfd0>"
      ]
     },
     "execution_count": 169,
     "metadata": {},
     "output_type": "execute_result"
    },
    {
     "data": {
      "image/png": "[encoded data removed]",
      "text/plain": [
       "<matplotlib.figure.Figure at 0x12a340590>"
      ]
     },
     "metadata": {},
     "output_type": "display_data"
    }
   ],
   "source": [
    "cnt.T.plot(kind='barh', figsize=(6,9))"
   ]
  },
  {
   "cell_type": "code",
   "execution_count": 177,
   "metadata": {
    "collapsed": false
   },
   "outputs": [
    {
     "data": {
      "text/html": [
       "<div>\n",
       "<table border=\"1\" class=\"dataframe\">\n",
       "  <thead>\n",
       "    <tr style=\"text-align: right;\">\n",
       "      <th></th>\n",
       "      <th>dist_beijing</th>\n",
       "      <th>dist_guangzhou</th>\n",
       "      <th>dist_chengdu</th>\n",
       "      <th>dist_tianjin</th>\n",
       "      <th>dist_hongkong</th>\n",
       "      <th>dist_shenyang</th>\n",
       "      <th>dist_xian</th>\n",
       "      <th>dist_nanjing</th>\n",
       "      <th>dist_wuhan</th>\n",
       "      <th>dist_shanghai</th>\n",
       "      <th>dist_harbin</th>\n",
       "      <th>dist_chongqing</th>\n",
       "    </tr>\n",
       "    <tr>\n",
       "      <th>gender</th>\n",
       "      <th></th>\n",
       "      <th></th>\n",
       "      <th></th>\n",
       "      <th></th>\n",
       "      <th></th>\n",
       "      <th></th>\n",
       "      <th></th>\n",
       "      <th></th>\n",
       "      <th></th>\n",
       "      <th></th>\n",
       "      <th></th>\n",
       "      <th></th>\n",
       "    </tr>\n",
       "  </thead>\n",
       "  <tbody>\n",
       "    <tr>\n",
       "      <th>F</th>\n",
       "      <td>22.952082</td>\n",
       "      <td>21.356225</td>\n",
       "      <td>19.556919</td>\n",
       "      <td>23.102008</td>\n",
       "      <td>21.383221</td>\n",
       "      <td>23.825943</td>\n",
       "      <td>20.922475</td>\n",
       "      <td>23.084733</td>\n",
       "      <td>22.094096</td>\n",
       "      <td>23.398817</td>\n",
       "      <td>23.924684</td>\n",
       "      <td>20.190727</td>\n",
       "    </tr>\n",
       "    <tr>\n",
       "      <th>M</th>\n",
       "      <td>22.118674</td>\n",
       "      <td>20.976286</td>\n",
       "      <td>18.994647</td>\n",
       "      <td>22.281942</td>\n",
       "      <td>21.032029</td>\n",
       "      <td>22.963189</td>\n",
       "      <td>20.240873</td>\n",
       "      <td>22.431494</td>\n",
       "      <td>21.446282</td>\n",
       "      <td>22.780179</td>\n",
       "      <td>23.015091</td>\n",
       "      <td>19.594707</td>\n",
       "    </tr>\n",
       "  </tbody>\n",
       "</table>\n",
       "</div>"
      ],
      "text/plain": [
       "        dist_beijing  dist_guangzhou  dist_chengdu  dist_tianjin  \\\n",
       "gender                                                             \n",
       "F          22.952082       21.356225     19.556919     23.102008   \n",
       "M          22.118674       20.976286     18.994647     22.281942   \n",
       "\n",
       "        dist_hongkong  dist_shenyang  dist_xian  dist_nanjing  dist_wuhan  \\\n",
       "gender                                                                      \n",
       "F           21.383221      23.825943  20.922475     23.084733   22.094096   \n",
       "M           21.032029      22.963189  20.240873     22.431494   21.446282   \n",
       "\n",
       "        dist_shanghai  dist_harbin  dist_chongqing  \n",
       "gender                                              \n",
       "F           23.398817    23.924684       20.190727  \n",
       "M           22.780179    23.015091       19.594707  "
      ]
     },
     "execution_count": 177,
     "metadata": {},
     "output_type": "execute_result"
    }
   ],
   "source": [
    "cnt = df_plot.groupby('gender')[dist_cols].std()\n",
    "cnt"
   ]
  },
  {
   "cell_type": "code",
   "execution_count": 178,
   "metadata": {
    "collapsed": false
   },
   "outputs": [
    {
     "data": {
      "text/plain": [
       "<matplotlib.text.Text at 0x129c22850>"
      ]
     },
     "execution_count": 178,
     "metadata": {},
     "output_type": "execute_result"
    },
    {
     "data": {
      "image/png": "[encoded data removed]",
      "text/plain": [
       "<matplotlib.figure.Figure at 0x127251d10>"
      ]
     },
     "metadata": {},
     "output_type": "display_data"
    }
   ],
   "source": [
    "cnt.T.plot(kind='barh', figsize=(6,9))\n",
    "plt.title('std of distance to major cities')"
   ]
  },
  {
   "cell_type": "code",
   "execution_count": null,
   "metadata": {
    "collapsed": true
   },
   "outputs": [],
   "source": []
  }
 ],
 "metadata": {
  "kernelspec": {
   "display_name": "Python 2",
   "language": "python",
   "name": "python2"
  },
  "language_info": {
   "codemirror_mode": {
    "name": "ipython",
    "version": 2
   },
   "file_extension": ".py",
   "mimetype": "text/x-python",
   "name": "python",
   "nbconvert_exporter": "python",
   "pygments_lexer": "ipython2",
   "version": "2.7.11"
  }
 },
 "nbformat": 4,
 "nbformat_minor": 0
}
