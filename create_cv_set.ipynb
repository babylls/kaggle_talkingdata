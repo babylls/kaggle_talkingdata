{
 "cells": [
  {
   "cell_type": "markdown",
   "metadata": {},
   "source": [
    "# Create cross validation set\n",
    "This notebook generates cross-validation datasets used by all algorithms, making sure the set are well-balanced in terms of events and label.\n",
    "\n",
    "History:\n",
    " - V1 Based on https://www.kaggle.com/c/talkingdata-mobile-user-demographics/forums/t/22410/best-single-model?page=2"
   ]
  },
  {
   "cell_type": "code",
   "execution_count": 1,
   "metadata": {
    "collapsed": true
   },
   "outputs": [],
   "source": [
    "import os\n",
    "\n",
    "import pandas as pd\n",
    "import numpy as np\n",
    "\n",
    "from sklearn.cross_validation import train_test_split"
   ]
  },
  {
   "cell_type": "code",
   "execution_count": 2,
   "metadata": {
    "collapsed": true
   },
   "outputs": [],
   "source": [
    "rs = 1974\n",
    "\n",
    "dir_in = 'data_ori'\n",
    "dir_out = 'data_ori'\n",
    "\n",
    "test_size = 0.1"
   ]
  },
  {
   "cell_type": "markdown",
   "metadata": {},
   "source": [
    "### Load full training data set"
   ]
  },
  {
   "cell_type": "code",
   "execution_count": 3,
   "metadata": {
    "collapsed": true
   },
   "outputs": [],
   "source": [
    "train = pd.read_csv(os.path.join(dir_in,'gender_age_train.csv'), dtype={'device_id': np.str})\n",
    "train['sample_nr'] = train.index\n",
    "\n",
    "test = pd.read_csv(os.path.join(dir_in,'gender_age_test.csv'), dtype={'device_id': np.str})\n",
    "test['sample_nr'] = test.index\n",
    "\n",
    "events = pd.read_csv(os.path.join(dir_in,'events.csv'), dtype={'device_id': np.str})\n",
    "unique_device_id = events.device_id.unique()"
   ]
  },
  {
   "cell_type": "markdown",
   "metadata": {},
   "source": [
    "### Create CV sets for all devices\n",
    "Create train and test set with balanced amount of events and groups."
   ]
  },
  {
   "cell_type": "code",
   "execution_count": 4,
   "metadata": {
    "collapsed": false
   },
   "outputs": [],
   "source": [
    "# Find devices with (1) and without (2) events\n",
    "index1 = train.device_id.isin(unique_device_id)\n",
    "index2 = [not i for i in index1]\n",
    "\n",
    "train1 = train[index1].sort_values(by='device_id').reset_index(drop=True)\n",
    "train2 = train[index2].sort_values(by='device_id').reset_index(drop=True)\n",
    "\n",
    "# Split sets with and without events into training and test\n",
    "train1, test1 = train_test_split(train1, \n",
    "                                 test_size=test_size, \n",
    "                                 random_state=rs,     \n",
    "                                 stratify=train1['group'].values)\n",
    "train2, test2 = train_test_split(train2, \n",
    "                                 test_size=test_size - 0.001, \n",
    "                                 random_state=rs, \n",
    "                                 stratify=train2['group'].values)\n",
    "\n",
    "# Combine devices with and without events\n",
    "train = pd.concat([train1, train2], ignore_index=True) \\\n",
    "          .sort_values(by='device_id').reset_index(drop=True)\n",
    "test = pd.concat([test1, test2], ignore_index=True) \\\n",
    "         .sort_values(by='device_id').reset_index(drop=True)"
   ]
  },
  {
   "cell_type": "code",
   "execution_count": 9,
   "metadata": {
    "collapsed": false
   },
   "outputs": [
    {
     "name": "stdout",
     "output_type": "stream",
     "text": [
      "train: (67229, 5)\n",
      "test: (7416, 5)\n"
     ]
    }
   ],
   "source": [
    "print 'train:', train.shape\n",
    "print 'test:', test.shape"
   ]
  },
  {
   "cell_type": "code",
   "execution_count": 10,
   "metadata": {
    "collapsed": false
   },
   "outputs": [],
   "source": [
    "# Store results so all other scripts can access it\n",
    "train.to_csv(os.path.join(dir_out, 'gender_age_train_cv.csv'), index = False)\n",
    "test.to_csv(os.path.join(dir_out, 'gender_age_test_cv.csv'), index = False)"
   ]
  },
  {
   "cell_type": "markdown",
   "metadata": {
    "collapsed": true
   },
   "source": [
    "### Create CV sets for events only\n",
    "Create train and test sets based only on devices with events."
   ]
  },
  {
   "cell_type": "code",
   "execution_count": 11,
   "metadata": {
    "collapsed": true
   },
   "outputs": [],
   "source": [
    "# Select devices with events\n",
    "train_w = train.loc[train['device_id'] \\\n",
    "                    .isin(set(train['device_id']) \\\n",
    "                          .intersection(events['device_id'].unique()))]"
   ]
  },
  {
   "cell_type": "code",
   "execution_count": 12,
   "metadata": {
    "collapsed": false
   },
   "outputs": [],
   "source": [
    "# Split (stratified) randomly \n",
    "train_w, test_w = train_test_split(train_w, \n",
    "                                   test_size=test_size, \n",
    "                                   random_state=rs, \n",
    "                                   stratify=train_w['group'].values)"
   ]
  },
  {
   "cell_type": "code",
   "execution_count": 13,
   "metadata": {
    "collapsed": true
   },
   "outputs": [],
   "source": [
    "# Store results so all other scripts can access it\n",
    "train_w.to_csv(os.path.join(dir_out, 'gender_age_train_cv_w.csv'), index = False)\n",
    "test_w.to_csv(os.path.join(dir_out, 'gender_age_test_cv_w.csv'), index = False)"
   ]
  },
  {
   "cell_type": "code",
   "execution_count": 4,
   "metadata": {
    "collapsed": true
   },
   "outputs": [],
   "source": [
    "val_w = test.loc[test['device_id'] \\\n",
    "                    .isin(set(test['device_id']) \\\n",
    "                          .intersection(events['device_id'].unique()))]\n",
    "val_w.to_csv(os.path.join(dir_out, 'gender_age_val_cv_w.csv'), index = False)"
   ]
  },
  {
   "cell_type": "code",
   "execution_count": 5,
   "metadata": {
    "collapsed": false
   },
   "outputs": [
    {
     "data": {
      "text/plain": [
       "(60865,)"
      ]
     },
     "execution_count": 5,
     "metadata": {},
     "output_type": "execute_result"
    }
   ],
   "source": [
    "events['device_id'].unique().shape"
   ]
  },
  {
   "cell_type": "code",
   "execution_count": null,
   "metadata": {
    "collapsed": true
   },
   "outputs": [],
   "source": []
  }
 ],
 "metadata": {
  "kernelspec": {
   "display_name": "Python 2",
   "language": "python",
   "name": "python2"
  },
  "language_info": {
   "codemirror_mode": {
    "name": "ipython",
    "version": 2
   },
   "file_extension": ".py",
   "mimetype": "text/x-python",
   "name": "python",
   "nbconvert_exporter": "python",
   "pygments_lexer": "ipython2",
   "version": "2.7.11"
  }
 },
 "nbformat": 4,
 "nbformat_minor": 0
}
