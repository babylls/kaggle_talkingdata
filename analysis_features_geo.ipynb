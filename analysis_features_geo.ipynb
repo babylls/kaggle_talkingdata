{
 "cells": [
  {
   "cell_type": "markdown",
   "metadata": {},
   "source": [
    "# Analyze geolocation\n",
    "To do:\n",
    "- Analyze variance per device_id -> select location where most often found"
   ]
  },
  {
   "cell_type": "code",
   "execution_count": 191,
   "metadata": {
    "collapsed": false
   },
   "outputs": [],
   "source": [
    "import os\n",
    "import math\n",
    "\n",
    "import pandas as pd\n",
    "import numpy as np\n",
    "\n",
    "import seaborn as sns \n",
    "import matplotlib.pyplot as plt\n",
    "from mpl_toolkits.basemap import Basemap\n",
    "\n",
    "%matplotlib inline\n",
    "\n",
    "dir_in = './data_ori/'\n",
    "dir_out = './data/'"
   ]
  },
  {
   "cell_type": "code",
   "execution_count": 155,
   "metadata": {
    "collapsed": true
   },
   "outputs": [],
   "source": [
    "events = pd.read_csv(dir_in + 'events.csv')\n",
    "\n",
    "# From http://www.tageo.com/index-e-ch-cities-CN.htm\n",
    "gps_cities = {}\n",
    "gps_cities['beijing'] = (39.93, 116.4) #\n",
    "gps_cities['wuhan'] = (30.58, 114.27) #\n",
    "gps_cities['chengdu'] = (30.670, 104.07)#\n",
    "gps_cities['tianjin'] = (39.130, 117.20)#\n",
    "gps_cities['shenyang'] = (41.800, 123.450)#\n",
    "gps_cities['xian'] = (34.270, 108.900) #\n",
    "gps_cities['guangzhou'] = (23.120, 113.250) # Canton\n",
    "gps_cities['harbin'] = (45.750, 126.650)\n",
    "gps_cities['chongqing'] = (29.57, 106.58) #\n",
    "gps_cities['hongkong'] = (22.20, 114.10) #\n",
    "gps_cities['nanjing'] = (32.050, 118.78)\n",
    "gps_cities['shanghai'] = (31.230, 121.470) #"
   ]
  },
  {
   "cell_type": "code",
   "execution_count": 156,
   "metadata": {
    "collapsed": false
   },
   "outputs": [
    {
     "name": "stdout",
     "output_type": "stream",
     "text": [
      "['close_to_beijing', 'close_to_guangzhou', 'close_to_chengdu', 'close_to_tianjin', 'close_to_hongkong', 'close_to_shenyang', 'close_to_xian', 'close_to_nanjing', 'close_to_wuhan', 'close_to_shanghai', 'close_to_harbin', 'close_to_chongqing']\n"
     ]
    }
   ],
   "source": [
    "dist_cols = ['dist_' + k for k in gps_cities.keys()]\n",
    "close_to_cols = ['close_to_' + k for k in gps_cities.keys()]\n",
    "print close_to_cols"
   ]
  },
  {
   "cell_type": "markdown",
   "metadata": {},
   "source": [
    "### Calculate per device home and relative number of events at home\n",
    "Home is calculated by the most common longitude coordinate\n",
    "Work is estimated by the second most common longitude coordinate"
   ]
  },
  {
   "cell_type": "code",
   "execution_count": 157,
   "metadata": {
    "collapsed": false
   },
   "outputs": [
    {
     "name": "stdout",
     "output_type": "stream",
     "text": [
      "(2282649, 5)\n"
     ]
    },
    {
     "data": {
      "text/plain": [
       "device_id             longitude\n",
       "-9222956879900151005  113.2         52\n",
       "-9221825537663503111  113.5         50\n",
       "                      113.4         43\n",
       "                      113.8          5\n",
       "-9221026417907250887  114.4        132\n",
       "dtype: int64"
      ]
     },
     "execution_count": 157,
     "metadata": {},
     "output_type": "execute_result"
    }
   ],
   "source": [
    "events_no0 = events[(events.longitude>0) & (events.latitude>0)].round(1)\n",
    "print events_no0.shape\n",
    "events_no0.groupby(['device_id'])['longitude'].value_counts().head()"
   ]
  },
  {
   "cell_type": "code",
   "execution_count": 158,
   "metadata": {
    "collapsed": false
   },
   "outputs": [
    {
     "name": "stdout",
     "output_type": "stream",
     "text": [
      "(30674, 2)\n"
     ]
    },
    {
     "data": {
      "text/html": [
       "<div>\n",
       "<table border=\"1\" class=\"dataframe\">\n",
       "  <thead>\n",
       "    <tr style=\"text-align: right;\">\n",
       "      <th></th>\n",
       "      <th>device_id</th>\n",
       "      <th>longitude</th>\n",
       "    </tr>\n",
       "  </thead>\n",
       "  <tbody>\n",
       "    <tr>\n",
       "      <th>0</th>\n",
       "      <td>-9222956879900151005</td>\n",
       "      <td>1</td>\n",
       "    </tr>\n",
       "    <tr>\n",
       "      <th>1</th>\n",
       "      <td>-9221825537663503111</td>\n",
       "      <td>3</td>\n",
       "    </tr>\n",
       "    <tr>\n",
       "      <th>2</th>\n",
       "      <td>-9221026417907250887</td>\n",
       "      <td>1</td>\n",
       "    </tr>\n",
       "    <tr>\n",
       "      <th>3</th>\n",
       "      <td>-9220452176650064280</td>\n",
       "      <td>1</td>\n",
       "    </tr>\n",
       "    <tr>\n",
       "      <th>4</th>\n",
       "      <td>-9220061629197656378</td>\n",
       "      <td>2</td>\n",
       "    </tr>\n",
       "  </tbody>\n",
       "</table>\n",
       "</div>"
      ],
      "text/plain": [
       "             device_id  longitude\n",
       "0 -9222956879900151005          1\n",
       "1 -9221825537663503111          3\n",
       "2 -9221026417907250887          1\n",
       "3 -9220452176650064280          1\n",
       "4 -9220061629197656378          2"
      ]
     },
     "execution_count": 158,
     "metadata": {},
     "output_type": "execute_result"
    }
   ],
   "source": [
    "n_locations = events_no0.groupby(['device_id'])['longitude'].nunique().reset_index()\n",
    "print n_locations.shape\n",
    "n_locations.head()"
   ]
  },
  {
   "cell_type": "code",
   "execution_count": 159,
   "metadata": {
    "collapsed": false
   },
   "outputs": [
    {
     "name": "stdout",
     "output_type": "stream",
     "text": [
      "(30674, 2)\n"
     ]
    },
    {
     "data": {
      "text/html": [
       "<div>\n",
       "<table border=\"1\" class=\"dataframe\">\n",
       "  <thead>\n",
       "    <tr style=\"text-align: right;\">\n",
       "      <th></th>\n",
       "      <th>longitude</th>\n",
       "      <th>0</th>\n",
       "    </tr>\n",
       "    <tr>\n",
       "      <th>device_id</th>\n",
       "      <th></th>\n",
       "      <th></th>\n",
       "    </tr>\n",
       "  </thead>\n",
       "  <tbody>\n",
       "    <tr>\n",
       "      <th>-9222956879900151005</th>\n",
       "      <td>113.2</td>\n",
       "      <td>52</td>\n",
       "    </tr>\n",
       "    <tr>\n",
       "      <th>-9221825537663503111</th>\n",
       "      <td>113.5</td>\n",
       "      <td>50</td>\n",
       "    </tr>\n",
       "    <tr>\n",
       "      <th>-9221026417907250887</th>\n",
       "      <td>114.4</td>\n",
       "      <td>132</td>\n",
       "    </tr>\n",
       "    <tr>\n",
       "      <th>-9220452176650064280</th>\n",
       "      <td>1.0</td>\n",
       "      <td>29</td>\n",
       "    </tr>\n",
       "    <tr>\n",
       "      <th>-9220061629197656378</th>\n",
       "      <td>124.9</td>\n",
       "      <td>32</td>\n",
       "    </tr>\n",
       "  </tbody>\n",
       "</table>\n",
       "</div>"
      ],
      "text/plain": [
       "                      longitude    0\n",
       "device_id                           \n",
       "-9222956879900151005      113.2   52\n",
       "-9221825537663503111      113.5   50\n",
       "-9221026417907250887      114.4  132\n",
       "-9220452176650064280        1.0   29\n",
       "-9220061629197656378      124.9   32"
      ]
     },
     "execution_count": 159,
     "metadata": {},
     "output_type": "execute_result"
    }
   ],
   "source": [
    "home=events_no0.groupby(['device_id'])['longitude'].value_counts().reset_index().groupby(['device_id']).first()\n",
    "print home.shape\n",
    "home.head()"
   ]
  },
  {
   "cell_type": "code",
   "execution_count": 160,
   "metadata": {
    "collapsed": false
   },
   "outputs": [
    {
     "data": {
      "text/plain": [
       "device_id\n",
       "-9222956879900151005     52\n",
       "-9221825537663503111     98\n",
       "-9221026417907250887    132\n",
       "-9220452176650064280     29\n",
       "-9220061629197656378     39\n",
       "dtype: int64"
      ]
     },
     "execution_count": 160,
     "metadata": {},
     "output_type": "execute_result"
    }
   ],
   "source": [
    "n_events = events_no0.groupby(['device_id']).size()\n",
    "n_events.head()"
   ]
  },
  {
   "cell_type": "code",
   "execution_count": 161,
   "metadata": {
    "collapsed": false
   },
   "outputs": [
    {
     "data": {
      "text/plain": [
       "device_id\n",
       "-9222956879900151005    1.000000\n",
       "-9221825537663503111    0.510204\n",
       "-9221026417907250887    1.000000\n",
       "-9220452176650064280    1.000000\n",
       "-9220061629197656378    0.820513\n",
       "dtype: float64"
      ]
     },
     "execution_count": 161,
     "metadata": {},
     "output_type": "execute_result"
    }
   ],
   "source": [
    "r_home = home[0].div(n_events, axis=0)\n",
    "r_home.head()"
   ]
  },
  {
   "cell_type": "code",
   "execution_count": 162,
   "metadata": {
    "collapsed": false
   },
   "outputs": [
    {
     "name": "stdout",
     "output_type": "stream",
     "text": [
      "(11284, 2)\n"
     ]
    },
    {
     "data": {
      "text/html": [
       "<div>\n",
       "<table border=\"1\" class=\"dataframe\">\n",
       "  <thead>\n",
       "    <tr style=\"text-align: right;\">\n",
       "      <th></th>\n",
       "      <th>0</th>\n",
       "      <th>longitude</th>\n",
       "    </tr>\n",
       "    <tr>\n",
       "      <th>device_id</th>\n",
       "      <th></th>\n",
       "      <th></th>\n",
       "    </tr>\n",
       "  </thead>\n",
       "  <tbody>\n",
       "    <tr>\n",
       "      <th>-9221825537663503111</th>\n",
       "      <td>43</td>\n",
       "      <td>113.4</td>\n",
       "    </tr>\n",
       "    <tr>\n",
       "      <th>-9220061629197656378</th>\n",
       "      <td>7</td>\n",
       "      <td>124.8</td>\n",
       "    </tr>\n",
       "    <tr>\n",
       "      <th>-9220053820290758471</th>\n",
       "      <td>9</td>\n",
       "      <td>114.2</td>\n",
       "    </tr>\n",
       "    <tr>\n",
       "      <th>-9215722913042087294</th>\n",
       "      <td>96</td>\n",
       "      <td>121.4</td>\n",
       "    </tr>\n",
       "    <tr>\n",
       "      <th>-9213411371629884254</th>\n",
       "      <td>3</td>\n",
       "      <td>117.1</td>\n",
       "    </tr>\n",
       "  </tbody>\n",
       "</table>\n",
       "</div>"
      ],
      "text/plain": [
       "                       0  longitude\n",
       "device_id                          \n",
       "-9221825537663503111  43      113.4\n",
       "-9220061629197656378   7      124.8\n",
       "-9220053820290758471   9      114.2\n",
       "-9215722913042087294  96      121.4\n",
       "-9213411371629884254   3      117.1"
      ]
     },
     "execution_count": 162,
     "metadata": {},
     "output_type": "execute_result"
    }
   ],
   "source": [
    "work=events_no0.groupby(['device_id'])['longitude'].value_counts().reset_index().groupby(['device_id']).nth(1)\n",
    "print work.shape\n",
    "work.head()"
   ]
  },
  {
   "cell_type": "code",
   "execution_count": 163,
   "metadata": {
    "collapsed": false
   },
   "outputs": [
    {
     "data": {
      "text/plain": [
       "device_id\n",
       "-9222956879900151005    0.000000\n",
       "-9221825537663503111    0.438776\n",
       "-9221026417907250887    0.000000\n",
       "-9220452176650064280    0.000000\n",
       "-9220061629197656378    0.179487\n",
       "dtype: float64"
      ]
     },
     "execution_count": 163,
     "metadata": {},
     "output_type": "execute_result"
    }
   ],
   "source": [
    "r_work = work[0].div(n_events, axis=0)\n",
    "r_work.fillna(0, inplace=True)\n",
    "r_work.head()"
   ]
  },
  {
   "cell_type": "code",
   "execution_count": 164,
   "metadata": {
    "collapsed": false
   },
   "outputs": [],
   "source": [
    "events.set_index('device_id', inplace=True)"
   ]
  },
  {
   "cell_type": "code",
   "execution_count": 165,
   "metadata": {
    "collapsed": false
   },
   "outputs": [],
   "source": [
    "events['home'] = home['longitude']\n",
    "events['r_home'] = r_home\n",
    "events['work'] = work['longitude']\n",
    "events['r_work'] = r_work"
   ]
  },
  {
   "cell_type": "code",
   "execution_count": 166,
   "metadata": {
    "collapsed": false
   },
   "outputs": [
    {
     "data": {
      "text/html": [
       "<div>\n",
       "<table border=\"1\" class=\"dataframe\">\n",
       "  <thead>\n",
       "    <tr style=\"text-align: right;\">\n",
       "      <th></th>\n",
       "      <th>event_id</th>\n",
       "      <th>timestamp</th>\n",
       "      <th>longitude</th>\n",
       "      <th>latitude</th>\n",
       "      <th>home</th>\n",
       "      <th>r_home</th>\n",
       "      <th>work</th>\n",
       "      <th>r_work</th>\n",
       "    </tr>\n",
       "    <tr>\n",
       "      <th>device_id</th>\n",
       "      <th></th>\n",
       "      <th></th>\n",
       "      <th></th>\n",
       "      <th></th>\n",
       "      <th></th>\n",
       "      <th></th>\n",
       "      <th></th>\n",
       "      <th></th>\n",
       "    </tr>\n",
       "  </thead>\n",
       "  <tbody>\n",
       "    <tr>\n",
       "      <th>5098778421671837341</th>\n",
       "      <td>960958</td>\n",
       "      <td>2016-05-04 15:26:36</td>\n",
       "      <td>112.56</td>\n",
       "      <td>33.00</td>\n",
       "      <td>112.6</td>\n",
       "      <td>0.766415</td>\n",
       "      <td>112.5</td>\n",
       "      <td>0.233585</td>\n",
       "    </tr>\n",
       "    <tr>\n",
       "      <th>2924557770001720646</th>\n",
       "      <td>235695</td>\n",
       "      <td>2016-05-07 20:06:54</td>\n",
       "      <td>0.00</td>\n",
       "      <td>0.00</td>\n",
       "      <td>114.4</td>\n",
       "      <td>1.000000</td>\n",
       "      <td>NaN</td>\n",
       "      <td>0.000000</td>\n",
       "    </tr>\n",
       "    <tr>\n",
       "      <th>-5196196551075293756</th>\n",
       "      <td>1366802</td>\n",
       "      <td>2016-05-04 11:40:48</td>\n",
       "      <td>119.45</td>\n",
       "      <td>35.42</td>\n",
       "      <td>119.5</td>\n",
       "      <td>0.564870</td>\n",
       "      <td>119.4</td>\n",
       "      <td>0.369261</td>\n",
       "    </tr>\n",
       "    <tr>\n",
       "      <th>5544032646057692655</th>\n",
       "      <td>2016353</td>\n",
       "      <td>2016-05-04 07:34:58</td>\n",
       "      <td>0.00</td>\n",
       "      <td>0.00</td>\n",
       "      <td>113.2</td>\n",
       "      <td>0.952381</td>\n",
       "      <td>113.3</td>\n",
       "      <td>0.047619</td>\n",
       "    </tr>\n",
       "    <tr>\n",
       "      <th>-6216864668208339353</th>\n",
       "      <td>1641712</td>\n",
       "      <td>2016-05-07 09:09:29</td>\n",
       "      <td>112.71</td>\n",
       "      <td>34.64</td>\n",
       "      <td>112.7</td>\n",
       "      <td>1.000000</td>\n",
       "      <td>NaN</td>\n",
       "      <td>0.000000</td>\n",
       "    </tr>\n",
       "    <tr>\n",
       "      <th>4608843106719019589</th>\n",
       "      <td>1004698</td>\n",
       "      <td>2016-05-03 06:10:42</td>\n",
       "      <td>113.24</td>\n",
       "      <td>35.26</td>\n",
       "      <td>113.2</td>\n",
       "      <td>1.000000</td>\n",
       "      <td>NaN</td>\n",
       "      <td>0.000000</td>\n",
       "    </tr>\n",
       "    <tr>\n",
       "      <th>8442098452928962575</th>\n",
       "      <td>1070204</td>\n",
       "      <td>2016-05-06 17:15:28</td>\n",
       "      <td>113.64</td>\n",
       "      <td>22.96</td>\n",
       "      <td>113.6</td>\n",
       "      <td>1.000000</td>\n",
       "      <td>NaN</td>\n",
       "      <td>0.000000</td>\n",
       "    </tr>\n",
       "    <tr>\n",
       "      <th>-7250168333818636477</th>\n",
       "      <td>1624165</td>\n",
       "      <td>2016-05-05 22:07:35</td>\n",
       "      <td>106.31</td>\n",
       "      <td>38.51</td>\n",
       "      <td>106.3</td>\n",
       "      <td>0.880478</td>\n",
       "      <td>106.2</td>\n",
       "      <td>0.119522</td>\n",
       "    </tr>\n",
       "    <tr>\n",
       "      <th>-7146523025031567409</th>\n",
       "      <td>2646118</td>\n",
       "      <td>2016-05-01 10:51:16</td>\n",
       "      <td>0.00</td>\n",
       "      <td>0.00</td>\n",
       "      <td>116.3</td>\n",
       "      <td>0.994924</td>\n",
       "      <td>117.5</td>\n",
       "      <td>0.005076</td>\n",
       "    </tr>\n",
       "    <tr>\n",
       "      <th>1457123549309553187</th>\n",
       "      <td>2405090</td>\n",
       "      <td>2016-05-04 00:50:12</td>\n",
       "      <td>117.16</td>\n",
       "      <td>34.22</td>\n",
       "      <td>117.2</td>\n",
       "      <td>1.000000</td>\n",
       "      <td>NaN</td>\n",
       "      <td>0.000000</td>\n",
       "    </tr>\n",
       "  </tbody>\n",
       "</table>\n",
       "</div>"
      ],
      "text/plain": [
       "                      event_id            timestamp  longitude  latitude  \\\n",
       "device_id                                                                  \n",
       " 5098778421671837341    960958  2016-05-04 15:26:36     112.56     33.00   \n",
       " 2924557770001720646    235695  2016-05-07 20:06:54       0.00      0.00   \n",
       "-5196196551075293756   1366802  2016-05-04 11:40:48     119.45     35.42   \n",
       " 5544032646057692655   2016353  2016-05-04 07:34:58       0.00      0.00   \n",
       "-6216864668208339353   1641712  2016-05-07 09:09:29     112.71     34.64   \n",
       " 4608843106719019589   1004698  2016-05-03 06:10:42     113.24     35.26   \n",
       " 8442098452928962575   1070204  2016-05-06 17:15:28     113.64     22.96   \n",
       "-7250168333818636477   1624165  2016-05-05 22:07:35     106.31     38.51   \n",
       "-7146523025031567409   2646118  2016-05-01 10:51:16       0.00      0.00   \n",
       " 1457123549309553187   2405090  2016-05-04 00:50:12     117.16     34.22   \n",
       "\n",
       "                       home    r_home   work    r_work  \n",
       "device_id                                               \n",
       " 5098778421671837341  112.6  0.766415  112.5  0.233585  \n",
       " 2924557770001720646  114.4  1.000000    NaN  0.000000  \n",
       "-5196196551075293756  119.5  0.564870  119.4  0.369261  \n",
       " 5544032646057692655  113.2  0.952381  113.3  0.047619  \n",
       "-6216864668208339353  112.7  1.000000    NaN  0.000000  \n",
       " 4608843106719019589  113.2  1.000000    NaN  0.000000  \n",
       " 8442098452928962575  113.6  1.000000    NaN  0.000000  \n",
       "-7250168333818636477  106.3  0.880478  106.2  0.119522  \n",
       "-7146523025031567409  116.3  0.994924  117.5  0.005076  \n",
       " 1457123549309553187  117.2  1.000000    NaN  0.000000  "
      ]
     },
     "execution_count": 166,
     "metadata": {},
     "output_type": "execute_result"
    }
   ],
   "source": [
    "events.sample(10)"
   ]
  },
  {
   "cell_type": "markdown",
   "metadata": {},
   "source": [
    "### Select per device home coordinates"
   ]
  },
  {
   "cell_type": "code",
   "execution_count": 167,
   "metadata": {
    "collapsed": false
   },
   "outputs": [],
   "source": [
    "events_home = events[events.longitude.round(1)==events.home].reset_index().groupby('device_id').first()\n",
    "events_work = events[events.longitude.round(1)==events.work].reset_index().groupby('device_id').first()"
   ]
  },
  {
   "cell_type": "code",
   "execution_count": 168,
   "metadata": {
    "collapsed": false
   },
   "outputs": [
    {
     "data": {
      "text/html": [
       "<div>\n",
       "<table border=\"1\" class=\"dataframe\">\n",
       "  <thead>\n",
       "    <tr style=\"text-align: right;\">\n",
       "      <th></th>\n",
       "      <th>event_id</th>\n",
       "      <th>timestamp</th>\n",
       "      <th>longitude</th>\n",
       "      <th>latitude</th>\n",
       "      <th>home</th>\n",
       "      <th>r_home</th>\n",
       "      <th>work</th>\n",
       "      <th>r_work</th>\n",
       "    </tr>\n",
       "    <tr>\n",
       "      <th>device_id</th>\n",
       "      <th></th>\n",
       "      <th></th>\n",
       "      <th></th>\n",
       "      <th></th>\n",
       "      <th></th>\n",
       "      <th></th>\n",
       "      <th></th>\n",
       "      <th></th>\n",
       "    </tr>\n",
       "  </thead>\n",
       "  <tbody>\n",
       "    <tr>\n",
       "      <th>-9222956879900151005</th>\n",
       "      <td>12679</td>\n",
       "      <td>2016-05-07 12:18:35</td>\n",
       "      <td>113.24</td>\n",
       "      <td>23.19</td>\n",
       "      <td>113.2</td>\n",
       "      <td>1.000000</td>\n",
       "      <td>NaN</td>\n",
       "      <td>0.000000</td>\n",
       "    </tr>\n",
       "    <tr>\n",
       "      <th>-9221825537663503111</th>\n",
       "      <td>84716</td>\n",
       "      <td>2016-05-01 08:50:11</td>\n",
       "      <td>113.48</td>\n",
       "      <td>34.92</td>\n",
       "      <td>113.5</td>\n",
       "      <td>0.510204</td>\n",
       "      <td>113.4</td>\n",
       "      <td>0.438776</td>\n",
       "    </tr>\n",
       "    <tr>\n",
       "      <th>-9221026417907250887</th>\n",
       "      <td>6402</td>\n",
       "      <td>2016-05-02 07:56:49</td>\n",
       "      <td>114.36</td>\n",
       "      <td>30.87</td>\n",
       "      <td>114.4</td>\n",
       "      <td>1.000000</td>\n",
       "      <td>NaN</td>\n",
       "      <td>0.000000</td>\n",
       "    </tr>\n",
       "    <tr>\n",
       "      <th>-9220452176650064280</th>\n",
       "      <td>105475</td>\n",
       "      <td>2016-05-06 08:19:24</td>\n",
       "      <td>1.00</td>\n",
       "      <td>1.00</td>\n",
       "      <td>1.0</td>\n",
       "      <td>1.000000</td>\n",
       "      <td>NaN</td>\n",
       "      <td>0.000000</td>\n",
       "    </tr>\n",
       "    <tr>\n",
       "      <th>-9220061629197656378</th>\n",
       "      <td>279922</td>\n",
       "      <td>2016-05-05 13:08:11</td>\n",
       "      <td>124.90</td>\n",
       "      <td>46.60</td>\n",
       "      <td>124.9</td>\n",
       "      <td>0.820513</td>\n",
       "      <td>124.8</td>\n",
       "      <td>0.179487</td>\n",
       "    </tr>\n",
       "  </tbody>\n",
       "</table>\n",
       "</div>"
      ],
      "text/plain": [
       "                      event_id            timestamp  longitude  latitude  \\\n",
       "device_id                                                                  \n",
       "-9222956879900151005     12679  2016-05-07 12:18:35     113.24     23.19   \n",
       "-9221825537663503111     84716  2016-05-01 08:50:11     113.48     34.92   \n",
       "-9221026417907250887      6402  2016-05-02 07:56:49     114.36     30.87   \n",
       "-9220452176650064280    105475  2016-05-06 08:19:24       1.00      1.00   \n",
       "-9220061629197656378    279922  2016-05-05 13:08:11     124.90     46.60   \n",
       "\n",
       "                       home    r_home   work    r_work  \n",
       "device_id                                               \n",
       "-9222956879900151005  113.2  1.000000    NaN  0.000000  \n",
       "-9221825537663503111  113.5  0.510204  113.4  0.438776  \n",
       "-9221026417907250887  114.4  1.000000    NaN  0.000000  \n",
       "-9220452176650064280    1.0  1.000000    NaN  0.000000  \n",
       "-9220061629197656378  124.9  0.820513  124.8  0.179487  "
      ]
     },
     "execution_count": 168,
     "metadata": {},
     "output_type": "execute_result"
    }
   ],
   "source": [
    "events_home.head(5)"
   ]
  },
  {
   "cell_type": "code",
   "execution_count": 169,
   "metadata": {
    "collapsed": false
   },
   "outputs": [
    {
     "data": {
      "text/html": [
       "<div>\n",
       "<table border=\"1\" class=\"dataframe\">\n",
       "  <thead>\n",
       "    <tr style=\"text-align: right;\">\n",
       "      <th></th>\n",
       "      <th>event_id</th>\n",
       "      <th>timestamp</th>\n",
       "      <th>longitude</th>\n",
       "      <th>latitude</th>\n",
       "      <th>home</th>\n",
       "      <th>r_home</th>\n",
       "      <th>work</th>\n",
       "      <th>r_work</th>\n",
       "    </tr>\n",
       "    <tr>\n",
       "      <th>device_id</th>\n",
       "      <th></th>\n",
       "      <th></th>\n",
       "      <th></th>\n",
       "      <th></th>\n",
       "      <th></th>\n",
       "      <th></th>\n",
       "      <th></th>\n",
       "      <th></th>\n",
       "    </tr>\n",
       "  </thead>\n",
       "  <tbody>\n",
       "    <tr>\n",
       "      <th>-9221825537663503111</th>\n",
       "      <td>74539</td>\n",
       "      <td>2016-05-07 07:52:34</td>\n",
       "      <td>113.36</td>\n",
       "      <td>33.63</td>\n",
       "      <td>113.5</td>\n",
       "      <td>0.510204</td>\n",
       "      <td>113.4</td>\n",
       "      <td>0.438776</td>\n",
       "    </tr>\n",
       "    <tr>\n",
       "      <th>-9220061629197656378</th>\n",
       "      <td>363901</td>\n",
       "      <td>2016-05-05 14:41:15</td>\n",
       "      <td>124.85</td>\n",
       "      <td>46.65</td>\n",
       "      <td>124.9</td>\n",
       "      <td>0.820513</td>\n",
       "      <td>124.8</td>\n",
       "      <td>0.179487</td>\n",
       "    </tr>\n",
       "    <tr>\n",
       "      <th>-9220053820290758471</th>\n",
       "      <td>35244</td>\n",
       "      <td>2016-05-04 07:24:32</td>\n",
       "      <td>114.17</td>\n",
       "      <td>38.73</td>\n",
       "      <td>115.0</td>\n",
       "      <td>0.678571</td>\n",
       "      <td>114.2</td>\n",
       "      <td>0.321429</td>\n",
       "    </tr>\n",
       "    <tr>\n",
       "      <th>-9215722913042087294</th>\n",
       "      <td>2808</td>\n",
       "      <td>2016-05-05 04:30:09</td>\n",
       "      <td>121.39</td>\n",
       "      <td>31.22</td>\n",
       "      <td>121.5</td>\n",
       "      <td>0.541126</td>\n",
       "      <td>121.4</td>\n",
       "      <td>0.415584</td>\n",
       "    </tr>\n",
       "    <tr>\n",
       "      <th>-9213411371629884254</th>\n",
       "      <td>1153194</td>\n",
       "      <td>2016-05-06 16:30:16</td>\n",
       "      <td>117.11</td>\n",
       "      <td>36.70</td>\n",
       "      <td>117.3</td>\n",
       "      <td>0.727273</td>\n",
       "      <td>117.1</td>\n",
       "      <td>0.272727</td>\n",
       "    </tr>\n",
       "  </tbody>\n",
       "</table>\n",
       "</div>"
      ],
      "text/plain": [
       "                      event_id            timestamp  longitude  latitude  \\\n",
       "device_id                                                                  \n",
       "-9221825537663503111     74539  2016-05-07 07:52:34     113.36     33.63   \n",
       "-9220061629197656378    363901  2016-05-05 14:41:15     124.85     46.65   \n",
       "-9220053820290758471     35244  2016-05-04 07:24:32     114.17     38.73   \n",
       "-9215722913042087294      2808  2016-05-05 04:30:09     121.39     31.22   \n",
       "-9213411371629884254   1153194  2016-05-06 16:30:16     117.11     36.70   \n",
       "\n",
       "                       home    r_home   work    r_work  \n",
       "device_id                                               \n",
       "-9221825537663503111  113.5  0.510204  113.4  0.438776  \n",
       "-9220061629197656378  124.9  0.820513  124.8  0.179487  \n",
       "-9220053820290758471  115.0  0.678571  114.2  0.321429  \n",
       "-9215722913042087294  121.5  0.541126  121.4  0.415584  \n",
       "-9213411371629884254  117.3  0.727273  117.1  0.272727  "
      ]
     },
     "execution_count": 169,
     "metadata": {},
     "output_type": "execute_result"
    }
   ],
   "source": [
    "events_work.head(5)"
   ]
  },
  {
   "cell_type": "code",
   "execution_count": 170,
   "metadata": {
    "collapsed": false
   },
   "outputs": [],
   "source": [
    "### Calculate coordinates of home and work\n",
    "device_geo_data = events.groupby(events.index).first()[['r_home', 'r_work']]\n",
    "device_geo_data['lon_home'] = events_home['longitude']\n",
    "device_geo_data['lat_home'] = events_home['latitude']\n",
    "device_geo_data['lon_work'] = events_work['longitude']\n",
    "device_geo_data['lat_work'] = events_work['latitude']"
   ]
  },
  {
   "cell_type": "code",
   "execution_count": 171,
   "metadata": {
    "collapsed": false
   },
   "outputs": [
    {
     "name": "stdout",
     "output_type": "stream",
     "text": [
      "(60865, 6)\n"
     ]
    },
    {
     "data": {
      "text/html": [
       "<div>\n",
       "<table border=\"1\" class=\"dataframe\">\n",
       "  <thead>\n",
       "    <tr style=\"text-align: right;\">\n",
       "      <th></th>\n",
       "      <th>r_home</th>\n",
       "      <th>r_work</th>\n",
       "      <th>lon_home</th>\n",
       "      <th>lat_home</th>\n",
       "      <th>lon_work</th>\n",
       "      <th>lat_work</th>\n",
       "    </tr>\n",
       "    <tr>\n",
       "      <th>device_id</th>\n",
       "      <th></th>\n",
       "      <th></th>\n",
       "      <th></th>\n",
       "      <th></th>\n",
       "      <th></th>\n",
       "      <th></th>\n",
       "    </tr>\n",
       "  </thead>\n",
       "  <tbody>\n",
       "    <tr>\n",
       "      <th>-6757101425188533129</th>\n",
       "      <td>0.860759</td>\n",
       "      <td>0.139241</td>\n",
       "      <td>113.70</td>\n",
       "      <td>22.93</td>\n",
       "      <td>113.65</td>\n",
       "      <td>22.91</td>\n",
       "    </tr>\n",
       "    <tr>\n",
       "      <th>-4052199241818426587</th>\n",
       "      <td>1.000000</td>\n",
       "      <td>0.000000</td>\n",
       "      <td>118.62</td>\n",
       "      <td>25.03</td>\n",
       "      <td>NaN</td>\n",
       "      <td>NaN</td>\n",
       "    </tr>\n",
       "    <tr>\n",
       "      <th>7816447071566673220</th>\n",
       "      <td>NaN</td>\n",
       "      <td>NaN</td>\n",
       "      <td>NaN</td>\n",
       "      <td>NaN</td>\n",
       "      <td>NaN</td>\n",
       "      <td>NaN</td>\n",
       "    </tr>\n",
       "    <tr>\n",
       "      <th>-2823864655698018261</th>\n",
       "      <td>0.578947</td>\n",
       "      <td>0.263158</td>\n",
       "      <td>106.49</td>\n",
       "      <td>29.54</td>\n",
       "      <td>106.32</td>\n",
       "      <td>29.63</td>\n",
       "    </tr>\n",
       "    <tr>\n",
       "      <th>-4229204516857154485</th>\n",
       "      <td>NaN</td>\n",
       "      <td>NaN</td>\n",
       "      <td>NaN</td>\n",
       "      <td>NaN</td>\n",
       "      <td>NaN</td>\n",
       "      <td>NaN</td>\n",
       "    </tr>\n",
       "  </tbody>\n",
       "</table>\n",
       "</div>"
      ],
      "text/plain": [
       "                        r_home    r_work  lon_home  lat_home  lon_work  \\\n",
       "device_id                                                                \n",
       "-6757101425188533129  0.860759  0.139241    113.70     22.93    113.65   \n",
       "-4052199241818426587  1.000000  0.000000    118.62     25.03       NaN   \n",
       " 7816447071566673220       NaN       NaN       NaN       NaN       NaN   \n",
       "-2823864655698018261  0.578947  0.263158    106.49     29.54    106.32   \n",
       "-4229204516857154485       NaN       NaN       NaN       NaN       NaN   \n",
       "\n",
       "                      lat_work  \n",
       "device_id                       \n",
       "-6757101425188533129     22.91  \n",
       "-4052199241818426587       NaN  \n",
       " 7816447071566673220       NaN  \n",
       "-2823864655698018261     29.63  \n",
       "-4229204516857154485       NaN  "
      ]
     },
     "execution_count": 171,
     "metadata": {},
     "output_type": "execute_result"
    }
   ],
   "source": [
    "print device_geo_data.shape\n",
    "device_geo_data.sample(5)"
   ]
  },
  {
   "cell_type": "code",
   "execution_count": 184,
   "metadata": {
    "collapsed": false
   },
   "outputs": [],
   "source": [
    "distance_for_close = 1.1\n",
    "\n",
    "for k in gps_cities.keys():\n",
    "    v = gps_cities[k]\n",
    "    device_geo_data['dist_' + k] = device_geo_data[['lon_home','lat_home']].apply(lambda x: math.sqrt( (x[0]-v[1])**2 + (x[1]-v[0])**2 ), axis=1)\n",
    "    device_geo_data['close_to_' + k] = (device_geo_data['dist_' + k] < distance_for_close).astype(int)\n",
    "### Calculate distance work\n",
    "device_geo_data['dist_work'] = device_geo_data[['lon_home','lat_home','lon_work','lat_work']] \\\n",
    ".apply(lambda x: math.sqrt( (x[0]-x[2])**2 + (x[1]-x[3])**2 ), axis=1).clip(upper=100)\n",
    "device_geo_data.fillna(0, inplace=True)"
   ]
  },
  {
   "cell_type": "code",
   "execution_count": 185,
   "metadata": {
    "collapsed": false
   },
   "outputs": [
    {
     "data": {
      "text/html": [
       "<div>\n",
       "<table border=\"1\" class=\"dataframe\">\n",
       "  <thead>\n",
       "    <tr style=\"text-align: right;\">\n",
       "      <th></th>\n",
       "      <th>r_home</th>\n",
       "      <th>r_work</th>\n",
       "      <th>lon_home</th>\n",
       "      <th>lat_home</th>\n",
       "      <th>lon_work</th>\n",
       "      <th>lat_work</th>\n",
       "      <th>dist_beijing</th>\n",
       "      <th>close_to_beijing</th>\n",
       "      <th>dist_guangzhou</th>\n",
       "      <th>close_to_guangzhou</th>\n",
       "      <th>...</th>\n",
       "      <th>close_to_nanjing</th>\n",
       "      <th>dist_wuhan</th>\n",
       "      <th>close_to_wuhan</th>\n",
       "      <th>dist_shanghai</th>\n",
       "      <th>close_to_shanghai</th>\n",
       "      <th>dist_harbin</th>\n",
       "      <th>close_to_harbin</th>\n",
       "      <th>dist_chongqing</th>\n",
       "      <th>close_to_chongqing</th>\n",
       "      <th>dist_work</th>\n",
       "    </tr>\n",
       "    <tr>\n",
       "      <th>device_id</th>\n",
       "      <th></th>\n",
       "      <th></th>\n",
       "      <th></th>\n",
       "      <th></th>\n",
       "      <th></th>\n",
       "      <th></th>\n",
       "      <th></th>\n",
       "      <th></th>\n",
       "      <th></th>\n",
       "      <th></th>\n",
       "      <th></th>\n",
       "      <th></th>\n",
       "      <th></th>\n",
       "      <th></th>\n",
       "      <th></th>\n",
       "      <th></th>\n",
       "      <th></th>\n",
       "      <th></th>\n",
       "      <th></th>\n",
       "      <th></th>\n",
       "      <th></th>\n",
       "    </tr>\n",
       "  </thead>\n",
       "  <tbody>\n",
       "    <tr>\n",
       "      <th>-7675625530297431005</th>\n",
       "      <td>0.000000</td>\n",
       "      <td>0.000000</td>\n",
       "      <td>0.00</td>\n",
       "      <td>0.00</td>\n",
       "      <td>0.00</td>\n",
       "      <td>0.00</td>\n",
       "      <td>123.058380</td>\n",
       "      <td>0</td>\n",
       "      <td>115.585885</td>\n",
       "      <td>0</td>\n",
       "      <td>...</td>\n",
       "      <td>0</td>\n",
       "      <td>118.291036</td>\n",
       "      <td>0</td>\n",
       "      <td>125.420388</td>\n",
       "      <td>0</td>\n",
       "      <td>134.659886</td>\n",
       "      <td>0</td>\n",
       "      <td>110.605973</td>\n",
       "      <td>0</td>\n",
       "      <td>0.000000</td>\n",
       "    </tr>\n",
       "    <tr>\n",
       "      <th>-6637129786124410927</th>\n",
       "      <td>0.960000</td>\n",
       "      <td>0.040000</td>\n",
       "      <td>121.27</td>\n",
       "      <td>31.24</td>\n",
       "      <td>121.41</td>\n",
       "      <td>31.19</td>\n",
       "      <td>9.961576</td>\n",
       "      <td>0</td>\n",
       "      <td>11.412923</td>\n",
       "      <td>0</td>\n",
       "      <td>...</td>\n",
       "      <td>0</td>\n",
       "      <td>7.031045</td>\n",
       "      <td>0</td>\n",
       "      <td>0.200250</td>\n",
       "      <td>1</td>\n",
       "      <td>15.475287</td>\n",
       "      <td>0</td>\n",
       "      <td>14.784620</td>\n",
       "      <td>0</td>\n",
       "      <td>0.148661</td>\n",
       "    </tr>\n",
       "    <tr>\n",
       "      <th>-6010510942036698058</th>\n",
       "      <td>0.978395</td>\n",
       "      <td>0.021605</td>\n",
       "      <td>116.38</td>\n",
       "      <td>39.87</td>\n",
       "      <td>116.55</td>\n",
       "      <td>40.07</td>\n",
       "      <td>0.063246</td>\n",
       "      <td>1</td>\n",
       "      <td>17.039935</td>\n",
       "      <td>0</td>\n",
       "      <td>...</td>\n",
       "      <td>0</td>\n",
       "      <td>9.526605</td>\n",
       "      <td>0</td>\n",
       "      <td>10.027846</td>\n",
       "      <td>0</td>\n",
       "      <td>11.834158</td>\n",
       "      <td>0</td>\n",
       "      <td>14.217243</td>\n",
       "      <td>0</td>\n",
       "      <td>0.262488</td>\n",
       "    </tr>\n",
       "    <tr>\n",
       "      <th>-6890136880318416483</th>\n",
       "      <td>0.802395</td>\n",
       "      <td>0.191617</td>\n",
       "      <td>103.96</td>\n",
       "      <td>31.00</td>\n",
       "      <td>103.90</td>\n",
       "      <td>31.07</td>\n",
       "      <td>15.313344</td>\n",
       "      <td>0</td>\n",
       "      <td>12.181892</td>\n",
       "      <td>0</td>\n",
       "      <td>...</td>\n",
       "      <td>0</td>\n",
       "      <td>10.318551</td>\n",
       "      <td>0</td>\n",
       "      <td>17.511511</td>\n",
       "      <td>0</td>\n",
       "      <td>27.062864</td>\n",
       "      <td>0</td>\n",
       "      <td>2.984845</td>\n",
       "      <td>0</td>\n",
       "      <td>0.092195</td>\n",
       "    </tr>\n",
       "    <tr>\n",
       "      <th>-5242428010327336856</th>\n",
       "      <td>0.828571</td>\n",
       "      <td>0.171429</td>\n",
       "      <td>114.02</td>\n",
       "      <td>22.63</td>\n",
       "      <td>114.43</td>\n",
       "      <td>23.12</td>\n",
       "      <td>17.462944</td>\n",
       "      <td>0</td>\n",
       "      <td>0.912688</td>\n",
       "      <td>1</td>\n",
       "      <td>...</td>\n",
       "      <td>0</td>\n",
       "      <td>7.953930</td>\n",
       "      <td>0</td>\n",
       "      <td>11.378159</td>\n",
       "      <td>0</td>\n",
       "      <td>26.344853</td>\n",
       "      <td>0</td>\n",
       "      <td>10.174340</td>\n",
       "      <td>0</td>\n",
       "      <td>0.638905</td>\n",
       "    </tr>\n",
       "  </tbody>\n",
       "</table>\n",
       "<p>5 rows × 31 columns</p>\n",
       "</div>"
      ],
      "text/plain": [
       "                        r_home    r_work  lon_home  lat_home  lon_work  \\\n",
       "device_id                                                                \n",
       "-7675625530297431005  0.000000  0.000000      0.00      0.00      0.00   \n",
       "-6637129786124410927  0.960000  0.040000    121.27     31.24    121.41   \n",
       "-6010510942036698058  0.978395  0.021605    116.38     39.87    116.55   \n",
       "-6890136880318416483  0.802395  0.191617    103.96     31.00    103.90   \n",
       "-5242428010327336856  0.828571  0.171429    114.02     22.63    114.43   \n",
       "\n",
       "                      lat_work  dist_beijing  close_to_beijing  \\\n",
       "device_id                                                        \n",
       "-7675625530297431005      0.00    123.058380                 0   \n",
       "-6637129786124410927     31.19      9.961576                 0   \n",
       "-6010510942036698058     40.07      0.063246                 1   \n",
       "-6890136880318416483     31.07     15.313344                 0   \n",
       "-5242428010327336856     23.12     17.462944                 0   \n",
       "\n",
       "                      dist_guangzhou  close_to_guangzhou    ...      \\\n",
       "device_id                                                   ...       \n",
       "-7675625530297431005      115.585885                   0    ...       \n",
       "-6637129786124410927       11.412923                   0    ...       \n",
       "-6010510942036698058       17.039935                   0    ...       \n",
       "-6890136880318416483       12.181892                   0    ...       \n",
       "-5242428010327336856        0.912688                   1    ...       \n",
       "\n",
       "                      close_to_nanjing  dist_wuhan  close_to_wuhan  \\\n",
       "device_id                                                            \n",
       "-7675625530297431005                 0  118.291036               0   \n",
       "-6637129786124410927                 0    7.031045               0   \n",
       "-6010510942036698058                 0    9.526605               0   \n",
       "-6890136880318416483                 0   10.318551               0   \n",
       "-5242428010327336856                 0    7.953930               0   \n",
       "\n",
       "                      dist_shanghai  close_to_shanghai  dist_harbin  \\\n",
       "device_id                                                             \n",
       "-7675625530297431005     125.420388                  0   134.659886   \n",
       "-6637129786124410927       0.200250                  1    15.475287   \n",
       "-6010510942036698058      10.027846                  0    11.834158   \n",
       "-6890136880318416483      17.511511                  0    27.062864   \n",
       "-5242428010327336856      11.378159                  0    26.344853   \n",
       "\n",
       "                      close_to_harbin  dist_chongqing  close_to_chongqing  \\\n",
       "device_id                                                                   \n",
       "-7675625530297431005                0      110.605973                   0   \n",
       "-6637129786124410927                0       14.784620                   0   \n",
       "-6010510942036698058                0       14.217243                   0   \n",
       "-6890136880318416483                0        2.984845                   0   \n",
       "-5242428010327336856                0       10.174340                   0   \n",
       "\n",
       "                      dist_work  \n",
       "device_id                        \n",
       "-7675625530297431005   0.000000  \n",
       "-6637129786124410927   0.148661  \n",
       "-6010510942036698058   0.262488  \n",
       "-6890136880318416483   0.092195  \n",
       "-5242428010327336856   0.638905  \n",
       "\n",
       "[5 rows x 31 columns]"
      ]
     },
     "execution_count": 185,
     "metadata": {},
     "output_type": "execute_result"
    }
   ],
   "source": [
    "device_geo_data.sample(5)"
   ]
  },
  {
   "cell_type": "markdown",
   "metadata": {},
   "source": [
    "### Validation"
   ]
  },
  {
   "cell_type": "code",
   "execution_count": 186,
   "metadata": {
    "collapsed": false
   },
   "outputs": [
    {
     "data": {
      "text/plain": [
       "(60865, 31)"
      ]
     },
     "execution_count": 186,
     "metadata": {},
     "output_type": "execute_result"
    }
   ],
   "source": [
    "# How many devices:\n",
    "device_geo_data.shape"
   ]
  },
  {
   "cell_type": "code",
   "execution_count": 187,
   "metadata": {
    "collapsed": false
   },
   "outputs": [
    {
     "data": {
      "text/plain": [
       "close_to_beijing      1813\n",
       "close_to_guangzhou    3079\n",
       "close_to_chengdu      1373\n",
       "close_to_tianjin      1116\n",
       "close_to_hongkong     2241\n",
       "close_to_shenyang      490\n",
       "close_to_xian          443\n",
       "close_to_nanjing       815\n",
       "close_to_wuhan         802\n",
       "close_to_shanghai     1858\n",
       "close_to_harbin        194\n",
       "close_to_chongqing     503\n",
       "dtype: int64"
      ]
     },
     "execution_count": 187,
     "metadata": {},
     "output_type": "execute_result"
    }
   ],
   "source": [
    "device_geo_data[close_to_cols].sum(axis=0)"
   ]
  },
  {
   "cell_type": "code",
   "execution_count": 188,
   "metadata": {
    "collapsed": false
   },
   "outputs": [
    {
     "data": {
      "text/plain": [
       "<matplotlib.axes._subplots.AxesSubplot at 0x12fde5e90>"
      ]
     },
     "execution_count": 188,
     "metadata": {},
     "output_type": "execute_result"
    },
    {
     "data": {
      "image/png": "[encoded data removed]",
      "text/plain": [
       "<matplotlib.figure.Figure at 0x12f9d66d0>"
      ]
     },
     "metadata": {},
     "output_type": "display_data"
    }
   ],
   "source": [
    "device_geo_data['r_home'].hist()"
   ]
  },
  {
   "cell_type": "code",
   "execution_count": 189,
   "metadata": {
    "collapsed": false
   },
   "outputs": [
    {
     "data": {
      "text/plain": [
       "(0, 50)"
      ]
     },
     "execution_count": 189,
     "metadata": {},
     "output_type": "execute_result"
    },
    {
     "data": {
      "image/png": "[encoded data removed]",
      "text/plain": [
       "<matplotlib.figure.Figure at 0x1302926d0>"
      ]
     },
     "metadata": {},
     "output_type": "display_data"
    }
   ],
   "source": [
    "device_geo_data['dist_work'].hist(bins=500)\n",
    "plt.xlim([0,50])"
   ]
  },
  {
   "cell_type": "code",
   "execution_count": 195,
   "metadata": {
    "collapsed": false
   },
   "outputs": [],
   "source": [
    "# Check whether devices are close to multiple cities\n",
    "# For distance_for_close = 1.0: 1788 devices double, 11654 are close to cities\n",
    "# For distance_for_close = 1.1: 2634 devices double, 12039 are close to cities <- most reasonable\n",
    "# For distance_for_close = 1.3: 4569 devices double, 12832 are close to cities\n",
    "# For distance_for_close = 1.5: 5250 devices double, 13788 are close to cities\n",
    "# For distance_for_close = 2.0: 6725 devices double, 15892 are close to cities\n"
   ]
  },
  {
   "cell_type": "markdown",
   "metadata": {
    "collapsed": true
   },
   "source": [
    "### Save features files"
   ]
  },
  {
   "cell_type": "code",
   "execution_count": 194,
   "metadata": {
    "collapsed": false
   },
   "outputs": [],
   "source": [
    "feature_file = 'features_geo.csv'\n",
    "device_geo_data.to_csv(dir_out + feature_file)"
   ]
  },
  {
   "cell_type": "code",
   "execution_count": null,
   "metadata": {
    "collapsed": true
   },
   "outputs": [],
   "source": []
  }
 ],
 "metadata": {
  "kernelspec": {
   "display_name": "Python 2",
   "language": "python",
   "name": "python2"
  },
  "language_info": {
   "codemirror_mode": {
    "name": "ipython",
    "version": 2
   },
   "file_extension": ".py",
   "mimetype": "text/x-python",
   "name": "python",
   "nbconvert_exporter": "python",
   "pygments_lexer": "ipython2",
   "version": "2.7.11"
  }
 },
 "nbformat": 4,
 "nbformat_minor": 0
}
