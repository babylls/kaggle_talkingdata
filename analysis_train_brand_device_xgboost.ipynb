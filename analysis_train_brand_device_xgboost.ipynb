{
 "cells": [
  {
   "cell_type": "code",
   "execution_count": 8,
   "metadata": {
    "collapsed": false
   },
   "outputs": [],
   "source": [
    "import os\n",
    "import pickle\n",
    "\n",
    "import pandas as pd\n",
    "import numpy as np\n",
    "import matplotlib.pyplot as plt\n",
    "import seaborn as sns\n",
    "\n",
    "from scipy.sparse import csr_matrix, hstack\n",
    "\n",
    "from sklearn.preprocessing import LabelEncoder\n",
    "from sklearn.metrics import log_loss\n",
    "from sklearn.cross_validation import StratifiedKFold\n",
    "from sklearn.preprocessing import StandardScaler\n",
    "\n",
    "from xgboost.sklearn import XGBClassifier\n",
    "import xgboost as xgb\n",
    "\n",
    "\n",
    "%matplotlib inline\n"
   ]
  },
  {
   "cell_type": "markdown",
   "metadata": {},
   "source": [
    "### Goal of work sheet\n",
    "- V1:Optimize xgboost for training on brand / device\n",
    "    - Alpha: increases for alpha value 1 to 5 and from 0.1 to 0.9, 0 is best value\n",
    "    - Lambda: decreases for [-0.05, 0,  0.05, 0.1, 0.2, 0.5, 1, 2, 5], it decreases after five: [6, 7, 8, 10, 12, 15, 20]. 6.2 optimal 2.39044903984\n",
    "    - Number rounds: 25, 50, 75, 100: increases with number of rounds, 175 seems optimal\n",
    "- Select best data for model (onehotencoded both, separate, or just one)\n",
    "    - Brands onehot, device label: 2.4304884100135387\n",
    "    - Seperate onehot encoded: 2.3946668507651609 (requires regularization)\n",
    "    - Combined onehot encoded: 2.402189399699036\n",
    "- V2: Used couple of creative features based on brand and device model, also included brand when encoded device\n",
    "    - Without scaler:\n",
    "    - With scaler:"
   ]
  },
  {
   "cell_type": "markdown",
   "metadata": {},
   "source": [
    "### Loading and preparing data"
   ]
  },
  {
   "cell_type": "code",
   "execution_count": 14,
   "metadata": {
    "collapsed": true
   },
   "outputs": [],
   "source": [
    "data_dir = './data_ori/'\n",
    "feat_dir = './data/'\n",
    "use_scaler = True"
   ]
  },
  {
   "cell_type": "code",
   "execution_count": 18,
   "metadata": {
    "collapsed": true
   },
   "outputs": [],
   "source": [
    "def open_feature_file(fname, samples='train'):\n",
    "    if fname[-3:] == 'csv':\n",
    "        if samples=='train':\n",
    "            X = gatrain[['device_id']].merge( pd.read_csv(os.path.join(feat_dir, fname)), on='device_id', how='left')\n",
    "        else:\n",
    "            X = gatest[['device_id']].merge( pd.read_csv(os.path.join(feat_dir, fname)), on='device_id', how='left')\n",
    "            \n",
    "        X.drop('device_id', axis=1, inplace=True)\n",
    "        X.fillna(0, inplace=True)\n",
    "        \n",
    "        if use_scaler:\n",
    "            for c in X.columns:\n",
    "                if X[c].max()>1:\n",
    "                    X[c] = StandardScaler().fit_transform(X)\n",
    "            \n",
    "        #print X.shape\n",
    "        return csr_matrix(X.values)\n",
    "    else:\n",
    "        # Assume it is a pickle file\n",
    "        with open(os.path.join(feat_dir, '{}_{}.pickle'.format(fname,samples)), 'rb') as f:\n",
    "            return pickle.load(f)\n",
    "            \n",
    "feature_files = ['features_brand_bag',\n",
    "                 'features_brand_model_bag',\n",
    "                 'features_brand_model.csv']"
   ]
  },
  {
   "cell_type": "code",
   "execution_count": 19,
   "metadata": {
    "collapsed": false
   },
   "outputs": [],
   "source": [
    "gatrain = pd.read_csv('./data_ori/gender_age_train.csv')\n",
    "gatest = pd.read_csv('./data_ori/gender_age_test.csv')"
   ]
  },
  {
   "cell_type": "code",
   "execution_count": 20,
   "metadata": {
    "collapsed": false
   },
   "outputs": [],
   "source": [
    "Xtrain = hstack([open_feature_file(f) for f in feature_files], format='csr')\n",
    "Xtest = hstack([open_feature_file(f,'test') for f in feature_files], format='csr')\n",
    "y = gatrain['group']"
   ]
  },
  {
   "cell_type": "code",
   "execution_count": 21,
   "metadata": {
    "collapsed": false
   },
   "outputs": [],
   "source": [
    "letarget = LabelEncoder().fit(gatrain.group.values)\n",
    "y = letarget.transform(gatrain.group.values)\n",
    "n_classes = len(letarget.classes_)"
   ]
  },
  {
   "cell_type": "code",
   "execution_count": 22,
   "metadata": {
    "collapsed": false
   },
   "outputs": [
    {
     "name": "stdout",
     "output_type": "stream",
     "text": [
      "(74645, 1803)\n"
     ]
    }
   ],
   "source": [
    "print Xtrain.shape"
   ]
  },
  {
   "cell_type": "code",
   "execution_count": 23,
   "metadata": {
    "collapsed": false
   },
   "outputs": [
    {
     "name": "stdout",
     "output_type": "stream",
     "text": [
      "X (74645, 1803)\n",
      "y (74645,)\n"
     ]
    }
   ],
   "source": [
    "print 'X', Xtrain.shape\n",
    "print 'y', y.shape"
   ]
  },
  {
   "cell_type": "markdown",
   "metadata": {},
   "source": [
    "## Using XGBoost"
   ]
  },
  {
   "cell_type": "code",
   "execution_count": null,
   "metadata": {
    "collapsed": false
   },
   "outputs": [
    {
     "name": "stderr",
     "output_type": "stream",
     "text": [
      "[0]\ttrain-mlogloss:2.468150\ttest-mlogloss:2.470314\n",
      "[49]\ttrain-mlogloss:2.352679\ttest-mlogloss:2.393753\n",
      "[0]\ttrain-mlogloss:2.468231\ttest-mlogloss:2.470186\n",
      "[49]\ttrain-mlogloss:2.353117\ttest-mlogloss:2.391040\n",
      "[0]\ttrain-mlogloss:2.468302\ttest-mlogloss:2.469652\n",
      "[49]\ttrain-mlogloss:2.353637\ttest-mlogloss:2.385002\n",
      "[0]\ttrain-mlogloss:2.468381\ttest-mlogloss:2.469681\n",
      "[49]\ttrain-mlogloss:2.353578\ttest-mlogloss:2.387285\n",
      "[0]\ttrain-mlogloss:2.468147\ttest-mlogloss:2.470304\n",
      "[49]\ttrain-mlogloss:2.352578\ttest-mlogloss:2.394343\n",
      "[0]\ttrain-mlogloss:2.468280\ttest-mlogloss:2.469944\n",
      "[49]\ttrain-mlogloss:2.353273\ttest-mlogloss:2.388738\n",
      "[0]\ttrain-mlogloss:2.468163\ttest-mlogloss:2.470393\n",
      "[49]\ttrain-mlogloss:2.352496\ttest-mlogloss:2.394909\n",
      "[0]\ttrain-mlogloss:2.468160\ttest-mlogloss:2.470239\n",
      "[49]\ttrain-mlogloss:2.353076\ttest-mlogloss:2.390631\n",
      "[0]\ttrain-mlogloss:2.468295\ttest-mlogloss:2.469862\n",
      "[49]\ttrain-mlogloss:2.353308\ttest-mlogloss:2.389297\n",
      "[0]\ttrain-mlogloss:2.468322\ttest-mlogloss:2.469792\n",
      "[49]\ttrain-mlogloss:2.353622\ttest-mlogloss:2.387050\n"
     ]
    },
    {
     "name": "stdout",
     "output_type": "stream",
     "text": [
      "0.05 : 2.39020375923\n"
     ]
    },
    {
     "name": "stderr",
     "output_type": "stream",
     "text": [
      "[0]\ttrain-mlogloss:2.454458\ttest-mlogloss:2.458591\n",
      "[24]\ttrain-mlogloss:2.352374\ttest-mlogloss:2.393720\n",
      "[0]\ttrain-mlogloss:2.454494\ttest-mlogloss:2.458385\n",
      "[24]\ttrain-mlogloss:2.352876\ttest-mlogloss:2.391022\n",
      "[0]\ttrain-mlogloss:2.454751\ttest-mlogloss:2.457354\n"
     ]
    }
   ],
   "source": [
    "for a in [0.05, 0.1, 0.2]:\n",
    "    params = {\n",
    "        \"objective\": \"multi:softprob\",\n",
    "        'booster': 'gblinear',\n",
    "        'num_class': 12,\n",
    "        \"eta\": a,\n",
    "        \"silent\": 1,\n",
    "        'alpha':0,\n",
    "        'lambda': 6.2,\n",
    "        'n_estimators': int(25 * 0.1 / a),\n",
    "        'eval_metric': 'mlogloss'\n",
    "    }\n",
    "    kf = StratifiedKFold(y, n_folds=10, shuffle=True, random_state=0)\n",
    "    pred = np.zeros((Xtrain.shape[0],n_classes))\n",
    "    for itrain, itest in kf:\n",
    "        ytrain, ytest = y[itrain], y[itest]\n",
    "        xg_train = xgb.DMatrix( Xtrain[itrain, :], label=ytrain)\n",
    "        xg_test = xgb.DMatrix(Xtrain[itest, :], label=ytest)\n",
    "        watchlist = [ (xg_train,'train'), (xg_test, 'test') ]\n",
    "        bst = xgb.train(params, xg_train, params['n_estimators'], watchlist, verbose_eval=50 )\n",
    "        pred[itest,:] = bst.predict(xg_test)\n",
    "    print a,':',log_loss(y, pred)"
   ]
  },
  {
   "cell_type": "code",
   "execution_count": 76,
   "metadata": {
    "collapsed": false
   },
   "outputs": [
    {
     "data": {
      "text/plain": [
       "2.3904596301097936"
      ]
     },
     "execution_count": 76,
     "metadata": {},
     "output_type": "execute_result"
    }
   ],
   "source": [
    "log_loss(y, pred)"
   ]
  },
  {
   "cell_type": "code",
   "execution_count": 90,
   "metadata": {
    "collapsed": false
   },
   "outputs": [],
   "source": [
    "params = {\n",
    "        \"objective\": \"multi:softprob\",\n",
    "        'booster': 'gblinear',\n",
    "        'num_class': 12,\n",
    "        \"eta\": 0.01,\n",
    "        \"silent\": 1,\n",
    "        'alpha':0,\n",
    "        'lambda': 6.2,\n",
    "        'n_estimators': 25,\n",
    "        'eval_metric': 'mlogloss'\n",
    "    }\n",
    "\n",
    "kf = StratifiedKFold(y, n_folds=10, shuffle=True, random_state=0)\n",
    "pred = np.zeros((X.shape[0],n_classes))\n",
    "dtrain = xgb.DMatrix(X, label=y)\n",
    "a=xgb.cv(params, dtrain, 400, nfold=5,\n",
    "       metrics={'mlogloss'}, seed = 123)"
   ]
  },
  {
   "cell_type": "code",
   "execution_count": 97,
   "metadata": {
    "collapsed": false
   },
   "outputs": [
    {
     "data": {
      "text/plain": [
       "[<matplotlib.lines.Line2D at 0x17146a110>]"
      ]
     },
     "execution_count": 97,
     "metadata": {},
     "output_type": "execute_result"
    },
    {
     "data": {
      "image/png": "[encoded data removed]",
      "text/plain": [
       "<matplotlib.figure.Figure at 0x101ae9d50>"
      ]
     },
     "metadata": {},
     "output_type": "display_data"
    }
   ],
   "source": [
    "plt.plot(a['test-mlogloss-mean'].diff())"
   ]
  },
  {
   "cell_type": "code",
   "execution_count": null,
   "metadata": {
    "collapsed": true
   },
   "outputs": [],
   "source": []
  }
 ],
 "metadata": {
  "kernelspec": {
   "display_name": "Python 2",
   "language": "python",
   "name": "python2"
  },
  "language_info": {
   "codemirror_mode": {
    "name": "ipython",
    "version": 2
   },
   "file_extension": ".py",
   "mimetype": "text/x-python",
   "name": "python",
   "nbconvert_exporter": "python",
   "pygments_lexer": "ipython2",
   "version": "2.7.11"
  }
 },
 "nbformat": 4,
 "nbformat_minor": 0
}
